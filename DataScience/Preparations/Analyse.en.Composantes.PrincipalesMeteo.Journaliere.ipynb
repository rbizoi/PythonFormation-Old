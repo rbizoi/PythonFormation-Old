{
 "cells": [
  {
   "cell_type": "markdown",
   "metadata": {
    "toc": true
   },
   "source": [
    "<h1>Table of Contents<span class=\"tocSkip\"></span></h1>\n",
    "<div class=\"toc\"><ul class=\"toc-item\"></ul></div>"
   ]
  },
  {
   "cell_type": "code",
   "execution_count": 24,
   "metadata": {
    "ExecuteTime": {
     "end_time": "2021-03-28T14:03:05.970085Z",
     "start_time": "2021-03-28T14:03:05.959115Z"
    }
   },
   "outputs": [
    {
     "name": "stdout",
     "output_type": "stream",
     "text": [
      "Populating the interactive namespace from numpy and matplotlib\n"
     ]
    }
   ],
   "source": [
    "import numpy as np, pandas as pd , seaborn as sns, warnings             \n",
    "\n",
    "import matplotlib.font_manager as fm\n",
    "font1 = fm.FontProperties(size=20)\n",
    "font2 = fm.FontProperties(size=24)\n",
    "\n",
    "%pylab inline\n",
    "\n",
    "plt.style.use('seaborn-darkgrid')\n",
    "sns.set(font_scale=2)\n",
    "warnings.filterwarnings(action=\"ignore\")"
   ]
  },
  {
   "cell_type": "code",
   "execution_count": 6,
   "metadata": {
    "ExecuteTime": {
     "end_time": "2021-03-28T14:02:40.936827Z",
     "start_time": "2021-03-28T14:02:40.908904Z"
    }
   },
   "outputs": [
    {
     "name": "stdout",
     "output_type": "stream",
     "text": [
      "C:\\Formation\n",
      "C:\\Formation\n"
     ]
    }
   ],
   "source": [
    "import os\n",
    "print(os.getcwd())\n",
    "os.chdir(r\"C:\\Formation\")\n",
    "print(os.getcwd())"
   ]
  },
  {
   "cell_type": "code",
   "execution_count": 7,
   "metadata": {
    "ExecuteTime": {
     "end_time": "2021-03-28T14:02:41.140284Z",
     "start_time": "2021-03-28T14:02:40.939819Z"
    }
   },
   "outputs": [
    {
     "data": {
      "text/html": [
       "<div>\n",
       "<style scoped>\n",
       "    .dataframe tbody tr th:only-of-type {\n",
       "        vertical-align: middle;\n",
       "    }\n",
       "\n",
       "    .dataframe tbody tr th {\n",
       "        vertical-align: top;\n",
       "    }\n",
       "\n",
       "    .dataframe thead th {\n",
       "        text-align: right;\n",
       "    }\n",
       "</style>\n",
       "<table border=\"1\" class=\"dataframe\">\n",
       "  <thead>\n",
       "    <tr style=\"text-align: right;\">\n",
       "      <th></th>\n",
       "      <th>T01_01</th>\n",
       "      <th>T01_02</th>\n",
       "      <th>T01_03</th>\n",
       "      <th>T01_04</th>\n",
       "      <th>T01_05</th>\n",
       "      <th>T01_06</th>\n",
       "      <th>T01_07</th>\n",
       "      <th>T01_08</th>\n",
       "      <th>T01_09</th>\n",
       "      <th>T01_10</th>\n",
       "      <th>...</th>\n",
       "      <th>P12_23</th>\n",
       "      <th>P12_24</th>\n",
       "      <th>P12_25</th>\n",
       "      <th>P12_26</th>\n",
       "      <th>P12_27</th>\n",
       "      <th>P12_28</th>\n",
       "      <th>P12_29</th>\n",
       "      <th>P12_30</th>\n",
       "      <th>P12_31</th>\n",
       "      <th>Ville</th>\n",
       "    </tr>\n",
       "  </thead>\n",
       "  <tbody>\n",
       "    <tr>\n",
       "      <th>0</th>\n",
       "      <td>3.93</td>\n",
       "      <td>4.44</td>\n",
       "      <td>3.89</td>\n",
       "      <td>4.27</td>\n",
       "      <td>4.27</td>\n",
       "      <td>4.38</td>\n",
       "      <td>4.96</td>\n",
       "      <td>4.92</td>\n",
       "      <td>4.74</td>\n",
       "      <td>4.21</td>\n",
       "      <td>...</td>\n",
       "      <td>100.93</td>\n",
       "      <td>100.62</td>\n",
       "      <td>100.56</td>\n",
       "      <td>100.68</td>\n",
       "      <td>100.46</td>\n",
       "      <td>100.55</td>\n",
       "      <td>100.73</td>\n",
       "      <td>100.74</td>\n",
       "      <td>100.84</td>\n",
       "      <td>Abbeville</td>\n",
       "    </tr>\n",
       "    <tr>\n",
       "      <th>1</th>\n",
       "      <td>9.29</td>\n",
       "      <td>9.81</td>\n",
       "      <td>9.56</td>\n",
       "      <td>9.20</td>\n",
       "      <td>8.83</td>\n",
       "      <td>9.23</td>\n",
       "      <td>9.36</td>\n",
       "      <td>9.38</td>\n",
       "      <td>9.51</td>\n",
       "      <td>9.61</td>\n",
       "      <td>...</td>\n",
       "      <td>101.90</td>\n",
       "      <td>101.79</td>\n",
       "      <td>101.63</td>\n",
       "      <td>101.47</td>\n",
       "      <td>101.55</td>\n",
       "      <td>101.51</td>\n",
       "      <td>101.59</td>\n",
       "      <td>101.75</td>\n",
       "      <td>101.72</td>\n",
       "      <td>Ajaccio</td>\n",
       "    </tr>\n",
       "    <tr>\n",
       "      <th>2</th>\n",
       "      <td>4.12</td>\n",
       "      <td>4.41</td>\n",
       "      <td>4.11</td>\n",
       "      <td>4.17</td>\n",
       "      <td>4.34</td>\n",
       "      <td>4.54</td>\n",
       "      <td>4.36</td>\n",
       "      <td>4.83</td>\n",
       "      <td>4.77</td>\n",
       "      <td>4.67</td>\n",
       "      <td>...</td>\n",
       "      <td>100.23</td>\n",
       "      <td>99.93</td>\n",
       "      <td>99.90</td>\n",
       "      <td>99.99</td>\n",
       "      <td>99.72</td>\n",
       "      <td>99.82</td>\n",
       "      <td>99.99</td>\n",
       "      <td>100.03</td>\n",
       "      <td>100.08</td>\n",
       "      <td>Alencon</td>\n",
       "    </tr>\n",
       "    <tr>\n",
       "      <th>3</th>\n",
       "      <td>1.90</td>\n",
       "      <td>2.21</td>\n",
       "      <td>1.97</td>\n",
       "      <td>1.76</td>\n",
       "      <td>2.19</td>\n",
       "      <td>1.83</td>\n",
       "      <td>2.48</td>\n",
       "      <td>2.60</td>\n",
       "      <td>2.55</td>\n",
       "      <td>2.14</td>\n",
       "      <td>...</td>\n",
       "      <td>98.86</td>\n",
       "      <td>98.67</td>\n",
       "      <td>98.54</td>\n",
       "      <td>98.60</td>\n",
       "      <td>98.46</td>\n",
       "      <td>98.38</td>\n",
       "      <td>98.67</td>\n",
       "      <td>98.75</td>\n",
       "      <td>98.79</td>\n",
       "      <td>Bale-Mulhouse</td>\n",
       "    </tr>\n",
       "    <tr>\n",
       "      <th>4</th>\n",
       "      <td>8.96</td>\n",
       "      <td>9.65</td>\n",
       "      <td>10.37</td>\n",
       "      <td>9.28</td>\n",
       "      <td>9.17</td>\n",
       "      <td>8.99</td>\n",
       "      <td>9.45</td>\n",
       "      <td>9.64</td>\n",
       "      <td>9.49</td>\n",
       "      <td>9.65</td>\n",
       "      <td>...</td>\n",
       "      <td>101.86</td>\n",
       "      <td>101.75</td>\n",
       "      <td>101.52</td>\n",
       "      <td>101.41</td>\n",
       "      <td>101.47</td>\n",
       "      <td>101.36</td>\n",
       "      <td>101.53</td>\n",
       "      <td>101.67</td>\n",
       "      <td>101.72</td>\n",
       "      <td>Bastia</td>\n",
       "    </tr>\n",
       "  </tbody>\n",
       "</table>\n",
       "<p>5 rows × 1465 columns</p>\n",
       "</div>"
      ],
      "text/plain": [
       "   T01_01  T01_02  T01_03  T01_04  T01_05  T01_06  T01_07  T01_08  T01_09  \\\n",
       "0    3.93    4.44    3.89    4.27    4.27    4.38    4.96    4.92    4.74   \n",
       "1    9.29    9.81    9.56    9.20    8.83    9.23    9.36    9.38    9.51   \n",
       "2    4.12    4.41    4.11    4.17    4.34    4.54    4.36    4.83    4.77   \n",
       "3    1.90    2.21    1.97    1.76    2.19    1.83    2.48    2.60    2.55   \n",
       "4    8.96    9.65   10.37    9.28    9.17    8.99    9.45    9.64    9.49   \n",
       "\n",
       "   T01_10  ...  P12_23  P12_24  P12_25  P12_26  P12_27  P12_28  P12_29  \\\n",
       "0    4.21  ...  100.93  100.62  100.56  100.68  100.46  100.55  100.73   \n",
       "1    9.61  ...  101.90  101.79  101.63  101.47  101.55  101.51  101.59   \n",
       "2    4.67  ...  100.23   99.93   99.90   99.99   99.72   99.82   99.99   \n",
       "3    2.14  ...   98.86   98.67   98.54   98.60   98.46   98.38   98.67   \n",
       "4    9.65  ...  101.86  101.75  101.52  101.41  101.47  101.36  101.53   \n",
       "\n",
       "   P12_30  P12_31          Ville  \n",
       "0  100.74  100.84      Abbeville  \n",
       "1  101.75  101.72        Ajaccio  \n",
       "2  100.03  100.08        Alencon  \n",
       "3   98.75   98.79  Bale-Mulhouse  \n",
       "4  101.67  101.72         Bastia  \n",
       "\n",
       "[5 rows x 1465 columns]"
      ]
     },
     "execution_count": 7,
     "metadata": {},
     "output_type": "execute_result"
    }
   ],
   "source": [
    "meteo=pd.read_csv('donnees/tableMeteoMmoyenneJournaliere.csv')\n",
    "meteo.head()"
   ]
  },
  {
   "cell_type": "code",
   "execution_count": 8,
   "metadata": {
    "ExecuteTime": {
     "end_time": "2021-03-28T14:02:41.155242Z",
     "start_time": "2021-03-28T14:02:41.143277Z"
    }
   },
   "outputs": [
    {
     "data": {
      "text/plain": [
       "(42, 1465)"
      ]
     },
     "execution_count": 8,
     "metadata": {},
     "output_type": "execute_result"
    }
   ],
   "source": [
    "meteo.shape"
   ]
  },
  {
   "cell_type": "code",
   "execution_count": 9,
   "metadata": {
    "ExecuteTime": {
     "end_time": "2021-03-28T14:02:41.201120Z",
     "start_time": "2021-03-28T14:02:41.157238Z"
    }
   },
   "outputs": [
    {
     "data": {
      "text/html": [
       "<div>\n",
       "<style scoped>\n",
       "    .dataframe tbody tr th:only-of-type {\n",
       "        vertical-align: middle;\n",
       "    }\n",
       "\n",
       "    .dataframe tbody tr th {\n",
       "        vertical-align: top;\n",
       "    }\n",
       "\n",
       "    .dataframe thead th {\n",
       "        text-align: right;\n",
       "    }\n",
       "</style>\n",
       "<table border=\"1\" class=\"dataframe\">\n",
       "  <thead>\n",
       "    <tr style=\"text-align: right;\">\n",
       "      <th></th>\n",
       "      <th>T01_01</th>\n",
       "      <th>T01_02</th>\n",
       "      <th>T01_03</th>\n",
       "      <th>T01_04</th>\n",
       "      <th>T01_05</th>\n",
       "      <th>T01_06</th>\n",
       "      <th>T01_07</th>\n",
       "      <th>T01_08</th>\n",
       "      <th>T01_09</th>\n",
       "      <th>T01_10</th>\n",
       "      <th>...</th>\n",
       "      <th>P12_22</th>\n",
       "      <th>P12_23</th>\n",
       "      <th>P12_24</th>\n",
       "      <th>P12_25</th>\n",
       "      <th>P12_26</th>\n",
       "      <th>P12_27</th>\n",
       "      <th>P12_28</th>\n",
       "      <th>P12_29</th>\n",
       "      <th>P12_30</th>\n",
       "      <th>P12_31</th>\n",
       "    </tr>\n",
       "  </thead>\n",
       "  <tbody>\n",
       "    <tr>\n",
       "      <th>0</th>\n",
       "      <td>3.93</td>\n",
       "      <td>4.44</td>\n",
       "      <td>3.89</td>\n",
       "      <td>4.27</td>\n",
       "      <td>4.27</td>\n",
       "      <td>4.38</td>\n",
       "      <td>4.96</td>\n",
       "      <td>4.92</td>\n",
       "      <td>4.74</td>\n",
       "      <td>4.21</td>\n",
       "      <td>...</td>\n",
       "      <td>101.00</td>\n",
       "      <td>100.93</td>\n",
       "      <td>100.62</td>\n",
       "      <td>100.56</td>\n",
       "      <td>100.68</td>\n",
       "      <td>100.46</td>\n",
       "      <td>100.55</td>\n",
       "      <td>100.73</td>\n",
       "      <td>100.74</td>\n",
       "      <td>100.84</td>\n",
       "    </tr>\n",
       "    <tr>\n",
       "      <th>1</th>\n",
       "      <td>9.29</td>\n",
       "      <td>9.81</td>\n",
       "      <td>9.56</td>\n",
       "      <td>9.20</td>\n",
       "      <td>8.83</td>\n",
       "      <td>9.23</td>\n",
       "      <td>9.36</td>\n",
       "      <td>9.38</td>\n",
       "      <td>9.51</td>\n",
       "      <td>9.61</td>\n",
       "      <td>...</td>\n",
       "      <td>101.95</td>\n",
       "      <td>101.90</td>\n",
       "      <td>101.79</td>\n",
       "      <td>101.63</td>\n",
       "      <td>101.47</td>\n",
       "      <td>101.55</td>\n",
       "      <td>101.51</td>\n",
       "      <td>101.59</td>\n",
       "      <td>101.75</td>\n",
       "      <td>101.72</td>\n",
       "    </tr>\n",
       "    <tr>\n",
       "      <th>2</th>\n",
       "      <td>4.12</td>\n",
       "      <td>4.41</td>\n",
       "      <td>4.11</td>\n",
       "      <td>4.17</td>\n",
       "      <td>4.34</td>\n",
       "      <td>4.54</td>\n",
       "      <td>4.36</td>\n",
       "      <td>4.83</td>\n",
       "      <td>4.77</td>\n",
       "      <td>4.67</td>\n",
       "      <td>...</td>\n",
       "      <td>100.28</td>\n",
       "      <td>100.23</td>\n",
       "      <td>99.93</td>\n",
       "      <td>99.90</td>\n",
       "      <td>99.99</td>\n",
       "      <td>99.72</td>\n",
       "      <td>99.82</td>\n",
       "      <td>99.99</td>\n",
       "      <td>100.03</td>\n",
       "      <td>100.08</td>\n",
       "    </tr>\n",
       "    <tr>\n",
       "      <th>3</th>\n",
       "      <td>1.90</td>\n",
       "      <td>2.21</td>\n",
       "      <td>1.97</td>\n",
       "      <td>1.76</td>\n",
       "      <td>2.19</td>\n",
       "      <td>1.83</td>\n",
       "      <td>2.48</td>\n",
       "      <td>2.60</td>\n",
       "      <td>2.55</td>\n",
       "      <td>2.14</td>\n",
       "      <td>...</td>\n",
       "      <td>98.93</td>\n",
       "      <td>98.86</td>\n",
       "      <td>98.67</td>\n",
       "      <td>98.54</td>\n",
       "      <td>98.60</td>\n",
       "      <td>98.46</td>\n",
       "      <td>98.38</td>\n",
       "      <td>98.67</td>\n",
       "      <td>98.75</td>\n",
       "      <td>98.79</td>\n",
       "    </tr>\n",
       "    <tr>\n",
       "      <th>4</th>\n",
       "      <td>8.96</td>\n",
       "      <td>9.65</td>\n",
       "      <td>10.37</td>\n",
       "      <td>9.28</td>\n",
       "      <td>9.17</td>\n",
       "      <td>8.99</td>\n",
       "      <td>9.45</td>\n",
       "      <td>9.64</td>\n",
       "      <td>9.49</td>\n",
       "      <td>9.65</td>\n",
       "      <td>...</td>\n",
       "      <td>101.93</td>\n",
       "      <td>101.86</td>\n",
       "      <td>101.75</td>\n",
       "      <td>101.52</td>\n",
       "      <td>101.41</td>\n",
       "      <td>101.47</td>\n",
       "      <td>101.36</td>\n",
       "      <td>101.53</td>\n",
       "      <td>101.67</td>\n",
       "      <td>101.72</td>\n",
       "    </tr>\n",
       "  </tbody>\n",
       "</table>\n",
       "<p>5 rows × 1464 columns</p>\n",
       "</div>"
      ],
      "text/plain": [
       "   T01_01  T01_02  T01_03  T01_04  T01_05  T01_06  T01_07  T01_08  T01_09  \\\n",
       "0    3.93    4.44    3.89    4.27    4.27    4.38    4.96    4.92    4.74   \n",
       "1    9.29    9.81    9.56    9.20    8.83    9.23    9.36    9.38    9.51   \n",
       "2    4.12    4.41    4.11    4.17    4.34    4.54    4.36    4.83    4.77   \n",
       "3    1.90    2.21    1.97    1.76    2.19    1.83    2.48    2.60    2.55   \n",
       "4    8.96    9.65   10.37    9.28    9.17    8.99    9.45    9.64    9.49   \n",
       "\n",
       "   T01_10  ...  P12_22  P12_23  P12_24  P12_25  P12_26  P12_27  P12_28  \\\n",
       "0    4.21  ...  101.00  100.93  100.62  100.56  100.68  100.46  100.55   \n",
       "1    9.61  ...  101.95  101.90  101.79  101.63  101.47  101.55  101.51   \n",
       "2    4.67  ...  100.28  100.23   99.93   99.90   99.99   99.72   99.82   \n",
       "3    2.14  ...   98.93   98.86   98.67   98.54   98.60   98.46   98.38   \n",
       "4    9.65  ...  101.93  101.86  101.75  101.52  101.41  101.47  101.36   \n",
       "\n",
       "   P12_29  P12_30  P12_31  \n",
       "0  100.73  100.74  100.84  \n",
       "1  101.59  101.75  101.72  \n",
       "2   99.99  100.03  100.08  \n",
       "3   98.67   98.75   98.79  \n",
       "4  101.53  101.67  101.72  \n",
       "\n",
       "[5 rows x 1464 columns]"
      ]
     },
     "execution_count": 9,
     "metadata": {},
     "output_type": "execute_result"
    }
   ],
   "source": [
    "meteo.iloc[:,:-1].head()"
   ]
  },
  {
   "cell_type": "code",
   "execution_count": 10,
   "metadata": {
    "ExecuteTime": {
     "end_time": "2021-03-28T14:02:41.232272Z",
     "start_time": "2021-03-28T14:02:41.203115Z"
    }
   },
   "outputs": [
    {
     "data": {
      "text/plain": [
       "(42, 1465)"
      ]
     },
     "execution_count": 10,
     "metadata": {},
     "output_type": "execute_result"
    }
   ],
   "source": [
    "meteo.shape"
   ]
  },
  {
   "cell_type": "code",
   "execution_count": 11,
   "metadata": {
    "ExecuteTime": {
     "end_time": "2021-03-28T14:02:41.938211Z",
     "start_time": "2021-03-28T14:02:41.235264Z"
    }
   },
   "outputs": [],
   "source": [
    "x = meteo.drop(columns='Ville')\n",
    "ville = meteo.Ville\n",
    "\n",
    "from sklearn.preprocessing import StandardScaler\n",
    "modelStd = StandardScaler()\n",
    "modelStd.fit(x)\n",
    "x = modelStd.transform(x)"
   ]
  },
  {
   "cell_type": "code",
   "execution_count": 12,
   "metadata": {
    "ExecuteTime": {
     "end_time": "2021-03-28T14:02:41.953173Z",
     "start_time": "2021-03-28T14:02:41.940206Z"
    }
   },
   "outputs": [
    {
     "data": {
      "text/plain": [
       "(42, 1464)"
      ]
     },
     "execution_count": 12,
     "metadata": {},
     "output_type": "execute_result"
    }
   ],
   "source": [
    "x.shape"
   ]
  },
  {
   "cell_type": "code",
   "execution_count": 13,
   "metadata": {
    "ExecuteTime": {
     "end_time": "2021-03-28T14:02:42.093796Z",
     "start_time": "2021-03-28T14:02:41.957161Z"
    }
   },
   "outputs": [],
   "source": [
    "from sklearn.decomposition import PCA\n",
    "pca = PCA()\n",
    "model = pca.fit(x)"
   ]
  },
  {
   "cell_type": "code",
   "execution_count": 14,
   "metadata": {
    "ExecuteTime": {
     "end_time": "2021-03-28T14:02:42.109753Z",
     "start_time": "2021-03-28T14:02:42.097785Z"
    }
   },
   "outputs": [
    {
     "data": {
      "text/plain": [
       "42"
      ]
     },
     "execution_count": 14,
     "metadata": {},
     "output_type": "execute_result"
    }
   ],
   "source": [
    "pca.explained_variance_ratio_.shape[0]"
   ]
  },
  {
   "cell_type": "code",
   "execution_count": 15,
   "metadata": {
    "ExecuteTime": {
     "end_time": "2021-03-28T14:02:42.140670Z",
     "start_time": "2021-03-28T14:02:42.112746Z"
    }
   },
   "outputs": [
    {
     "data": {
      "text/plain": [
       "array([ 41.40081945,  71.18566721,  88.68214136,  93.73910026,\n",
       "        95.56286784,  96.2323207 ,  96.86435278,  97.31073195,\n",
       "        97.732439  ,  98.02741604,  98.28201539,  98.49710625,\n",
       "        98.70243132,  98.86107137,  98.99153831,  99.09105348,\n",
       "        99.18914938,  99.27073267,  99.34245307,  99.41131138,\n",
       "        99.47308374,  99.52319672,  99.57106929,  99.61534029,\n",
       "        99.6586036 ,  99.69628792,  99.73182471,  99.76508492,\n",
       "        99.79352904,  99.81987379,  99.84424159,  99.86757463,\n",
       "        99.88835161,  99.90689234,  99.9244709 ,  99.94122166,\n",
       "        99.95707229,  99.96961109,  99.98137249,  99.99133326,\n",
       "       100.        , 100.        ])"
      ]
     },
     "execution_count": 15,
     "metadata": {},
     "output_type": "execute_result"
    }
   ],
   "source": [
    "pca.explained_variance_ratio_.cumsum()*100"
   ]
  },
  {
   "cell_type": "code",
   "execution_count": 25,
   "metadata": {
    "ExecuteTime": {
     "end_time": "2021-03-28T14:03:10.185528Z",
     "start_time": "2021-03-28T14:03:09.967124Z"
    }
   },
   "outputs": [
    {
     "data": {
      "text/plain": [
       "[<matplotlib.lines.Line2D at 0x1cce797bee0>]"
      ]
     },
     "execution_count": 25,
     "metadata": {},
     "output_type": "execute_result"
    },
    {
     "data": {
      "image/png": "[encoded data removed]",
      "text/plain": [
       "<Figure size 432x288 with 1 Axes>"
      ]
     },
     "metadata": {},
     "output_type": "display_data"
    }
   ],
   "source": [
    "plt.plot(pca.explained_variance_ratio_.cumsum())"
   ]
  },
  {
   "cell_type": "code",
   "execution_count": 17,
   "metadata": {
    "ExecuteTime": {
     "end_time": "2021-03-28T14:02:42.466713Z",
     "start_time": "2021-03-28T14:02:42.454745Z"
    }
   },
   "outputs": [
    {
     "data": {
      "text/plain": [
       "5"
      ]
     },
     "execution_count": 17,
     "metadata": {},
     "output_type": "execute_result"
    }
   ],
   "source": [
    "sum(pca.explained_variance_ratio_.cumsum() < .95) + 1"
   ]
  },
  {
   "cell_type": "code",
   "execution_count": 35,
   "metadata": {
    "ExecuteTime": {
     "end_time": "2021-03-28T14:04:49.434794Z",
     "start_time": "2021-03-28T14:04:48.983001Z"
    }
   },
   "outputs": [
    {
     "data": {
      "image/png": "[encoded data removed]",
      "text/plain": [
       "<Figure size 2880x1200 with 1 Axes>"
      ]
     },
     "metadata": {},
     "output_type": "display_data"
    }
   ],
   "source": [
    "import matplotlib.pyplot as plt\n",
    "import matplotlib.font_manager as fm\n",
    "font1 = fm.FontProperties(size=12)\n",
    "\n",
    "inertie = pd.DataFrame(pca.explained_variance_ratio_,columns=['Inertie']) \n",
    "inertie['label'] = np.round(pca.explained_variance_ratio_.cumsum()*100,2)\n",
    "inertie['Dimension'] = range(0,pca.explained_variance_ratio_.shape[0])\n",
    "\n",
    "\n",
    "ndim = 8\n",
    "plt.figure(figsize=(24,10),dpi=120)\n",
    "sns.set_style(\"whitegrid\")\n",
    "g = sns.barplot(x=\"Dimension\",y='Inertie', \n",
    "                data=inertie.iloc[:ndim,:], \n",
    "                palette=\"Blues_d\")\n",
    "for index, row in inertie.iloc[:ndim,:].iterrows():\n",
    "    g.text(row.name,row.Inertie, \n",
    "           row.label, \n",
    "           color='black', ha=\"center\", rotation=0)\n",
    "    \n",
    "plt.xlabel('Dimension', fontproperties=font1)\n",
    "plt.ylabel('Inertie', fontproperties=font1)\n",
    "sns.set(font_scale=2)\n",
    "plt.style.use('seaborn-darkgrid')\n",
    "plt.show()"
   ]
  },
  {
   "cell_type": "code",
   "execution_count": 29,
   "metadata": {
    "ExecuteTime": {
     "end_time": "2021-03-28T14:03:40.410367Z",
     "start_time": "2021-03-28T14:03:40.390422Z"
    }
   },
   "outputs": [
    {
     "data": {
      "text/plain": [
       "PCA(n_components=5)"
      ]
     },
     "execution_count": 29,
     "metadata": {},
     "output_type": "execute_result"
    }
   ],
   "source": [
    "n_components = sum(pca.explained_variance_ratio_.cumsum() < .95 ) + 1 \n",
    "from sklearn.decomposition import PCA\n",
    "modelPCA = PCA(n_components=n_components)\n",
    "modelPCA.fit(x)"
   ]
  },
  {
   "cell_type": "code",
   "execution_count": 20,
   "metadata": {
    "ExecuteTime": {
     "end_time": "2021-03-28T14:02:42.917507Z",
     "start_time": "2021-03-28T14:02:42.905539Z"
    }
   },
   "outputs": [
    {
     "data": {
      "text/plain": [
       "5"
      ]
     },
     "execution_count": 20,
     "metadata": {},
     "output_type": "execute_result"
    }
   ],
   "source": [
    "n_components"
   ]
  },
  {
   "cell_type": "code",
   "execution_count": 21,
   "metadata": {
    "ExecuteTime": {
     "end_time": "2021-03-28T14:02:42.965209Z",
     "start_time": "2021-03-28T14:02:42.920499Z"
    }
   },
   "outputs": [
    {
     "data": {
      "text/html": [
       "<div>\n",
       "<style scoped>\n",
       "    .dataframe tbody tr th:only-of-type {\n",
       "        vertical-align: middle;\n",
       "    }\n",
       "\n",
       "    .dataframe tbody tr th {\n",
       "        vertical-align: top;\n",
       "    }\n",
       "\n",
       "    .dataframe thead th {\n",
       "        text-align: right;\n",
       "    }\n",
       "</style>\n",
       "<table border=\"1\" class=\"dataframe\">\n",
       "  <thead>\n",
       "    <tr style=\"text-align: right;\">\n",
       "      <th></th>\n",
       "      <th>Dim1</th>\n",
       "      <th>Dim2</th>\n",
       "      <th>Dim3</th>\n",
       "      <th>Dim4</th>\n",
       "      <th>Dim5</th>\n",
       "      <th>Ville</th>\n",
       "    </tr>\n",
       "  </thead>\n",
       "  <tbody>\n",
       "    <tr>\n",
       "      <th>0</th>\n",
       "      <td>-5.143093</td>\n",
       "      <td>-28.263275</td>\n",
       "      <td>1.113159</td>\n",
       "      <td>-2.807859</td>\n",
       "      <td>-4.222921</td>\n",
       "      <td>Abbeville</td>\n",
       "    </tr>\n",
       "    <tr>\n",
       "      <th>1</th>\n",
       "      <td>-22.953399</td>\n",
       "      <td>21.026096</td>\n",
       "      <td>-13.316346</td>\n",
       "      <td>12.705632</td>\n",
       "      <td>4.231791</td>\n",
       "      <td>Ajaccio</td>\n",
       "    </tr>\n",
       "    <tr>\n",
       "      <th>2</th>\n",
       "      <td>7.794759</td>\n",
       "      <td>-17.610817</td>\n",
       "      <td>-9.316877</td>\n",
       "      <td>-2.148869</td>\n",
       "      <td>0.291873</td>\n",
       "      <td>Alencon</td>\n",
       "    </tr>\n",
       "    <tr>\n",
       "      <th>3</th>\n",
       "      <td>26.889062</td>\n",
       "      <td>-5.185913</td>\n",
       "      <td>-13.213791</td>\n",
       "      <td>-1.976655</td>\n",
       "      <td>-3.830246</td>\n",
       "      <td>Bale-Mulhouse</td>\n",
       "    </tr>\n",
       "    <tr>\n",
       "      <th>4</th>\n",
       "      <td>-19.684191</td>\n",
       "      <td>28.870433</td>\n",
       "      <td>-18.568462</td>\n",
       "      <td>16.774423</td>\n",
       "      <td>0.338931</td>\n",
       "      <td>Bastia</td>\n",
       "    </tr>\n",
       "  </tbody>\n",
       "</table>\n",
       "</div>"
      ],
      "text/plain": [
       "        Dim1       Dim2       Dim3       Dim4      Dim5          Ville\n",
       "0  -5.143093 -28.263275   1.113159  -2.807859 -4.222921      Abbeville\n",
       "1 -22.953399  21.026096 -13.316346  12.705632  4.231791        Ajaccio\n",
       "2   7.794759 -17.610817  -9.316877  -2.148869  0.291873        Alencon\n",
       "3  26.889062  -5.185913 -13.213791  -1.976655 -3.830246  Bale-Mulhouse\n",
       "4 -19.684191  28.870433 -18.568462  16.774423  0.338931         Bastia"
      ]
     },
     "execution_count": 21,
     "metadata": {},
     "output_type": "execute_result"
    }
   ],
   "source": [
    "dfPCA = pd.DataFrame(data=modelPCA.transform(x),\n",
    "                  columns=['Dim1', 'Dim2', 'Dim3', 'Dim4', 'Dim5'])\n",
    "dfPCA['Ville']= meteo.Ville\n",
    "dfPCA.head()"
   ]
  },
  {
   "cell_type": "code",
   "execution_count": 32,
   "metadata": {
    "ExecuteTime": {
     "end_time": "2021-03-28T14:04:13.320147Z",
     "start_time": "2021-03-28T14:04:12.934155Z"
    }
   },
   "outputs": [
    {
     "data": {
      "image/png": "[encoded data removed]",
      "text/plain": [
       "<Figure size 864x864 with 2 Axes>"
      ]
     },
     "metadata": {},
     "output_type": "display_data"
    }
   ],
   "source": [
    "plt.figure(figsize=(12,12))\n",
    "plt.title('Correlation Pearson des variables', y=1.05, size=18)\n",
    "sns.heatmap(dfPCA.corr(),linewidths=0.3,vmax=1.0, fmt= '.2f', \n",
    "            square=True, cmap='coolwarm', linecolor='white', annot=True);"
   ]
  },
  {
   "cell_type": "code",
   "execution_count": 36,
   "metadata": {
    "ExecuteTime": {
     "end_time": "2021-03-28T14:04:56.554644Z",
     "start_time": "2021-03-28T14:04:55.766875Z"
    }
   },
   "outputs": [
    {
     "data": {
      "text/plain": [
       "<Figure size 432x288 with 0 Axes>"
      ]
     },
     "metadata": {},
     "output_type": "display_data"
    },
    {
     "data": {
      "image/png": "[encoded data removed]",
      "text/plain": [
       "<Figure size 864x432 with 1 Axes>"
      ]
     },
     "metadata": {
      "needs_background": "light"
     },
     "output_type": "display_data"
    }
   ],
   "source": [
    "import seaborn as sns\n",
    "import matplotlib.pyplot as plt\n",
    "import pandas as pd\n",
    "%matplotlib inline\n",
    "\n",
    "plt.figure()\n",
    "\n",
    "ax = sns.lmplot(x='Dim1',y='Dim2', data=dfPCA, \n",
    "                fit_reg=False, size = 6, aspect =2 ) \n",
    "\n",
    "plt.title('Example ACP', fontproperties=font2)\n",
    "plt.xlabel('Dimmension 1', fontproperties=font1)\n",
    "plt.ylabel('Dimmension 2', fontproperties=font1)\n",
    "\n",
    "\n",
    "def label_point(x, y, val, ax):\n",
    "    a = pd.concat({'x': x, 'y': y, 'val': val}, axis=1)\n",
    "    for i, point in a.iterrows():\n",
    "        ax.text(point['x']+.02, point['y']+.02, str(point['val']), fontproperties=font1)\n",
    "\n",
    "label_point(dfPCA.Dim1, dfPCA.Dim2, dfPCA.Ville, plt.gca())"
   ]
  },
  {
   "cell_type": "code",
   "execution_count": 39,
   "metadata": {
    "ExecuteTime": {
     "end_time": "2021-03-28T14:05:45.045880Z",
     "start_time": "2021-03-28T14:05:44.944026Z"
    }
   },
   "outputs": [
    {
     "data": {
      "application/vnd.plotly.v1+json": {
       "config": {
        "plotlyServerURL": "https://plot.ly"
       },
       "data": [
        {
         "hovertemplate": "Dim1=%{x}<br>Dim2=%{y}<br>Dim3=%{z}<br>Ville=%{text}<extra></extra>",
         "legendgroup": "",
         "marker": {
          "color": "#636efa",
          "symbol": "circle"
         },
         "mode": "markers+text",
         "name": "",
         "scene": "scene",
         "showlegend": false,
         "text": [
          "Abbeville",
          "Ajaccio",
          "Alencon",
          "Bale-Mulhouse",
          "Bastia",
          "Belle Ile-Le Talut",
          "Bordeaux-Merignac",
          "Bourges",
          "Brest-Guipavas",
          "Caen-Carpiquet",
          "Cap Cepet",
          "Clermont-Fd",
          "Dijon-Longvic",
          "Embrun",
          "Gourdon",
          "Le Puy-Loudes",
          "Lille-Lesquin",
          "Limoges-Bellegarde",
          "Lyon-St Exupery",
          "Marignane",
          "Millau",
          "Mont-De-Marsan",
          "Montelimar",
          "Montpellier",
          "Nancy-Ochey",
          "Nantes-Bouguenais",
          "Nice",
          "Orly",
          "Perpignan",
          "Ploumanac'h",
          "Poitiers-Biard",
          "Pte De Chassiron",
          "Pte De La Hague",
          "Reims-Prunay",
          "Rennes-St Jacques",
          "Rouen-Boos",
          "St Girons",
          "Strasbourg-Entzheim",
          "Tarbes-Ossun",
          "Toulouse-Blagnac",
          "Tours",
          "Troyes-Barberey"
         ],
         "type": "scatter3d",
         "x": [
          -5.14309256167417,
          -22.953398861889802,
          7.794758888775,
          26.88906157484471,
          -19.68419081654382,
          -36.06057052302424,
          -10.377601320958265,
          7.449943040726455,
          -9.274756450427315,
          -8.190902640846755,
          -37.73903867593232,
          21.7420293426601,
          15.822850713035479,
          61.641886049777284,
          18.62978751192327,
          67.18963942445562,
          -4.422677637121476,
          22.712130520695993,
          11.297448302682607,
          -29.842004240453548,
          33.80803911097033,
          0.502743856907717,
          -10.188184743409504,
          -26.55554186659886,
          25.46680203928831,
          -8.382168278377154,
          -28.06249487918248,
          -0.8958546231919584,
          -31.403036139933178,
          -23.688911139950775,
          0.24842610266383325,
          -33.72379437382923,
          -43.53627158201303,
          9.547396818056548,
          -5.738870041751399,
          3.820067283844248,
          29.488955517227097,
          15.41988475443206,
          19.53602659808261,
          -8.039651340743925,
          0.2779468442395072,
          4.617188442564435
         ],
         "y": [
          -28.263274988826467,
          21.026096160658795,
          -17.610816839554786,
          -5.185912858471309,
          28.8704328821636,
          -24.5888552706382,
          7.455128027351003,
          -2.695850597439604,
          -31.721574866103385,
          -25.708220066115736,
          22.760643256284126,
          14.494253670526275,
          -3.8486071199114447,
          40.63938614577327,
          7.822442502925556,
          -4.782277519779729,
          -19.071685580057213,
          -2.730257381014827,
          15.112116056257074,
          38.66542314423643,
          1.7888915495845108,
          3.0688324629046724,
          26.178938519624445,
          33.9042931196281,
          -13.040717043722388,
          -10.95604343241991,
          34.53054087009991,
          -3.3391220683194045,
          39.96754583479328,
          -29.486177096145404,
          -7.963098727513635,
          -16.37028293873054,
          -37.17545181256585,
          -15.167294617951267,
          -12.874851915926683,
          -24.5561084941206,
          5.872951837520562,
          -1.782054622712935,
          1.2615067613588815,
          15.026742879902528,
          -6.677681312424929,
          -12.849948511126776
         ],
         "z": [
          1.1131594530420692,
          -13.316345978060163,
          -9.316876917338213,
          -13.213790909389381,
          -18.56846192578459,
          23.387122320136278,
          -14.831685148171154,
          -9.426354426397527,
          0.7052603639406279,
          -0.04005799892802564,
          31.303189507784033,
          -1.4695185232943953,
          -6.505926431937729,
          38.257655992622155,
          -16.814565081245224,
          23.343808930334653,
          -3.5406394163041606,
          6.308211405337363,
          -4.251986239403415,
          8.25809562535615,
          42.730486962547616,
          -29.148660649708532,
          -5.414858868005054,
          -0.14853527536143973,
          2.9703327300550995,
          -13.875226879411116,
          0.2422910456648062,
          -6.798850187394569,
          9.18278540842739,
          14.11351403239836,
          -7.859418367382647,
          12.091614046507118,
          36.15036442048095,
          -16.813473074287717,
          -12.189212648167015,
          0.1946284990543301,
          -8.796542456062614,
          -15.944372886962856,
          -4.47948484532392,
          -1.704382133468696,
          -8.032485168996875,
          -7.850808306901994
         ]
        }
       ],
       "layout": {
        "height": 1024,
        "legend": {
         "tracegroupgap": 0
        },
        "margin": {
         "t": 60
        },
        "scene": {
         "domain": {
          "x": [
           0,
           1
          ],
          "y": [
           0,
           1
          ]
         },
         "xaxis": {
          "title": {
           "text": "Dim1"
          }
         },
         "yaxis": {
          "title": {
           "text": "Dim2"
          }
         },
         "zaxis": {
          "title": {
           "text": "Dim3"
          }
         }
        },
        "template": {
         "data": {
          "bar": [
           {
            "error_x": {
             "color": "#2a3f5f"
            },
            "error_y": {
             "color": "#2a3f5f"
            },
            "marker": {
             "line": {
              "color": "#E5ECF6",
              "width": 0.5
             }
            },
            "type": "bar"
           }
          ],
          "barpolar": [
           {
            "marker": {
             "line": {
              "color": "#E5ECF6",
              "width": 0.5
             }
            },
            "type": "barpolar"
           }
          ],
          "carpet": [
           {
            "aaxis": {
             "endlinecolor": "#2a3f5f",
             "gridcolor": "white",
             "linecolor": "white",
             "minorgridcolor": "white",
             "startlinecolor": "#2a3f5f"
            },
            "baxis": {
             "endlinecolor": "#2a3f5f",
             "gridcolor": "white",
             "linecolor": "white",
             "minorgridcolor": "white",
             "startlinecolor": "#2a3f5f"
            },
            "type": "carpet"
           }
          ],
          "choropleth": [
           {
            "colorbar": {
             "outlinewidth": 0,
             "ticks": ""
            },
            "type": "choropleth"
           }
          ],
          "contour": [
           {
            "colorbar": {
             "outlinewidth": 0,
             "ticks": ""
            },
            "colorscale": [
             [
              0,
              "#0d0887"
             ],
             [
              0.1111111111111111,
              "#46039f"
             ],
             [
              0.2222222222222222,
              "#7201a8"
             ],
             [
              0.3333333333333333,
              "#9c179e"
             ],
             [
              0.4444444444444444,
              "#bd3786"
             ],
             [
              0.5555555555555556,
              "#d8576b"
             ],
             [
              0.6666666666666666,
              "#ed7953"
             ],
             [
              0.7777777777777778,
              "#fb9f3a"
             ],
             [
              0.8888888888888888,
              "#fdca26"
             ],
             [
              1,
              "#f0f921"
             ]
            ],
            "type": "contour"
           }
          ],
          "contourcarpet": [
           {
            "colorbar": {
             "outlinewidth": 0,
             "ticks": ""
            },
            "type": "contourcarpet"
           }
          ],
          "heatmap": [
           {
            "colorbar": {
             "outlinewidth": 0,
             "ticks": ""
            },
            "colorscale": [
             [
              0,
              "#0d0887"
             ],
             [
              0.1111111111111111,
              "#46039f"
             ],
             [
              0.2222222222222222,
              "#7201a8"
             ],
             [
              0.3333333333333333,
              "#9c179e"
             ],
             [
              0.4444444444444444,
              "#bd3786"
             ],
             [
              0.5555555555555556,
              "#d8576b"
             ],
             [
              0.6666666666666666,
              "#ed7953"
             ],
             [
              0.7777777777777778,
              "#fb9f3a"
             ],
             [
              0.8888888888888888,
              "#fdca26"
             ],
             [
              1,
              "#f0f921"
             ]
            ],
            "type": "heatmap"
           }
          ],
          "heatmapgl": [
           {
            "colorbar": {
             "outlinewidth": 0,
             "ticks": ""
            },
            "colorscale": [
             [
              0,
              "#0d0887"
             ],
             [
              0.1111111111111111,
              "#46039f"
             ],
             [
              0.2222222222222222,
              "#7201a8"
             ],
             [
              0.3333333333333333,
              "#9c179e"
             ],
             [
              0.4444444444444444,
              "#bd3786"
             ],
             [
              0.5555555555555556,
              "#d8576b"
             ],
             [
              0.6666666666666666,
              "#ed7953"
             ],
             [
              0.7777777777777778,
              "#fb9f3a"
             ],
             [
              0.8888888888888888,
              "#fdca26"
             ],
             [
              1,
              "#f0f921"
             ]
            ],
            "type": "heatmapgl"
           }
          ],
          "histogram": [
           {
            "marker": {
             "colorbar": {
              "outlinewidth": 0,
              "ticks": ""
             }
            },
            "type": "histogram"
           }
          ],
          "histogram2d": [
           {
            "colorbar": {
             "outlinewidth": 0,
             "ticks": ""
            },
            "colorscale": [
             [
              0,
              "#0d0887"
             ],
             [
              0.1111111111111111,
              "#46039f"
             ],
             [
              0.2222222222222222,
              "#7201a8"
             ],
             [
              0.3333333333333333,
              "#9c179e"
             ],
             [
              0.4444444444444444,
              "#bd3786"
             ],
             [
              0.5555555555555556,
              "#d8576b"
             ],
             [
              0.6666666666666666,
              "#ed7953"
             ],
             [
              0.7777777777777778,
              "#fb9f3a"
             ],
             [
              0.8888888888888888,
              "#fdca26"
             ],
             [
              1,
              "#f0f921"
             ]
            ],
            "type": "histogram2d"
           }
          ],
          "histogram2dcontour": [
           {
            "colorbar": {
             "outlinewidth": 0,
             "ticks": ""
            },
            "colorscale": [
             [
              0,
              "#0d0887"
             ],
             [
              0.1111111111111111,
              "#46039f"
             ],
             [
              0.2222222222222222,
              "#7201a8"
             ],
             [
              0.3333333333333333,
              "#9c179e"
             ],
             [
              0.4444444444444444,
              "#bd3786"
             ],
             [
              0.5555555555555556,
              "#d8576b"
             ],
             [
              0.6666666666666666,
              "#ed7953"
             ],
             [
              0.7777777777777778,
              "#fb9f3a"
             ],
             [
              0.8888888888888888,
              "#fdca26"
             ],
             [
              1,
              "#f0f921"
             ]
            ],
            "type": "histogram2dcontour"
           }
          ],
          "mesh3d": [
           {
            "colorbar": {
             "outlinewidth": 0,
             "ticks": ""
            },
            "type": "mesh3d"
           }
          ],
          "parcoords": [
           {
            "line": {
             "colorbar": {
              "outlinewidth": 0,
              "ticks": ""
             }
            },
            "type": "parcoords"
           }
          ],
          "pie": [
           {
            "automargin": true,
            "type": "pie"
           }
          ],
          "scatter": [
           {
            "marker": {
             "colorbar": {
              "outlinewidth": 0,
              "ticks": ""
             }
            },
            "type": "scatter"
           }
          ],
          "scatter3d": [
           {
            "line": {
             "colorbar": {
              "outlinewidth": 0,
              "ticks": ""
             }
            },
            "marker": {
             "colorbar": {
              "outlinewidth": 0,
              "ticks": ""
             }
            },
            "type": "scatter3d"
           }
          ],
          "scattercarpet": [
           {
            "marker": {
             "colorbar": {
              "outlinewidth": 0,
              "ticks": ""
             }
            },
            "type": "scattercarpet"
           }
          ],
          "scattergeo": [
           {
            "marker": {
             "colorbar": {
              "outlinewidth": 0,
              "ticks": ""
             }
            },
            "type": "scattergeo"
           }
          ],
          "scattergl": [
           {
            "marker": {
             "colorbar": {
              "outlinewidth": 0,
              "ticks": ""
             }
            },
            "type": "scattergl"
           }
          ],
          "scattermapbox": [
           {
            "marker": {
             "colorbar": {
              "outlinewidth": 0,
              "ticks": ""
             }
            },
            "type": "scattermapbox"
           }
          ],
          "scatterpolar": [
           {
            "marker": {
             "colorbar": {
              "outlinewidth": 0,
              "ticks": ""
             }
            },
            "type": "scatterpolar"
           }
          ],
          "scatterpolargl": [
           {
            "marker": {
             "colorbar": {
              "outlinewidth": 0,
              "ticks": ""
             }
            },
            "type": "scatterpolargl"
           }
          ],
          "scatterternary": [
           {
            "marker": {
             "colorbar": {
              "outlinewidth": 0,
              "ticks": ""
             }
            },
            "type": "scatterternary"
           }
          ],
          "surface": [
           {
            "colorbar": {
             "outlinewidth": 0,
             "ticks": ""
            },
            "colorscale": [
             [
              0,
              "#0d0887"
             ],
             [
              0.1111111111111111,
              "#46039f"
             ],
             [
              0.2222222222222222,
              "#7201a8"
             ],
             [
              0.3333333333333333,
              "#9c179e"
             ],
             [
              0.4444444444444444,
              "#bd3786"
             ],
             [
              0.5555555555555556,
              "#d8576b"
             ],
             [
              0.6666666666666666,
              "#ed7953"
             ],
             [
              0.7777777777777778,
              "#fb9f3a"
             ],
             [
              0.8888888888888888,
              "#fdca26"
             ],
             [
              1,
              "#f0f921"
             ]
            ],
            "type": "surface"
           }
          ],
          "table": [
           {
            "cells": {
             "fill": {
              "color": "#EBF0F8"
             },
             "line": {
              "color": "white"
             }
            },
            "header": {
             "fill": {
              "color": "#C8D4E3"
             },
             "line": {
              "color": "white"
             }
            },
            "type": "table"
           }
          ]
         },
         "layout": {
          "annotationdefaults": {
           "arrowcolor": "#2a3f5f",
           "arrowhead": 0,
           "arrowwidth": 1
          },
          "autotypenumbers": "strict",
          "coloraxis": {
           "colorbar": {
            "outlinewidth": 0,
            "ticks": ""
           }
          },
          "colorscale": {
           "diverging": [
            [
             0,
             "#8e0152"
            ],
            [
             0.1,
             "#c51b7d"
            ],
            [
             0.2,
             "#de77ae"
            ],
            [
             0.3,
             "#f1b6da"
            ],
            [
             0.4,
             "#fde0ef"
            ],
            [
             0.5,
             "#f7f7f7"
            ],
            [
             0.6,
             "#e6f5d0"
            ],
            [
             0.7,
             "#b8e186"
            ],
            [
             0.8,
             "#7fbc41"
            ],
            [
             0.9,
             "#4d9221"
            ],
            [
             1,
             "#276419"
            ]
           ],
           "sequential": [
            [
             0,
             "#0d0887"
            ],
            [
             0.1111111111111111,
             "#46039f"
            ],
            [
             0.2222222222222222,
             "#7201a8"
            ],
            [
             0.3333333333333333,
             "#9c179e"
            ],
            [
             0.4444444444444444,
             "#bd3786"
            ],
            [
             0.5555555555555556,
             "#d8576b"
            ],
            [
             0.6666666666666666,
             "#ed7953"
            ],
            [
             0.7777777777777778,
             "#fb9f3a"
            ],
            [
             0.8888888888888888,
             "#fdca26"
            ],
            [
             1,
             "#f0f921"
            ]
           ],
           "sequentialminus": [
            [
             0,
             "#0d0887"
            ],
            [
             0.1111111111111111,
             "#46039f"
            ],
            [
             0.2222222222222222,
             "#7201a8"
            ],
            [
             0.3333333333333333,
             "#9c179e"
            ],
            [
             0.4444444444444444,
             "#bd3786"
            ],
            [
             0.5555555555555556,
             "#d8576b"
            ],
            [
             0.6666666666666666,
             "#ed7953"
            ],
            [
             0.7777777777777778,
             "#fb9f3a"
            ],
            [
             0.8888888888888888,
             "#fdca26"
            ],
            [
             1,
             "#f0f921"
            ]
           ]
          },
          "colorway": [
           "#636efa",
           "#EF553B",
           "#00cc96",
           "#ab63fa",
           "#FFA15A",
           "#19d3f3",
           "#FF6692",
           "#B6E880",
           "#FF97FF",
           "#FECB52"
          ],
          "font": {
           "color": "#2a3f5f"
          },
          "geo": {
           "bgcolor": "white",
           "lakecolor": "white",
           "landcolor": "#E5ECF6",
           "showlakes": true,
           "showland": true,
           "subunitcolor": "white"
          },
          "hoverlabel": {
           "align": "left"
          },
          "hovermode": "closest",
          "mapbox": {
           "style": "light"
          },
          "paper_bgcolor": "white",
          "plot_bgcolor": "#E5ECF6",
          "polar": {
           "angularaxis": {
            "gridcolor": "white",
            "linecolor": "white",
            "ticks": ""
           },
           "bgcolor": "#E5ECF6",
           "radialaxis": {
            "gridcolor": "white",
            "linecolor": "white",
            "ticks": ""
           }
          },
          "scene": {
           "xaxis": {
            "backgroundcolor": "#E5ECF6",
            "gridcolor": "white",
            "gridwidth": 2,
            "linecolor": "white",
            "showbackground": true,
            "ticks": "",
            "zerolinecolor": "white"
           },
           "yaxis": {
            "backgroundcolor": "#E5ECF6",
            "gridcolor": "white",
            "gridwidth": 2,
            "linecolor": "white",
            "showbackground": true,
            "ticks": "",
            "zerolinecolor": "white"
           },
           "zaxis": {
            "backgroundcolor": "#E5ECF6",
            "gridcolor": "white",
            "gridwidth": 2,
            "linecolor": "white",
            "showbackground": true,
            "ticks": "",
            "zerolinecolor": "white"
           }
          },
          "shapedefaults": {
           "line": {
            "color": "#2a3f5f"
           }
          },
          "ternary": {
           "aaxis": {
            "gridcolor": "white",
            "linecolor": "white",
            "ticks": ""
           },
           "baxis": {
            "gridcolor": "white",
            "linecolor": "white",
            "ticks": ""
           },
           "bgcolor": "#E5ECF6",
           "caxis": {
            "gridcolor": "white",
            "linecolor": "white",
            "ticks": ""
           }
          },
          "title": {
           "x": 0.05
          },
          "xaxis": {
           "automargin": true,
           "gridcolor": "white",
           "linecolor": "white",
           "ticks": "",
           "title": {
            "standoff": 15
           },
           "zerolinecolor": "white",
           "zerolinewidth": 2
          },
          "yaxis": {
           "automargin": true,
           "gridcolor": "white",
           "linecolor": "white",
           "ticks": "",
           "title": {
            "standoff": 15
           },
           "zerolinecolor": "white",
           "zerolinewidth": 2
          }
         }
        },
        "width": 900
       }
      },
      "text/html": [
       "<div>                            <div id=\"a0c10ad3-a9bd-46a1-b75e-3b7d5cea01c4\" class=\"plotly-graph-div\" style=\"height:1024px; width:900px;\"></div>            <script type=\"text/javascript\">                require([\"plotly\"], function(Plotly) {                    window.PLOTLYENV=window.PLOTLYENV || {};                                    if (document.getElementById(\"a0c10ad3-a9bd-46a1-b75e-3b7d5cea01c4\")) {                    Plotly.newPlot(                        \"a0c10ad3-a9bd-46a1-b75e-3b7d5cea01c4\",                        [{\"hovertemplate\": \"Dim1=%{x}<br>Dim2=%{y}<br>Dim3=%{z}<br>Ville=%{text}<extra></extra>\", \"legendgroup\": \"\", \"marker\": {\"color\": \"#636efa\", \"symbol\": \"circle\"}, \"mode\": \"markers+text\", \"name\": \"\", \"scene\": \"scene\", \"showlegend\": false, \"text\": [\"Abbeville\", \"Ajaccio\", \"Alencon\", \"Bale-Mulhouse\", \"Bastia\", \"Belle Ile-Le Talut\", \"Bordeaux-Merignac\", \"Bourges\", \"Brest-Guipavas\", \"Caen-Carpiquet\", \"Cap Cepet\", \"Clermont-Fd\", \"Dijon-Longvic\", \"Embrun\", \"Gourdon\", \"Le Puy-Loudes\", \"Lille-Lesquin\", \"Limoges-Bellegarde\", \"Lyon-St Exupery\", \"Marignane\", \"Millau\", \"Mont-De-Marsan\", \"Montelimar\", \"Montpellier\", \"Nancy-Ochey\", \"Nantes-Bouguenais\", \"Nice\", \"Orly\", \"Perpignan\", \"Ploumanac'h\", \"Poitiers-Biard\", \"Pte De Chassiron\", \"Pte De La Hague\", \"Reims-Prunay\", \"Rennes-St Jacques\", \"Rouen-Boos\", \"St Girons\", \"Strasbourg-Entzheim\", \"Tarbes-Ossun\", \"Toulouse-Blagnac\", \"Tours\", \"Troyes-Barberey\"], \"type\": \"scatter3d\", \"x\": [-5.14309256167417, -22.953398861889802, 7.794758888775, 26.88906157484471, -19.68419081654382, -36.06057052302424, -10.377601320958265, 7.449943040726455, -9.274756450427315, -8.190902640846755, -37.73903867593232, 21.7420293426601, 15.822850713035479, 61.641886049777284, 18.62978751192327, 67.18963942445562, -4.422677637121476, 22.712130520695993, 11.297448302682607, -29.842004240453548, 33.80803911097033, 0.502743856907717, -10.188184743409504, -26.55554186659886, 25.46680203928831, -8.382168278377154, -28.06249487918248, -0.8958546231919584, -31.403036139933178, -23.688911139950775, 0.24842610266383325, -33.72379437382923, -43.53627158201303, 9.547396818056548, -5.738870041751399, 3.820067283844248, 29.488955517227097, 15.41988475443206, 19.53602659808261, -8.039651340743925, 0.2779468442395072, 4.617188442564435], \"y\": [-28.263274988826467, 21.026096160658795, -17.610816839554786, -5.185912858471309, 28.8704328821636, -24.5888552706382, 7.455128027351003, -2.695850597439604, -31.721574866103385, -25.708220066115736, 22.760643256284126, 14.494253670526275, -3.8486071199114447, 40.63938614577327, 7.822442502925556, -4.782277519779729, -19.071685580057213, -2.730257381014827, 15.112116056257074, 38.66542314423643, 1.7888915495845108, 3.0688324629046724, 26.178938519624445, 33.9042931196281, -13.040717043722388, -10.95604343241991, 34.53054087009991, -3.3391220683194045, 39.96754583479328, -29.486177096145404, -7.963098727513635, -16.37028293873054, -37.17545181256585, -15.167294617951267, -12.874851915926683, -24.5561084941206, 5.872951837520562, -1.782054622712935, 1.2615067613588815, 15.026742879902528, -6.677681312424929, -12.849948511126776], \"z\": [1.1131594530420692, -13.316345978060163, -9.316876917338213, -13.213790909389381, -18.56846192578459, 23.387122320136278, -14.831685148171154, -9.426354426397527, 0.7052603639406279, -0.04005799892802564, 31.303189507784033, -1.4695185232943953, -6.505926431937729, 38.257655992622155, -16.814565081245224, 23.343808930334653, -3.5406394163041606, 6.308211405337363, -4.251986239403415, 8.25809562535615, 42.730486962547616, -29.148660649708532, -5.414858868005054, -0.14853527536143973, 2.9703327300550995, -13.875226879411116, 0.2422910456648062, -6.798850187394569, 9.18278540842739, 14.11351403239836, -7.859418367382647, 12.091614046507118, 36.15036442048095, -16.813473074287717, -12.189212648167015, 0.1946284990543301, -8.796542456062614, -15.944372886962856, -4.47948484532392, -1.704382133468696, -8.032485168996875, -7.850808306901994]}],                        {\"height\": 1024, \"legend\": {\"tracegroupgap\": 0}, \"margin\": {\"t\": 60}, \"scene\": {\"domain\": {\"x\": [0.0, 1.0], \"y\": [0.0, 1.0]}, \"xaxis\": {\"title\": {\"text\": \"Dim1\"}}, \"yaxis\": {\"title\": {\"text\": \"Dim2\"}}, \"zaxis\": {\"title\": {\"text\": \"Dim3\"}}}, \"template\": {\"data\": {\"bar\": [{\"error_x\": {\"color\": \"#2a3f5f\"}, \"error_y\": {\"color\": \"#2a3f5f\"}, \"marker\": {\"line\": {\"color\": \"#E5ECF6\", \"width\": 0.5}}, \"type\": \"bar\"}], \"barpolar\": [{\"marker\": {\"line\": {\"color\": \"#E5ECF6\", \"width\": 0.5}}, \"type\": \"barpolar\"}], \"carpet\": [{\"aaxis\": {\"endlinecolor\": \"#2a3f5f\", \"gridcolor\": \"white\", \"linecolor\": \"white\", \"minorgridcolor\": \"white\", \"startlinecolor\": \"#2a3f5f\"}, \"baxis\": {\"endlinecolor\": \"#2a3f5f\", \"gridcolor\": \"white\", \"linecolor\": \"white\", \"minorgridcolor\": \"white\", \"startlinecolor\": \"#2a3f5f\"}, \"type\": \"carpet\"}], \"choropleth\": [{\"colorbar\": {\"outlinewidth\": 0, \"ticks\": \"\"}, \"type\": \"choropleth\"}], \"contour\": [{\"colorbar\": {\"outlinewidth\": 0, \"ticks\": \"\"}, \"colorscale\": [[0.0, \"#0d0887\"], [0.1111111111111111, \"#46039f\"], [0.2222222222222222, \"#7201a8\"], [0.3333333333333333, \"#9c179e\"], [0.4444444444444444, \"#bd3786\"], [0.5555555555555556, \"#d8576b\"], [0.6666666666666666, \"#ed7953\"], [0.7777777777777778, \"#fb9f3a\"], [0.8888888888888888, \"#fdca26\"], [1.0, \"#f0f921\"]], \"type\": \"contour\"}], \"contourcarpet\": [{\"colorbar\": {\"outlinewidth\": 0, \"ticks\": \"\"}, \"type\": \"contourcarpet\"}], \"heatmap\": [{\"colorbar\": {\"outlinewidth\": 0, \"ticks\": \"\"}, \"colorscale\": [[0.0, \"#0d0887\"], [0.1111111111111111, \"#46039f\"], [0.2222222222222222, \"#7201a8\"], [0.3333333333333333, \"#9c179e\"], [0.4444444444444444, \"#bd3786\"], [0.5555555555555556, \"#d8576b\"], [0.6666666666666666, \"#ed7953\"], [0.7777777777777778, \"#fb9f3a\"], [0.8888888888888888, \"#fdca26\"], [1.0, \"#f0f921\"]], \"type\": \"heatmap\"}], \"heatmapgl\": [{\"colorbar\": {\"outlinewidth\": 0, \"ticks\": \"\"}, \"colorscale\": [[0.0, \"#0d0887\"], [0.1111111111111111, \"#46039f\"], [0.2222222222222222, \"#7201a8\"], [0.3333333333333333, \"#9c179e\"], [0.4444444444444444, \"#bd3786\"], [0.5555555555555556, \"#d8576b\"], [0.6666666666666666, \"#ed7953\"], [0.7777777777777778, \"#fb9f3a\"], [0.8888888888888888, \"#fdca26\"], [1.0, \"#f0f921\"]], \"type\": \"heatmapgl\"}], \"histogram\": [{\"marker\": {\"colorbar\": {\"outlinewidth\": 0, \"ticks\": \"\"}}, \"type\": \"histogram\"}], \"histogram2d\": [{\"colorbar\": {\"outlinewidth\": 0, \"ticks\": \"\"}, \"colorscale\": [[0.0, \"#0d0887\"], [0.1111111111111111, \"#46039f\"], [0.2222222222222222, \"#7201a8\"], [0.3333333333333333, \"#9c179e\"], [0.4444444444444444, \"#bd3786\"], [0.5555555555555556, \"#d8576b\"], [0.6666666666666666, \"#ed7953\"], [0.7777777777777778, \"#fb9f3a\"], [0.8888888888888888, \"#fdca26\"], [1.0, \"#f0f921\"]], \"type\": \"histogram2d\"}], \"histogram2dcontour\": [{\"colorbar\": {\"outlinewidth\": 0, \"ticks\": \"\"}, \"colorscale\": [[0.0, \"#0d0887\"], [0.1111111111111111, \"#46039f\"], [0.2222222222222222, \"#7201a8\"], [0.3333333333333333, \"#9c179e\"], [0.4444444444444444, \"#bd3786\"], [0.5555555555555556, \"#d8576b\"], [0.6666666666666666, \"#ed7953\"], [0.7777777777777778, \"#fb9f3a\"], [0.8888888888888888, \"#fdca26\"], [1.0, \"#f0f921\"]], \"type\": \"histogram2dcontour\"}], \"mesh3d\": [{\"colorbar\": {\"outlinewidth\": 0, \"ticks\": \"\"}, \"type\": \"mesh3d\"}], \"parcoords\": [{\"line\": {\"colorbar\": {\"outlinewidth\": 0, \"ticks\": \"\"}}, \"type\": \"parcoords\"}], \"pie\": [{\"automargin\": true, \"type\": \"pie\"}], \"scatter\": [{\"marker\": {\"colorbar\": {\"outlinewidth\": 0, \"ticks\": \"\"}}, \"type\": \"scatter\"}], \"scatter3d\": [{\"line\": {\"colorbar\": {\"outlinewidth\": 0, \"ticks\": \"\"}}, \"marker\": {\"colorbar\": {\"outlinewidth\": 0, \"ticks\": \"\"}}, \"type\": \"scatter3d\"}], \"scattercarpet\": [{\"marker\": {\"colorbar\": {\"outlinewidth\": 0, \"ticks\": \"\"}}, \"type\": \"scattercarpet\"}], \"scattergeo\": [{\"marker\": {\"colorbar\": {\"outlinewidth\": 0, \"ticks\": \"\"}}, \"type\": \"scattergeo\"}], \"scattergl\": [{\"marker\": {\"colorbar\": {\"outlinewidth\": 0, \"ticks\": \"\"}}, \"type\": \"scattergl\"}], \"scattermapbox\": [{\"marker\": {\"colorbar\": {\"outlinewidth\": 0, \"ticks\": \"\"}}, \"type\": \"scattermapbox\"}], \"scatterpolar\": [{\"marker\": {\"colorbar\": {\"outlinewidth\": 0, \"ticks\": \"\"}}, \"type\": \"scatterpolar\"}], \"scatterpolargl\": [{\"marker\": {\"colorbar\": {\"outlinewidth\": 0, \"ticks\": \"\"}}, \"type\": \"scatterpolargl\"}], \"scatterternary\": [{\"marker\": {\"colorbar\": {\"outlinewidth\": 0, \"ticks\": \"\"}}, \"type\": \"scatterternary\"}], \"surface\": [{\"colorbar\": {\"outlinewidth\": 0, \"ticks\": \"\"}, \"colorscale\": [[0.0, \"#0d0887\"], [0.1111111111111111, \"#46039f\"], [0.2222222222222222, \"#7201a8\"], [0.3333333333333333, \"#9c179e\"], [0.4444444444444444, \"#bd3786\"], [0.5555555555555556, \"#d8576b\"], [0.6666666666666666, \"#ed7953\"], [0.7777777777777778, \"#fb9f3a\"], [0.8888888888888888, \"#fdca26\"], [1.0, \"#f0f921\"]], \"type\": \"surface\"}], \"table\": [{\"cells\": {\"fill\": {\"color\": \"#EBF0F8\"}, \"line\": {\"color\": \"white\"}}, \"header\": {\"fill\": {\"color\": \"#C8D4E3\"}, \"line\": {\"color\": \"white\"}}, \"type\": \"table\"}]}, \"layout\": {\"annotationdefaults\": {\"arrowcolor\": \"#2a3f5f\", \"arrowhead\": 0, \"arrowwidth\": 1}, \"autotypenumbers\": \"strict\", \"coloraxis\": {\"colorbar\": {\"outlinewidth\": 0, \"ticks\": \"\"}}, \"colorscale\": {\"diverging\": [[0, \"#8e0152\"], [0.1, \"#c51b7d\"], [0.2, \"#de77ae\"], [0.3, \"#f1b6da\"], [0.4, \"#fde0ef\"], [0.5, \"#f7f7f7\"], [0.6, \"#e6f5d0\"], [0.7, \"#b8e186\"], [0.8, \"#7fbc41\"], [0.9, \"#4d9221\"], [1, \"#276419\"]], \"sequential\": [[0.0, \"#0d0887\"], [0.1111111111111111, \"#46039f\"], [0.2222222222222222, \"#7201a8\"], [0.3333333333333333, \"#9c179e\"], [0.4444444444444444, \"#bd3786\"], [0.5555555555555556, \"#d8576b\"], [0.6666666666666666, \"#ed7953\"], [0.7777777777777778, \"#fb9f3a\"], [0.8888888888888888, \"#fdca26\"], [1.0, \"#f0f921\"]], \"sequentialminus\": [[0.0, \"#0d0887\"], [0.1111111111111111, \"#46039f\"], [0.2222222222222222, \"#7201a8\"], [0.3333333333333333, \"#9c179e\"], [0.4444444444444444, \"#bd3786\"], [0.5555555555555556, \"#d8576b\"], [0.6666666666666666, \"#ed7953\"], [0.7777777777777778, \"#fb9f3a\"], [0.8888888888888888, \"#fdca26\"], [1.0, \"#f0f921\"]]}, \"colorway\": [\"#636efa\", \"#EF553B\", \"#00cc96\", \"#ab63fa\", \"#FFA15A\", \"#19d3f3\", \"#FF6692\", \"#B6E880\", \"#FF97FF\", \"#FECB52\"], \"font\": {\"color\": \"#2a3f5f\"}, \"geo\": {\"bgcolor\": \"white\", \"lakecolor\": \"white\", \"landcolor\": \"#E5ECF6\", \"showlakes\": true, \"showland\": true, \"subunitcolor\": \"white\"}, \"hoverlabel\": {\"align\": \"left\"}, \"hovermode\": \"closest\", \"mapbox\": {\"style\": \"light\"}, \"paper_bgcolor\": \"white\", \"plot_bgcolor\": \"#E5ECF6\", \"polar\": {\"angularaxis\": {\"gridcolor\": \"white\", \"linecolor\": \"white\", \"ticks\": \"\"}, \"bgcolor\": \"#E5ECF6\", \"radialaxis\": {\"gridcolor\": \"white\", \"linecolor\": \"white\", \"ticks\": \"\"}}, \"scene\": {\"xaxis\": {\"backgroundcolor\": \"#E5ECF6\", \"gridcolor\": \"white\", \"gridwidth\": 2, \"linecolor\": \"white\", \"showbackground\": true, \"ticks\": \"\", \"zerolinecolor\": \"white\"}, \"yaxis\": {\"backgroundcolor\": \"#E5ECF6\", \"gridcolor\": \"white\", \"gridwidth\": 2, \"linecolor\": \"white\", \"showbackground\": true, \"ticks\": \"\", \"zerolinecolor\": \"white\"}, \"zaxis\": {\"backgroundcolor\": \"#E5ECF6\", \"gridcolor\": \"white\", \"gridwidth\": 2, \"linecolor\": \"white\", \"showbackground\": true, \"ticks\": \"\", \"zerolinecolor\": \"white\"}}, \"shapedefaults\": {\"line\": {\"color\": \"#2a3f5f\"}}, \"ternary\": {\"aaxis\": {\"gridcolor\": \"white\", \"linecolor\": \"white\", \"ticks\": \"\"}, \"baxis\": {\"gridcolor\": \"white\", \"linecolor\": \"white\", \"ticks\": \"\"}, \"bgcolor\": \"#E5ECF6\", \"caxis\": {\"gridcolor\": \"white\", \"linecolor\": \"white\", \"ticks\": \"\"}}, \"title\": {\"x\": 0.05}, \"xaxis\": {\"automargin\": true, \"gridcolor\": \"white\", \"linecolor\": \"white\", \"ticks\": \"\", \"title\": {\"standoff\": 15}, \"zerolinecolor\": \"white\", \"zerolinewidth\": 2}, \"yaxis\": {\"automargin\": true, \"gridcolor\": \"white\", \"linecolor\": \"white\", \"ticks\": \"\", \"title\": {\"standoff\": 15}, \"zerolinecolor\": \"white\", \"zerolinewidth\": 2}}}, \"width\": 900},                        {\"responsive\": true}                    ).then(function(){\n",
       "                            \n",
       "var gd = document.getElementById('a0c10ad3-a9bd-46a1-b75e-3b7d5cea01c4');\n",
       "var x = new MutationObserver(function (mutations, observer) {{\n",
       "        var display = window.getComputedStyle(gd).display;\n",
       "        if (!display || display === 'none') {{\n",
       "            console.log([gd, 'removed!']);\n",
       "            Plotly.purge(gd);\n",
       "            observer.disconnect();\n",
       "        }}\n",
       "}});\n",
       "\n",
       "// Listen for the removal of the full notebook cells\n",
       "var notebookContainer = gd.closest('#notebook-container');\n",
       "if (notebookContainer) {{\n",
       "    x.observe(notebookContainer, {childList: true});\n",
       "}}\n",
       "\n",
       "// Listen for the clearing of the current output cell\n",
       "var outputEl = gd.closest('.output');\n",
       "if (outputEl) {{\n",
       "    x.observe(outputEl, {childList: true});\n",
       "}}\n",
       "\n",
       "                        })                };                });            </script>        </div>"
      ]
     },
     "metadata": {},
     "output_type": "display_data"
    }
   ],
   "source": [
    "import plotly.express as px\n",
    "fig = px.scatter_3d(dfPCA, \n",
    "                    x='Dim1', \n",
    "                    y='Dim2', \n",
    "                    z='Dim3',\n",
    "                    #color='Zone',\n",
    "                    #size=100+donneesT.CD5*500,\n",
    "                    #symbol='CD23',\n",
    "                    text='Ville', \n",
    "                    width=900,\n",
    "                    height=1024,\n",
    "                   )\n",
    "\n",
    "fig.show()"
   ]
  },
  {
   "cell_type": "code",
   "execution_count": 45,
   "metadata": {
    "ExecuteTime": {
     "end_time": "2021-03-28T14:09:35.595622Z",
     "start_time": "2021-03-28T14:09:35.534761Z"
    }
   },
   "outputs": [],
   "source": [
    "from sklearn.cluster import KMeans\n",
    "kmeans = KMeans(n_clusters=3)\n",
    "y_kmeans = kmeans.fit_predict(dfPCA.drop(columns='Ville'))\n",
    "dfPCA['Km3'] = y_kmeans\n",
    "kmeans = KMeans(n_clusters=4)\n",
    "y_kmeans = kmeans.fit_predict(dfPCA.drop(columns='Ville'))\n",
    "dfPCA['Km4'] = y_kmeans"
   ]
  },
  {
   "cell_type": "code",
   "execution_count": 47,
   "metadata": {
    "ExecuteTime": {
     "end_time": "2021-03-28T14:10:03.196985Z",
     "start_time": "2021-03-28T14:10:03.103661Z"
    }
   },
   "outputs": [
    {
     "data": {
      "application/vnd.plotly.v1+json": {
       "config": {
        "plotlyServerURL": "https://plot.ly"
       },
       "data": [
        {
         "hovertemplate": "Dim1=%{x}<br>Dim2=%{y}<br>Dim3=%{z}<br>Ville=%{text}<br>Km3=%{marker.color}<extra></extra>",
         "legendgroup": "",
         "marker": {
          "color": [
           2,
           0,
           2,
           1,
           0,
           2,
           2,
           2,
           2,
           2,
           0,
           1,
           1,
           1,
           1,
           1,
           2,
           1,
           1,
           0,
           1,
           2,
           0,
           0,
           1,
           2,
           0,
           2,
           0,
           2,
           2,
           2,
           2,
           2,
           2,
           2,
           1,
           1,
           1,
           0,
           2,
           2
          ],
          "coloraxis": "coloraxis",
          "symbol": "circle"
         },
         "mode": "markers+text",
         "name": "",
         "scene": "scene",
         "showlegend": false,
         "text": [
          "Abbeville",
          "Ajaccio",
          "Alencon",
          "Bale-Mulhouse",
          "Bastia",
          "Belle Ile-Le Talut",
          "Bordeaux-Merignac",
          "Bourges",
          "Brest-Guipavas",
          "Caen-Carpiquet",
          "Cap Cepet",
          "Clermont-Fd",
          "Dijon-Longvic",
          "Embrun",
          "Gourdon",
          "Le Puy-Loudes",
          "Lille-Lesquin",
          "Limoges-Bellegarde",
          "Lyon-St Exupery",
          "Marignane",
          "Millau",
          "Mont-De-Marsan",
          "Montelimar",
          "Montpellier",
          "Nancy-Ochey",
          "Nantes-Bouguenais",
          "Nice",
          "Orly",
          "Perpignan",
          "Ploumanac'h",
          "Poitiers-Biard",
          "Pte De Chassiron",
          "Pte De La Hague",
          "Reims-Prunay",
          "Rennes-St Jacques",
          "Rouen-Boos",
          "St Girons",
          "Strasbourg-Entzheim",
          "Tarbes-Ossun",
          "Toulouse-Blagnac",
          "Tours",
          "Troyes-Barberey"
         ],
         "type": "scatter3d",
         "x": [
          -5.14309256167417,
          -22.953398861889802,
          7.794758888775,
          26.88906157484471,
          -19.68419081654382,
          -36.06057052302424,
          -10.377601320958265,
          7.449943040726455,
          -9.274756450427315,
          -8.190902640846755,
          -37.73903867593232,
          21.7420293426601,
          15.822850713035479,
          61.641886049777284,
          18.62978751192327,
          67.18963942445562,
          -4.422677637121476,
          22.712130520695993,
          11.297448302682607,
          -29.842004240453548,
          33.80803911097033,
          0.502743856907717,
          -10.188184743409504,
          -26.55554186659886,
          25.46680203928831,
          -8.382168278377154,
          -28.06249487918248,
          -0.8958546231919584,
          -31.403036139933178,
          -23.688911139950775,
          0.24842610266383325,
          -33.72379437382923,
          -43.53627158201303,
          9.547396818056548,
          -5.738870041751399,
          3.820067283844248,
          29.488955517227097,
          15.41988475443206,
          19.53602659808261,
          -8.039651340743925,
          0.2779468442395072,
          4.617188442564435
         ],
         "y": [
          -28.263274988826467,
          21.026096160658795,
          -17.610816839554786,
          -5.185912858471309,
          28.8704328821636,
          -24.5888552706382,
          7.455128027351003,
          -2.695850597439604,
          -31.721574866103385,
          -25.708220066115736,
          22.760643256284126,
          14.494253670526275,
          -3.8486071199114447,
          40.63938614577327,
          7.822442502925556,
          -4.782277519779729,
          -19.071685580057213,
          -2.730257381014827,
          15.112116056257074,
          38.66542314423643,
          1.7888915495845108,
          3.0688324629046724,
          26.178938519624445,
          33.9042931196281,
          -13.040717043722388,
          -10.95604343241991,
          34.53054087009991,
          -3.3391220683194045,
          39.96754583479328,
          -29.486177096145404,
          -7.963098727513635,
          -16.37028293873054,
          -37.17545181256585,
          -15.167294617951267,
          -12.874851915926683,
          -24.5561084941206,
          5.872951837520562,
          -1.782054622712935,
          1.2615067613588815,
          15.026742879902528,
          -6.677681312424929,
          -12.849948511126776
         ],
         "z": [
          1.1131594530420692,
          -13.316345978060163,
          -9.316876917338213,
          -13.213790909389381,
          -18.56846192578459,
          23.387122320136278,
          -14.831685148171154,
          -9.426354426397527,
          0.7052603639406279,
          -0.04005799892802564,
          31.303189507784033,
          -1.4695185232943953,
          -6.505926431937729,
          38.257655992622155,
          -16.814565081245224,
          23.343808930334653,
          -3.5406394163041606,
          6.308211405337363,
          -4.251986239403415,
          8.25809562535615,
          42.730486962547616,
          -29.148660649708532,
          -5.414858868005054,
          -0.14853527536143973,
          2.9703327300550995,
          -13.875226879411116,
          0.2422910456648062,
          -6.798850187394569,
          9.18278540842739,
          14.11351403239836,
          -7.859418367382647,
          12.091614046507118,
          36.15036442048095,
          -16.813473074287717,
          -12.189212648167015,
          0.1946284990543301,
          -8.796542456062614,
          -15.944372886962856,
          -4.47948484532392,
          -1.704382133468696,
          -8.032485168996875,
          -7.850808306901994
         ]
        }
       ],
       "layout": {
        "coloraxis": {
         "colorbar": {
          "title": {
           "text": "Km3"
          }
         },
         "colorscale": [
          [
           0,
           "#0d0887"
          ],
          [
           0.1111111111111111,
           "#46039f"
          ],
          [
           0.2222222222222222,
           "#7201a8"
          ],
          [
           0.3333333333333333,
           "#9c179e"
          ],
          [
           0.4444444444444444,
           "#bd3786"
          ],
          [
           0.5555555555555556,
           "#d8576b"
          ],
          [
           0.6666666666666666,
           "#ed7953"
          ],
          [
           0.7777777777777778,
           "#fb9f3a"
          ],
          [
           0.8888888888888888,
           "#fdca26"
          ],
          [
           1,
           "#f0f921"
          ]
         ]
        },
        "height": 1024,
        "legend": {
         "tracegroupgap": 0
        },
        "margin": {
         "t": 60
        },
        "scene": {
         "domain": {
          "x": [
           0,
           1
          ],
          "y": [
           0,
           1
          ]
         },
         "xaxis": {
          "title": {
           "text": "Dim1"
          }
         },
         "yaxis": {
          "title": {
           "text": "Dim2"
          }
         },
         "zaxis": {
          "title": {
           "text": "Dim3"
          }
         }
        },
        "template": {
         "data": {
          "bar": [
           {
            "error_x": {
             "color": "#2a3f5f"
            },
            "error_y": {
             "color": "#2a3f5f"
            },
            "marker": {
             "line": {
              "color": "#E5ECF6",
              "width": 0.5
             }
            },
            "type": "bar"
           }
          ],
          "barpolar": [
           {
            "marker": {
             "line": {
              "color": "#E5ECF6",
              "width": 0.5
             }
            },
            "type": "barpolar"
           }
          ],
          "carpet": [
           {
            "aaxis": {
             "endlinecolor": "#2a3f5f",
             "gridcolor": "white",
             "linecolor": "white",
             "minorgridcolor": "white",
             "startlinecolor": "#2a3f5f"
            },
            "baxis": {
             "endlinecolor": "#2a3f5f",
             "gridcolor": "white",
             "linecolor": "white",
             "minorgridcolor": "white",
             "startlinecolor": "#2a3f5f"
            },
            "type": "carpet"
           }
          ],
          "choropleth": [
           {
            "colorbar": {
             "outlinewidth": 0,
             "ticks": ""
            },
            "type": "choropleth"
           }
          ],
          "contour": [
           {
            "colorbar": {
             "outlinewidth": 0,
             "ticks": ""
            },
            "colorscale": [
             [
              0,
              "#0d0887"
             ],
             [
              0.1111111111111111,
              "#46039f"
             ],
             [
              0.2222222222222222,
              "#7201a8"
             ],
             [
              0.3333333333333333,
              "#9c179e"
             ],
             [
              0.4444444444444444,
              "#bd3786"
             ],
             [
              0.5555555555555556,
              "#d8576b"
             ],
             [
              0.6666666666666666,
              "#ed7953"
             ],
             [
              0.7777777777777778,
              "#fb9f3a"
             ],
             [
              0.8888888888888888,
              "#fdca26"
             ],
             [
              1,
              "#f0f921"
             ]
            ],
            "type": "contour"
           }
          ],
          "contourcarpet": [
           {
            "colorbar": {
             "outlinewidth": 0,
             "ticks": ""
            },
            "type": "contourcarpet"
           }
          ],
          "heatmap": [
           {
            "colorbar": {
             "outlinewidth": 0,
             "ticks": ""
            },
            "colorscale": [
             [
              0,
              "#0d0887"
             ],
             [
              0.1111111111111111,
              "#46039f"
             ],
             [
              0.2222222222222222,
              "#7201a8"
             ],
             [
              0.3333333333333333,
              "#9c179e"
             ],
             [
              0.4444444444444444,
              "#bd3786"
             ],
             [
              0.5555555555555556,
              "#d8576b"
             ],
             [
              0.6666666666666666,
              "#ed7953"
             ],
             [
              0.7777777777777778,
              "#fb9f3a"
             ],
             [
              0.8888888888888888,
              "#fdca26"
             ],
             [
              1,
              "#f0f921"
             ]
            ],
            "type": "heatmap"
           }
          ],
          "heatmapgl": [
           {
            "colorbar": {
             "outlinewidth": 0,
             "ticks": ""
            },
            "colorscale": [
             [
              0,
              "#0d0887"
             ],
             [
              0.1111111111111111,
              "#46039f"
             ],
             [
              0.2222222222222222,
              "#7201a8"
             ],
             [
              0.3333333333333333,
              "#9c179e"
             ],
             [
              0.4444444444444444,
              "#bd3786"
             ],
             [
              0.5555555555555556,
              "#d8576b"
             ],
             [
              0.6666666666666666,
              "#ed7953"
             ],
             [
              0.7777777777777778,
              "#fb9f3a"
             ],
             [
              0.8888888888888888,
              "#fdca26"
             ],
             [
              1,
              "#f0f921"
             ]
            ],
            "type": "heatmapgl"
           }
          ],
          "histogram": [
           {
            "marker": {
             "colorbar": {
              "outlinewidth": 0,
              "ticks": ""
             }
            },
            "type": "histogram"
           }
          ],
          "histogram2d": [
           {
            "colorbar": {
             "outlinewidth": 0,
             "ticks": ""
            },
            "colorscale": [
             [
              0,
              "#0d0887"
             ],
             [
              0.1111111111111111,
              "#46039f"
             ],
             [
              0.2222222222222222,
              "#7201a8"
             ],
             [
              0.3333333333333333,
              "#9c179e"
             ],
             [
              0.4444444444444444,
              "#bd3786"
             ],
             [
              0.5555555555555556,
              "#d8576b"
             ],
             [
              0.6666666666666666,
              "#ed7953"
             ],
             [
              0.7777777777777778,
              "#fb9f3a"
             ],
             [
              0.8888888888888888,
              "#fdca26"
             ],
             [
              1,
              "#f0f921"
             ]
            ],
            "type": "histogram2d"
           }
          ],
          "histogram2dcontour": [
           {
            "colorbar": {
             "outlinewidth": 0,
             "ticks": ""
            },
            "colorscale": [
             [
              0,
              "#0d0887"
             ],
             [
              0.1111111111111111,
              "#46039f"
             ],
             [
              0.2222222222222222,
              "#7201a8"
             ],
             [
              0.3333333333333333,
              "#9c179e"
             ],
             [
              0.4444444444444444,
              "#bd3786"
             ],
             [
              0.5555555555555556,
              "#d8576b"
             ],
             [
              0.6666666666666666,
              "#ed7953"
             ],
             [
              0.7777777777777778,
              "#fb9f3a"
             ],
             [
              0.8888888888888888,
              "#fdca26"
             ],
             [
              1,
              "#f0f921"
             ]
            ],
            "type": "histogram2dcontour"
           }
          ],
          "mesh3d": [
           {
            "colorbar": {
             "outlinewidth": 0,
             "ticks": ""
            },
            "type": "mesh3d"
           }
          ],
          "parcoords": [
           {
            "line": {
             "colorbar": {
              "outlinewidth": 0,
              "ticks": ""
             }
            },
            "type": "parcoords"
           }
          ],
          "pie": [
           {
            "automargin": true,
            "type": "pie"
           }
          ],
          "scatter": [
           {
            "marker": {
             "colorbar": {
              "outlinewidth": 0,
              "ticks": ""
             }
            },
            "type": "scatter"
           }
          ],
          "scatter3d": [
           {
            "line": {
             "colorbar": {
              "outlinewidth": 0,
              "ticks": ""
             }
            },
            "marker": {
             "colorbar": {
              "outlinewidth": 0,
              "ticks": ""
             }
            },
            "type": "scatter3d"
           }
          ],
          "scattercarpet": [
           {
            "marker": {
             "colorbar": {
              "outlinewidth": 0,
              "ticks": ""
             }
            },
            "type": "scattercarpet"
           }
          ],
          "scattergeo": [
           {
            "marker": {
             "colorbar": {
              "outlinewidth": 0,
              "ticks": ""
             }
            },
            "type": "scattergeo"
           }
          ],
          "scattergl": [
           {
            "marker": {
             "colorbar": {
              "outlinewidth": 0,
              "ticks": ""
             }
            },
            "type": "scattergl"
           }
          ],
          "scattermapbox": [
           {
            "marker": {
             "colorbar": {
              "outlinewidth": 0,
              "ticks": ""
             }
            },
            "type": "scattermapbox"
           }
          ],
          "scatterpolar": [
           {
            "marker": {
             "colorbar": {
              "outlinewidth": 0,
              "ticks": ""
             }
            },
            "type": "scatterpolar"
           }
          ],
          "scatterpolargl": [
           {
            "marker": {
             "colorbar": {
              "outlinewidth": 0,
              "ticks": ""
             }
            },
            "type": "scatterpolargl"
           }
          ],
          "scatterternary": [
           {
            "marker": {
             "colorbar": {
              "outlinewidth": 0,
              "ticks": ""
             }
            },
            "type": "scatterternary"
           }
          ],
          "surface": [
           {
            "colorbar": {
             "outlinewidth": 0,
             "ticks": ""
            },
            "colorscale": [
             [
              0,
              "#0d0887"
             ],
             [
              0.1111111111111111,
              "#46039f"
             ],
             [
              0.2222222222222222,
              "#7201a8"
             ],
             [
              0.3333333333333333,
              "#9c179e"
             ],
             [
              0.4444444444444444,
              "#bd3786"
             ],
             [
              0.5555555555555556,
              "#d8576b"
             ],
             [
              0.6666666666666666,
              "#ed7953"
             ],
             [
              0.7777777777777778,
              "#fb9f3a"
             ],
             [
              0.8888888888888888,
              "#fdca26"
             ],
             [
              1,
              "#f0f921"
             ]
            ],
            "type": "surface"
           }
          ],
          "table": [
           {
            "cells": {
             "fill": {
              "color": "#EBF0F8"
             },
             "line": {
              "color": "white"
             }
            },
            "header": {
             "fill": {
              "color": "#C8D4E3"
             },
             "line": {
              "color": "white"
             }
            },
            "type": "table"
           }
          ]
         },
         "layout": {
          "annotationdefaults": {
           "arrowcolor": "#2a3f5f",
           "arrowhead": 0,
           "arrowwidth": 1
          },
          "autotypenumbers": "strict",
          "coloraxis": {
           "colorbar": {
            "outlinewidth": 0,
            "ticks": ""
           }
          },
          "colorscale": {
           "diverging": [
            [
             0,
             "#8e0152"
            ],
            [
             0.1,
             "#c51b7d"
            ],
            [
             0.2,
             "#de77ae"
            ],
            [
             0.3,
             "#f1b6da"
            ],
            [
             0.4,
             "#fde0ef"
            ],
            [
             0.5,
             "#f7f7f7"
            ],
            [
             0.6,
             "#e6f5d0"
            ],
            [
             0.7,
             "#b8e186"
            ],
            [
             0.8,
             "#7fbc41"
            ],
            [
             0.9,
             "#4d9221"
            ],
            [
             1,
             "#276419"
            ]
           ],
           "sequential": [
            [
             0,
             "#0d0887"
            ],
            [
             0.1111111111111111,
             "#46039f"
            ],
            [
             0.2222222222222222,
             "#7201a8"
            ],
            [
             0.3333333333333333,
             "#9c179e"
            ],
            [
             0.4444444444444444,
             "#bd3786"
            ],
            [
             0.5555555555555556,
             "#d8576b"
            ],
            [
             0.6666666666666666,
             "#ed7953"
            ],
            [
             0.7777777777777778,
             "#fb9f3a"
            ],
            [
             0.8888888888888888,
             "#fdca26"
            ],
            [
             1,
             "#f0f921"
            ]
           ],
           "sequentialminus": [
            [
             0,
             "#0d0887"
            ],
            [
             0.1111111111111111,
             "#46039f"
            ],
            [
             0.2222222222222222,
             "#7201a8"
            ],
            [
             0.3333333333333333,
             "#9c179e"
            ],
            [
             0.4444444444444444,
             "#bd3786"
            ],
            [
             0.5555555555555556,
             "#d8576b"
            ],
            [
             0.6666666666666666,
             "#ed7953"
            ],
            [
             0.7777777777777778,
             "#fb9f3a"
            ],
            [
             0.8888888888888888,
             "#fdca26"
            ],
            [
             1,
             "#f0f921"
            ]
           ]
          },
          "colorway": [
           "#636efa",
           "#EF553B",
           "#00cc96",
           "#ab63fa",
           "#FFA15A",
           "#19d3f3",
           "#FF6692",
           "#B6E880",
           "#FF97FF",
           "#FECB52"
          ],
          "font": {
           "color": "#2a3f5f"
          },
          "geo": {
           "bgcolor": "white",
           "lakecolor": "white",
           "landcolor": "#E5ECF6",
           "showlakes": true,
           "showland": true,
           "subunitcolor": "white"
          },
          "hoverlabel": {
           "align": "left"
          },
          "hovermode": "closest",
          "mapbox": {
           "style": "light"
          },
          "paper_bgcolor": "white",
          "plot_bgcolor": "#E5ECF6",
          "polar": {
           "angularaxis": {
            "gridcolor": "white",
            "linecolor": "white",
            "ticks": ""
           },
           "bgcolor": "#E5ECF6",
           "radialaxis": {
            "gridcolor": "white",
            "linecolor": "white",
            "ticks": ""
           }
          },
          "scene": {
           "xaxis": {
            "backgroundcolor": "#E5ECF6",
            "gridcolor": "white",
            "gridwidth": 2,
            "linecolor": "white",
            "showbackground": true,
            "ticks": "",
            "zerolinecolor": "white"
           },
           "yaxis": {
            "backgroundcolor": "#E5ECF6",
            "gridcolor": "white",
            "gridwidth": 2,
            "linecolor": "white",
            "showbackground": true,
            "ticks": "",
            "zerolinecolor": "white"
           },
           "zaxis": {
            "backgroundcolor": "#E5ECF6",
            "gridcolor": "white",
            "gridwidth": 2,
            "linecolor": "white",
            "showbackground": true,
            "ticks": "",
            "zerolinecolor": "white"
           }
          },
          "shapedefaults": {
           "line": {
            "color": "#2a3f5f"
           }
          },
          "ternary": {
           "aaxis": {
            "gridcolor": "white",
            "linecolor": "white",
            "ticks": ""
           },
           "baxis": {
            "gridcolor": "white",
            "linecolor": "white",
            "ticks": ""
           },
           "bgcolor": "#E5ECF6",
           "caxis": {
            "gridcolor": "white",
            "linecolor": "white",
            "ticks": ""
           }
          },
          "title": {
           "x": 0.05
          },
          "xaxis": {
           "automargin": true,
           "gridcolor": "white",
           "linecolor": "white",
           "ticks": "",
           "title": {
            "standoff": 15
           },
           "zerolinecolor": "white",
           "zerolinewidth": 2
          },
          "yaxis": {
           "automargin": true,
           "gridcolor": "white",
           "linecolor": "white",
           "ticks": "",
           "title": {
            "standoff": 15
           },
           "zerolinecolor": "white",
           "zerolinewidth": 2
          }
         }
        },
        "width": 900
       }
      },
      "text/html": [
       "<div>                            <div id=\"62bf6654-d568-487c-913b-6c5815048048\" class=\"plotly-graph-div\" style=\"height:1024px; width:900px;\"></div>            <script type=\"text/javascript\">                require([\"plotly\"], function(Plotly) {                    window.PLOTLYENV=window.PLOTLYENV || {};                                    if (document.getElementById(\"62bf6654-d568-487c-913b-6c5815048048\")) {                    Plotly.newPlot(                        \"62bf6654-d568-487c-913b-6c5815048048\",                        [{\"hovertemplate\": \"Dim1=%{x}<br>Dim2=%{y}<br>Dim3=%{z}<br>Ville=%{text}<br>Km3=%{marker.color}<extra></extra>\", \"legendgroup\": \"\", \"marker\": {\"color\": [2, 0, 2, 1, 0, 2, 2, 2, 2, 2, 0, 1, 1, 1, 1, 1, 2, 1, 1, 0, 1, 2, 0, 0, 1, 2, 0, 2, 0, 2, 2, 2, 2, 2, 2, 2, 1, 1, 1, 0, 2, 2], \"coloraxis\": \"coloraxis\", \"symbol\": \"circle\"}, \"mode\": \"markers+text\", \"name\": \"\", \"scene\": \"scene\", \"showlegend\": false, \"text\": [\"Abbeville\", \"Ajaccio\", \"Alencon\", \"Bale-Mulhouse\", \"Bastia\", \"Belle Ile-Le Talut\", \"Bordeaux-Merignac\", \"Bourges\", \"Brest-Guipavas\", \"Caen-Carpiquet\", \"Cap Cepet\", \"Clermont-Fd\", \"Dijon-Longvic\", \"Embrun\", \"Gourdon\", \"Le Puy-Loudes\", \"Lille-Lesquin\", \"Limoges-Bellegarde\", \"Lyon-St Exupery\", \"Marignane\", \"Millau\", \"Mont-De-Marsan\", \"Montelimar\", \"Montpellier\", \"Nancy-Ochey\", \"Nantes-Bouguenais\", \"Nice\", \"Orly\", \"Perpignan\", \"Ploumanac'h\", \"Poitiers-Biard\", \"Pte De Chassiron\", \"Pte De La Hague\", \"Reims-Prunay\", \"Rennes-St Jacques\", \"Rouen-Boos\", \"St Girons\", \"Strasbourg-Entzheim\", \"Tarbes-Ossun\", \"Toulouse-Blagnac\", \"Tours\", \"Troyes-Barberey\"], \"type\": \"scatter3d\", \"x\": [-5.14309256167417, -22.953398861889802, 7.794758888775, 26.88906157484471, -19.68419081654382, -36.06057052302424, -10.377601320958265, 7.449943040726455, -9.274756450427315, -8.190902640846755, -37.73903867593232, 21.7420293426601, 15.822850713035479, 61.641886049777284, 18.62978751192327, 67.18963942445562, -4.422677637121476, 22.712130520695993, 11.297448302682607, -29.842004240453548, 33.80803911097033, 0.502743856907717, -10.188184743409504, -26.55554186659886, 25.46680203928831, -8.382168278377154, -28.06249487918248, -0.8958546231919584, -31.403036139933178, -23.688911139950775, 0.24842610266383325, -33.72379437382923, -43.53627158201303, 9.547396818056548, -5.738870041751399, 3.820067283844248, 29.488955517227097, 15.41988475443206, 19.53602659808261, -8.039651340743925, 0.2779468442395072, 4.617188442564435], \"y\": [-28.263274988826467, 21.026096160658795, -17.610816839554786, -5.185912858471309, 28.8704328821636, -24.5888552706382, 7.455128027351003, -2.695850597439604, -31.721574866103385, -25.708220066115736, 22.760643256284126, 14.494253670526275, -3.8486071199114447, 40.63938614577327, 7.822442502925556, -4.782277519779729, -19.071685580057213, -2.730257381014827, 15.112116056257074, 38.66542314423643, 1.7888915495845108, 3.0688324629046724, 26.178938519624445, 33.9042931196281, -13.040717043722388, -10.95604343241991, 34.53054087009991, -3.3391220683194045, 39.96754583479328, -29.486177096145404, -7.963098727513635, -16.37028293873054, -37.17545181256585, -15.167294617951267, -12.874851915926683, -24.5561084941206, 5.872951837520562, -1.782054622712935, 1.2615067613588815, 15.026742879902528, -6.677681312424929, -12.849948511126776], \"z\": [1.1131594530420692, -13.316345978060163, -9.316876917338213, -13.213790909389381, -18.56846192578459, 23.387122320136278, -14.831685148171154, -9.426354426397527, 0.7052603639406279, -0.04005799892802564, 31.303189507784033, -1.4695185232943953, -6.505926431937729, 38.257655992622155, -16.814565081245224, 23.343808930334653, -3.5406394163041606, 6.308211405337363, -4.251986239403415, 8.25809562535615, 42.730486962547616, -29.148660649708532, -5.414858868005054, -0.14853527536143973, 2.9703327300550995, -13.875226879411116, 0.2422910456648062, -6.798850187394569, 9.18278540842739, 14.11351403239836, -7.859418367382647, 12.091614046507118, 36.15036442048095, -16.813473074287717, -12.189212648167015, 0.1946284990543301, -8.796542456062614, -15.944372886962856, -4.47948484532392, -1.704382133468696, -8.032485168996875, -7.850808306901994]}],                        {\"coloraxis\": {\"colorbar\": {\"title\": {\"text\": \"Km3\"}}, \"colorscale\": [[0.0, \"#0d0887\"], [0.1111111111111111, \"#46039f\"], [0.2222222222222222, \"#7201a8\"], [0.3333333333333333, \"#9c179e\"], [0.4444444444444444, \"#bd3786\"], [0.5555555555555556, \"#d8576b\"], [0.6666666666666666, \"#ed7953\"], [0.7777777777777778, \"#fb9f3a\"], [0.8888888888888888, \"#fdca26\"], [1.0, \"#f0f921\"]]}, \"height\": 1024, \"legend\": {\"tracegroupgap\": 0}, \"margin\": {\"t\": 60}, \"scene\": {\"domain\": {\"x\": [0.0, 1.0], \"y\": [0.0, 1.0]}, \"xaxis\": {\"title\": {\"text\": \"Dim1\"}}, \"yaxis\": {\"title\": {\"text\": \"Dim2\"}}, \"zaxis\": {\"title\": {\"text\": \"Dim3\"}}}, \"template\": {\"data\": {\"bar\": [{\"error_x\": {\"color\": \"#2a3f5f\"}, \"error_y\": {\"color\": \"#2a3f5f\"}, \"marker\": {\"line\": {\"color\": \"#E5ECF6\", \"width\": 0.5}}, \"type\": \"bar\"}], \"barpolar\": [{\"marker\": {\"line\": {\"color\": \"#E5ECF6\", \"width\": 0.5}}, \"type\": \"barpolar\"}], \"carpet\": [{\"aaxis\": {\"endlinecolor\": \"#2a3f5f\", \"gridcolor\": \"white\", \"linecolor\": \"white\", \"minorgridcolor\": \"white\", \"startlinecolor\": \"#2a3f5f\"}, \"baxis\": {\"endlinecolor\": \"#2a3f5f\", \"gridcolor\": \"white\", \"linecolor\": \"white\", \"minorgridcolor\": \"white\", \"startlinecolor\": \"#2a3f5f\"}, \"type\": \"carpet\"}], \"choropleth\": [{\"colorbar\": {\"outlinewidth\": 0, \"ticks\": \"\"}, \"type\": \"choropleth\"}], \"contour\": [{\"colorbar\": {\"outlinewidth\": 0, \"ticks\": \"\"}, \"colorscale\": [[0.0, \"#0d0887\"], [0.1111111111111111, \"#46039f\"], [0.2222222222222222, \"#7201a8\"], [0.3333333333333333, \"#9c179e\"], [0.4444444444444444, \"#bd3786\"], [0.5555555555555556, \"#d8576b\"], [0.6666666666666666, \"#ed7953\"], [0.7777777777777778, \"#fb9f3a\"], [0.8888888888888888, \"#fdca26\"], [1.0, \"#f0f921\"]], \"type\": \"contour\"}], \"contourcarpet\": [{\"colorbar\": {\"outlinewidth\": 0, \"ticks\": \"\"}, \"type\": \"contourcarpet\"}], \"heatmap\": [{\"colorbar\": {\"outlinewidth\": 0, \"ticks\": \"\"}, \"colorscale\": [[0.0, \"#0d0887\"], [0.1111111111111111, \"#46039f\"], [0.2222222222222222, \"#7201a8\"], [0.3333333333333333, \"#9c179e\"], [0.4444444444444444, \"#bd3786\"], [0.5555555555555556, \"#d8576b\"], [0.6666666666666666, \"#ed7953\"], [0.7777777777777778, \"#fb9f3a\"], [0.8888888888888888, \"#fdca26\"], [1.0, \"#f0f921\"]], \"type\": \"heatmap\"}], \"heatmapgl\": [{\"colorbar\": {\"outlinewidth\": 0, \"ticks\": \"\"}, \"colorscale\": [[0.0, \"#0d0887\"], [0.1111111111111111, \"#46039f\"], [0.2222222222222222, \"#7201a8\"], [0.3333333333333333, \"#9c179e\"], [0.4444444444444444, \"#bd3786\"], [0.5555555555555556, \"#d8576b\"], [0.6666666666666666, \"#ed7953\"], [0.7777777777777778, \"#fb9f3a\"], [0.8888888888888888, \"#fdca26\"], [1.0, \"#f0f921\"]], \"type\": \"heatmapgl\"}], \"histogram\": [{\"marker\": {\"colorbar\": {\"outlinewidth\": 0, \"ticks\": \"\"}}, \"type\": \"histogram\"}], \"histogram2d\": [{\"colorbar\": {\"outlinewidth\": 0, \"ticks\": \"\"}, \"colorscale\": [[0.0, \"#0d0887\"], [0.1111111111111111, \"#46039f\"], [0.2222222222222222, \"#7201a8\"], [0.3333333333333333, \"#9c179e\"], [0.4444444444444444, \"#bd3786\"], [0.5555555555555556, \"#d8576b\"], [0.6666666666666666, \"#ed7953\"], [0.7777777777777778, \"#fb9f3a\"], [0.8888888888888888, \"#fdca26\"], [1.0, \"#f0f921\"]], \"type\": \"histogram2d\"}], \"histogram2dcontour\": [{\"colorbar\": {\"outlinewidth\": 0, \"ticks\": \"\"}, \"colorscale\": [[0.0, \"#0d0887\"], [0.1111111111111111, \"#46039f\"], [0.2222222222222222, \"#7201a8\"], [0.3333333333333333, \"#9c179e\"], [0.4444444444444444, \"#bd3786\"], [0.5555555555555556, \"#d8576b\"], [0.6666666666666666, \"#ed7953\"], [0.7777777777777778, \"#fb9f3a\"], [0.8888888888888888, \"#fdca26\"], [1.0, \"#f0f921\"]], \"type\": \"histogram2dcontour\"}], \"mesh3d\": [{\"colorbar\": {\"outlinewidth\": 0, \"ticks\": \"\"}, \"type\": \"mesh3d\"}], \"parcoords\": [{\"line\": {\"colorbar\": {\"outlinewidth\": 0, \"ticks\": \"\"}}, \"type\": \"parcoords\"}], \"pie\": [{\"automargin\": true, \"type\": \"pie\"}], \"scatter\": [{\"marker\": {\"colorbar\": {\"outlinewidth\": 0, \"ticks\": \"\"}}, \"type\": \"scatter\"}], \"scatter3d\": [{\"line\": {\"colorbar\": {\"outlinewidth\": 0, \"ticks\": \"\"}}, \"marker\": {\"colorbar\": {\"outlinewidth\": 0, \"ticks\": \"\"}}, \"type\": \"scatter3d\"}], \"scattercarpet\": [{\"marker\": {\"colorbar\": {\"outlinewidth\": 0, \"ticks\": \"\"}}, \"type\": \"scattercarpet\"}], \"scattergeo\": [{\"marker\": {\"colorbar\": {\"outlinewidth\": 0, \"ticks\": \"\"}}, \"type\": \"scattergeo\"}], \"scattergl\": [{\"marker\": {\"colorbar\": {\"outlinewidth\": 0, \"ticks\": \"\"}}, \"type\": \"scattergl\"}], \"scattermapbox\": [{\"marker\": {\"colorbar\": {\"outlinewidth\": 0, \"ticks\": \"\"}}, \"type\": \"scattermapbox\"}], \"scatterpolar\": [{\"marker\": {\"colorbar\": {\"outlinewidth\": 0, \"ticks\": \"\"}}, \"type\": \"scatterpolar\"}], \"scatterpolargl\": [{\"marker\": {\"colorbar\": {\"outlinewidth\": 0, \"ticks\": \"\"}}, \"type\": \"scatterpolargl\"}], \"scatterternary\": [{\"marker\": {\"colorbar\": {\"outlinewidth\": 0, \"ticks\": \"\"}}, \"type\": \"scatterternary\"}], \"surface\": [{\"colorbar\": {\"outlinewidth\": 0, \"ticks\": \"\"}, \"colorscale\": [[0.0, \"#0d0887\"], [0.1111111111111111, \"#46039f\"], [0.2222222222222222, \"#7201a8\"], [0.3333333333333333, \"#9c179e\"], [0.4444444444444444, \"#bd3786\"], [0.5555555555555556, \"#d8576b\"], [0.6666666666666666, \"#ed7953\"], [0.7777777777777778, \"#fb9f3a\"], [0.8888888888888888, \"#fdca26\"], [1.0, \"#f0f921\"]], \"type\": \"surface\"}], \"table\": [{\"cells\": {\"fill\": {\"color\": \"#EBF0F8\"}, \"line\": {\"color\": \"white\"}}, \"header\": {\"fill\": {\"color\": \"#C8D4E3\"}, \"line\": {\"color\": \"white\"}}, \"type\": \"table\"}]}, \"layout\": {\"annotationdefaults\": {\"arrowcolor\": \"#2a3f5f\", \"arrowhead\": 0, \"arrowwidth\": 1}, \"autotypenumbers\": \"strict\", \"coloraxis\": {\"colorbar\": {\"outlinewidth\": 0, \"ticks\": \"\"}}, \"colorscale\": {\"diverging\": [[0, \"#8e0152\"], [0.1, \"#c51b7d\"], [0.2, \"#de77ae\"], [0.3, \"#f1b6da\"], [0.4, \"#fde0ef\"], [0.5, \"#f7f7f7\"], [0.6, \"#e6f5d0\"], [0.7, \"#b8e186\"], [0.8, \"#7fbc41\"], [0.9, \"#4d9221\"], [1, \"#276419\"]], \"sequential\": [[0.0, \"#0d0887\"], [0.1111111111111111, \"#46039f\"], [0.2222222222222222, \"#7201a8\"], [0.3333333333333333, \"#9c179e\"], [0.4444444444444444, \"#bd3786\"], [0.5555555555555556, \"#d8576b\"], [0.6666666666666666, \"#ed7953\"], [0.7777777777777778, \"#fb9f3a\"], [0.8888888888888888, \"#fdca26\"], [1.0, \"#f0f921\"]], \"sequentialminus\": [[0.0, \"#0d0887\"], [0.1111111111111111, \"#46039f\"], [0.2222222222222222, \"#7201a8\"], [0.3333333333333333, \"#9c179e\"], [0.4444444444444444, \"#bd3786\"], [0.5555555555555556, \"#d8576b\"], [0.6666666666666666, \"#ed7953\"], [0.7777777777777778, \"#fb9f3a\"], [0.8888888888888888, \"#fdca26\"], [1.0, \"#f0f921\"]]}, \"colorway\": [\"#636efa\", \"#EF553B\", \"#00cc96\", \"#ab63fa\", \"#FFA15A\", \"#19d3f3\", \"#FF6692\", \"#B6E880\", \"#FF97FF\", \"#FECB52\"], \"font\": {\"color\": \"#2a3f5f\"}, \"geo\": {\"bgcolor\": \"white\", \"lakecolor\": \"white\", \"landcolor\": \"#E5ECF6\", \"showlakes\": true, \"showland\": true, \"subunitcolor\": \"white\"}, \"hoverlabel\": {\"align\": \"left\"}, \"hovermode\": \"closest\", \"mapbox\": {\"style\": \"light\"}, \"paper_bgcolor\": \"white\", \"plot_bgcolor\": \"#E5ECF6\", \"polar\": {\"angularaxis\": {\"gridcolor\": \"white\", \"linecolor\": \"white\", \"ticks\": \"\"}, \"bgcolor\": \"#E5ECF6\", \"radialaxis\": {\"gridcolor\": \"white\", \"linecolor\": \"white\", \"ticks\": \"\"}}, \"scene\": {\"xaxis\": {\"backgroundcolor\": \"#E5ECF6\", \"gridcolor\": \"white\", \"gridwidth\": 2, \"linecolor\": \"white\", \"showbackground\": true, \"ticks\": \"\", \"zerolinecolor\": \"white\"}, \"yaxis\": {\"backgroundcolor\": \"#E5ECF6\", \"gridcolor\": \"white\", \"gridwidth\": 2, \"linecolor\": \"white\", \"showbackground\": true, \"ticks\": \"\", \"zerolinecolor\": \"white\"}, \"zaxis\": {\"backgroundcolor\": \"#E5ECF6\", \"gridcolor\": \"white\", \"gridwidth\": 2, \"linecolor\": \"white\", \"showbackground\": true, \"ticks\": \"\", \"zerolinecolor\": \"white\"}}, \"shapedefaults\": {\"line\": {\"color\": \"#2a3f5f\"}}, \"ternary\": {\"aaxis\": {\"gridcolor\": \"white\", \"linecolor\": \"white\", \"ticks\": \"\"}, \"baxis\": {\"gridcolor\": \"white\", \"linecolor\": \"white\", \"ticks\": \"\"}, \"bgcolor\": \"#E5ECF6\", \"caxis\": {\"gridcolor\": \"white\", \"linecolor\": \"white\", \"ticks\": \"\"}}, \"title\": {\"x\": 0.05}, \"xaxis\": {\"automargin\": true, \"gridcolor\": \"white\", \"linecolor\": \"white\", \"ticks\": \"\", \"title\": {\"standoff\": 15}, \"zerolinecolor\": \"white\", \"zerolinewidth\": 2}, \"yaxis\": {\"automargin\": true, \"gridcolor\": \"white\", \"linecolor\": \"white\", \"ticks\": \"\", \"title\": {\"standoff\": 15}, \"zerolinecolor\": \"white\", \"zerolinewidth\": 2}}}, \"width\": 900},                        {\"responsive\": true}                    ).then(function(){\n",
       "                            \n",
       "var gd = document.getElementById('62bf6654-d568-487c-913b-6c5815048048');\n",
       "var x = new MutationObserver(function (mutations, observer) {{\n",
       "        var display = window.getComputedStyle(gd).display;\n",
       "        if (!display || display === 'none') {{\n",
       "            console.log([gd, 'removed!']);\n",
       "            Plotly.purge(gd);\n",
       "            observer.disconnect();\n",
       "        }}\n",
       "}});\n",
       "\n",
       "// Listen for the removal of the full notebook cells\n",
       "var notebookContainer = gd.closest('#notebook-container');\n",
       "if (notebookContainer) {{\n",
       "    x.observe(notebookContainer, {childList: true});\n",
       "}}\n",
       "\n",
       "// Listen for the clearing of the current output cell\n",
       "var outputEl = gd.closest('.output');\n",
       "if (outputEl) {{\n",
       "    x.observe(outputEl, {childList: true});\n",
       "}}\n",
       "\n",
       "                        })                };                });            </script>        </div>"
      ]
     },
     "metadata": {},
     "output_type": "display_data"
    }
   ],
   "source": [
    "import plotly.express as px\n",
    "fig = px.scatter_3d(dfPCA, \n",
    "                    x='Dim1', \n",
    "                    y='Dim2', \n",
    "                    z='Dim3',\n",
    "                    color='Km3',\n",
    "                    #size=100+donneesT.CD5*500,\n",
    "                    #symbol='CD23',\n",
    "                    text='Ville', \n",
    "                    width=900,\n",
    "                    height=1024,\n",
    "                   )\n",
    "\n",
    "fig.show()"
   ]
  },
  {
   "cell_type": "code",
   "execution_count": 48,
   "metadata": {
    "ExecuteTime": {
     "end_time": "2021-03-28T14:10:13.297452Z",
     "start_time": "2021-03-28T14:10:13.214666Z"
    }
   },
   "outputs": [
    {
     "data": {
      "application/vnd.plotly.v1+json": {
       "config": {
        "plotlyServerURL": "https://plot.ly"
       },
       "data": [
        {
         "hovertemplate": "Dim1=%{x}<br>Dim2=%{y}<br>Dim3=%{z}<br>Ville=%{text}<br>Km4=%{marker.color}<extra></extra>",
         "legendgroup": "",
         "marker": {
          "color": [
           1,
           0,
           2,
           2,
           0,
           1,
           2,
           2,
           1,
           1,
           0,
           2,
           2,
           3,
           2,
           3,
           2,
           2,
           2,
           0,
           3,
           2,
           0,
           0,
           2,
           2,
           0,
           2,
           0,
           1,
           2,
           1,
           1,
           2,
           2,
           2,
           2,
           2,
           2,
           0,
           2,
           2
          ],
          "coloraxis": "coloraxis",
          "symbol": "circle"
         },
         "mode": "markers+text",
         "name": "",
         "scene": "scene",
         "showlegend": false,
         "text": [
          "Abbeville",
          "Ajaccio",
          "Alencon",
          "Bale-Mulhouse",
          "Bastia",
          "Belle Ile-Le Talut",
          "Bordeaux-Merignac",
          "Bourges",
          "Brest-Guipavas",
          "Caen-Carpiquet",
          "Cap Cepet",
          "Clermont-Fd",
          "Dijon-Longvic",
          "Embrun",
          "Gourdon",
          "Le Puy-Loudes",
          "Lille-Lesquin",
          "Limoges-Bellegarde",
          "Lyon-St Exupery",
          "Marignane",
          "Millau",
          "Mont-De-Marsan",
          "Montelimar",
          "Montpellier",
          "Nancy-Ochey",
          "Nantes-Bouguenais",
          "Nice",
          "Orly",
          "Perpignan",
          "Ploumanac'h",
          "Poitiers-Biard",
          "Pte De Chassiron",
          "Pte De La Hague",
          "Reims-Prunay",
          "Rennes-St Jacques",
          "Rouen-Boos",
          "St Girons",
          "Strasbourg-Entzheim",
          "Tarbes-Ossun",
          "Toulouse-Blagnac",
          "Tours",
          "Troyes-Barberey"
         ],
         "type": "scatter3d",
         "x": [
          -5.14309256167417,
          -22.953398861889802,
          7.794758888775,
          26.88906157484471,
          -19.68419081654382,
          -36.06057052302424,
          -10.377601320958265,
          7.449943040726455,
          -9.274756450427315,
          -8.190902640846755,
          -37.73903867593232,
          21.7420293426601,
          15.822850713035479,
          61.641886049777284,
          18.62978751192327,
          67.18963942445562,
          -4.422677637121476,
          22.712130520695993,
          11.297448302682607,
          -29.842004240453548,
          33.80803911097033,
          0.502743856907717,
          -10.188184743409504,
          -26.55554186659886,
          25.46680203928831,
          -8.382168278377154,
          -28.06249487918248,
          -0.8958546231919584,
          -31.403036139933178,
          -23.688911139950775,
          0.24842610266383325,
          -33.72379437382923,
          -43.53627158201303,
          9.547396818056548,
          -5.738870041751399,
          3.820067283844248,
          29.488955517227097,
          15.41988475443206,
          19.53602659808261,
          -8.039651340743925,
          0.2779468442395072,
          4.617188442564435
         ],
         "y": [
          -28.263274988826467,
          21.026096160658795,
          -17.610816839554786,
          -5.185912858471309,
          28.8704328821636,
          -24.5888552706382,
          7.455128027351003,
          -2.695850597439604,
          -31.721574866103385,
          -25.708220066115736,
          22.760643256284126,
          14.494253670526275,
          -3.8486071199114447,
          40.63938614577327,
          7.822442502925556,
          -4.782277519779729,
          -19.071685580057213,
          -2.730257381014827,
          15.112116056257074,
          38.66542314423643,
          1.7888915495845108,
          3.0688324629046724,
          26.178938519624445,
          33.9042931196281,
          -13.040717043722388,
          -10.95604343241991,
          34.53054087009991,
          -3.3391220683194045,
          39.96754583479328,
          -29.486177096145404,
          -7.963098727513635,
          -16.37028293873054,
          -37.17545181256585,
          -15.167294617951267,
          -12.874851915926683,
          -24.5561084941206,
          5.872951837520562,
          -1.782054622712935,
          1.2615067613588815,
          15.026742879902528,
          -6.677681312424929,
          -12.849948511126776
         ],
         "z": [
          1.1131594530420692,
          -13.316345978060163,
          -9.316876917338213,
          -13.213790909389381,
          -18.56846192578459,
          23.387122320136278,
          -14.831685148171154,
          -9.426354426397527,
          0.7052603639406279,
          -0.04005799892802564,
          31.303189507784033,
          -1.4695185232943953,
          -6.505926431937729,
          38.257655992622155,
          -16.814565081245224,
          23.343808930334653,
          -3.5406394163041606,
          6.308211405337363,
          -4.251986239403415,
          8.25809562535615,
          42.730486962547616,
          -29.148660649708532,
          -5.414858868005054,
          -0.14853527536143973,
          2.9703327300550995,
          -13.875226879411116,
          0.2422910456648062,
          -6.798850187394569,
          9.18278540842739,
          14.11351403239836,
          -7.859418367382647,
          12.091614046507118,
          36.15036442048095,
          -16.813473074287717,
          -12.189212648167015,
          0.1946284990543301,
          -8.796542456062614,
          -15.944372886962856,
          -4.47948484532392,
          -1.704382133468696,
          -8.032485168996875,
          -7.850808306901994
         ]
        }
       ],
       "layout": {
        "coloraxis": {
         "colorbar": {
          "title": {
           "text": "Km4"
          }
         },
         "colorscale": [
          [
           0,
           "#0d0887"
          ],
          [
           0.1111111111111111,
           "#46039f"
          ],
          [
           0.2222222222222222,
           "#7201a8"
          ],
          [
           0.3333333333333333,
           "#9c179e"
          ],
          [
           0.4444444444444444,
           "#bd3786"
          ],
          [
           0.5555555555555556,
           "#d8576b"
          ],
          [
           0.6666666666666666,
           "#ed7953"
          ],
          [
           0.7777777777777778,
           "#fb9f3a"
          ],
          [
           0.8888888888888888,
           "#fdca26"
          ],
          [
           1,
           "#f0f921"
          ]
         ]
        },
        "height": 1024,
        "legend": {
         "tracegroupgap": 0
        },
        "margin": {
         "t": 60
        },
        "scene": {
         "domain": {
          "x": [
           0,
           1
          ],
          "y": [
           0,
           1
          ]
         },
         "xaxis": {
          "title": {
           "text": "Dim1"
          }
         },
         "yaxis": {
          "title": {
           "text": "Dim2"
          }
         },
         "zaxis": {
          "title": {
           "text": "Dim3"
          }
         }
        },
        "template": {
         "data": {
          "bar": [
           {
            "error_x": {
             "color": "#2a3f5f"
            },
            "error_y": {
             "color": "#2a3f5f"
            },
            "marker": {
             "line": {
              "color": "#E5ECF6",
              "width": 0.5
             }
            },
            "type": "bar"
           }
          ],
          "barpolar": [
           {
            "marker": {
             "line": {
              "color": "#E5ECF6",
              "width": 0.5
             }
            },
            "type": "barpolar"
           }
          ],
          "carpet": [
           {
            "aaxis": {
             "endlinecolor": "#2a3f5f",
             "gridcolor": "white",
             "linecolor": "white",
             "minorgridcolor": "white",
             "startlinecolor": "#2a3f5f"
            },
            "baxis": {
             "endlinecolor": "#2a3f5f",
             "gridcolor": "white",
             "linecolor": "white",
             "minorgridcolor": "white",
             "startlinecolor": "#2a3f5f"
            },
            "type": "carpet"
           }
          ],
          "choropleth": [
           {
            "colorbar": {
             "outlinewidth": 0,
             "ticks": ""
            },
            "type": "choropleth"
           }
          ],
          "contour": [
           {
            "colorbar": {
             "outlinewidth": 0,
             "ticks": ""
            },
            "colorscale": [
             [
              0,
              "#0d0887"
             ],
             [
              0.1111111111111111,
              "#46039f"
             ],
             [
              0.2222222222222222,
              "#7201a8"
             ],
             [
              0.3333333333333333,
              "#9c179e"
             ],
             [
              0.4444444444444444,
              "#bd3786"
             ],
             [
              0.5555555555555556,
              "#d8576b"
             ],
             [
              0.6666666666666666,
              "#ed7953"
             ],
             [
              0.7777777777777778,
              "#fb9f3a"
             ],
             [
              0.8888888888888888,
              "#fdca26"
             ],
             [
              1,
              "#f0f921"
             ]
            ],
            "type": "contour"
           }
          ],
          "contourcarpet": [
           {
            "colorbar": {
             "outlinewidth": 0,
             "ticks": ""
            },
            "type": "contourcarpet"
           }
          ],
          "heatmap": [
           {
            "colorbar": {
             "outlinewidth": 0,
             "ticks": ""
            },
            "colorscale": [
             [
              0,
              "#0d0887"
             ],
             [
              0.1111111111111111,
              "#46039f"
             ],
             [
              0.2222222222222222,
              "#7201a8"
             ],
             [
              0.3333333333333333,
              "#9c179e"
             ],
             [
              0.4444444444444444,
              "#bd3786"
             ],
             [
              0.5555555555555556,
              "#d8576b"
             ],
             [
              0.6666666666666666,
              "#ed7953"
             ],
             [
              0.7777777777777778,
              "#fb9f3a"
             ],
             [
              0.8888888888888888,
              "#fdca26"
             ],
             [
              1,
              "#f0f921"
             ]
            ],
            "type": "heatmap"
           }
          ],
          "heatmapgl": [
           {
            "colorbar": {
             "outlinewidth": 0,
             "ticks": ""
            },
            "colorscale": [
             [
              0,
              "#0d0887"
             ],
             [
              0.1111111111111111,
              "#46039f"
             ],
             [
              0.2222222222222222,
              "#7201a8"
             ],
             [
              0.3333333333333333,
              "#9c179e"
             ],
             [
              0.4444444444444444,
              "#bd3786"
             ],
             [
              0.5555555555555556,
              "#d8576b"
             ],
             [
              0.6666666666666666,
              "#ed7953"
             ],
             [
              0.7777777777777778,
              "#fb9f3a"
             ],
             [
              0.8888888888888888,
              "#fdca26"
             ],
             [
              1,
              "#f0f921"
             ]
            ],
            "type": "heatmapgl"
           }
          ],
          "histogram": [
           {
            "marker": {
             "colorbar": {
              "outlinewidth": 0,
              "ticks": ""
             }
            },
            "type": "histogram"
           }
          ],
          "histogram2d": [
           {
            "colorbar": {
             "outlinewidth": 0,
             "ticks": ""
            },
            "colorscale": [
             [
              0,
              "#0d0887"
             ],
             [
              0.1111111111111111,
              "#46039f"
             ],
             [
              0.2222222222222222,
              "#7201a8"
             ],
             [
              0.3333333333333333,
              "#9c179e"
             ],
             [
              0.4444444444444444,
              "#bd3786"
             ],
             [
              0.5555555555555556,
              "#d8576b"
             ],
             [
              0.6666666666666666,
              "#ed7953"
             ],
             [
              0.7777777777777778,
              "#fb9f3a"
             ],
             [
              0.8888888888888888,
              "#fdca26"
             ],
             [
              1,
              "#f0f921"
             ]
            ],
            "type": "histogram2d"
           }
          ],
          "histogram2dcontour": [
           {
            "colorbar": {
             "outlinewidth": 0,
             "ticks": ""
            },
            "colorscale": [
             [
              0,
              "#0d0887"
             ],
             [
              0.1111111111111111,
              "#46039f"
             ],
             [
              0.2222222222222222,
              "#7201a8"
             ],
             [
              0.3333333333333333,
              "#9c179e"
             ],
             [
              0.4444444444444444,
              "#bd3786"
             ],
             [
              0.5555555555555556,
              "#d8576b"
             ],
             [
              0.6666666666666666,
              "#ed7953"
             ],
             [
              0.7777777777777778,
              "#fb9f3a"
             ],
             [
              0.8888888888888888,
              "#fdca26"
             ],
             [
              1,
              "#f0f921"
             ]
            ],
            "type": "histogram2dcontour"
           }
          ],
          "mesh3d": [
           {
            "colorbar": {
             "outlinewidth": 0,
             "ticks": ""
            },
            "type": "mesh3d"
           }
          ],
          "parcoords": [
           {
            "line": {
             "colorbar": {
              "outlinewidth": 0,
              "ticks": ""
             }
            },
            "type": "parcoords"
           }
          ],
          "pie": [
           {
            "automargin": true,
            "type": "pie"
           }
          ],
          "scatter": [
           {
            "marker": {
             "colorbar": {
              "outlinewidth": 0,
              "ticks": ""
             }
            },
            "type": "scatter"
           }
          ],
          "scatter3d": [
           {
            "line": {
             "colorbar": {
              "outlinewidth": 0,
              "ticks": ""
             }
            },
            "marker": {
             "colorbar": {
              "outlinewidth": 0,
              "ticks": ""
             }
            },
            "type": "scatter3d"
           }
          ],
          "scattercarpet": [
           {
            "marker": {
             "colorbar": {
              "outlinewidth": 0,
              "ticks": ""
             }
            },
            "type": "scattercarpet"
           }
          ],
          "scattergeo": [
           {
            "marker": {
             "colorbar": {
              "outlinewidth": 0,
              "ticks": ""
             }
            },
            "type": "scattergeo"
           }
          ],
          "scattergl": [
           {
            "marker": {
             "colorbar": {
              "outlinewidth": 0,
              "ticks": ""
             }
            },
            "type": "scattergl"
           }
          ],
          "scattermapbox": [
           {
            "marker": {
             "colorbar": {
              "outlinewidth": 0,
              "ticks": ""
             }
            },
            "type": "scattermapbox"
           }
          ],
          "scatterpolar": [
           {
            "marker": {
             "colorbar": {
              "outlinewidth": 0,
              "ticks": ""
             }
            },
            "type": "scatterpolar"
           }
          ],
          "scatterpolargl": [
           {
            "marker": {
             "colorbar": {
              "outlinewidth": 0,
              "ticks": ""
             }
            },
            "type": "scatterpolargl"
           }
          ],
          "scatterternary": [
           {
            "marker": {
             "colorbar": {
              "outlinewidth": 0,
              "ticks": ""
             }
            },
            "type": "scatterternary"
           }
          ],
          "surface": [
           {
            "colorbar": {
             "outlinewidth": 0,
             "ticks": ""
            },
            "colorscale": [
             [
              0,
              "#0d0887"
             ],
             [
              0.1111111111111111,
              "#46039f"
             ],
             [
              0.2222222222222222,
              "#7201a8"
             ],
             [
              0.3333333333333333,
              "#9c179e"
             ],
             [
              0.4444444444444444,
              "#bd3786"
             ],
             [
              0.5555555555555556,
              "#d8576b"
             ],
             [
              0.6666666666666666,
              "#ed7953"
             ],
             [
              0.7777777777777778,
              "#fb9f3a"
             ],
             [
              0.8888888888888888,
              "#fdca26"
             ],
             [
              1,
              "#f0f921"
             ]
            ],
            "type": "surface"
           }
          ],
          "table": [
           {
            "cells": {
             "fill": {
              "color": "#EBF0F8"
             },
             "line": {
              "color": "white"
             }
            },
            "header": {
             "fill": {
              "color": "#C8D4E3"
             },
             "line": {
              "color": "white"
             }
            },
            "type": "table"
           }
          ]
         },
         "layout": {
          "annotationdefaults": {
           "arrowcolor": "#2a3f5f",
           "arrowhead": 0,
           "arrowwidth": 1
          },
          "autotypenumbers": "strict",
          "coloraxis": {
           "colorbar": {
            "outlinewidth": 0,
            "ticks": ""
           }
          },
          "colorscale": {
           "diverging": [
            [
             0,
             "#8e0152"
            ],
            [
             0.1,
             "#c51b7d"
            ],
            [
             0.2,
             "#de77ae"
            ],
            [
             0.3,
             "#f1b6da"
            ],
            [
             0.4,
             "#fde0ef"
            ],
            [
             0.5,
             "#f7f7f7"
            ],
            [
             0.6,
             "#e6f5d0"
            ],
            [
             0.7,
             "#b8e186"
            ],
            [
             0.8,
             "#7fbc41"
            ],
            [
             0.9,
             "#4d9221"
            ],
            [
             1,
             "#276419"
            ]
           ],
           "sequential": [
            [
             0,
             "#0d0887"
            ],
            [
             0.1111111111111111,
             "#46039f"
            ],
            [
             0.2222222222222222,
             "#7201a8"
            ],
            [
             0.3333333333333333,
             "#9c179e"
            ],
            [
             0.4444444444444444,
             "#bd3786"
            ],
            [
             0.5555555555555556,
             "#d8576b"
            ],
            [
             0.6666666666666666,
             "#ed7953"
            ],
            [
             0.7777777777777778,
             "#fb9f3a"
            ],
            [
             0.8888888888888888,
             "#fdca26"
            ],
            [
             1,
             "#f0f921"
            ]
           ],
           "sequentialminus": [
            [
             0,
             "#0d0887"
            ],
            [
             0.1111111111111111,
             "#46039f"
            ],
            [
             0.2222222222222222,
             "#7201a8"
            ],
            [
             0.3333333333333333,
             "#9c179e"
            ],
            [
             0.4444444444444444,
             "#bd3786"
            ],
            [
             0.5555555555555556,
             "#d8576b"
            ],
            [
             0.6666666666666666,
             "#ed7953"
            ],
            [
             0.7777777777777778,
             "#fb9f3a"
            ],
            [
             0.8888888888888888,
             "#fdca26"
            ],
            [
             1,
             "#f0f921"
            ]
           ]
          },
          "colorway": [
           "#636efa",
           "#EF553B",
           "#00cc96",
           "#ab63fa",
           "#FFA15A",
           "#19d3f3",
           "#FF6692",
           "#B6E880",
           "#FF97FF",
           "#FECB52"
          ],
          "font": {
           "color": "#2a3f5f"
          },
          "geo": {
           "bgcolor": "white",
           "lakecolor": "white",
           "landcolor": "#E5ECF6",
           "showlakes": true,
           "showland": true,
           "subunitcolor": "white"
          },
          "hoverlabel": {
           "align": "left"
          },
          "hovermode": "closest",
          "mapbox": {
           "style": "light"
          },
          "paper_bgcolor": "white",
          "plot_bgcolor": "#E5ECF6",
          "polar": {
           "angularaxis": {
            "gridcolor": "white",
            "linecolor": "white",
            "ticks": ""
           },
           "bgcolor": "#E5ECF6",
           "radialaxis": {
            "gridcolor": "white",
            "linecolor": "white",
            "ticks": ""
           }
          },
          "scene": {
           "xaxis": {
            "backgroundcolor": "#E5ECF6",
            "gridcolor": "white",
            "gridwidth": 2,
            "linecolor": "white",
            "showbackground": true,
            "ticks": "",
            "zerolinecolor": "white"
           },
           "yaxis": {
            "backgroundcolor": "#E5ECF6",
            "gridcolor": "white",
            "gridwidth": 2,
            "linecolor": "white",
            "showbackground": true,
            "ticks": "",
            "zerolinecolor": "white"
           },
           "zaxis": {
            "backgroundcolor": "#E5ECF6",
            "gridcolor": "white",
            "gridwidth": 2,
            "linecolor": "white",
            "showbackground": true,
            "ticks": "",
            "zerolinecolor": "white"
           }
          },
          "shapedefaults": {
           "line": {
            "color": "#2a3f5f"
           }
          },
          "ternary": {
           "aaxis": {
            "gridcolor": "white",
            "linecolor": "white",
            "ticks": ""
           },
           "baxis": {
            "gridcolor": "white",
            "linecolor": "white",
            "ticks": ""
           },
           "bgcolor": "#E5ECF6",
           "caxis": {
            "gridcolor": "white",
            "linecolor": "white",
            "ticks": ""
           }
          },
          "title": {
           "x": 0.05
          },
          "xaxis": {
           "automargin": true,
           "gridcolor": "white",
           "linecolor": "white",
           "ticks": "",
           "title": {
            "standoff": 15
           },
           "zerolinecolor": "white",
           "zerolinewidth": 2
          },
          "yaxis": {
           "automargin": true,
           "gridcolor": "white",
           "linecolor": "white",
           "ticks": "",
           "title": {
            "standoff": 15
           },
           "zerolinecolor": "white",
           "zerolinewidth": 2
          }
         }
        },
        "width": 900
       }
      },
      "text/html": [
       "<div>                            <div id=\"ed65a2c2-1d51-4eb2-b59d-125f3be8d0ae\" class=\"plotly-graph-div\" style=\"height:1024px; width:900px;\"></div>            <script type=\"text/javascript\">                require([\"plotly\"], function(Plotly) {                    window.PLOTLYENV=window.PLOTLYENV || {};                                    if (document.getElementById(\"ed65a2c2-1d51-4eb2-b59d-125f3be8d0ae\")) {                    Plotly.newPlot(                        \"ed65a2c2-1d51-4eb2-b59d-125f3be8d0ae\",                        [{\"hovertemplate\": \"Dim1=%{x}<br>Dim2=%{y}<br>Dim3=%{z}<br>Ville=%{text}<br>Km4=%{marker.color}<extra></extra>\", \"legendgroup\": \"\", \"marker\": {\"color\": [1, 0, 2, 2, 0, 1, 2, 2, 1, 1, 0, 2, 2, 3, 2, 3, 2, 2, 2, 0, 3, 2, 0, 0, 2, 2, 0, 2, 0, 1, 2, 1, 1, 2, 2, 2, 2, 2, 2, 0, 2, 2], \"coloraxis\": \"coloraxis\", \"symbol\": \"circle\"}, \"mode\": \"markers+text\", \"name\": \"\", \"scene\": \"scene\", \"showlegend\": false, \"text\": [\"Abbeville\", \"Ajaccio\", \"Alencon\", \"Bale-Mulhouse\", \"Bastia\", \"Belle Ile-Le Talut\", \"Bordeaux-Merignac\", \"Bourges\", \"Brest-Guipavas\", \"Caen-Carpiquet\", \"Cap Cepet\", \"Clermont-Fd\", \"Dijon-Longvic\", \"Embrun\", \"Gourdon\", \"Le Puy-Loudes\", \"Lille-Lesquin\", \"Limoges-Bellegarde\", \"Lyon-St Exupery\", \"Marignane\", \"Millau\", \"Mont-De-Marsan\", \"Montelimar\", \"Montpellier\", \"Nancy-Ochey\", \"Nantes-Bouguenais\", \"Nice\", \"Orly\", \"Perpignan\", \"Ploumanac'h\", \"Poitiers-Biard\", \"Pte De Chassiron\", \"Pte De La Hague\", \"Reims-Prunay\", \"Rennes-St Jacques\", \"Rouen-Boos\", \"St Girons\", \"Strasbourg-Entzheim\", \"Tarbes-Ossun\", \"Toulouse-Blagnac\", \"Tours\", \"Troyes-Barberey\"], \"type\": \"scatter3d\", \"x\": [-5.14309256167417, -22.953398861889802, 7.794758888775, 26.88906157484471, -19.68419081654382, -36.06057052302424, -10.377601320958265, 7.449943040726455, -9.274756450427315, -8.190902640846755, -37.73903867593232, 21.7420293426601, 15.822850713035479, 61.641886049777284, 18.62978751192327, 67.18963942445562, -4.422677637121476, 22.712130520695993, 11.297448302682607, -29.842004240453548, 33.80803911097033, 0.502743856907717, -10.188184743409504, -26.55554186659886, 25.46680203928831, -8.382168278377154, -28.06249487918248, -0.8958546231919584, -31.403036139933178, -23.688911139950775, 0.24842610266383325, -33.72379437382923, -43.53627158201303, 9.547396818056548, -5.738870041751399, 3.820067283844248, 29.488955517227097, 15.41988475443206, 19.53602659808261, -8.039651340743925, 0.2779468442395072, 4.617188442564435], \"y\": [-28.263274988826467, 21.026096160658795, -17.610816839554786, -5.185912858471309, 28.8704328821636, -24.5888552706382, 7.455128027351003, -2.695850597439604, -31.721574866103385, -25.708220066115736, 22.760643256284126, 14.494253670526275, -3.8486071199114447, 40.63938614577327, 7.822442502925556, -4.782277519779729, -19.071685580057213, -2.730257381014827, 15.112116056257074, 38.66542314423643, 1.7888915495845108, 3.0688324629046724, 26.178938519624445, 33.9042931196281, -13.040717043722388, -10.95604343241991, 34.53054087009991, -3.3391220683194045, 39.96754583479328, -29.486177096145404, -7.963098727513635, -16.37028293873054, -37.17545181256585, -15.167294617951267, -12.874851915926683, -24.5561084941206, 5.872951837520562, -1.782054622712935, 1.2615067613588815, 15.026742879902528, -6.677681312424929, -12.849948511126776], \"z\": [1.1131594530420692, -13.316345978060163, -9.316876917338213, -13.213790909389381, -18.56846192578459, 23.387122320136278, -14.831685148171154, -9.426354426397527, 0.7052603639406279, -0.04005799892802564, 31.303189507784033, -1.4695185232943953, -6.505926431937729, 38.257655992622155, -16.814565081245224, 23.343808930334653, -3.5406394163041606, 6.308211405337363, -4.251986239403415, 8.25809562535615, 42.730486962547616, -29.148660649708532, -5.414858868005054, -0.14853527536143973, 2.9703327300550995, -13.875226879411116, 0.2422910456648062, -6.798850187394569, 9.18278540842739, 14.11351403239836, -7.859418367382647, 12.091614046507118, 36.15036442048095, -16.813473074287717, -12.189212648167015, 0.1946284990543301, -8.796542456062614, -15.944372886962856, -4.47948484532392, -1.704382133468696, -8.032485168996875, -7.850808306901994]}],                        {\"coloraxis\": {\"colorbar\": {\"title\": {\"text\": \"Km4\"}}, \"colorscale\": [[0.0, \"#0d0887\"], [0.1111111111111111, \"#46039f\"], [0.2222222222222222, \"#7201a8\"], [0.3333333333333333, \"#9c179e\"], [0.4444444444444444, \"#bd3786\"], [0.5555555555555556, \"#d8576b\"], [0.6666666666666666, \"#ed7953\"], [0.7777777777777778, \"#fb9f3a\"], [0.8888888888888888, \"#fdca26\"], [1.0, \"#f0f921\"]]}, \"height\": 1024, \"legend\": {\"tracegroupgap\": 0}, \"margin\": {\"t\": 60}, \"scene\": {\"domain\": {\"x\": [0.0, 1.0], \"y\": [0.0, 1.0]}, \"xaxis\": {\"title\": {\"text\": \"Dim1\"}}, \"yaxis\": {\"title\": {\"text\": \"Dim2\"}}, \"zaxis\": {\"title\": {\"text\": \"Dim3\"}}}, \"template\": {\"data\": {\"bar\": [{\"error_x\": {\"color\": \"#2a3f5f\"}, \"error_y\": {\"color\": \"#2a3f5f\"}, \"marker\": {\"line\": {\"color\": \"#E5ECF6\", \"width\": 0.5}}, \"type\": \"bar\"}], \"barpolar\": [{\"marker\": {\"line\": {\"color\": \"#E5ECF6\", \"width\": 0.5}}, \"type\": \"barpolar\"}], \"carpet\": [{\"aaxis\": {\"endlinecolor\": \"#2a3f5f\", \"gridcolor\": \"white\", \"linecolor\": \"white\", \"minorgridcolor\": \"white\", \"startlinecolor\": \"#2a3f5f\"}, \"baxis\": {\"endlinecolor\": \"#2a3f5f\", \"gridcolor\": \"white\", \"linecolor\": \"white\", \"minorgridcolor\": \"white\", \"startlinecolor\": \"#2a3f5f\"}, \"type\": \"carpet\"}], \"choropleth\": [{\"colorbar\": {\"outlinewidth\": 0, \"ticks\": \"\"}, \"type\": \"choropleth\"}], \"contour\": [{\"colorbar\": {\"outlinewidth\": 0, \"ticks\": \"\"}, \"colorscale\": [[0.0, \"#0d0887\"], [0.1111111111111111, \"#46039f\"], [0.2222222222222222, \"#7201a8\"], [0.3333333333333333, \"#9c179e\"], [0.4444444444444444, \"#bd3786\"], [0.5555555555555556, \"#d8576b\"], [0.6666666666666666, \"#ed7953\"], [0.7777777777777778, \"#fb9f3a\"], [0.8888888888888888, \"#fdca26\"], [1.0, \"#f0f921\"]], \"type\": \"contour\"}], \"contourcarpet\": [{\"colorbar\": {\"outlinewidth\": 0, \"ticks\": \"\"}, \"type\": \"contourcarpet\"}], \"heatmap\": [{\"colorbar\": {\"outlinewidth\": 0, \"ticks\": \"\"}, \"colorscale\": [[0.0, \"#0d0887\"], [0.1111111111111111, \"#46039f\"], [0.2222222222222222, \"#7201a8\"], [0.3333333333333333, \"#9c179e\"], [0.4444444444444444, \"#bd3786\"], [0.5555555555555556, \"#d8576b\"], [0.6666666666666666, \"#ed7953\"], [0.7777777777777778, \"#fb9f3a\"], [0.8888888888888888, \"#fdca26\"], [1.0, \"#f0f921\"]], \"type\": \"heatmap\"}], \"heatmapgl\": [{\"colorbar\": {\"outlinewidth\": 0, \"ticks\": \"\"}, \"colorscale\": [[0.0, \"#0d0887\"], [0.1111111111111111, \"#46039f\"], [0.2222222222222222, \"#7201a8\"], [0.3333333333333333, \"#9c179e\"], [0.4444444444444444, \"#bd3786\"], [0.5555555555555556, \"#d8576b\"], [0.6666666666666666, \"#ed7953\"], [0.7777777777777778, \"#fb9f3a\"], [0.8888888888888888, \"#fdca26\"], [1.0, \"#f0f921\"]], \"type\": \"heatmapgl\"}], \"histogram\": [{\"marker\": {\"colorbar\": {\"outlinewidth\": 0, \"ticks\": \"\"}}, \"type\": \"histogram\"}], \"histogram2d\": [{\"colorbar\": {\"outlinewidth\": 0, \"ticks\": \"\"}, \"colorscale\": [[0.0, \"#0d0887\"], [0.1111111111111111, \"#46039f\"], [0.2222222222222222, \"#7201a8\"], [0.3333333333333333, \"#9c179e\"], [0.4444444444444444, \"#bd3786\"], [0.5555555555555556, \"#d8576b\"], [0.6666666666666666, \"#ed7953\"], [0.7777777777777778, \"#fb9f3a\"], [0.8888888888888888, \"#fdca26\"], [1.0, \"#f0f921\"]], \"type\": \"histogram2d\"}], \"histogram2dcontour\": [{\"colorbar\": {\"outlinewidth\": 0, \"ticks\": \"\"}, \"colorscale\": [[0.0, \"#0d0887\"], [0.1111111111111111, \"#46039f\"], [0.2222222222222222, \"#7201a8\"], [0.3333333333333333, \"#9c179e\"], [0.4444444444444444, \"#bd3786\"], [0.5555555555555556, \"#d8576b\"], [0.6666666666666666, \"#ed7953\"], [0.7777777777777778, \"#fb9f3a\"], [0.8888888888888888, \"#fdca26\"], [1.0, \"#f0f921\"]], \"type\": \"histogram2dcontour\"}], \"mesh3d\": [{\"colorbar\": {\"outlinewidth\": 0, \"ticks\": \"\"}, \"type\": \"mesh3d\"}], \"parcoords\": [{\"line\": {\"colorbar\": {\"outlinewidth\": 0, \"ticks\": \"\"}}, \"type\": \"parcoords\"}], \"pie\": [{\"automargin\": true, \"type\": \"pie\"}], \"scatter\": [{\"marker\": {\"colorbar\": {\"outlinewidth\": 0, \"ticks\": \"\"}}, \"type\": \"scatter\"}], \"scatter3d\": [{\"line\": {\"colorbar\": {\"outlinewidth\": 0, \"ticks\": \"\"}}, \"marker\": {\"colorbar\": {\"outlinewidth\": 0, \"ticks\": \"\"}}, \"type\": \"scatter3d\"}], \"scattercarpet\": [{\"marker\": {\"colorbar\": {\"outlinewidth\": 0, \"ticks\": \"\"}}, \"type\": \"scattercarpet\"}], \"scattergeo\": [{\"marker\": {\"colorbar\": {\"outlinewidth\": 0, \"ticks\": \"\"}}, \"type\": \"scattergeo\"}], \"scattergl\": [{\"marker\": {\"colorbar\": {\"outlinewidth\": 0, \"ticks\": \"\"}}, \"type\": \"scattergl\"}], \"scattermapbox\": [{\"marker\": {\"colorbar\": {\"outlinewidth\": 0, \"ticks\": \"\"}}, \"type\": \"scattermapbox\"}], \"scatterpolar\": [{\"marker\": {\"colorbar\": {\"outlinewidth\": 0, \"ticks\": \"\"}}, \"type\": \"scatterpolar\"}], \"scatterpolargl\": [{\"marker\": {\"colorbar\": {\"outlinewidth\": 0, \"ticks\": \"\"}}, \"type\": \"scatterpolargl\"}], \"scatterternary\": [{\"marker\": {\"colorbar\": {\"outlinewidth\": 0, \"ticks\": \"\"}}, \"type\": \"scatterternary\"}], \"surface\": [{\"colorbar\": {\"outlinewidth\": 0, \"ticks\": \"\"}, \"colorscale\": [[0.0, \"#0d0887\"], [0.1111111111111111, \"#46039f\"], [0.2222222222222222, \"#7201a8\"], [0.3333333333333333, \"#9c179e\"], [0.4444444444444444, \"#bd3786\"], [0.5555555555555556, \"#d8576b\"], [0.6666666666666666, \"#ed7953\"], [0.7777777777777778, \"#fb9f3a\"], [0.8888888888888888, \"#fdca26\"], [1.0, \"#f0f921\"]], \"type\": \"surface\"}], \"table\": [{\"cells\": {\"fill\": {\"color\": \"#EBF0F8\"}, \"line\": {\"color\": \"white\"}}, \"header\": {\"fill\": {\"color\": \"#C8D4E3\"}, \"line\": {\"color\": \"white\"}}, \"type\": \"table\"}]}, \"layout\": {\"annotationdefaults\": {\"arrowcolor\": \"#2a3f5f\", \"arrowhead\": 0, \"arrowwidth\": 1}, \"autotypenumbers\": \"strict\", \"coloraxis\": {\"colorbar\": {\"outlinewidth\": 0, \"ticks\": \"\"}}, \"colorscale\": {\"diverging\": [[0, \"#8e0152\"], [0.1, \"#c51b7d\"], [0.2, \"#de77ae\"], [0.3, \"#f1b6da\"], [0.4, \"#fde0ef\"], [0.5, \"#f7f7f7\"], [0.6, \"#e6f5d0\"], [0.7, \"#b8e186\"], [0.8, \"#7fbc41\"], [0.9, \"#4d9221\"], [1, \"#276419\"]], \"sequential\": [[0.0, \"#0d0887\"], [0.1111111111111111, \"#46039f\"], [0.2222222222222222, \"#7201a8\"], [0.3333333333333333, \"#9c179e\"], [0.4444444444444444, \"#bd3786\"], [0.5555555555555556, \"#d8576b\"], [0.6666666666666666, \"#ed7953\"], [0.7777777777777778, \"#fb9f3a\"], [0.8888888888888888, \"#fdca26\"], [1.0, \"#f0f921\"]], \"sequentialminus\": [[0.0, \"#0d0887\"], [0.1111111111111111, \"#46039f\"], [0.2222222222222222, \"#7201a8\"], [0.3333333333333333, \"#9c179e\"], [0.4444444444444444, \"#bd3786\"], [0.5555555555555556, \"#d8576b\"], [0.6666666666666666, \"#ed7953\"], [0.7777777777777778, \"#fb9f3a\"], [0.8888888888888888, \"#fdca26\"], [1.0, \"#f0f921\"]]}, \"colorway\": [\"#636efa\", \"#EF553B\", \"#00cc96\", \"#ab63fa\", \"#FFA15A\", \"#19d3f3\", \"#FF6692\", \"#B6E880\", \"#FF97FF\", \"#FECB52\"], \"font\": {\"color\": \"#2a3f5f\"}, \"geo\": {\"bgcolor\": \"white\", \"lakecolor\": \"white\", \"landcolor\": \"#E5ECF6\", \"showlakes\": true, \"showland\": true, \"subunitcolor\": \"white\"}, \"hoverlabel\": {\"align\": \"left\"}, \"hovermode\": \"closest\", \"mapbox\": {\"style\": \"light\"}, \"paper_bgcolor\": \"white\", \"plot_bgcolor\": \"#E5ECF6\", \"polar\": {\"angularaxis\": {\"gridcolor\": \"white\", \"linecolor\": \"white\", \"ticks\": \"\"}, \"bgcolor\": \"#E5ECF6\", \"radialaxis\": {\"gridcolor\": \"white\", \"linecolor\": \"white\", \"ticks\": \"\"}}, \"scene\": {\"xaxis\": {\"backgroundcolor\": \"#E5ECF6\", \"gridcolor\": \"white\", \"gridwidth\": 2, \"linecolor\": \"white\", \"showbackground\": true, \"ticks\": \"\", \"zerolinecolor\": \"white\"}, \"yaxis\": {\"backgroundcolor\": \"#E5ECF6\", \"gridcolor\": \"white\", \"gridwidth\": 2, \"linecolor\": \"white\", \"showbackground\": true, \"ticks\": \"\", \"zerolinecolor\": \"white\"}, \"zaxis\": {\"backgroundcolor\": \"#E5ECF6\", \"gridcolor\": \"white\", \"gridwidth\": 2, \"linecolor\": \"white\", \"showbackground\": true, \"ticks\": \"\", \"zerolinecolor\": \"white\"}}, \"shapedefaults\": {\"line\": {\"color\": \"#2a3f5f\"}}, \"ternary\": {\"aaxis\": {\"gridcolor\": \"white\", \"linecolor\": \"white\", \"ticks\": \"\"}, \"baxis\": {\"gridcolor\": \"white\", \"linecolor\": \"white\", \"ticks\": \"\"}, \"bgcolor\": \"#E5ECF6\", \"caxis\": {\"gridcolor\": \"white\", \"linecolor\": \"white\", \"ticks\": \"\"}}, \"title\": {\"x\": 0.05}, \"xaxis\": {\"automargin\": true, \"gridcolor\": \"white\", \"linecolor\": \"white\", \"ticks\": \"\", \"title\": {\"standoff\": 15}, \"zerolinecolor\": \"white\", \"zerolinewidth\": 2}, \"yaxis\": {\"automargin\": true, \"gridcolor\": \"white\", \"linecolor\": \"white\", \"ticks\": \"\", \"title\": {\"standoff\": 15}, \"zerolinecolor\": \"white\", \"zerolinewidth\": 2}}}, \"width\": 900},                        {\"responsive\": true}                    ).then(function(){\n",
       "                            \n",
       "var gd = document.getElementById('ed65a2c2-1d51-4eb2-b59d-125f3be8d0ae');\n",
       "var x = new MutationObserver(function (mutations, observer) {{\n",
       "        var display = window.getComputedStyle(gd).display;\n",
       "        if (!display || display === 'none') {{\n",
       "            console.log([gd, 'removed!']);\n",
       "            Plotly.purge(gd);\n",
       "            observer.disconnect();\n",
       "        }}\n",
       "}});\n",
       "\n",
       "// Listen for the removal of the full notebook cells\n",
       "var notebookContainer = gd.closest('#notebook-container');\n",
       "if (notebookContainer) {{\n",
       "    x.observe(notebookContainer, {childList: true});\n",
       "}}\n",
       "\n",
       "// Listen for the clearing of the current output cell\n",
       "var outputEl = gd.closest('.output');\n",
       "if (outputEl) {{\n",
       "    x.observe(outputEl, {childList: true});\n",
       "}}\n",
       "\n",
       "                        })                };                });            </script>        </div>"
      ]
     },
     "metadata": {},
     "output_type": "display_data"
    }
   ],
   "source": [
    "import plotly.express as px\n",
    "fig = px.scatter_3d(dfPCA, \n",
    "                    x='Dim1', \n",
    "                    y='Dim2', \n",
    "                    z='Dim3',\n",
    "                    color='Km4',\n",
    "                    #size=100+donneesT.CD5*500,\n",
    "                    #symbol='CD23',\n",
    "                    text='Ville', \n",
    "                    width=900,\n",
    "                    height=1024,\n",
    "                   )\n",
    "\n",
    "fig.show()"
   ]
  }
 ],
 "metadata": {
  "kernelspec": {
   "display_name": "Python 3 (ipykernel)",
   "language": "python",
   "name": "python3"
  },
  "language_info": {
   "codemirror_mode": {
    "name": "ipython",
    "version": 3
   },
   "file_extension": ".py",
   "mimetype": "text/x-python",
   "name": "python",
   "nbconvert_exporter": "python",
   "pygments_lexer": "ipython3",
   "version": "3.9.13"
  },
  "toc": {
   "base_numbering": 1,
   "nav_menu": {},
   "number_sections": true,
   "sideBar": true,
   "skip_h1_title": false,
   "title_cell": "Table of Contents",
   "title_sidebar": "Contents",
   "toc_cell": true,
   "toc_position": {},
   "toc_section_display": true,
   "toc_window_display": false
  }
 },
 "nbformat": 4,
 "nbformat_minor": 2
}

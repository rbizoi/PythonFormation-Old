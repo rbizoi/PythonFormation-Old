{
 "cells": [
  {
   "cell_type": "markdown",
   "metadata": {},
   "source": [
    "# L’utilisation de l’objet comme fonction"
   ]
  },
  {
   "cell_type": "code",
   "execution_count": 1,
   "metadata": {},
   "outputs": [
    {
     "data": {
      "text/plain": [
       "-0.9999999999898844"
      ]
     },
     "execution_count": 1,
     "metadata": {},
     "output_type": "execute_result"
    }
   ],
   "source": [
    "class Derivee(object):\n",
    "    \"\"\"La formule la plus basique pour \n",
    "       une dérivée numérique est\"\"\"\n",
    "    \n",
    "    def __init__(self, f, h=1E-5):\n",
    "        self.f = f\n",
    "        self.h = float(h)\n",
    "        \n",
    "    def __call__(self, x):\n",
    "        f, h = self.f, self.h \n",
    "        return (f(x+h) - f(x))/h\n",
    "\n",
    "from math import sin, cos, pi\n",
    "df = Derivee(sin)\n",
    "x = pi\n",
    "df(x)"
   ]
  },
  {
   "cell_type": "code",
   "execution_count": 2,
   "metadata": {},
   "outputs": [
    {
     "data": {
      "text/plain": [
       "-1.0"
      ]
     },
     "execution_count": 2,
     "metadata": {},
     "output_type": "execute_result"
    }
   ],
   "source": [
    "cos(x)"
   ]
  },
  {
   "cell_type": "code",
   "execution_count": 3,
   "metadata": {},
   "outputs": [
    {
     "data": {
      "text/plain": [
       "3.000030000110953"
      ]
     },
     "execution_count": 3,
     "metadata": {},
     "output_type": "execute_result"
    }
   ],
   "source": [
    "def g(t):\n",
    "    return t**3\n",
    "dg = Derivee(g)\n",
    "t = 1\n",
    "dg(t)"
   ]
  },
  {
   "cell_type": "markdown",
   "metadata": {},
   "source": [
    "# L’accès aux attributs de l’objet"
   ]
  },
  {
   "cell_type": "code",
   "execution_count": 5,
   "metadata": {},
   "outputs": [
    {
     "name": "stdout",
     "output_type": "stream",
     "text": [
      "1 2 3\n",
      "Alerte ! Il n'y a pas d'attribut d ici !\n"
     ]
    }
   ],
   "source": [
    "class Protege :\n",
    "    \"\"\" Classe poss é dant une méthode particulière \n",
    "    d'accès à ses attributs : \n",
    "    Si l'attribut n'est pas trouvé, \n",
    "    on affiche une alerte et renvoie None\"\"\"\n",
    "    a,b,c = 1,2,3\n",
    "    def __getattr__ (self,nom):\n",
    "        \"\"\" Si Python ne trouve pas l' attribut nomm é nom , \n",
    "        il appelle cette méthode . On affiche une alerte \"\"\"\n",
    "        print (\"Alerte ! Il n'y a pas d'attribut {} ici !\"\n",
    "               .format(nom))\n",
    "\n",
    "pro = Protege()\n",
    "print(pro.a,pro.b,pro.c)\n",
    "pro.d"
   ]
  },
  {
   "cell_type": "markdown",
   "metadata": {},
   "source": [
    "# __setattr__"
   ]
  },
  {
   "cell_type": "code",
   "execution_count": 12,
   "metadata": {},
   "outputs": [
    {
     "data": {
      "text/plain": [
       "37"
      ]
     },
     "execution_count": 12,
     "metadata": {},
     "output_type": "execute_result"
    }
   ],
   "source": [
    "class Temperature:\n",
    "    def __init__(self):\n",
    "        self.value = 0\n",
    "\n",
    "    def __getattr__(self, name):\n",
    "        if name == 'celsius':\n",
    "            return self.value\n",
    "        if name == 'fahrenheit':\n",
    "            return self.value * 1.8 + 32\n",
    "        raise AttributeError(name)\n",
    "       \n",
    "\n",
    "    def __setattr__(self, name, value):\n",
    "        if name == 'celsius':\n",
    "            self.value = value\n",
    "        elif name == 'fahrenheit':\n",
    "            self.value = (value - 32) / 1.8\n",
    "        else:\n",
    "            super().__setattr__(name, value)\n",
    "            \n",
    "    def __delattr__ (self , name ):\n",
    "        if name == 'kelvin':\n",
    "            object.__delattr__(self , name)\n",
    "        else:\n",
    "            raise AttributeError (\"\"\" Vous ne pouvez\n",
    "                      supprimer aucun\n",
    "                      attribut de cette classe \"\"\")\n",
    "\n",
    "t = Temperature()\n",
    "t.celsius = 37\n",
    "t.celsius"
   ]
  },
  {
   "cell_type": "code",
   "execution_count": 13,
   "metadata": {},
   "outputs": [
    {
     "name": "stdout",
     "output_type": "stream",
     "text": [
      "t.kelvin 100\n"
     ]
    }
   ],
   "source": [
    "t.kelvin = 100\n",
    "print('t.kelvin',t.kelvin)"
   ]
  },
  {
   "cell_type": "code",
   "execution_count": 15,
   "metadata": {},
   "outputs": [
    {
     "ename": "AttributeError",
     "evalue": " Vous ne pouvez\n                      supprimer aucun\n                      attribut de cette classe ",
     "output_type": "error",
     "traceback": [
      "\u001b[1;31m---------------------------------------------------------------------------\u001b[0m",
      "\u001b[1;31mAttributeError\u001b[0m                            Traceback (most recent call last)",
      "\u001b[1;32m<ipython-input-15-09d1d5b270b7>\u001b[0m in \u001b[0;36m<module>\u001b[1;34m\u001b[0m\n\u001b[1;32m----> 1\u001b[1;33m \u001b[1;32mdel\u001b[0m \u001b[0mt\u001b[0m\u001b[1;33m.\u001b[0m\u001b[0mcelsius\u001b[0m\u001b[1;33m\u001b[0m\u001b[1;33m\u001b[0m\u001b[0m\n\u001b[0m",
      "\u001b[1;32m<ipython-input-12-3f98f7aca986>\u001b[0m in \u001b[0;36m__delattr__\u001b[1;34m(self, name)\u001b[0m\n\u001b[0;32m     24\u001b[0m             raise AttributeError (\"\"\" Vous ne pouvez\n\u001b[0;32m     25\u001b[0m                       \u001b[0msupprimer\u001b[0m \u001b[0maucun\u001b[0m\u001b[1;33m\u001b[0m\u001b[1;33m\u001b[0m\u001b[0m\n\u001b[1;32m---> 26\u001b[1;33m                       attribut de cette classe \"\"\")\n\u001b[0m\u001b[0;32m     27\u001b[0m \u001b[1;33m\u001b[0m\u001b[0m\n\u001b[0;32m     28\u001b[0m \u001b[0mt\u001b[0m \u001b[1;33m=\u001b[0m \u001b[0mTemperature\u001b[0m\u001b[1;33m(\u001b[0m\u001b[1;33m)\u001b[0m\u001b[1;33m\u001b[0m\u001b[1;33m\u001b[0m\u001b[0m\n",
      "\u001b[1;31mAttributeError\u001b[0m:  Vous ne pouvez\n                      supprimer aucun\n                      attribut de cette classe "
     ]
    }
   ],
   "source": [
    "del t.celsius"
   ]
  },
  {
   "cell_type": "code",
   "execution_count": 2,
   "metadata": {},
   "outputs": [
    {
     "name": "stdout",
     "output_type": "stream",
     "text": [
      "t.fahrenheit 98.60000000000001\n",
      "t.celsius 100.0\n",
      "t.kelvin 0\n"
     ]
    }
   ],
   "source": [
    "print('t.fahrenheit',t.fahrenheit)\n",
    "t.fahrenheit = 212\n",
    "print('t.celsius',t.celsius)\n",
    "t.kelvin = 0\n",
    "print('t.kelvin',t.kelvin)"
   ]
  },
  {
   "cell_type": "code",
   "execution_count": 40,
   "metadata": {},
   "outputs": [
    {
     "data": {
      "text/plain": [
       "['__class__',\n",
       " '__delattr__',\n",
       " '__dict__',\n",
       " '__dir__',\n",
       " '__doc__',\n",
       " '__eq__',\n",
       " '__format__',\n",
       " '__ge__',\n",
       " '__getattr__',\n",
       " '__getattribute__',\n",
       " '__gt__',\n",
       " '__hash__',\n",
       " '__init__',\n",
       " '__init_subclass__',\n",
       " '__le__',\n",
       " '__lt__',\n",
       " '__module__',\n",
       " '__ne__',\n",
       " '__new__',\n",
       " '__reduce__',\n",
       " '__reduce_ex__',\n",
       " '__repr__',\n",
       " '__setattr__',\n",
       " '__sizeof__',\n",
       " '__str__',\n",
       " '__subclasshook__',\n",
       " '__weakref__',\n",
       " 'kelvin',\n",
       " 'value']"
      ]
     },
     "execution_count": 40,
     "metadata": {},
     "output_type": "execute_result"
    }
   ],
   "source": [
    "dir(t)"
   ]
  },
  {
   "cell_type": "code",
   "execution_count": 41,
   "metadata": {},
   "outputs": [
    {
     "name": "stderr",
     "output_type": "stream",
     "text": [
      "ERROR:root:An unexpected error occurred while tokenizing input\n",
      "The following traceback may be corrupted or invalid\n",
      "The error message is: ('EOF in multi-line string', (1, 47))\n",
      "\n"
     ]
    },
    {
     "ename": "AttributeError",
     "evalue": " Vous ne pouvez\n                      supprimer aucun\n                      attribut de cette classe ",
     "output_type": "error",
     "traceback": [
      "\u001b[0;31m-------------------------------------------------------------------------\u001b[0m",
      "\u001b[0;31mAttributeError\u001b[0m                          Traceback (most recent call last)",
      "\u001b[0;32m<ipython-input-41-0310c3431256>\u001b[0m in \u001b[0;36m<module>\u001b[0;34m()\u001b[0m\n\u001b[0;32m----> 1\u001b[0;31m \u001b[1;32mdel\u001b[0m \u001b[0mt\u001b[0m\u001b[1;33m.\u001b[0m\u001b[0mvalue\u001b[0m\u001b[1;33m\u001b[0m\u001b[0m\n\u001b[0m",
      "\u001b[0;32m<ipython-input-38-1f0e3a9b1188>\u001b[0m in \u001b[0;36m__delattr__\u001b[0;34m(self, name)\u001b[0m\n\u001b[1;32m     24\u001b[0m             raise AttributeError (\"\"\" Vous ne pouvez\n\u001b[1;32m     25\u001b[0m                       \u001b[0msupprimer\u001b[0m \u001b[0maucun\u001b[0m\u001b[1;33m\u001b[0m\u001b[0m\n\u001b[0;32m---> 26\u001b[0;31m                       attribut de cette classe \"\"\")\n\u001b[0m\u001b[1;32m     27\u001b[0m \u001b[1;33m\u001b[0m\u001b[0m\n\u001b[1;32m     28\u001b[0m \u001b[0mt\u001b[0m \u001b[1;33m=\u001b[0m \u001b[0mTemperature\u001b[0m\u001b[1;33m(\u001b[0m\u001b[1;33m)\u001b[0m\u001b[1;33m\u001b[0m\u001b[0m\n",
      "\u001b[0;31mAttributeError\u001b[0m:  Vous ne pouvez\n                      supprimer aucun\n                      attribut de cette classe "
     ]
    }
   ],
   "source": [
    "del t.value"
   ]
  },
  {
   "cell_type": "code",
   "execution_count": 42,
   "metadata": {
    "collapsed": true,
    "jupyter": {
     "outputs_hidden": true
    }
   },
   "outputs": [],
   "source": [
    "del t.kelvin"
   ]
  },
  {
   "cell_type": "code",
   "execution_count": 43,
   "metadata": {},
   "outputs": [
    {
     "data": {
      "text/plain": [
       "['__class__',\n",
       " '__delattr__',\n",
       " '__dict__',\n",
       " '__dir__',\n",
       " '__doc__',\n",
       " '__eq__',\n",
       " '__format__',\n",
       " '__ge__',\n",
       " '__getattr__',\n",
       " '__getattribute__',\n",
       " '__gt__',\n",
       " '__hash__',\n",
       " '__init__',\n",
       " '__init_subclass__',\n",
       " '__le__',\n",
       " '__lt__',\n",
       " '__module__',\n",
       " '__ne__',\n",
       " '__new__',\n",
       " '__reduce__',\n",
       " '__reduce_ex__',\n",
       " '__repr__',\n",
       " '__setattr__',\n",
       " '__sizeof__',\n",
       " '__str__',\n",
       " '__subclasshook__',\n",
       " '__weakref__',\n",
       " 'value']"
      ]
     },
     "execution_count": 43,
     "metadata": {},
     "output_type": "execute_result"
    }
   ],
   "source": [
    "dir(t)"
   ]
  }
 ],
 "metadata": {
  "kernelspec": {
   "display_name": "Python 3 (ipykernel)",
   "language": "python",
   "name": "python3"
  },
  "language_info": {
   "codemirror_mode": {
    "name": "ipython",
    "version": 3
   },
   "file_extension": ".py",
   "mimetype": "text/x-python",
   "name": "python",
   "nbconvert_exporter": "python",
   "pygments_lexer": "ipython3",
   "version": "3.10.0"
  }
 },
 "nbformat": 4,
 "nbformat_minor": 4
}

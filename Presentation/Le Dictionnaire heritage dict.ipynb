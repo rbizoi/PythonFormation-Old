{
 "cells": [
  {
   "cell_type": "markdown",
   "metadata": {
    "toc": true
   },
   "source": [
    "<h1>Table of Contents<span class=\"tocSkip\"></span></h1>\n",
    "<div class=\"toc\"><ul class=\"toc-item\"></ul></div>"
   ]
  },
  {
   "cell_type": "code",
   "execution_count": 3,
   "metadata": {},
   "outputs": [],
   "source": [
    "import shelve\n",
    "import os\n",
    "import re\n",
    "os.chdir(\"C:\\Solutions\")"
   ]
  },
  {
   "cell_type": "code",
   "execution_count": 14,
   "metadata": {},
   "outputs": [],
   "source": [
    "class Dictionnaire(dict): \n",
    "    def __new__(*args, **kwargs):\n",
    "        new_dict = dict.__new__(*args, **kwargs)\n",
    "        return new_dict\n",
    "\n",
    "    def __str__(self):\n",
    "        s = ''\n",
    "        for nom in self :\n",
    "                s += \"Nom : {0} - âge : {1} ans - taille : {2} m.\\n\".\\\n",
    "                format(nom, self[nom][0], self[nom][1])\n",
    "        return s\n",
    "\n",
    "    def __repr__(self):\n",
    "        s = ''\n",
    "        for nom in self :\n",
    "                s += \"Nom : {0} - âge : {1} ans - taille : {2} m.\\n\".\\\n",
    "                format(nom, self[nom][0], self[nom][1])\n",
    "        return s\n",
    "        \n",
    "        \n",
    "    def affichage(self):\n",
    "        for nom in self :\n",
    "                print(\"Nom : {0} - âge : {1} ans - taille : {2} m.\".\\\n",
    "                format(nom, self[nom][0], self[nom][1]))\n",
    "\n",
    "    def consultation(self):\n",
    "        while 1:\n",
    "            nom = input(\"Entrez le nom (ou <enter> pour terminer) : \")\n",
    "            if nom == \"\":\n",
    "                break\n",
    "            if nom in self:             # le nom est-il répertorié ?\n",
    "                item = self[nom]        # consultation proprement dite\n",
    "                age, taille = item[0], item[1]\n",
    "                print(\"Nom : {0} - âge : {1} ans - taille : {2} m.\".\\\n",
    "                        format(nom, age, taille))\n",
    "            else:\n",
    "                print(\"*** nom inconnu ! ***\")\n",
    "                \n",
    "    def consultationLike(self):\n",
    "        while 1:\n",
    "            nom = input(\"Entrez le nom (ou <enter> pour terminer) : \")\n",
    "            if nom == \"\":\n",
    "                break\n",
    "            nomRegex = re.compile('.*'+nom+'.*')\n",
    "            for nom in self :    \n",
    "                if nomRegex.search(nom): \n",
    "                    item = self[nom]        # consultation proprement dite\n",
    "                    age, taille = item[0], item[1]\n",
    "                    print(\"Nom : {0} - âge : {1} ans - taille : {2} m.\".\\\n",
    "                            format(nom, age, taille))\n",
    "                \n",
    "    def remplissage(self):\n",
    "        while 1:\n",
    "            nom = input(\"Entrez le nom (ou <enter> pour terminer) : \")\n",
    "            if nom == \"\":\n",
    "                break\n",
    "            age = int(input(\"Entrez l'âge (nombre entier !) : \"))\n",
    "            taille = float(input(\"Entrez la taille (en mètres) : \"))\n",
    "            self[nom] = (age, taille)\n",
    "            \n",
    "    def enregistrement(self):\n",
    "        fich = input(\"Entrez le nom du fichier de sauvegarde : \")\n",
    "        ofi = shelve.open(fich)\n",
    "        # écriture d'une ligne-repère pour identifier le type de fichier :\n",
    "        ofi['dictionnaire'] = self\n",
    "        ofi.close()\n",
    "        \n",
    "    def lectureFichier(self):\n",
    "        fich = input(\"Entrez le nom du fichier de sauvegarde : \")\n",
    "        ofi = shelve.open(fich)\n",
    "        # écriture d'une ligne-repère pour identifier le type de fichier :\n",
    "        self.update(ofi['dictionnaire'])\n",
    "        ofi.close()\n",
    "\n",
    "    def sortie(self):        \n",
    "        print(\"*** Job terminé ***\")\n",
    "        return 1 # afin de provoquer la sortie de la boucle\n",
    "        \n",
    "    def autre(self):        \n",
    "        print(\"Veuillez frapper R, A, C, S ou T, svp.\")\n",
    "\n",
    "    def traitement(self):        \n",
    "        fonc ={\"R\":self.lectureFichier,\"A\":self.remplissage,\"C\":self.consultation,\"K\":self.consultationLike,\n",
    "               \"L\":self.affichage,\"S\":self.enregistrement,\"T\":self.sortie}\n",
    "\n",
    "        while 1:\n",
    "            choix = input(\"Choisissez :\\n\" +\\\n",
    "                \"(R)écupérer un dictionnaire préexistant sauvegardé dans un fichier\\n\" +\\\n",
    "                \"(A)jouter des données au dictionnaire courant\\n\" +\\\n",
    "                \"(C)onsulter non le dictionnaire courant\\n\" +\\\n",
    "                \"(K)onsulter like le dictionnaire courant\\n\" +\\\n",
    "                \"(L)ister le dictionnaire courant\\n\" +\\\n",
    "                \"(S)auvegarder le dictionnaire courant dans un fichier\\n\" +\\\n",
    "                \"(T)erminer : \").upper()\n",
    "            # l'instruction ci-dessous appelle une fonction différente pour chaque\n",
    "            # choix, par l'intermédiaire du dictionnaire <fonc> :\n",
    "            if fonc.get(choix, self.autre)():\n",
    "                break\n",
    "            # note : toutes les fonctions appelées ici renvoient <None> par défaut\n",
    "            # sauf la fonction sortie() qui renvoie 1 => sortie de la boucle"
   ]
  },
  {
   "cell_type": "code",
   "execution_count": null,
   "metadata": {},
   "outputs": [
    {
     "name": "stdout",
     "output_type": "stream",
     "text": [
      "Choisissez :\n",
      "(R)écupérer un dictionnaire préexistant sauvegardé dans un fichier\n",
      "(A)jouter des données au dictionnaire courant\n",
      "(C)onsulter non le dictionnaire courant\n",
      "(K)onsulter like le dictionnaire courant\n",
      "(L)ister le dictionnaire courant\n",
      "(S)auvegarder le dictionnaire courant dans un fichier\n",
      "(T)erminer : k\n",
      "Entrez le nom (ou <enter> pour terminer) : Bizoi\n",
      "Nom : Bizoi Razvan - âge : 53 ans - taille : 1.82 m.\n",
      "Nom : Bizoi Isabelle - âge : 50 ans - taille : 1.65 m.\n",
      "Entrez le nom (ou <enter> pour terminer) : oi\n",
      "Nom : Bizoi Razvan - âge : 53 ans - taille : 1.82 m.\n",
      "Nom : Bizoi Isabelle - âge : 50 ans - taille : 1.65 m.\n"
     ]
    }
   ],
   "source": [
    "d = Dictionnaire({'Bizoi Razvan':(53,1.82),\n",
    "'Bizoi Isabelle':(50,1.65),\n",
    "'Duluc Vincent':(50,1.8)})\n",
    "\n",
    "d.traitement()"
   ]
  },
  {
   "cell_type": "code",
   "execution_count": 12,
   "metadata": {},
   "outputs": [],
   "source": [
    "d = Dictionnaire({'Bizoi Razvan':(53,1.82),\n",
    "'Bizoi Isabelle':(50,1.65),\n",
    "'Duluc Vincent':(50,1.8)})\n",
    "\n",
    "\n",
    "dico = {'Bizoi Razvan':(53,1.82),\n",
    "'Bizoi Isabelle':(50,1.65),\n",
    "'Duluc Vincent':(50,1.8)}\n",
    "\n",
    "d1 = Dictionnaire(dico)"
   ]
  },
  {
   "cell_type": "code",
   "execution_count": 9,
   "metadata": {},
   "outputs": [
    {
     "data": {
      "text/plain": [
       "(Nom : Bizoi Razvan - âge : 53 ans - taille : 1.82 m.\n",
       " Nom : Bizoi Isabelle - âge : 50 ans - taille : 1.65 m.\n",
       " Nom : Duluc Vincent - âge : 50 ans - taille : 1.8 m.,\n",
       " {'Bizoi Razvan': (53, 1.82),\n",
       "  'Bizoi Isabelle': (50, 1.65),\n",
       "  'Duluc Vincent': (50, 1.8)})"
      ]
     },
     "execution_count": 9,
     "metadata": {},
     "output_type": "execute_result"
    }
   ],
   "source": [
    "d1,dico"
   ]
  },
  {
   "cell_type": "code",
   "execution_count": 7,
   "metadata": {},
   "outputs": [
    {
     "data": {
      "text/plain": [
       "Nom : Bizoi Razvan - âge : 53 ans - taille : 1.82 m.\n",
       "Nom : Bizoi Isabelle - âge : 50 ans - taille : 1.65 m.\n",
       "Nom : Duluc Vincent - âge : 50 ans - taille : 1.8 m."
      ]
     },
     "execution_count": 7,
     "metadata": {},
     "output_type": "execute_result"
    }
   ],
   "source": [
    "d"
   ]
  }
 ],
 "metadata": {
  "kernelspec": {
   "display_name": "Python 3 (ipykernel)",
   "language": "python",
   "name": "python3"
  },
  "language_info": {
   "codemirror_mode": {
    "name": "ipython",
    "version": 3
   },
   "file_extension": ".py",
   "mimetype": "text/x-python",
   "name": "python",
   "nbconvert_exporter": "python",
   "pygments_lexer": "ipython3",
   "version": "3.10.0"
  },
  "toc": {
   "base_numbering": 1,
   "nav_menu": {},
   "number_sections": true,
   "sideBar": true,
   "skip_h1_title": false,
   "title_cell": "Table of Contents",
   "title_sidebar": "Contents",
   "toc_cell": true,
   "toc_position": {},
   "toc_section_display": true,
   "toc_window_display": true
  }
 },
 "nbformat": 4,
 "nbformat_minor": 4
}

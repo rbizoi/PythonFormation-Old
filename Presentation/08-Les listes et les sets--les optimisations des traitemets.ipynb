{
 "cells": [
  {
   "cell_type": "code",
   "execution_count": 1,
   "metadata": {
    "ExecuteTime": {
     "end_time": "2019-07-08T14:12:27.524020Z",
     "start_time": "2019-07-08T14:12:27.492779Z"
    }
   },
   "outputs": [
    {
     "data": {
      "text/plain": [
       "[1, 2, 3, 4]"
      ]
     },
     "execution_count": 1,
     "metadata": {},
     "output_type": "execute_result"
    }
   ],
   "source": [
    "[1,2,3,4]"
   ]
  },
  {
   "cell_type": "code",
   "execution_count": 2,
   "metadata": {
    "ExecuteTime": {
     "end_time": "2019-07-08T14:12:27.555265Z",
     "start_time": "2019-07-08T14:12:27.524020Z"
    }
   },
   "outputs": [
    {
     "data": {
      "text/plain": [
       "{1, 2, 3, 4}"
      ]
     },
     "execution_count": 2,
     "metadata": {},
     "output_type": "execute_result"
    }
   ],
   "source": [
    "{1,2,3,4}"
   ]
  },
  {
   "cell_type": "code",
   "execution_count": 3,
   "metadata": {
    "ExecuteTime": {
     "end_time": "2019-07-08T14:12:27.570886Z",
     "start_time": "2019-07-08T14:12:27.555265Z"
    }
   },
   "outputs": [],
   "source": [
    "import time as tm"
   ]
  },
  {
   "cell_type": "code",
   "execution_count": 4,
   "metadata": {
    "ExecuteTime": {
     "end_time": "2019-07-08T14:12:28.744298Z",
     "start_time": "2019-07-08T14:12:27.570886Z"
    }
   },
   "outputs": [
    {
     "name": "stdout",
     "output_type": "stream",
     "text": [
      "1.13757361900000031340596251538955\n"
     ]
    }
   ],
   "source": [
    "deb = tm.perf_counter()\n",
    "nlist = [x for x in range(10000000)]\n",
    "print(\"%.32f\"%(tm.perf_counter() - deb))"
   ]
  },
  {
   "cell_type": "code",
   "execution_count": 5,
   "metadata": {
    "ExecuteTime": {
     "end_time": "2019-07-08T14:12:31.462435Z",
     "start_time": "2019-07-08T14:12:28.744298Z"
    }
   },
   "outputs": [
    {
     "name": "stdout",
     "output_type": "stream",
     "text": [
      "2.70236052199999932099672150798142\n"
     ]
    }
   ],
   "source": [
    "deb = tm.perf_counter()\n",
    "nlist=[]\n",
    "for x in range(10000000):\n",
    "    nlist.append(x)\n",
    "print(\"%.32f\"%(tm.perf_counter() - deb))"
   ]
  },
  {
   "cell_type": "code",
   "execution_count": null,
   "metadata": {},
   "outputs": [],
   "source": []
  },
  {
   "cell_type": "code",
   "execution_count": 6,
   "metadata": {
    "ExecuteTime": {
     "end_time": "2019-07-08T14:12:32.634007Z",
     "start_time": "2019-07-08T14:12:31.462435Z"
    }
   },
   "outputs": [
    {
     "name": "stdout",
     "output_type": "stream",
     "text": [
      "1.15199019699999993804340192582458\n"
     ]
    }
   ],
   "source": [
    "deb = tm.perf_counter()\n",
    "nseq = {x for x in range(10000000)}\n",
    "print(\"%.32f\"%(tm.perf_counter() - deb))"
   ]
  },
  {
   "cell_type": "code",
   "execution_count": 7,
   "metadata": {
    "ExecuteTime": {
     "end_time": "2019-07-08T14:12:34.055548Z",
     "start_time": "2019-07-08T14:12:32.634007Z"
    }
   },
   "outputs": [
    {
     "name": "stdout",
     "output_type": "stream",
     "text": [
      "1.40641895699999963653681334108114\n"
     ]
    }
   ],
   "source": [
    "deb = tm.perf_counter()\n",
    "nlist = [x for x in range(10000000)]\n",
    "print(\"%.32f\"%(tm.perf_counter() - deb))"
   ]
  },
  {
   "cell_type": "code",
   "execution_count": 8,
   "metadata": {
    "ExecuteTime": {
     "end_time": "2019-07-08T14:12:34.071197Z",
     "start_time": "2019-07-08T14:12:34.055548Z"
    }
   },
   "outputs": [
    {
     "name": "stdout",
     "output_type": "stream",
     "text": [
      "0.00010940199999964761445880867541\n"
     ]
    }
   ],
   "source": [
    "deb = tm.perf_counter()\n",
    "5000000 in nseq\n",
    "fin = tm.time()\n",
    "print(\"%.32f\"%(tm.perf_counter() - deb))"
   ]
  },
  {
   "cell_type": "code",
   "execution_count": 9,
   "metadata": {
    "ExecuteTime": {
     "end_time": "2019-07-08T14:12:34.086790Z",
     "start_time": "2019-07-08T14:12:34.071197Z"
    }
   },
   "outputs": [
    {
     "name": "stdout",
     "output_type": "stream",
     "text": [
      "0.00011013099999956921237753704190\n"
     ]
    }
   ],
   "source": [
    "deb = tm.perf_counter()\n",
    "0 in nseq\n",
    "fin = tm.time()\n",
    "print(\"%.32f\"%(tm.perf_counter() - deb))"
   ]
  },
  {
   "cell_type": "code",
   "execution_count": 10,
   "metadata": {
    "ExecuteTime": {
     "end_time": "2019-07-08T14:12:34.118035Z",
     "start_time": "2019-07-08T14:12:34.086790Z"
    }
   },
   "outputs": [
    {
     "name": "stdout",
     "output_type": "stream",
     "text": [
      "0.00011158999999949514858599286526\n"
     ]
    }
   ],
   "source": [
    "deb = tm.perf_counter()\n",
    "10000000 in nseq\n",
    "fin = tm.time()\n",
    "print(\"%.32f\"%(tm.perf_counter() - deb))"
   ]
  },
  {
   "cell_type": "code",
   "execution_count": 11,
   "metadata": {
    "ExecuteTime": {
     "end_time": "2019-07-08T14:12:34.345927Z",
     "start_time": "2019-07-08T14:12:34.119555Z"
    }
   },
   "outputs": [
    {
     "name": "stdout",
     "output_type": "stream",
     "text": [
      "0.00012617600000019990602595498785\n"
     ]
    }
   ],
   "source": [
    "deb = tm.perf_counter()\n",
    "0 in nlist\n",
    "print(\"%.32f\"%(tm.perf_counter() - deb))"
   ]
  },
  {
   "cell_type": "code",
   "execution_count": 12,
   "metadata": {
    "ExecuteTime": {
     "end_time": "2019-07-08T14:12:34.485823Z",
     "start_time": "2019-07-08T14:12:34.345927Z"
    }
   },
   "outputs": [
    {
     "name": "stdout",
     "output_type": "stream",
     "text": [
      "0.09464369700000041518705984344706\n"
     ]
    }
   ],
   "source": [
    "deb = tm.perf_counter()\n",
    "5000000 in nlist\n",
    "print(\"%.32f\"%(tm.perf_counter() - deb))"
   ]
  },
  {
   "cell_type": "code",
   "execution_count": 13,
   "metadata": {
    "ExecuteTime": {
     "end_time": "2019-07-08T14:12:34.688899Z",
     "start_time": "2019-07-08T14:12:34.485823Z"
    }
   },
   "outputs": [
    {
     "name": "stdout",
     "output_type": "stream",
     "text": [
      "0.18361090899999865655445319134742\n"
     ]
    }
   ],
   "source": [
    "deb = tm.perf_counter()\n",
    "10000000 in nlist\n",
    "print(\"%.32f\"%(tm.perf_counter() - deb))"
   ]
  }
 ],
 "metadata": {
  "kernelspec": {
   "display_name": "Python 3",
   "language": "python",
   "name": "python3"
  },
  "language_info": {
   "codemirror_mode": {
    "name": "ipython",
    "version": 3
   },
   "file_extension": ".py",
   "mimetype": "text/x-python",
   "name": "python",
   "nbconvert_exporter": "python",
   "pygments_lexer": "ipython3",
   "version": "3.8.3"
  }
 },
 "nbformat": 4,
 "nbformat_minor": 2
}

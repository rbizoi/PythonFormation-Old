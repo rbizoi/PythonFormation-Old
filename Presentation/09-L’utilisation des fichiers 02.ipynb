{
 "cells": [
  {
   "cell_type": "code",
   "execution_count": 1,
   "metadata": {},
   "outputs": [],
   "source": [
    "import os\n",
    "os.chdir(\"./donnees\")"
   ]
  },
  {
   "cell_type": "code",
   "execution_count": 2,
   "metadata": {},
   "outputs": [],
   "source": [
    "with open('infos.txt', mode='w', encoding='utf-8') as mon_fichier :\n",
    "    mon_fichier.write('1. première info\\n')\n",
    "    mon_fichier.write('2. deuxième info\\n')\n",
    "    mon_fichier.write('3. troixième info\\n')\n",
    "    mon_fichier.write('4. 圖形碼常用字次常用字\\n')"
   ]
  },
  {
   "cell_type": "code",
   "execution_count": 3,
   "metadata": {},
   "outputs": [
    {
     "name": "stdout",
     "output_type": "stream",
     "text": [
      "--------------------------------------------------\n",
      "1. premiÃ¨re info\n",
      "\n",
      "2. deuxiÃ¨me info\n",
      "\n",
      "3. troixiÃ¨me info\n",
      "\n",
      "4. åœ–å½¢ç¢¼å¸¸ç”¨å­—æ¬¡å¸¸ç”¨å­—\n",
      "\n"
     ]
    }
   ],
   "source": [
    "print('-'*50)\n",
    "with open('infos.txt', 'r') as mon_fichier :\n",
    "    for line in mon_fichier:\n",
    "        print(line)"
   ]
  },
  {
   "cell_type": "code",
   "execution_count": 4,
   "metadata": {},
   "outputs": [
    {
     "name": "stdout",
     "output_type": "stream",
     "text": [
      "infos.txt cp1252 b'\\r\\n' True\n"
     ]
    }
   ],
   "source": [
    "print(mon_fichier.name,\\\n",
    "  mon_fichier.encoding, \\\n",
    "  mon_fichier.newlines.encode(), \\\n",
    "  mon_fichier.closed)"
   ]
  },
  {
   "cell_type": "code",
   "execution_count": 5,
   "metadata": {},
   "outputs": [
    {
     "name": "stdout",
     "output_type": "stream",
     "text": [
      "--------------------------------------------------\n",
      "1. première info\n",
      "\n",
      "2. deuxième info\n",
      "\n",
      "3. troixième info\n",
      "\n",
      "4. 圖形碼常用字次常用字\n",
      "\n"
     ]
    }
   ],
   "source": [
    "print('-'*50)\n",
    "with open('infos.txt', mode='r', encoding='utf-8') as mon_fichier :\n",
    "    for line in mon_fichier:\n",
    "        print(line)"
   ]
  },
  {
   "cell_type": "code",
   "execution_count": 6,
   "metadata": {},
   "outputs": [
    {
     "name": "stdout",
     "output_type": "stream",
     "text": [
      "infos.txt utf-8 b'\\r\\n' True\n"
     ]
    }
   ],
   "source": [
    "print(mon_fichier.name,\\\n",
    "  mon_fichier.encoding, \\\n",
    "  mon_fichier.newlines.encode(), \\\n",
    "  mon_fichier.closed)"
   ]
  },
  {
   "cell_type": "code",
   "execution_count": null,
   "metadata": {},
   "outputs": [],
   "source": []
  }
 ],
 "metadata": {
  "kernelspec": {
   "display_name": "Python 3 (ipykernel)",
   "language": "python",
   "name": "python3"
  },
  "language_info": {
   "codemirror_mode": {
    "name": "ipython",
    "version": 3
   },
   "file_extension": ".py",
   "mimetype": "text/x-python",
   "name": "python",
   "nbconvert_exporter": "python",
   "pygments_lexer": "ipython3",
   "version": "3.10.0"
  }
 },
 "nbformat": 4,
 "nbformat_minor": 4
}

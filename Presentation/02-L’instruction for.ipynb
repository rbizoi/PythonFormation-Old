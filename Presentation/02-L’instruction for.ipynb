{
 "cells": [
  {
   "cell_type": "code",
   "execution_count": 1,
   "metadata": {
    "ExecuteTime": {
     "end_time": "2019-07-08T09:57:04.341700Z",
     "start_time": "2019-07-08T09:57:04.310485Z"
    }
   },
   "outputs": [
    {
     "name": "stdout",
     "output_type": "stream",
     "text": [
      "C * l * é * o * p * â * t * r * e * "
     ]
    }
   ],
   "source": [
    "nom =\"Cléopâtre\"\n",
    "for car in nom : print(car + ' *', end =' ')"
   ]
  },
  {
   "cell_type": "code",
   "execution_count": 1,
   "metadata": {
    "ExecuteTime": {
     "end_time": "2020-09-27T20:11:47.582600Z",
     "start_time": "2020-09-27T20:11:47.579608Z"
    }
   },
   "outputs": [],
   "source": [
    "#nom[0]= 0"
   ]
  },
  {
   "cell_type": "code",
   "execution_count": 2,
   "metadata": {
    "ExecuteTime": {
     "end_time": "2020-09-27T20:11:59.378719Z",
     "start_time": "2020-09-27T20:11:59.372734Z"
    }
   },
   "outputs": [
    {
     "name": "stdout",
     "output_type": "stream",
     "text": [
      "longueur de la chaîne chien = 5\n",
      "longueur de la chaîne chat = 4\n",
      "longueur de la chaîne crocodile = 9\n",
      "longueur de la chaîne éléphant = 8\n"
     ]
    }
   ],
   "source": [
    "liste = ['chien', 'chat', 'crocodile', 'éléphant']\n",
    "for animal in liste:\n",
    "    print('longueur de la chaîne', animal, '=', len(animal))"
   ]
  },
  {
   "cell_type": "code",
   "execution_count": 3,
   "metadata": {
    "ExecuteTime": {
     "end_time": "2020-09-27T20:12:00.281863Z",
     "start_time": "2020-09-27T20:12:00.277846Z"
    }
   },
   "outputs": [
    {
     "name": "stdout",
     "output_type": "stream",
     "text": [
      "3 - 2 - 1 - 6 - 4 - 9 - 7 - 8 - 5 - "
     ]
    }
   ],
   "source": [
    "liste = [3, 2, 1, 6, 4, 9, 7, 8, 5]\n",
    "for x in liste:\tprint (x, end=' - ')"
   ]
  },
  {
   "cell_type": "code",
   "execution_count": 4,
   "metadata": {
    "ExecuteTime": {
     "end_time": "2020-09-27T20:12:01.050998Z",
     "start_time": "2020-09-27T20:12:01.047009Z"
    }
   },
   "outputs": [
    {
     "name": "stdout",
     "output_type": "stream",
     "text": [
      "1 - 2 - 3 - 4 - 5 - 6 - 7 - 8 - 9 - "
     ]
    }
   ],
   "source": [
    "for x in sorted(liste): print (x, end=' - ') "
   ]
  },
  {
   "cell_type": "code",
   "execution_count": 5,
   "metadata": {
    "ExecuteTime": {
     "end_time": "2020-09-27T20:12:03.122238Z",
     "start_time": "2020-09-27T20:12:03.117251Z"
    }
   },
   "outputs": [
    {
     "name": "stdout",
     "output_type": "stream",
     "text": [
      "0 : 3\n",
      "1 : 2\n",
      "2 : 1\n",
      "3 : 6\n",
      "4 : 4\n",
      "5 : 9\n",
      "6 : 7\n",
      "7 : 8\n",
      "8 : 5\n"
     ]
    }
   ],
   "source": [
    "liste = [3, 2, 1, 6, 4, 9, 7, 8, 5]\n",
    "for x in range(0,len(liste)):print(x,\":\",liste[x])"
   ]
  },
  {
   "cell_type": "code",
   "execution_count": 7,
   "metadata": {
    "ExecuteTime": {
     "end_time": "2019-07-08T09:57:23.929959Z",
     "start_time": "2019-07-08T09:57:23.914366Z"
    }
   },
   "outputs": [
    {
     "name": "stdout",
     "output_type": "stream",
     "text": [
      "0 : 3\n",
      "2 : 1\n",
      "4 : 4\n",
      "6 : 7\n",
      "8 : 5\n"
     ]
    }
   ],
   "source": [
    "for x in range(0,len(liste),2):print(x,\":\",liste[x])"
   ]
  },
  {
   "cell_type": "code",
   "execution_count": 9,
   "metadata": {
    "ExecuteTime": {
     "end_time": "2019-07-08T09:57:42.119187Z",
     "start_time": "2019-07-08T09:57:42.103538Z"
    }
   },
   "outputs": [
    {
     "name": "stdout",
     "output_type": "stream",
     "text": [
      "0\n",
      "3\n",
      "6\n",
      "9\n"
     ]
    }
   ],
   "source": [
    "for x in range(0,11,3):\n",
    "    print(x)"
   ]
  },
  {
   "cell_type": "code",
   "execution_count": 6,
   "metadata": {
    "ExecuteTime": {
     "end_time": "2019-07-08T10:12:37.000704Z",
     "start_time": "2019-07-08T10:12:36.985113Z"
    }
   },
   "outputs": [
    {
     "data": {
      "text/plain": [
       "'áéíóúàèìòùâêîôû56789z1234uvwxypqrstklmnofghijabcde'"
      ]
     },
     "execution_count": 6,
     "metadata": {},
     "output_type": "execute_result"
    }
   ],
   "source": [
    "n,ch =5,\"abcdefghijklmnopqrstuvwxyz123456789âêîôûàèìòùáéíóú\"\n",
    "d, f = 0, n # indices de début et de fin de fragment\n",
    "liste = [] # liste à construire\n",
    "for x in range(0,len(ch),5):\n",
    "    fr = ch[x:x+5] # découpage d'un fragment\n",
    "    liste.append(fr) # ajout du fragment à la liste\n",
    "liste.reverse()\n",
    "chInv = \"\"\n",
    "for el in liste:\n",
    "    chInv += el\n",
    "chInv"
   ]
  },
  {
   "cell_type": "code",
   "execution_count": 7,
   "metadata": {
    "ExecuteTime": {
     "end_time": "2019-07-08T11:29:33.335734Z",
     "start_time": "2019-07-08T11:29:33.320081Z"
    }
   },
   "outputs": [
    {
     "data": {
      "text/plain": [
       "[0, 1, 2, 3, 4]"
      ]
     },
     "execution_count": 7,
     "metadata": {},
     "output_type": "execute_result"
    }
   ],
   "source": [
    "l = [0,1,2,3,4]\n",
    "l"
   ]
  },
  {
   "cell_type": "code",
   "execution_count": 8,
   "metadata": {
    "ExecuteTime": {
     "end_time": "2019-07-08T11:29:42.387608Z",
     "start_time": "2019-07-08T11:29:42.356473Z"
    }
   },
   "outputs": [
    {
     "data": {
      "text/plain": [
       "[0, 1, 2, 3, 4]"
      ]
     },
     "execution_count": 8,
     "metadata": {},
     "output_type": "execute_result"
    }
   ],
   "source": [
    "l1 = l\n",
    "l1"
   ]
  },
  {
   "cell_type": "code",
   "execution_count": 9,
   "metadata": {
    "ExecuteTime": {
     "end_time": "2019-07-08T11:30:07.312378Z",
     "start_time": "2019-07-08T11:30:07.281341Z"
    }
   },
   "outputs": [
    {
     "data": {
      "text/plain": [
       "[10, 1, 2, 3, 4]"
      ]
     },
     "execution_count": 9,
     "metadata": {},
     "output_type": "execute_result"
    }
   ],
   "source": [
    "l1[0]=10\n",
    "l"
   ]
  },
  {
   "cell_type": "code",
   "execution_count": 10,
   "metadata": {
    "ExecuteTime": {
     "end_time": "2019-07-08T11:32:48.647315Z",
     "start_time": "2019-07-08T11:32:48.631693Z"
    }
   },
   "outputs": [
    {
     "data": {
      "text/plain": [
       "[10, 1, 2, 3, 4]"
      ]
     },
     "execution_count": 10,
     "metadata": {},
     "output_type": "execute_result"
    }
   ],
   "source": [
    "import copy as cp\n",
    "l2 = cp.copy(l)\n",
    "l2"
   ]
  },
  {
   "cell_type": "code",
   "execution_count": 12,
   "metadata": {
    "ExecuteTime": {
     "end_time": "2019-07-08T11:33:19.546009Z",
     "start_time": "2019-07-08T11:33:19.530424Z"
    }
   },
   "outputs": [
    {
     "data": {
      "text/plain": [
       "([10, 1, 2, 3, 4], [0, 1, 2, 3, 4])"
      ]
     },
     "execution_count": 12,
     "metadata": {},
     "output_type": "execute_result"
    }
   ],
   "source": [
    "l2[0]=0\n",
    "l,l2"
   ]
  },
  {
   "cell_type": "code",
   "execution_count": 13,
   "metadata": {
    "ExecuteTime": {
     "end_time": "2019-07-08T11:34:03.666326Z",
     "start_time": "2019-07-08T11:34:03.635279Z"
    }
   },
   "outputs": [],
   "source": [
    "l2.append(l)\n",
    "l2.append(l)"
   ]
  },
  {
   "cell_type": "code",
   "execution_count": 17,
   "metadata": {
    "ExecuteTime": {
     "end_time": "2019-07-08T11:34:42.549647Z",
     "start_time": "2019-07-08T11:34:42.518534Z"
    }
   },
   "outputs": [
    {
     "data": {
      "text/plain": [
       "[0, 1, 2, 3, 4, [0, 1, 2, 3, 4], [0, 1, 2, 3, 4]]"
      ]
     },
     "execution_count": 17,
     "metadata": {},
     "output_type": "execute_result"
    }
   ],
   "source": [
    "l2[5][0]=0\n",
    "l2"
   ]
  },
  {
   "cell_type": "code",
   "execution_count": 18,
   "metadata": {
    "ExecuteTime": {
     "end_time": "2019-07-08T11:35:10.926713Z",
     "start_time": "2019-07-08T11:35:10.911290Z"
    }
   },
   "outputs": [],
   "source": [
    "l3 = cp.copy(l2)\n"
   ]
  },
  {
   "cell_type": "code",
   "execution_count": 19,
   "metadata": {
    "ExecuteTime": {
     "end_time": "2019-07-08T11:35:26.973109Z",
     "start_time": "2019-07-08T11:35:26.942044Z"
    }
   },
   "outputs": [
    {
     "data": {
      "text/plain": [
       "[0, 1, 2, 3, 4, [10, 1, 2, 3, 4], [10, 1, 2, 3, 4]]"
      ]
     },
     "execution_count": 19,
     "metadata": {},
     "output_type": "execute_result"
    }
   ],
   "source": [
    "l2[5][0]=10\n",
    "l3"
   ]
  },
  {
   "cell_type": "code",
   "execution_count": 20,
   "metadata": {
    "ExecuteTime": {
     "end_time": "2019-07-08T11:36:27.976278Z",
     "start_time": "2019-07-08T11:36:27.960655Z"
    }
   },
   "outputs": [
    {
     "data": {
      "text/plain": [
       "[0, 1, 2, 3, 4, [10, 1, 2, 3, 4], [10, 1, 2, 3, 4]]"
      ]
     },
     "execution_count": 20,
     "metadata": {},
     "output_type": "execute_result"
    }
   ],
   "source": [
    "l4 = cp.deepcopy(l2)\n",
    "l2[5][0]=20\n",
    "l4"
   ]
  },
  {
   "cell_type": "code",
   "execution_count": 21,
   "metadata": {
    "ExecuteTime": {
     "end_time": "2019-07-08T11:36:38.040545Z",
     "start_time": "2019-07-08T11:36:38.009274Z"
    }
   },
   "outputs": [
    {
     "data": {
      "text/plain": [
       "[0, 1, 2, 3, 4, [20, 1, 2, 3, 4], [20, 1, 2, 3, 4]]"
      ]
     },
     "execution_count": 21,
     "metadata": {},
     "output_type": "execute_result"
    }
   ],
   "source": [
    "l3"
   ]
  },
  {
   "cell_type": "code",
   "execution_count": null,
   "metadata": {},
   "outputs": [],
   "source": [
    "import copy as cp\n",
    "from copy import deepcopy\n",
    "deepcopy()"
   ]
  }
 ],
 "metadata": {
  "kernelspec": {
   "display_name": "Python 3",
   "language": "python",
   "name": "python3"
  },
  "language_info": {
   "codemirror_mode": {
    "name": "ipython",
    "version": 3
   },
   "file_extension": ".py",
   "mimetype": "text/x-python",
   "name": "python",
   "nbconvert_exporter": "python",
   "pygments_lexer": "ipython3",
   "version": "3.8.3"
  }
 },
 "nbformat": 4,
 "nbformat_minor": 2
}

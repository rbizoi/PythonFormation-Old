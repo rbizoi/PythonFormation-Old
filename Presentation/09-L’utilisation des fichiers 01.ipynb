{
 "cells": [
  {
   "cell_type": "markdown",
   "metadata": {},
   "source": [
    "# Creation d'un module dynamiquement"
   ]
  },
  {
   "cell_type": "code",
   "execution_count": 1,
   "metadata": {
    "ExecuteTime": {
     "end_time": "2020-09-27T20:09:08.983959Z",
     "start_time": "2020-09-27T20:09:08.979970Z"
    }
   },
   "outputs": [],
   "source": [
    "import os\n",
    "contenuFichier = \"\"\"\n",
    "# -*- coding:utf8 -*-\n",
    "def main():\n",
    "    print(__name__)\n",
    "\n",
    "def changerRepertoire(nomRep = \"./donnees\"):\n",
    "    from os import mkdir, chdir, getcwd,path\n",
    "    if not path.isdir(nomRep):\n",
    "        mkdir(nomRep)\n",
    "\n",
    "    chdir(nomRep)\n",
    "    rep_cour = getcwd()\n",
    "    print(rep_cour)\n",
    "\n",
    "\n",
    "if __name__ == '__main__' :\n",
    "    main()\n",
    "else :\n",
    "    print ('autre appel')\n",
    "\"\"\""
   ]
  },
  {
   "cell_type": "code",
   "execution_count": 2,
   "metadata": {
    "ExecuteTime": {
     "end_time": "2020-09-27T20:09:09.934889Z",
     "start_time": "2020-09-27T20:09:09.929902Z"
    }
   },
   "outputs": [
    {
     "name": "stdout",
     "output_type": "stream",
     "text": [
      "\n",
      "# -*- coding:utf8 -*-\n",
      "def main():\n",
      "    print(__name__)\n",
      "\n",
      "def changerRepertoire(nomRep = \"./donnees\"):\n",
      "    from os import mkdir, chdir, getcwd,path\n",
      "    if not path.isdir(nomRep):\n",
      "        mkdir(nomRep)\n",
      "\n",
      "    chdir(nomRep)\n",
      "    rep_cour = getcwd()\n",
      "    print(rep_cour)\n",
      "\n",
      "\n",
      "if __name__ == '__main__' :\n",
      "    main()\n",
      "else :\n",
      "    print ('autre appel')\n",
      "\n"
     ]
    }
   ],
   "source": [
    "print(contenuFichier)"
   ]
  },
  {
   "cell_type": "code",
   "execution_count": 3,
   "metadata": {},
   "outputs": [
    {
     "name": "stdout",
     "output_type": "stream",
     "text": [
      "__main__\n"
     ]
    }
   ],
   "source": [
    "def main():\n",
    "    print(__name__)\n",
    "\n",
    "def changerRepertoire(nomRep = \"./donnees\"):\n",
    "    from os import mkdir, chdir, getcwd,path\n",
    "    if not path.isdir(nomRep):\n",
    "        mkdir(nomRep)\n",
    "\n",
    "    chdir(nomRep)\n",
    "    rep_cour = getcwd()\n",
    "    print(rep_cour)\n",
    "\n",
    "\n",
    "if __name__ == '__main__' :\n",
    "    main()\n",
    "else :\n",
    "    print ('autre appel')"
   ]
  },
  {
   "cell_type": "code",
   "execution_count": 4,
   "metadata": {},
   "outputs": [
    {
     "data": {
      "text/plain": [
       "'\\n# -*- coding:utf8 -*-\\ndef main():\\n    print(__name__)\\n\\ndef changerRepertoire(nomRep = \"./donnees\"):\\n    from os import mkdir, chdir, getcwd,path\\n    if not path.isdir(nomRep):\\n        mkdir(nomRep)\\n\\n    chdir(nomRep)\\n    rep_cour = getcwd()\\n    print(rep_cour)\\n\\n\\nif __name__ == \\'__main__\\' :\\n    main()\\nelse :\\n    print (\\'autre appel\\')\\n'"
      ]
     },
     "execution_count": 4,
     "metadata": {},
     "output_type": "execute_result"
    }
   ],
   "source": [
    "contenuFichier"
   ]
  },
  {
   "cell_type": "code",
   "execution_count": 5,
   "metadata": {},
   "outputs": [
    {
     "data": {
      "text/plain": [
       "'F:\\\\PythonFormation\\\\Presentations'"
      ]
     },
     "execution_count": 5,
     "metadata": {},
     "output_type": "execute_result"
    }
   ],
   "source": [
    "os.getcwd()"
   ]
  },
  {
   "cell_type": "code",
   "execution_count": 6,
   "metadata": {},
   "outputs": [],
   "source": [
    "# of = open(\"./LesFichiers.py\",'w')\n",
    "\n",
    "\n",
    "# of.close()"
   ]
  },
  {
   "cell_type": "code",
   "execution_count": 7,
   "metadata": {
    "ExecuteTime": {
     "end_time": "2019-07-08T12:44:03.416715Z",
     "start_time": "2019-07-08T12:44:03.401061Z"
    }
   },
   "outputs": [],
   "source": [
    "with open(\"./LesFichiers.py\",'w') as of:\n",
    "    of.write(contenuFichier)"
   ]
  },
  {
   "cell_type": "code",
   "execution_count": 8,
   "metadata": {},
   "outputs": [
    {
     "name": "stdout",
     "output_type": "stream",
     "text": [
      " Le volume dans le lecteur F s'appelle Data\n",
      " Le num‚ro de s‚rie du volume est D4F7-8E12\n",
      "\n",
      " R‚pertoire de F:\\PythonFormation\\Presentations\n",
      "\n",
      "14/12/2023  09:30               355 LesFichiers.py\n",
      "               1 fichier(s)              355 octets\n",
      "               0 R‚p(s)  145ÿ561ÿ985ÿ024 octets libres\n"
     ]
    }
   ],
   "source": [
    "!dir LesFichiers.py"
   ]
  },
  {
   "cell_type": "code",
   "execution_count": 9,
   "metadata": {
    "ExecuteTime": {
     "end_time": "2019-07-08T12:44:05.237288Z",
     "start_time": "2019-07-08T12:44:05.206202Z"
    }
   },
   "outputs": [
    {
     "name": "stdout",
     "output_type": "stream",
     "text": [
      "autre appel\n",
      "F:\\PythonFormation\\Presentations\\donnees\n"
     ]
    }
   ],
   "source": [
    "from LesFichiers import changerRepertoire\n",
    "\n",
    "changerRepertoire()"
   ]
  },
  {
   "cell_type": "code",
   "execution_count": 10,
   "metadata": {},
   "outputs": [],
   "source": [
    "fichier = open('MonFic.txt','w')\n",
    "for i in range(0,10):\n",
    "    fichier.write(str(i)+'\\tbbb bbbbb aaaaa\\n')\n",
    "fichier.close()"
   ]
  },
  {
   "cell_type": "code",
   "execution_count": 11,
   "metadata": {
    "ExecuteTime": {
     "end_time": "2019-07-08T12:48:39.702360Z",
     "start_time": "2019-07-08T12:48:39.686740Z"
    }
   },
   "outputs": [],
   "source": [
    "with open('MonFic.txt','w') as of:\n",
    "    for i in range(0,10):\n",
    "        of.write(str(i)+'\\tbbb bbbbb aaaaa\\n')"
   ]
  },
  {
   "cell_type": "code",
   "execution_count": 12,
   "metadata": {
    "ExecuteTime": {
     "end_time": "2019-07-08T12:48:12.605201Z",
     "start_time": "2019-07-08T12:48:12.574113Z"
    }
   },
   "outputs": [
    {
     "data": {
      "text/plain": [
       "True"
      ]
     },
     "execution_count": 12,
     "metadata": {},
     "output_type": "execute_result"
    }
   ],
   "source": [
    "from os import mkdir, chdir, getcwd, path\n",
    "path.isfile('MonFic.txt')"
   ]
  },
  {
   "cell_type": "code",
   "execution_count": 13,
   "metadata": {
    "ExecuteTime": {
     "end_time": "2019-07-08T12:48:43.216274Z",
     "start_time": "2019-07-08T12:48:43.185202Z"
    }
   },
   "outputs": [
    {
     "name": "stdout",
     "output_type": "stream",
     "text": [
      "['0\\tbbb bbbbb aaaaa\\n', '1\\tbbb bbbbb aaaaa\\n', '2\\tbbb bbbbb aaaaa\\n', '3\\tbbb bbbbb aaaaa\\n', '4\\tbbb bbbbb aaaaa\\n', '5\\tbbb bbbbb aaaaa\\n', '6\\tbbb bbbbb aaaaa\\n', '7\\tbbb bbbbb aaaaa\\n', '8\\tbbb bbbbb aaaaa\\n', '9\\tbbb bbbbb aaaaa\\n']\n",
      "0\tbbb bbbbb aaaaa\n",
      "1\tbbb bbbbb aaaaa\n",
      "2\tbbb bbbbb aaaaa\n",
      "3\tbbb bbbbb aaaaa\n",
      "4\tbbb bbbbb aaaaa\n",
      "5\tbbb bbbbb aaaaa\n",
      "6\tbbb bbbbb aaaaa\n",
      "7\tbbb bbbbb aaaaa\n",
      "8\tbbb bbbbb aaaaa\n",
      "9\tbbb bbbbb aaaaa\n"
     ]
    }
   ],
   "source": [
    "from os import mkdir, chdir, getcwd, path\n",
    "\n",
    "if path.isfile('MonFic.txt'):\n",
    "    with open('MonFic.txt','r') as nomFic:\n",
    "        lines =nomFic.readlines()\n",
    "        print(lines      )\n",
    "        for line in lines :\n",
    "            print(line,end='')"
   ]
  },
  {
   "cell_type": "markdown",
   "metadata": {},
   "source": [
    "# Lecture séquentielle d’un fichier"
   ]
  },
  {
   "cell_type": "code",
   "execution_count": 14,
   "metadata": {},
   "outputs": [],
   "source": [
    "with open('MonFic.txt','w') as of:\n",
    "    for i in range(0,10):\n",
    "        of.write(str(i)+'\\taaaa aaaaa aaaaa\\n')"
   ]
  },
  {
   "cell_type": "code",
   "execution_count": 15,
   "metadata": {},
   "outputs": [
    {
     "name": "stdout",
     "output_type": "stream",
     "text": [
      "['0\\taaaa aaaaa aaaaa\\n', '1\\taaaa aaaaa aaaaa\\n', '2\\taaaa aaaaa aaaaa\\n', '3\\taaaa aaaaa aaaaa\\n', '4\\taaaa aaaaa aaaaa\\n', '5\\taaaa aaaaa aaaaa\\n', '6\\taaaa aaaaa aaaaa\\n', '7\\taaaa aaaaa aaaaa\\n', '8\\taaaa aaaaa aaaaa\\n', '9\\taaaa aaaaa aaaaa\\n']\n",
      "0\taaaa aaaaa aaaaa\n",
      "1\taaaa aaaaa aaaaa\n",
      "2\taaaa aaaaa aaaaa\n",
      "3\taaaa aaaaa aaaaa\n",
      "4\taaaa aaaaa aaaaa\n",
      "5\taaaa aaaaa aaaaa\n",
      "6\taaaa aaaaa aaaaa\n",
      "7\taaaa aaaaa aaaaa\n",
      "8\taaaa aaaaa aaaaa\n",
      "9\taaaa aaaaa aaaaa\n"
     ]
    }
   ],
   "source": [
    "with open('MonFic.txt','r') as of:\n",
    "    lines =of.readlines()\n",
    "    print(lines      )\n",
    "    for line in lines :\n",
    "        print(line,end='')"
   ]
  },
  {
   "cell_type": "code",
   "execution_count": 16,
   "metadata": {},
   "outputs": [
    {
     "name": "stdout",
     "output_type": "stream",
     "text": [
      "0\taaaa aaaaa aaaaa\n",
      "1\taaaa aaaaa aaaaa\n",
      "2\taaaa aaaaa aaaaa\n",
      "3\taaaa aaaaa aaaaa\n",
      "4\taaaa aaaaa aaaaa\n",
      "5\taaaa aaaaa aaaaa\n",
      "6\taaaa aaaaa aaaaa\n",
      "7\taaaa aaaaa aaaaa\n",
      "8\taaaa aaaaa aaaaa\n",
      "9\taaaa aaaaa aaaaa\n"
     ]
    }
   ],
   "source": [
    "with open('MonFic.txt','r') as of:\n",
    "    line =of.readline()\n",
    "\n",
    "    while line:\n",
    "        print(line,end='')\n",
    "        line = of.readline()"
   ]
  },
  {
   "cell_type": "code",
   "execution_count": 17,
   "metadata": {},
   "outputs": [
    {
     "name": "stdout",
     "output_type": "stream",
     "text": [
      "[\"(0, 'noir')\\n\", \"(1, 'brun')\\n\", \"(2, 'rouge')\\n\", \"(3, 'orange')\\n\", \"(4, 'jaune')\\n\", \"(5, 'vert')\\n\", \"(6, 'bleu')\\n\", \"(7, 'violet')\\n\", \"(8, 'gris')\\n\", \"(9, 'blanc')\\n\"]\n",
      "(0, 'noir')\n",
      "(1, 'brun')\n",
      "(2, 'rouge')\n",
      "(3, 'orange')\n",
      "(4, 'jaune')\n",
      "(5, 'vert')\n",
      "(6, 'bleu')\n",
      "(7, 'violet')\n",
      "(8, 'gris')\n",
      "(9, 'blanc')\n"
     ]
    }
   ],
   "source": [
    "couleurs = ['noir', 'brun', 'rouge',\n",
    "            'orange', 'jaune', 'vert',\n",
    "            'bleu', 'violet', 'gris', 'blanc']\n",
    "with open('Couleurs.txt','w') as nomFic :\n",
    "    i = 0\n",
    "    for couleur in couleurs :\n",
    "        print((i,couleur),file=nomFic)\n",
    "        i += 1\n",
    "\n",
    "with open('Couleurs.txt','r') as nomFic :\n",
    "    lines =nomFic.readlines()\n",
    "    print(lines)\n",
    "    for line in lines :\n",
    "        print(line,end='')"
   ]
  },
  {
   "cell_type": "code",
   "execution_count": 18,
   "metadata": {},
   "outputs": [
    {
     "name": "stdout",
     "output_type": "stream",
     "text": [
      "(0, 'noir')\n",
      "(1, 'brun')\n",
      "(2, 'rouge')\n",
      "(3, 'orange')\n",
      "(4, 'jaune')\n",
      "(5, 'vert')\n",
      "(6, 'bleu')\n",
      "(7, 'violet')\n",
      "(8, 'gris')\n",
      "(9, 'blanc')\n"
     ]
    }
   ],
   "source": [
    "with open('Couleurs01.txt','w') as fichier1, open('Couleurs.txt','r') as fichier2:\n",
    "    line =fichier2.readline()\n",
    "    while line:\n",
    "        print(line,end='')\n",
    "        fichier1.write(line)\n",
    "        line =fichier2.readline()    "
   ]
  },
  {
   "cell_type": "code",
   "execution_count": null,
   "metadata": {},
   "outputs": [],
   "source": []
  }
 ],
 "metadata": {
  "kernelspec": {
   "display_name": "Python 3 (ipykernel)",
   "language": "python",
   "name": "python3"
  },
  "language_info": {
   "codemirror_mode": {
    "name": "ipython",
    "version": 3
   },
   "file_extension": ".py",
   "mimetype": "text/x-python",
   "name": "python",
   "nbconvert_exporter": "python",
   "pygments_lexer": "ipython3",
   "version": "3.10.0"
  }
 },
 "nbformat": 4,
 "nbformat_minor": 4
}

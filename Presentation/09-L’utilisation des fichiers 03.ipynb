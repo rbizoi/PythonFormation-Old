{
 "cells": [
  {
   "cell_type": "markdown",
   "metadata": {},
   "source": [
    "# pickle"
   ]
  },
  {
   "cell_type": "code",
   "execution_count": 1,
   "metadata": {},
   "outputs": [],
   "source": [
    "import pickle\n",
    "import os\n",
    "os.chdir(\"./donnees\")"
   ]
  },
  {
   "cell_type": "code",
   "execution_count": 2,
   "metadata": {},
   "outputs": [],
   "source": [
    "a, b, c = 27, 12.96, [5, 4.83, \"René\"]"
   ]
  },
  {
   "cell_type": "code",
   "execution_count": 3,
   "metadata": {},
   "outputs": [
    {
     "name": "stdout",
     "output_type": "stream",
     "text": [
      "27 <class 'int'>\n",
      "12.96 <class 'float'>\n",
      "[5, 4.83, 'René'] <class 'list'>\n"
     ]
    }
   ],
   "source": [
    "print(a, type(a))\n",
    "print(b, type(b))\n",
    "print(c, type(c))"
   ]
  },
  {
   "cell_type": "code",
   "execution_count": 4,
   "metadata": {},
   "outputs": [],
   "source": [
    "with open('donnees_binaires', 'wb') as f:\n",
    "    pickle.dump(a, f)\n",
    "    pickle.dump(b, f)\n",
    "    pickle.dump(c, f)"
   ]
  },
  {
   "cell_type": "code",
   "execution_count": 5,
   "metadata": {},
   "outputs": [
    {
     "name": "stdout",
     "output_type": "stream",
     "text": [
      "['.ipynb_checkpoints', 'Couleurs.txt', 'Couleurs01.txt', 'donnees_binaires', 'Fichiertexte.txt', 'FichiertexteOutput.txt', 'infos.txt', 'MonFic.txt', 'shelveFichier.bak', 'shelveFichier.dat', 'shelveFichier.dir']\n",
      "True\n"
     ]
    }
   ],
   "source": [
    "print(os.listdir(path='.'))\n",
    "print(os.path.isfile(\"./donnees_binaires\"))"
   ]
  },
  {
   "cell_type": "code",
   "execution_count": 6,
   "metadata": {},
   "outputs": [
    {
     "name": "stdout",
     "output_type": "stream",
     "text": [
      "Le dossier actuel est F:\\PythonFormation\\Presentations\\donnees\n",
      "Fichier -- F:\\PythonFormation\\Presentations\\donnees: Couleurs.txt\n",
      "Fichier -- F:\\PythonFormation\\Presentations\\donnees: Couleurs01.txt\n",
      "Fichier -- F:\\PythonFormation\\Presentations\\donnees: donnees_binaires\n",
      "Fichier -- F:\\PythonFormation\\Presentations\\donnees: Fichiertexte.txt\n",
      "Fichier -- F:\\PythonFormation\\Presentations\\donnees: FichiertexteOutput.txt\n",
      "Fichier -- F:\\PythonFormation\\Presentations\\donnees: infos.txt\n",
      "Fichier -- F:\\PythonFormation\\Presentations\\donnees: MonFic.txt\n",
      "Fichier -- F:\\PythonFormation\\Presentations\\donnees: shelveFichier.bak\n",
      "Fichier -- F:\\PythonFormation\\Presentations\\donnees: shelveFichier.dat\n",
      "Fichier -- F:\\PythonFormation\\Presentations\\donnees: shelveFichier.dir\n",
      "\n",
      "Le dossier actuel est F:\\PythonFormation\\Presentations\\donnees\\.ipynb_checkpoints\n",
      "Fichier -- F:\\PythonFormation\\Presentations\\donnees\\.ipynb_checkpoints: Couleurs01-checkpoint.txt\n",
      "\n"
     ]
    }
   ],
   "source": [
    "def affiche_rep():\n",
    "    for repN, susRep, fichiers in os.walk(os.getcwd()):\n",
    "        print('Le dossier actuel est ' + repN)\n",
    "        for fichier in fichiers:\n",
    "            print('Fichier -- ' + repN + ': '+ fichier)\n",
    "        print('')\n",
    "affiche_rep()        "
   ]
  },
  {
   "cell_type": "code",
   "execution_count": 7,
   "metadata": {},
   "outputs": [
    {
     "name": "stdout",
     "output_type": "stream",
     "text": [
      "27 <class 'int'>\n",
      "12.96 <class 'float'>\n",
      "[5, 4.83, 'René'] <class 'list'>\n"
     ]
    }
   ],
   "source": [
    "with open('donnees_binaires', 'rb') as f:\n",
    "    j = pickle.load(f)\n",
    "    k = pickle.load(f)\n",
    "    l = pickle.load(f)\n",
    "print(j, type(j))\n",
    "print(k, type(k))\n",
    "print(l, type(l))    "
   ]
  },
  {
   "cell_type": "markdown",
   "metadata": {},
   "source": [
    "# shelve"
   ]
  },
  {
   "cell_type": "code",
   "execution_count": 8,
   "metadata": {},
   "outputs": [],
   "source": [
    "import shelve"
   ]
  },
  {
   "cell_type": "code",
   "execution_count": 9,
   "metadata": {},
   "outputs": [
    {
     "name": "stdout",
     "output_type": "stream",
     "text": [
      "['Zophie', 'Pooka', 'Simon'] <class 'shelve.DbfilenameShelf'>\n"
     ]
    }
   ],
   "source": [
    "cats = ['Zophie', 'Pooka', 'Simon']\n",
    "\n",
    "with shelve.open('shelveFichier') as shelfFile:\n",
    "    shelfFile['cats'] = cats\n",
    "    \n",
    "with shelve.open('shelveFichier') as shelfFile:\n",
    "    print(shelfFile['cats'],type(shelfFile))\n"
   ]
  },
  {
   "cell_type": "code",
   "execution_count": 10,
   "metadata": {},
   "outputs": [
    {
     "name": "stdout",
     "output_type": "stream",
     "text": [
      "Le dossier actuel est F:\\PythonFormation\\Presentations\\donnees\n",
      "Fichier -- F:\\PythonFormation\\Presentations\\donnees: Couleurs.txt\n",
      "Fichier -- F:\\PythonFormation\\Presentations\\donnees: Couleurs01.txt\n",
      "Fichier -- F:\\PythonFormation\\Presentations\\donnees: donnees_binaires\n",
      "Fichier -- F:\\PythonFormation\\Presentations\\donnees: Fichiertexte.txt\n",
      "Fichier -- F:\\PythonFormation\\Presentations\\donnees: FichiertexteOutput.txt\n",
      "Fichier -- F:\\PythonFormation\\Presentations\\donnees: infos.txt\n",
      "Fichier -- F:\\PythonFormation\\Presentations\\donnees: MonFic.txt\n",
      "Fichier -- F:\\PythonFormation\\Presentations\\donnees: shelveFichier.bak\n",
      "Fichier -- F:\\PythonFormation\\Presentations\\donnees: shelveFichier.dat\n",
      "Fichier -- F:\\PythonFormation\\Presentations\\donnees: shelveFichier.dir\n",
      "\n",
      "Le dossier actuel est F:\\PythonFormation\\Presentations\\donnees\\.ipynb_checkpoints\n",
      "Fichier -- F:\\PythonFormation\\Presentations\\donnees\\.ipynb_checkpoints: Couleurs01-checkpoint.txt\n",
      "\n"
     ]
    }
   ],
   "source": [
    "affiche_rep()"
   ]
  },
  {
   "cell_type": "code",
   "execution_count": 13,
   "metadata": {},
   "outputs": [],
   "source": [
    "fruits = ['apples', 'oranges', 'cherries', 'banana']\n",
    "pers = ['Alice', 'Bob', 'Carol', 'David']\n",
    "animaux = ['dogs', 'cats', 'moose', 'goose']\n",
    "\n",
    "\n",
    "with shelve.open('shelveFichier') as shelfFile:\n",
    "    shelfFile['fruits'] = fruits\n",
    "    shelfFile['pers'] = pers\n",
    "    shelfFile['animaux'] = animaux"
   ]
  },
  {
   "cell_type": "code",
   "execution_count": 20,
   "metadata": {},
   "outputs": [
    {
     "name": "stdout",
     "output_type": "stream",
     "text": [
      "clées ['cats', 'fruits', 'pers', 'animaux']\n",
      "valeurs [['Zophie', 'Pooka', 'Simon'], ['apples', 'oranges', 'cherries', 'banana'], ['Alice', 'Bob', 'Carol', 'David'], ['dogs', 'cats', 'moose', 'goose']]\n",
      "liste :\n",
      "['Zophie', 'Pooka', 'Simon'] <class 'list'>\n",
      "['apples', 'oranges', 'cherries', 'banana'] <class 'list'>\n",
      "['Alice', 'Bob', 'Carol', 'David'] <class 'list'>\n",
      "['dogs', 'cats', 'moose', 'goose'] <class 'list'>\n"
     ]
    }
   ],
   "source": [
    "with shelve.open('shelveFichier') as shelfFile:\n",
    "    print('clées',list(shelfFile.keys()))\n",
    "    print('valeurs',list(shelfFile.values()))\n",
    "    print('liste :')\n",
    "    for categorie in shelfFile.keys() :\n",
    "        print(shelfFile[categorie],type(shelfFile[categorie]))     "
   ]
  },
  {
   "cell_type": "code",
   "execution_count": null,
   "metadata": {},
   "outputs": [],
   "source": []
  },
  {
   "cell_type": "code",
   "execution_count": null,
   "metadata": {},
   "outputs": [],
   "source": []
  }
 ],
 "metadata": {
  "kernelspec": {
   "display_name": "Python 3 (ipykernel)",
   "language": "python",
   "name": "python3"
  },
  "language_info": {
   "codemirror_mode": {
    "name": "ipython",
    "version": 3
   },
   "file_extension": ".py",
   "mimetype": "text/x-python",
   "name": "python",
   "nbconvert_exporter": "python",
   "pygments_lexer": "ipython3",
   "version": "3.10.0"
  }
 },
 "nbformat": 4,
 "nbformat_minor": 4
}

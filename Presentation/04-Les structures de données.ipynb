{
 "cells": [
  {
   "cell_type": "markdown",
   "metadata": {},
   "source": [
    "# Les chaînes de caractères"
   ]
  },
  {
   "cell_type": "code",
   "execution_count": 2,
   "metadata": {},
   "outputs": [
    {
     "name": "stdout",
     "output_type": "stream",
     "text": [
      "a- b- c- d- e- f- g- h- i- j- k- "
     ]
    }
   ],
   "source": [
    "chaine = 'abcdefghijk'\n",
    "for i in chaine : print(i+'-',end=' ')"
   ]
  },
  {
   "cell_type": "code",
   "execution_count": 3,
   "metadata": {},
   "outputs": [
    {
     "name": "stdout",
     "output_type": "stream",
     "text": [
      "longueur de la chaîne chien = 5\n",
      "longueur de la chaîne chat = 4\n",
      "longueur de la chaîne crocodile = 9\n",
      "longueur de la chaîne éléphant = 8\n"
     ]
    }
   ],
   "source": [
    "liste = ['chien', 'chat', 'crocodile', 'éléphant']\n",
    "for animal in liste :\n",
    "    print('longueur de la chaîne', \\\n",
    "        animal, '=', len(animal))"
   ]
  },
  {
   "cell_type": "code",
   "execution_count": 5,
   "metadata": {},
   "outputs": [
    {
     "name": "stdout",
     "output_type": "stream",
     "text": [
      "Bonjour à tous\n"
     ]
    }
   ],
   "source": [
    "salut = 'bonjour à tous'\n",
    "#salut[0] = 'B'\n",
    "\n",
    "salut = salut[0].upper()+salut[1:]\n",
    "print(salut)"
   ]
  },
  {
   "cell_type": "markdown",
   "metadata": {},
   "source": [
    "## Les chaînes sont comparables"
   ]
  },
  {
   "cell_type": "code",
   "execution_count": 6,
   "metadata": {},
   "outputs": [
    {
     "name": "stdout",
     "output_type": "stream",
     "text": [
      "Entrez un mot quelconque : (<enter> pour terminer)limonade\n",
      "Le mot limonade se confond avec le mot 'limonade' dans l'ordre alphabétique\n",
      "Entrez un mot quelconque : (<enter> pour terminer)limonade \n",
      "Le mot limonade  suit le mot 'limonade' dans l'ordre alphabétique\n",
      "Entrez un mot quelconque : (<enter> pour terminer)limonade1\n",
      "Le mot limonade1 suit le mot 'limonade' dans l'ordre alphabétique\n",
      "Entrez un mot quelconque : (<enter> pour terminer)\n"
     ]
    }
   ],
   "source": [
    "while True:\n",
    "    mot = input(\\\n",
    "     \"Entrez un mot quelconque : (<enter> pour terminer)\")\n",
    "    if mot ==\"\":\n",
    "        break\n",
    "    if mot < \"limonade\":\n",
    "        place = \"précède\"\n",
    "    elif mot > \"limonade\":\n",
    "        place = \"suit\"\n",
    "    else:\n",
    "        place = \"se confond avec\"\n",
    "    print(\"Le mot\", mot, place, \\\n",
    "        \"le mot 'limonade' dans l'ordre alphabétique\")"
   ]
  },
  {
   "cell_type": "code",
   "execution_count": 7,
   "metadata": {
    "collapsed": true,
    "jupyter": {
     "outputs_hidden": true
    }
   },
   "outputs": [],
   "source": [
    "import os\n",
    "os.chdir(\"C:\\Solutions\\Fichiers\")\n",
    "chaine = \"Amélie et Eugène\\n\"\n",
    "of =open(\"test.txt\", \"w\")\n",
    "of.write(chaine)\n",
    "of.close()"
   ]
  },
  {
   "cell_type": "code",
   "execution_count": 8,
   "metadata": {},
   "outputs": [
    {
     "data": {
      "text/plain": [
       "bytes"
      ]
     },
     "execution_count": 8,
     "metadata": {},
     "output_type": "execute_result"
    }
   ],
   "source": [
    "of =open(\"test.txt\", \"rb\")\n",
    "octets =of.read()\n",
    "of.close()\n",
    "type(octets)"
   ]
  },
  {
   "cell_type": "code",
   "execution_count": 9,
   "metadata": {},
   "outputs": [
    {
     "name": "stdout",
     "output_type": "stream",
     "text": [
      "b'Am\\xe9lie et Eug\\xe8ne\\r\\n'\n"
     ]
    }
   ],
   "source": [
    "print(octets)"
   ]
  },
  {
   "cell_type": "code",
   "execution_count": 10,
   "metadata": {},
   "outputs": [
    {
     "ename": "UnicodeDecodeError",
     "evalue": "'utf-8' codec can't decode byte 0xe9 in position 2: invalid continuation byte",
     "output_type": "error",
     "traceback": [
      "\u001b[0;31m-------------------------------------------------------------------------\u001b[0m",
      "\u001b[0;31mUnicodeDecodeError\u001b[0m                      Traceback (most recent call last)",
      "\u001b[0;32m<ipython-input-10-fa215b42b1c0>\u001b[0m in \u001b[0;36m<module>\u001b[0;34m()\u001b[0m\n\u001b[0;32m----> 1\u001b[0;31m \u001b[0mprint\u001b[0m\u001b[1;33m(\u001b[0m\u001b[0moctets\u001b[0m\u001b[1;33m.\u001b[0m\u001b[0mdecode\u001b[0m\u001b[1;33m(\u001b[0m\u001b[1;33m)\u001b[0m\u001b[1;33m)\u001b[0m\u001b[1;33m\u001b[0m\u001b[0m\n\u001b[0m",
      "\u001b[0;31mUnicodeDecodeError\u001b[0m: 'utf-8' codec can't decode byte 0xe9 in position 2: invalid continuation byte"
     ]
    }
   ],
   "source": [
    "print(octets.decode())"
   ]
  },
  {
   "cell_type": "code",
   "execution_count": 11,
   "metadata": {},
   "outputs": [
    {
     "name": "stdout",
     "output_type": "stream",
     "text": [
      "Am�lie et Eug�ne\n",
      "\n"
     ]
    }
   ],
   "source": [
    "print(octets.decode(errors=\"replace\"))"
   ]
  },
  {
   "cell_type": "code",
   "execution_count": 12,
   "metadata": {},
   "outputs": [
    {
     "name": "stdout",
     "output_type": "stream",
     "text": [
      "('fr_FR', 'cp1252')\n"
     ]
    }
   ],
   "source": [
    "import locale\n",
    "print(locale.getdefaultlocale())"
   ]
  },
  {
   "cell_type": "code",
   "execution_count": 13,
   "metadata": {},
   "outputs": [
    {
     "name": "stdout",
     "output_type": "stream",
     "text": [
      "Amélie et Eugène\n",
      "\n"
     ]
    }
   ],
   "source": [
    "print(octets.decode('cp1252'))"
   ]
  },
  {
   "cell_type": "markdown",
   "metadata": {},
   "source": [
    "## Accéder à d’autres caractères que ceux du clavier"
   ]
  },
  {
   "cell_type": "code",
   "execution_count": 14,
   "metadata": {},
   "outputs": [
    {
     "name": "stdout",
     "output_type": "stream",
     "text": [
      "Alphabet grec (minuscule) :  αβγδεζηθικλμνξοπρςστυφχψω\n"
     ]
    }
   ],
   "source": [
    "s = \"\"\t# chaîne vide\n",
    "i = 945\t# premier code\n",
    "while i <= 969:\t# dernier code\n",
    "    s += chr(i) \n",
    "    i = i + 1\n",
    "\n",
    "print(\"Alphabet grec (minuscule) : \", s)"
   ]
  },
  {
   "cell_type": "markdown",
   "metadata": {},
   "source": [
    "# Les listes"
   ]
  },
  {
   "cell_type": "code",
   "execution_count": 1,
   "metadata": {
    "ExecuteTime": {
     "end_time": "2019-07-08T13:56:30.511557Z",
     "start_time": "2019-07-08T13:56:30.495937Z"
    }
   },
   "outputs": [],
   "source": [
    "nombres = [5, 38, 10, 25]\n",
    "mots = [\"jambon\", \"fromage\", \"confiture\", \"chocolat\"]\n",
    "stuff = [5000, \"Brigitte\", 3.1416, [\"Albert\", \"René\", 1947]]"
   ]
  },
  {
   "cell_type": "code",
   "execution_count": 3,
   "metadata": {
    "ExecuteTime": {
     "end_time": "2019-07-08T13:57:02.160568Z",
     "start_time": "2019-07-08T13:57:02.129533Z"
    }
   },
   "outputs": [
    {
     "name": "stdout",
     "output_type": "stream",
     "text": [
      "[5, 38, 10, 25]\n",
      "10\n",
      "[38, 10]\n",
      "[10]\n",
      "[10, 25]\n",
      "[5, 38]\n",
      "25\n",
      "10\n"
     ]
    }
   ],
   "source": [
    "print(nombres)\n",
    "print(nombres[2])\n",
    "print(nombres[1:3])\n",
    "print(nombres[2:3])\n",
    "print(nombres[2:])\n",
    "print(nombres[:2])\n",
    "print(nombres[-1])\n",
    "print(nombres[-2])"
   ]
  },
  {
   "cell_type": "code",
   "execution_count": 5,
   "metadata": {
    "ExecuteTime": {
     "end_time": "2019-07-08T13:58:19.560377Z",
     "start_time": "2019-07-08T13:58:19.544729Z"
    }
   },
   "outputs": [
    {
     "name": "stdout",
     "output_type": "stream",
     "text": [
      "[5, 38]\n"
     ]
    }
   ],
   "source": [
    "print(nombres[:-2])"
   ]
  },
  {
   "cell_type": "markdown",
   "metadata": {},
   "source": [
    "## Les listes sont modifiables"
   ]
  },
  {
   "cell_type": "code",
   "execution_count": 19,
   "metadata": {},
   "outputs": [
    {
     "name": "stdout",
     "output_type": "stream",
     "text": [
      "[17, 38, 10, 25]\n",
      "[5000, 'Brigitte', 3.1416, ['Albert', 'Isabelle', 1947]]\n",
      "[[10, 25], 38, 10, 25]\n"
     ]
    }
   ],
   "source": [
    "nombres[0] = 17\n",
    "print(nombres)\n",
    "stuff[3][1] = \"Isabelle\"\n",
    "print(stuff)\n",
    "nombres[0] = nombres[2:]\n",
    "print(nombres)"
   ]
  },
  {
   "cell_type": "markdown",
   "metadata": {},
   "source": [
    "## Les listes sont des objets"
   ]
  },
  {
   "cell_type": "code",
   "execution_count": 21,
   "metadata": {},
   "outputs": [
    {
     "name": "stdout",
     "output_type": "stream",
     "text": [
      "[10, 17, 25, 38, 72]\n",
      "[10, 17, 25, 38, 72, 12]\n",
      "[12, 72, 38, 25, 17, 10]\n",
      "[12, 72, 25, 17, 10]\n",
      "[12, 72, 17, 10]\n",
      "[12, 10]\n"
     ]
    }
   ],
   "source": [
    "nombres = [17, 38, 10, 25, 72]\n",
    "nombres.sort()\n",
    "print(nombres)\n",
    "nombres.append(12)\n",
    "print(nombres)\n",
    "nombres.reverse()\n",
    "print(nombres)\n",
    "nombres.index(17)\n",
    "nombres.remove(38)\n",
    "print(nombres)\n",
    "del nombres[2]\n",
    "print(nombres)\n",
    "del nombres[1:3]\n",
    "print(nombres)"
   ]
  },
  {
   "cell_type": "markdown",
   "metadata": {},
   "source": [
    "## Techniques de slicing"
   ]
  },
  {
   "cell_type": "code",
   "execution_count": 36,
   "metadata": {},
   "outputs": [
    {
     "name": "stdout",
     "output_type": "stream",
     "text": [
      "['jambon', 'fromage', 'miel', 'confiture', 'chocolat']\n"
     ]
    }
   ],
   "source": [
    "mots = ['jambon', 'fromage', 'confiture', 'chocolat']\n",
    "mots[2:2] =[\"miel\"]\n",
    "print(mots)"
   ]
  },
  {
   "cell_type": "code",
   "execution_count": 37,
   "metadata": {},
   "outputs": [
    {
     "name": "stdout",
     "output_type": "stream",
     "text": [
      "['jambon', 'fromage', 'miel', 'confiture', 'chocolat', 'saucisson', 'ketchup']\n"
     ]
    }
   ],
   "source": [
    "mots[5:5] =['saucisson', 'ketchup']\n",
    "print(mots)"
   ]
  },
  {
   "cell_type": "code",
   "execution_count": 38,
   "metadata": {},
   "outputs": [
    {
     "data": {
      "text/plain": [
       "['fromage']"
      ]
     },
     "execution_count": 38,
     "metadata": {},
     "output_type": "execute_result"
    }
   ],
   "source": [
    "mots[1:2]"
   ]
  },
  {
   "cell_type": "code",
   "execution_count": 39,
   "metadata": {},
   "outputs": [
    {
     "name": "stdout",
     "output_type": "stream",
     "text": [
      "['jambon', 'fromage', 'saucisson', 'ketchup']\n"
     ]
    }
   ],
   "source": [
    "mots[2:5] = []\t# [] désigne une liste vide liste()\n",
    "print(mots)"
   ]
  },
  {
   "cell_type": "code",
   "execution_count": 40,
   "metadata": {},
   "outputs": [
    {
     "name": "stdout",
     "output_type": "stream",
     "text": [
      "['jambon', 'salade', 'ketchup']\n"
     ]
    }
   ],
   "source": [
    "mots[1:3] = ['salade']\n",
    "print(mots)"
   ]
  },
  {
   "cell_type": "code",
   "execution_count": 41,
   "metadata": {},
   "outputs": [
    {
     "name": "stdout",
     "output_type": "stream",
     "text": [
      "['jambon', 'mayonnaise', 'poulet', 'tomate']\n"
     ]
    }
   ],
   "source": [
    "mots[1:] = ['mayonnaise', 'poulet', 'tomate']\n",
    "print(mots)"
   ]
  },
  {
   "cell_type": "markdown",
   "metadata": {},
   "source": [
    "## Création d’une liste de nombres"
   ]
  },
  {
   "cell_type": "code",
   "execution_count": 45,
   "metadata": {},
   "outputs": [
    {
     "name": "stdout",
     "output_type": "stream",
     "text": [
      "[0, 1, 2, 3, 4, 5, 6, 7, 8, 9]\n",
      "[5, 6, 7, 8, 9, 10, 11, 12]\n",
      "[3, 6, 9, 12, 15]\n",
      "[10, 7, 4, 1, -2, -5, -8]\n"
     ]
    }
   ],
   "source": [
    "print(list(range(10)))\n",
    "print(list(range(5,13)))\n",
    "print(list(range(3,16,3)))\n",
    "print(list(range(10, -10, -3)))"
   ]
  },
  {
   "cell_type": "code",
   "execution_count": 7,
   "metadata": {
    "ExecuteTime": {
     "end_time": "2019-07-08T14:02:00.443965Z",
     "start_time": "2019-07-08T14:02:00.412883Z"
    }
   },
   "outputs": [
    {
     "data": {
      "text/plain": [
       "[0, 1, 8, 27, 64, 125, 216, 343, 512, 729]"
      ]
     },
     "execution_count": 7,
     "metadata": {},
     "output_type": "execute_result"
    }
   ],
   "source": [
    "[x**3 for x in range(10) ]"
   ]
  },
  {
   "cell_type": "code",
   "execution_count": 46,
   "metadata": {},
   "outputs": [
    {
     "name": "stdout",
     "output_type": "stream",
     "text": [
      "La raison du plus fort est toujours la meilleure "
     ]
    }
   ],
   "source": [
    "prov = ['La','raison','du','plus','fort',\\\n",
    "    'est','toujours','la','meilleure']\n",
    "for mot in prov:\n",
    "    print(mot, end =' ')"
   ]
  },
  {
   "cell_type": "code",
   "execution_count": 47,
   "metadata": {},
   "outputs": [
    {
     "name": "stdout",
     "output_type": "stream",
     "text": [
      "10 100 1000\n",
      "13 169 2197\n",
      "16 256 4096\n"
     ]
    }
   ],
   "source": [
    "for n in range(10, 18, 3):\n",
    "    print(n, n**2, n**3)"
   ]
  },
  {
   "cell_type": "code",
   "execution_count": 48,
   "metadata": {},
   "outputs": [
    {
     "name": "stdout",
     "output_type": "stream",
     "text": [
      "0 Maître\n",
      "1 Corbeau\n",
      "2 sur\n",
      "3 un\n",
      "4 arbre\n",
      "5 perché\n"
     ]
    }
   ],
   "source": [
    "fable = ['Maître','Corbeau','sur','un','arbre','perché']\n",
    "for index in range(len(fable)): \n",
    "    print(index, fable[index])"
   ]
  },
  {
   "cell_type": "code",
   "execution_count": 49,
   "metadata": {},
   "outputs": [
    {
     "name": "stdout",
     "output_type": "stream",
     "text": [
      "3 <class 'int'>\n",
      "17.25 <class 'float'>\n",
      "[5, 'Jean'] <class 'list'>\n",
      "Linux is not Windoze <class 'str'>\n"
     ]
    }
   ],
   "source": [
    "divers = [3, 17.25, [5, 'Jean'], 'Linux is not Windoze']\n",
    "for item in divers :\n",
    "    print(item, type(item))"
   ]
  },
  {
   "cell_type": "markdown",
   "metadata": {},
   "source": [
    "## Les opérations sur des listes"
   ]
  },
  {
   "cell_type": "code",
   "execution_count": 50,
   "metadata": {},
   "outputs": [
    {
     "data": {
      "text/plain": [
       "['orange', 'citron', 'poireau', 'oignon', 'tomate']"
      ]
     },
     "execution_count": 50,
     "metadata": {},
     "output_type": "execute_result"
    }
   ],
   "source": [
    "fruits = ['orange','citron']\n",
    "legumes = ['poireau','oignon','tomate']\n",
    "fruits + legumes"
   ]
  },
  {
   "cell_type": "code",
   "execution_count": 51,
   "metadata": {},
   "outputs": [
    {
     "data": {
      "text/plain": [
       "['orange', 'citron', 'orange', 'citron', 'orange', 'citron']"
      ]
     },
     "execution_count": 51,
     "metadata": {},
     "output_type": "execute_result"
    }
   ],
   "source": [
    "fruits * 3"
   ]
  },
  {
   "cell_type": "code",
   "execution_count": 53,
   "metadata": {},
   "outputs": [
    {
     "data": {
      "text/plain": [
       "[0, 0, 0, 0, 0, 0, 0]"
      ]
     },
     "execution_count": 53,
     "metadata": {},
     "output_type": "execute_result"
    }
   ],
   "source": [
    "sept_zeros = [0]*7\n",
    "sept_zeros"
   ]
  },
  {
   "cell_type": "code",
   "execution_count": 55,
   "metadata": {},
   "outputs": [
    {
     "data": {
      "text/plain": [
       "[10, 10, 10, 10, 10, 10, 10]"
      ]
     },
     "execution_count": 55,
     "metadata": {},
     "output_type": "execute_result"
    }
   ],
   "source": [
    "deuxieme = [10]*len(sept_zeros)\n",
    "deuxieme"
   ]
  },
  {
   "cell_type": "markdown",
   "metadata": {},
   "source": [
    "# Le test d’appartenance"
   ]
  },
  {
   "cell_type": "code",
   "execution_count": 58,
   "metadata": {},
   "outputs": [
    {
     "name": "stdout",
     "output_type": "stream",
     "text": [
      "['poireau', 'oignon', 'tomate']\n",
      "OK\n"
     ]
    }
   ],
   "source": [
    "v = 'tomate'\n",
    "print(legumes)\n",
    "if v in legumes:\n",
    "    print('OK')"
   ]
  },
  {
   "cell_type": "markdown",
   "metadata": {},
   "source": [
    "# La copie d’une liste"
   ]
  },
  {
   "cell_type": "code",
   "execution_count": 60,
   "metadata": {},
   "outputs": [
    {
     "name": "stdout",
     "output_type": "stream",
     "text": [
      "['Je', 'plie', 'mais', 'ne', 'casse', 'point'] ['Je', 'plie', 'mais', 'ne', 'casse', 'point']\n"
     ]
    }
   ],
   "source": [
    "fable = ['Je','plie','mais','ne','romps','point']\n",
    "phrase = fable\n",
    "fable[4] ='casse'\n",
    "print(phrase,fable)"
   ]
  },
  {
   "cell_type": "code",
   "execution_count": 62,
   "metadata": {},
   "outputs": [
    {
     "name": "stdout",
     "output_type": "stream",
     "text": [
      "['Je', 'plie', 'mais', 'ne', 'romps', 'point'] ['Je', 'plie', 'mais', 'ne', 'romps', 'point']\n"
     ]
    }
   ],
   "source": [
    "phrase2 = phrase[0:len(phrase)]\n",
    "phrase[4] ='romps'\n",
    "print(phrase,phrase2)"
   ]
  },
  {
   "cell_type": "code",
   "execution_count": 66,
   "metadata": {},
   "outputs": [
    {
     "name": "stdout",
     "output_type": "stream",
     "text": [
      "['Je', 'plie', 'mais', 'ne', 'casse', 'point'] ['Je', 'plie', 'mais', 'ne', 'casse', 'point']\n"
     ]
    }
   ],
   "source": [
    "import copy as cp\n",
    "fable2 = cp.copy(fable)\n",
    "fable[4] ='casse'\n",
    "print(fable,fable2)"
   ]
  },
  {
   "cell_type": "code",
   "execution_count": 71,
   "metadata": {},
   "outputs": [
    {
     "name": "stdout",
     "output_type": "stream",
     "text": [
      "[5000, 'Brigitte', 3.1416, ['Albert', 'René', 1947], ['jambon', 'fromage', 'confiture', 'chocolat']]\n",
      " [5000, 'Brigitte', 3.1416, ['Jean', 'René', 1947], ['jambon', 'fromage', 'confiture', 'chocolat']] \n",
      " [5000, 'Brigitte', 3.1416, ['Jean', 'René', 1947], ['jambon', 'fromage', 'confiture', 'chocolat']]\n"
     ]
    }
   ],
   "source": [
    "import copy as cp\n",
    "mots = [\"jambon\", \"fromage\", \"confiture\", \"chocolat\"]\n",
    "stuff = [5000, \"Brigitte\", 3.1416, [\"Albert\", \"René\", 1947],mots]\n",
    "print(stuff)\n",
    "stuff1 = cp.copy(stuff)\n",
    "stuff1[3][0]='Jean'\n",
    "print('',stuff,'\\n',stuff1)"
   ]
  },
  {
   "cell_type": "code",
   "execution_count": 72,
   "metadata": {},
   "outputs": [
    {
     "name": "stdout",
     "output_type": "stream",
     "text": [
      " [5000, 'Brigitte', 3.1416, ['Jean', 'René', 1947], ['jambon', 'fromage', 'confiture', 'chocolat']] \n",
      " [5000, 'Brigitte', 3.1416, ['Albert', 'René', 1947], ['jambon', 'fromage', 'confiture', 'chocolat']]\n"
     ]
    }
   ],
   "source": [
    "stuff1 = cp.deepcopy(stuff)\n",
    "stuff1[3][0]='Albert'\n",
    "print('',stuff,'\\n',stuff1)"
   ]
  },
  {
   "cell_type": "markdown",
   "metadata": {},
   "source": [
    "## Les nombres aléatoires – histogrammes"
   ]
  },
  {
   "cell_type": "code",
   "execution_count": 73,
   "metadata": {},
   "outputs": [
    {
     "data": {
      "text/plain": [
       "[0.731144720008652, 0.005192189569315997, 0.47438630463008713]"
      ]
     },
     "execution_count": 73,
     "metadata": {},
     "output_type": "execute_result"
    }
   ],
   "source": [
    "from random import *\n",
    "def list_aleat(n): \n",
    "    s = [0]*n\n",
    "    for i in range(n):\n",
    "        s[i] =random()\n",
    "    return s\n",
    "\n",
    "list_aleat(3)"
   ]
  },
  {
   "cell_type": "code",
   "execution_count": 74,
   "metadata": {},
   "outputs": [
    {
     "data": {
      "text/plain": [
       "[0.6000019828743697, 0.7804790796711488, 0.29663423456326354]"
      ]
     },
     "execution_count": 74,
     "metadata": {},
     "output_type": "execute_result"
    }
   ],
   "source": [
    "list_aleat(3)"
   ]
  },
  {
   "cell_type": "code",
   "execution_count": 75,
   "metadata": {},
   "outputs": [
    {
     "name": "stdout",
     "output_type": "stream",
     "text": [
      "6 9 9 9 12 12 6 12 3 9 6 6 12 6 9 "
     ]
    }
   ],
   "source": [
    "for i in range(15):\n",
    "    print(randrange(3, 13, 3), end =' ')"
   ]
  },
  {
   "cell_type": "code",
   "execution_count": 76,
   "metadata": {},
   "outputs": [
    {
     "name": "stdout",
     "output_type": "stream",
     "text": [
      "Bernard: 8, Bonne première partie mais soignez la présentation\n",
      "Robert: 3, J'ai gratté la copie pour mettre des points\n",
      "René: 17, Excellent travail!\n",
      "Gaston: 18, Très bonne analyse\n",
      "Églantine: 6, J'ai gratté la copie pour mettre des points\n",
      "Aimé: 11, Bonne première partie mais soignez la présentation\n",
      "Robertine: 15, Les résultats sont là !\n"
     ]
    }
   ],
   "source": [
    "import random\n",
    "good_work = ['Excellent travail!',\n",
    "    'Très bonne analyse',\n",
    "    'Les résultats sont là !']\n",
    "bad_work = [\"J'ai gratté la copie pour mettre des points\",\n",
    "    'Vous filez un mauvais coton',\n",
    "    'Que se passe-t-il ?']\n",
    "ok_work = ['Bonne première partie mais soignez la présentation',\n",
    "    'Petites erreurs, dommage !',\n",
    "    'Des progrès']\n",
    "\n",
    "def auto_corrector(student):\n",
    "    note = random.randint(1, 20)\n",
    "    if note < 8:\n",
    "        appreciation = random.choice(bad_work)\n",
    "    elif note < 14:\n",
    "        appreciation = random.choice(ok_work)\n",
    "    else:\n",
    "        appreciation = random.choice(good_work)\n",
    "    return '%s: %s, %s' %(student,\n",
    "           note, appreciation)\n",
    "\n",
    "students = ['Bernard', 'Robert', 'René', 'Gaston',\n",
    "'Églantine', 'Aimé', 'Robertine']\n",
    "\n",
    "for student in students :\n",
    "    print(auto_corrector(student))"
   ]
  },
  {
   "cell_type": "code",
   "execution_count": 2,
   "metadata": {},
   "outputs": [
    {
     "name": "stdout",
     "output_type": "stream",
     "text": [
      "[5000, 'Brigitte', 3.1416, ['Albert', 'René', 1947], [5, 38, 10, 25], ['jambon', 'fromage', 'confiture', 'chocolat']]\n"
     ]
    }
   ],
   "source": [
    "nombres = [5, 38, 10, 25]\n",
    "mots = [\"jambon\", \"fromage\", \"confiture\", \"chocolat\"]\n",
    "stuff = [5000, \"Brigitte\", 3.1416, [\"Albert\", \"René\", 1947]]\n",
    "\n",
    "stuff.append(nombres)\n",
    "stuff.append(mots)\n",
    "print(stuff)\n",
    "s = stuff"
   ]
  },
  {
   "cell_type": "code",
   "execution_count": 7,
   "metadata": {},
   "outputs": [
    {
     "name": "stdout",
     "output_type": "stream",
     "text": [
      "[5000, 'Brigitte', 3.1416, ['Albert', 'René', 1947, [...]], [5, 38, 10, 25], ['jambon', 'fromage', 'confiture', 'chocolat']]\n",
      "92321992 92321992\n",
      "[5000, 'Brigitte', 3.1416, ['Albert', 'René', 1947, [...], [...]], [5, 38, 10, 25], ['jambon', 'fromage', 'confiture', 'chocolat']]\n"
     ]
    }
   ],
   "source": [
    "print(s)\n",
    "\n",
    "print(id(s[3]),id(stuff[3]))\n",
    "stuff[3].append(stuff)\n",
    "print(s)\n"
   ]
  },
  {
   "cell_type": "code",
   "execution_count": 10,
   "metadata": {},
   "outputs": [
    {
     "name": "stdout",
     "output_type": "stream",
     "text": [
      "89652560 89652560\n",
      "89652560 89652560\n"
     ]
    }
   ],
   "source": [
    "print(id(s[3][3][0]),id(stuff[3][3][0]))\n",
    "print(id(s[0]),id(stuff[0]))\n"
   ]
  },
  {
   "cell_type": "code",
   "execution_count": 17,
   "metadata": {
    "scrolled": true
   },
   "outputs": [
    {
     "name": "stdout",
     "output_type": "stream",
     "text": [
      "89678536 89656648\n",
      "89652560 89652560\n"
     ]
    }
   ],
   "source": [
    "import copy as cp\n",
    "s1 = cp.deepcopy(stuff)\n",
    "print(id(s1),id(stuff))\n",
    "print(id(s1[0]),id(stuff[0]))\n"
   ]
  },
  {
   "cell_type": "code",
   "execution_count": 21,
   "metadata": {},
   "outputs": [
    {
     "name": "stdout",
     "output_type": "stream",
     "text": [
      "[1000, 'Brigitte', 3.1416, ['Albert', 'René', 1947, [...], [...]], [5, 38, 10, 25], ['jambon', 'fromage', 'confiture', 'chocolat']] ---\n",
      "--- [5000, 'Brigitte', 3.1416, ['Albert', 'René', 1947, [...], [...]], [5, 38, 10, 25], ['jambon', 'fromage', 'confiture', 'chocolat']] --\n",
      "-- 1000 5000\n"
     ]
    }
   ],
   "source": [
    "s1[0] = 1000\n",
    "print(s1,'---\\n---',s, '--\\n--',s1[3][3][0],stuff[3][3][0])"
   ]
  },
  {
   "cell_type": "code",
   "execution_count": 19,
   "metadata": {},
   "outputs": [
    {
     "name": "stdout",
     "output_type": "stream",
     "text": [
      "92304368 89652560\n"
     ]
    }
   ],
   "source": [
    "print(id(s1[0]),id(stuff[0]))"
   ]
  },
  {
   "cell_type": "code",
   "execution_count": 23,
   "metadata": {},
   "outputs": [
    {
     "name": "stdout",
     "output_type": "stream",
     "text": [
      "[5000, 'Brigitte', 3.1416, ['Albert', 'René', 1947, [5000, 'Brigitte', 3.1416, ['Albert', 'René', 1947], [5, 38, 10, 25], ['jambon', 'fromage', 'confiture', 'chocolat']]], [5, 38, 10, 25], ['jambon', 'fromage', 'confiture', 'chocolat']]\n"
     ]
    }
   ],
   "source": [
    "nombres = [5, 38, 10, 25]\n",
    "mots = [\"jambon\", \"fromage\", \"confiture\", \"chocolat\"]\n",
    "stuff = [5000, \"Brigitte\", 3.1416, [\"Albert\", \"René\", 1947]]\n",
    "\n",
    "\n",
    "import copy as cp\n",
    "\n",
    "stuff.append(cp.deepcopy(nombres))\n",
    "stuff.append(cp.deepcopy(mots))\n",
    "stuff[3].append(cp.deepcopy(stuff))\n",
    "print(stuff)"
   ]
  },
  {
   "cell_type": "code",
   "execution_count": 25,
   "metadata": {},
   "outputs": [
    {
     "name": "stdout",
     "output_type": "stream",
     "text": [
      "93248264 92321928\n"
     ]
    }
   ],
   "source": [
    "print(id(stuff),id(stuff[3][3]))"
   ]
  },
  {
   "cell_type": "markdown",
   "metadata": {},
   "source": [
    "# Les tuples"
   ]
  },
  {
   "cell_type": "code",
   "execution_count": 78,
   "metadata": {},
   "outputs": [
    {
     "name": "stdout",
     "output_type": "stream",
     "text": [
      "(5000, 'Brigitte', 3.1416, ['Albert', 'René', 1947])\n",
      "(5000, 'Brigitte', 3.1416, ['Albert', 'René', 1947])\n",
      "5000\n"
     ]
    }
   ],
   "source": [
    "tup = (5000, \"Brigitte\", \n",
    "    3.1416, [\"Albert\", \"René\", 1947])\n",
    "print(tup)\n",
    "tup2 = 5000, \"Brigitte\", \\\n",
    "    3.1416, [\"Albert\", \"René\", 1947]\n",
    "print(tup2)\n",
    "print(tup2[0])"
   ]
  },
  {
   "cell_type": "code",
   "execution_count": 79,
   "metadata": {},
   "outputs": [
    {
     "ename": "TypeError",
     "evalue": "'tuple' object does not support item assignment",
     "output_type": "error",
     "traceback": [
      "\u001b[0;31m-------------------------------------------------------------------------\u001b[0m",
      "\u001b[0;31mTypeError\u001b[0m                               Traceback (most recent call last)",
      "\u001b[0;32m<ipython-input-79-e79abddf399a>\u001b[0m in \u001b[0;36m<module>\u001b[0;34m()\u001b[0m\n\u001b[0;32m----> 1\u001b[0;31m \u001b[0mtup2\u001b[0m\u001b[1;33m[\u001b[0m\u001b[1;36m0\u001b[0m\u001b[1;33m]\u001b[0m \u001b[1;33m=\u001b[0m \u001b[1;36m1\u001b[0m\u001b[1;33m\u001b[0m\u001b[0m\n\u001b[0m",
      "\u001b[0;31mTypeError\u001b[0m: 'tuple' object does not support item assignment"
     ]
    }
   ],
   "source": [
    "tup2[0] = 1"
   ]
  },
  {
   "cell_type": "code",
   "execution_count": 80,
   "metadata": {},
   "outputs": [
    {
     "name": "stdout",
     "output_type": "stream",
     "text": [
      "('rouge', 'vert', 'bleu')\n"
     ]
    }
   ],
   "source": [
    "tuple('a')\n",
    "color_and_note = ('rouge', 12, 'vert', 14, 'bleu', 9)\n",
    "colors = color_and_note[::2]\n",
    "print(colors) "
   ]
  },
  {
   "cell_type": "code",
   "execution_count": 81,
   "metadata": {},
   "outputs": [
    {
     "name": "stdout",
     "output_type": "stream",
     "text": [
      "(12, 14, 9)\n"
     ]
    }
   ],
   "source": [
    "notes = color_and_note[1::2]\n",
    "print(notes)"
   ]
  },
  {
   "cell_type": "code",
   "execution_count": 82,
   "metadata": {},
   "outputs": [
    {
     "name": "stdout",
     "output_type": "stream",
     "text": [
      "('rouge', 12, 'vert', 14, 'bleu', 9, 'violet')\n"
     ]
    }
   ],
   "source": [
    "color_and_note = color_and_note + ('violet',)\n",
    "print(color_and_note)"
   ]
  },
  {
   "cell_type": "code",
   "execution_count": 83,
   "metadata": {},
   "outputs": [
    {
     "data": {
      "text/plain": [
       "'violet'"
      ]
     },
     "execution_count": 83,
     "metadata": {},
     "output_type": "execute_result"
    }
   ],
   "source": [
    "('violet')"
   ]
  },
  {
   "cell_type": "code",
   "execution_count": 84,
   "metadata": {},
   "outputs": [
    {
     "data": {
      "text/plain": [
       "('violet',)"
      ]
     },
     "execution_count": 84,
     "metadata": {},
     "output_type": "execute_result"
    }
   ],
   "source": [
    "('violet',)"
   ]
  },
  {
   "cell_type": "markdown",
   "metadata": {},
   "source": [
    "# Les dictionnaires"
   ]
  },
  {
   "cell_type": "code",
   "execution_count": 8,
   "metadata": {
    "ExecuteTime": {
     "end_time": "2019-07-08T14:07:16.335179Z",
     "start_time": "2019-07-08T14:07:16.319559Z"
    }
   },
   "outputs": [
    {
     "name": "stdout",
     "output_type": "stream",
     "text": [
      "{'computer': 'ordinateur', 'mouse': 'souris', 'keyboard': 'clavier'}\n",
      "souris\n"
     ]
    }
   ],
   "source": [
    "dico = {}\n",
    "dico['computer'] = 'ordinateur'\n",
    "dico['mouse'] ='souris'\n",
    "dico['keyboard'] ='clavier'\n",
    "print(dico)\n",
    "print(dico['mouse'])"
   ]
  },
  {
   "cell_type": "code",
   "execution_count": 14,
   "metadata": {
    "ExecuteTime": {
     "end_time": "2019-07-08T14:09:00.275598Z",
     "start_time": "2019-07-08T14:09:00.244526Z"
    }
   },
   "outputs": [
    {
     "name": "stdout",
     "output_type": "stream",
     "text": [
      "clé =  computer -- valeur =  ordinateur\n",
      "clé =  mouse -- valeur =  clavier\n",
      "clé =  keyboard -- valeur =  clavier\n"
     ]
    }
   ],
   "source": [
    "for i in dico: print('clé = ',i,'-- valeur = ',dico[i])"
   ]
  },
  {
   "cell_type": "code",
   "execution_count": 15,
   "metadata": {
    "ExecuteTime": {
     "end_time": "2019-07-08T14:09:50.498105Z",
     "start_time": "2019-07-08T14:09:50.482458Z"
    }
   },
   "outputs": [],
   "source": [
    "dico['mouse'] = 'souris'\n",
    "dico['mouse1'] = 'mouse'"
   ]
  },
  {
   "cell_type": "code",
   "execution_count": 16,
   "metadata": {
    "ExecuteTime": {
     "end_time": "2019-07-08T14:10:03.891834Z",
     "start_time": "2019-07-08T14:10:03.860756Z"
    }
   },
   "outputs": [
    {
     "data": {
      "text/plain": [
       "{'computer': 'ordinateur',\n",
       " 'mouse': 'souris',\n",
       " 'keyboard': 'clavier',\n",
       " 'mouse1': 'mouse'}"
      ]
     },
     "execution_count": 16,
     "metadata": {},
     "output_type": "execute_result"
    }
   ],
   "source": [
    "dico"
   ]
  },
  {
   "cell_type": "code",
   "execution_count": 87,
   "metadata": {},
   "outputs": [
    {
     "name": "stdout",
     "output_type": "stream",
     "text": [
      "oranges\n",
      "poires\n",
      "bananes\n"
     ]
    }
   ],
   "source": [
    "invent ={\"oranges\":274, \"poires\":137, \"bananes\":312}\n",
    "for clef in invent:\n",
    "    print(clef)"
   ]
  },
  {
   "cell_type": "code",
   "execution_count": 94,
   "metadata": {},
   "outputs": [
    {
     "name": "stdout",
     "output_type": "stream",
     "text": [
      "{}\n",
      "{'1': 'r', '2': [1, 2]}\n",
      "[1, 2, 'E']\n",
      "True\n",
      "True\n",
      "dict_items([('a', 1), ('b', 1)])\n",
      "dict_keys([(1, 3), 'Q'])\n",
      "dict_values([3, 4])\n",
      "(1, 'a') (2, 'b') (3, 'c')\n",
      "1 2 3\n",
      "a b c\n"
     ]
    }
   ],
   "source": [
    "dico1 = {'a':1,'b':2}\n",
    "dico1.clear()\n",
    "print(dico1)\n",
    "\n",
    "dico = {'1': 'r', '2': [1,2]}\n",
    "dico2 = dico.copy()\n",
    "print(dico2)\n",
    "dico['2'].append('E')\n",
    "print(dico2['2'])"
   ]
  },
  {
   "cell_type": "code",
   "execution_count": 105,
   "metadata": {},
   "outputs": [
    {
     "name": "stdout",
     "output_type": "stream",
     "text": [
      "True\n",
      "True\n",
      "dict_items([('a', 1), ('b', 1)])\n",
      "dict_keys([(1, 3), 'Q'])\n",
      "dict_values([3, 4])\n",
      "(1, 'a') (2, 'b') (3, 'c')\n",
      "1 2 3\n",
      "a b c\n"
     ]
    }
   ],
   "source": [
    "dico = {'a': 1, 'b': 2}\n",
    "\n",
    "print('a' in dico)\n",
    "\n",
    "print('c' not in dico)\n",
    "\n",
    "a = {'a': 1, 'b': 1}\n",
    "print(a.items())\n",
    "\n",
    "a = {(1, 3): 3, 'Q': 4}\n",
    "print(a.keys())\n",
    "\n",
    "a = {(1, 3): 3, 'Q': 4}\n",
    "print(a.values())\n",
    "\n",
    "l = {1: 'a', 2: 'b', 3: 'c'}\n",
    "for i,j,k in l.items(),l.keys(),l.values() :\n",
    "    print(i,j,k)"
   ]
  },
  {
   "cell_type": "code",
   "execution_count": 106,
   "metadata": {},
   "outputs": [
    {
     "name": "stdout",
     "output_type": "stream",
     "text": [
      "a\n",
      "None\n",
      "7\n",
      "{1: 'a', 2: 'b', 3: 'c'}\n"
     ]
    }
   ],
   "source": [
    "print(l.get(1))\n",
    "print(l.get(13))\n",
    "print(l.get(13, 7))\n",
    "print(l)"
   ]
  },
  {
   "cell_type": "code",
   "execution_count": 107,
   "metadata": {},
   "outputs": [
    {
     "name": "stdout",
     "output_type": "stream",
     "text": [
      "{2: 'b', 3: 'c'}\n",
      "6\n",
      "{2: 'b', 3: 'c'}\n",
      "(3, 'c')\n",
      "(2, 'b')\n",
      "(1, 'a')\n",
      "{}\n"
     ]
    }
   ],
   "source": [
    "print(l.pop(1))\n",
    "print(l)\n",
    "print(l.pop(13, 6))\n",
    "print(l)\n",
    "l = {1: 'a', 2: 'b', 3: 'c'}\n",
    "print(l.popitem())\n",
    "print(l.popitem())\n",
    "print(l.popitem())\n",
    "print(l)\n"
   ]
  },
  {
   "cell_type": "code",
   "execution_count": 109,
   "metadata": {},
   "outputs": [
    {
     "name": "stdout",
     "output_type": "stream",
     "text": [
      "{1: 'a', 2: 'b', 3: 'ccc', 4: 'd'}\n",
      "{1: 'a', 2: 'b', 3: 'c', 4: 'd'}\n"
     ]
    },
    {
     "data": {
      "text/plain": [
       "{1: 0, 2: 0, 3: 0}"
      ]
     },
     "execution_count": 109,
     "metadata": {},
     "output_type": "execute_result"
    }
   ],
   "source": [
    "l = {1: 'a', 2: 'b', 3: 'c'}\n",
    "l2 = {3: 'ccc', 4: 'd'}\n",
    "l.update(l2)\n",
    "print(l)\n",
    "l = {1: 'a', 2: 'b', 3: 'c'}\n",
    "l.setdefault(4, 'd')\n",
    "print(l)\n",
    "l = {}\n",
    "l.fromkeys([1, 2, 3], 0)"
   ]
  },
  {
   "cell_type": "code",
   "execution_count": 1,
   "metadata": {
    "ExecuteTime": {
     "end_time": "2020-09-27T19:56:42.776641Z",
     "start_time": "2020-09-27T19:56:42.768684Z"
    }
   },
   "outputs": [
    {
     "name": "stdout",
     "output_type": "stream",
     "text": [
      "{(1, 2): 'Peuplier', (3, 4): 'Platane', (6, 5): 'Palmier', (5, 1): 'Cycas', (7, 3): 'Sapin'}\n",
      "Palmier\n",
      "Peuplier\n"
     ]
    }
   ],
   "source": [
    "arb = {}\n",
    "arb[(1,2)] = 'Peuplier'\n",
    "arb[(3,4)] = 'Platane'\n",
    "arb[6,5] = 'Palmier'\n",
    "arb[5,1] = 'Cycas'\n",
    "arb[7,3] = 'Sapin'\n",
    "print(arb)\n",
    "print(arb[(6,5)])\n",
    "print(arb[1,2])"
   ]
  },
  {
   "cell_type": "code",
   "execution_count": 2,
   "metadata": {
    "ExecuteTime": {
     "end_time": "2020-09-27T19:56:43.818006Z",
     "start_time": "2020-09-27T19:56:43.684337Z"
    }
   },
   "outputs": [
    {
     "ename": "KeyError",
     "evalue": "(2, 1)",
     "output_type": "error",
     "traceback": [
      "\u001b[1;31m---------------------------------------------------------------------------\u001b[0m",
      "\u001b[1;31mKeyError\u001b[0m                                  Traceback (most recent call last)",
      "\u001b[1;32m<ipython-input-2-d2e122ac8615>\u001b[0m in \u001b[0;36m<module>\u001b[1;34m\u001b[0m\n\u001b[1;32m----> 1\u001b[1;33m \u001b[0mprint\u001b[0m\u001b[1;33m(\u001b[0m\u001b[0marb\u001b[0m\u001b[1;33m[\u001b[0m\u001b[1;36m2\u001b[0m\u001b[1;33m,\u001b[0m\u001b[1;36m1\u001b[0m\u001b[1;33m]\u001b[0m\u001b[1;33m)\u001b[0m\u001b[1;33m\u001b[0m\u001b[1;33m\u001b[0m\u001b[0m\n\u001b[0m",
      "\u001b[1;31mKeyError\u001b[0m: (2, 1)"
     ]
    }
   ],
   "source": [
    "print(arb[2,1])"
   ]
  },
  {
   "cell_type": "code",
   "execution_count": 3,
   "metadata": {
    "ExecuteTime": {
     "end_time": "2020-09-27T19:56:48.423862Z",
     "start_time": "2020-09-27T19:56:48.415907Z"
    }
   },
   "outputs": [
    {
     "data": {
      "text/plain": [
       "'néant'"
      ]
     },
     "execution_count": 3,
     "metadata": {},
     "output_type": "execute_result"
    }
   ],
   "source": [
    "arb.get((2,1), 'néant')"
   ]
  },
  {
   "cell_type": "code",
   "execution_count": 4,
   "metadata": {
    "ExecuteTime": {
     "end_time": "2020-09-27T19:56:50.691370Z",
     "start_time": "2020-09-27T19:56:50.685358Z"
    }
   },
   "outputs": [
    {
     "ename": "TypeError",
     "evalue": "unhashable type: 'slice'",
     "output_type": "error",
     "traceback": [
      "\u001b[1;31m---------------------------------------------------------------------------\u001b[0m",
      "\u001b[1;31mTypeError\u001b[0m                                 Traceback (most recent call last)",
      "\u001b[1;32m<ipython-input-4-df26376c400b>\u001b[0m in \u001b[0;36m<module>\u001b[1;34m\u001b[0m\n\u001b[1;32m----> 1\u001b[1;33m \u001b[0mprint\u001b[0m\u001b[1;33m(\u001b[0m\u001b[0marb\u001b[0m\u001b[1;33m[\u001b[0m\u001b[1;36m1\u001b[0m\u001b[1;33m:\u001b[0m\u001b[1;36m3\u001b[0m\u001b[1;33m]\u001b[0m\u001b[1;33m)\u001b[0m\u001b[1;33m\u001b[0m\u001b[1;33m\u001b[0m\u001b[0m\n\u001b[0m",
      "\u001b[1;31mTypeError\u001b[0m: unhashable type: 'slice'"
     ]
    }
   ],
   "source": [
    "print(arb[1:3])"
   ]
  },
  {
   "cell_type": "code",
   "execution_count": null,
   "metadata": {},
   "outputs": [],
   "source": []
  }
 ],
 "metadata": {
  "kernelspec": {
   "display_name": "Python 3 (ipykernel)",
   "language": "python",
   "name": "python3"
  },
  "language_info": {
   "codemirror_mode": {
    "name": "ipython",
    "version": 3
   },
   "file_extension": ".py",
   "mimetype": "text/x-python",
   "name": "python",
   "nbconvert_exporter": "python",
   "pygments_lexer": "ipython3",
   "version": "3.7.12"
  }
 },
 "nbformat": 4,
 "nbformat_minor": 4
}

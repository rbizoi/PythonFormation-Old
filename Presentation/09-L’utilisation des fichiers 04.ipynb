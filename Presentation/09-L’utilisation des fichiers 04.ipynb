{
 "cells": [
  {
   "cell_type": "code",
   "execution_count": 1,
   "metadata": {},
   "outputs": [],
   "source": [
    "import os\n",
    "os.chdir(\"./donnees\")\n",
    "#nomFichier=input('Nom fichier texte:')\n",
    "nomFichier=\"Fichiertexte.txt\""
   ]
  },
  {
   "cell_type": "code",
   "execution_count": 2,
   "metadata": {},
   "outputs": [],
   "source": [
    "with open(nomFichier,'w') as nomFic :\n",
    "    nomFic.write(\"Ceci est la ligne un\\nVoici la ligne deux\\n\")\n",
    "    nomFic.write(\"Voici la ligne trois\\nVoici la ligne quatre\\n\")\n",
    "    nomFic.write(\"#Voici la ligne quatre\\n\")"
   ]
  },
  {
   "cell_type": "code",
   "execution_count": 3,
   "metadata": {},
   "outputs": [
    {
     "name": "stdout",
     "output_type": "stream",
     "text": [
      "Ceci est la ligne un\n",
      "Voici la ligne deux\n",
      "Voici la ligne trois\n",
      "Voici la ligne quatre\n",
      "#Voici la ligne quatre\n",
      "\n"
     ]
    }
   ],
   "source": [
    "with open(nomFichier,'r') as nomFic :\n",
    "    print(nomFic.read())"
   ]
  },
  {
   "cell_type": "code",
   "execution_count": 4,
   "metadata": {},
   "outputs": [
    {
     "name": "stdout",
     "output_type": "stream",
     "text": [
      "['Ceci est la ligne un\\n', 'Voici la ligne deux\\n', 'Voici la ligne trois\\n', 'Voici la ligne quatre\\n', '#Voici la ligne quatre\\n']\n"
     ]
    }
   ],
   "source": [
    "with open(nomFichier,'r') as nomFic :\n",
    "    print(nomFic.readlines())"
   ]
  },
  {
   "cell_type": "code",
   "execution_count": 5,
   "metadata": {},
   "outputs": [],
   "source": [
    "def filtre(source,destination):\n",
    "    \"\"\"recopier un fichier en\n",
    "    éliminant les lignes de remarques\"\"\"\n",
    "    with open(source, 'r') as fs:\n",
    "        with open(destination, 'w') as fd:\n",
    "            while 1:\n",
    "                txt = fs.readline()\n",
    "                if txt =='':\n",
    "                    break\n",
    "                if txt[0] != '#':\n",
    "                    fd.write(txt)"
   ]
  },
  {
   "cell_type": "code",
   "execution_count": 6,
   "metadata": {},
   "outputs": [],
   "source": [
    "filtre(nomFichier,'FichiertexteOutput.txt')"
   ]
  },
  {
   "cell_type": "code",
   "execution_count": 7,
   "metadata": {},
   "outputs": [
    {
     "name": "stdout",
     "output_type": "stream",
     "text": [
      "Ceci est la ligne un\n",
      "Voici la ligne deux\n",
      "Voici la ligne trois\n",
      "Voici la ligne quatre\n",
      "\n"
     ]
    }
   ],
   "source": [
    "with open('FichiertexteOutput.txt', 'r') as f:\n",
    "    print(f.read())"
   ]
  },
  {
   "cell_type": "code",
   "execution_count": 1,
   "metadata": {},
   "outputs": [],
   "source": [
    "import os\n",
    "import zipfile"
   ]
  },
  {
   "cell_type": "code",
   "execution_count": 2,
   "metadata": {
    "scrolled": true
   },
   "outputs": [
    {
     "name": "stdout",
     "output_type": "stream",
     "text": [
      "Le dossier actuel est F:\\PythonFormation\\Presentations\n",
      "Fichier -- F:\\PythonFormation\\Presentations: 01-La syntaxe basique.ipynb\n",
      "Fichier -- F:\\PythonFormation\\Presentations: 02-Les instructions itératives et conditionnelles  .ipynb\n",
      "Fichier -- F:\\PythonFormation\\Presentations: 02-L’instruction for.ipynb\n",
      "Fichier -- F:\\PythonFormation\\Presentations: 03-Les chaînes de caractères.ipynb\n",
      "Fichier -- F:\\PythonFormation\\Presentations: 04-Les structures de données.ipynb\n",
      "Fichier -- F:\\PythonFormation\\Presentations: 05-Les fonctions.ipynb\n",
      "Fichier -- F:\\PythonFormation\\Presentations: 06-Décorateur.ipynb\n",
      "Fichier -- F:\\PythonFormation\\Presentations: 07-Les exceptions.ipynb\n",
      "Fichier -- F:\\PythonFormation\\Presentations: 08-Les listes et les sets--les optimisations des traitemets.ipynb\n",
      "Fichier -- F:\\PythonFormation\\Presentations: 09-L’utilisation des fichiers 01.ipynb\n",
      "Fichier -- F:\\PythonFormation\\Presentations: 09-L’utilisation des fichiers 02.ipynb\n",
      "Fichier -- F:\\PythonFormation\\Presentations: 09-L’utilisation des fichiers 03.ipynb\n",
      "Fichier -- F:\\PythonFormation\\Presentations: 09-L’utilisation des fichiers 04.ipynb\n",
      "Fichier -- F:\\PythonFormation\\Presentations: La POO en Python 01.ipynb\n",
      "Fichier -- F:\\PythonFormation\\Presentations: La POO en Python 02.ipynb\n",
      "Fichier -- F:\\PythonFormation\\Presentations: La POO en Python 03.ipynb\n",
      "Fichier -- F:\\PythonFormation\\Presentations: La POO en Python 04.ipynb\n",
      "Fichier -- F:\\PythonFormation\\Presentations: Le Dictionnaire a un attribut dict.ipynb\n",
      "Fichier -- F:\\PythonFormation\\Presentations: Le Dictionnaire heritage dict.ipynb\n",
      "Fichier -- F:\\PythonFormation\\Presentations: Lecture.Fichier.CSV.ipynb\n",
      "Fichier -- F:\\PythonFormation\\Presentations: LesFichiers.py\n",
      "Fichier -- F:\\PythonFormation\\Presentations: Untitled.ipynb\n",
      "\n",
      "Le dossier actuel est F:\\PythonFormation\\Presentations\\.ipynb_checkpoints\n",
      "Fichier -- F:\\PythonFormation\\Presentations\\.ipynb_checkpoints: 01-La syntaxe basique-checkpoint.ipynb\n",
      "Fichier -- F:\\PythonFormation\\Presentations\\.ipynb_checkpoints: 02-Les instructions itératives et conditionnelles  -checkpoint.ipynb\n",
      "Fichier -- F:\\PythonFormation\\Presentations\\.ipynb_checkpoints: 02-L’instruction for-checkpoint.ipynb\n",
      "Fichier -- F:\\PythonFormation\\Presentations\\.ipynb_checkpoints: 03-Les chaînes de caractères-checkpoint.ipynb\n",
      "Fichier -- F:\\PythonFormation\\Presentations\\.ipynb_checkpoints: 04-Les structures de données-checkpoint.ipynb\n",
      "Fichier -- F:\\PythonFormation\\Presentations\\.ipynb_checkpoints: 05-Les fonctions-checkpoint.ipynb\n",
      "Fichier -- F:\\PythonFormation\\Presentations\\.ipynb_checkpoints: 06-Décorateur-checkpoint.ipynb\n",
      "Fichier -- F:\\PythonFormation\\Presentations\\.ipynb_checkpoints: 07-Les exceptions-checkpoint.ipynb\n",
      "Fichier -- F:\\PythonFormation\\Presentations\\.ipynb_checkpoints: 08-Les listes et les sets--les optimisations des traitemets-checkpoint.ipynb\n",
      "Fichier -- F:\\PythonFormation\\Presentations\\.ipynb_checkpoints: 09-L’utilisation des fichiers 01-checkpoint.ipynb\n",
      "Fichier -- F:\\PythonFormation\\Presentations\\.ipynb_checkpoints: 09-L’utilisation des fichiers 02-checkpoint.ipynb\n",
      "Fichier -- F:\\PythonFormation\\Presentations\\.ipynb_checkpoints: 09-L’utilisation des fichiers 03-checkpoint.ipynb\n",
      "Fichier -- F:\\PythonFormation\\Presentations\\.ipynb_checkpoints: 09-L’utilisation des fichiers 04-checkpoint.ipynb\n",
      "Fichier -- F:\\PythonFormation\\Presentations\\.ipynb_checkpoints: Aide.Atelier_5-checkpoint.ipynb\n",
      "Fichier -- F:\\PythonFormation\\Presentations\\.ipynb_checkpoints: La POO en Python 01-checkpoint.ipynb\n",
      "Fichier -- F:\\PythonFormation\\Presentations\\.ipynb_checkpoints: La POO en Python 02-checkpoint.ipynb\n",
      "Fichier -- F:\\PythonFormation\\Presentations\\.ipynb_checkpoints: La POO en Python 03-checkpoint.ipynb\n",
      "Fichier -- F:\\PythonFormation\\Presentations\\.ipynb_checkpoints: La POO en Python 04-checkpoint.ipynb\n",
      "Fichier -- F:\\PythonFormation\\Presentations\\.ipynb_checkpoints: Le Dictionnaire a un attribut dict-checkpoint.ipynb\n",
      "Fichier -- F:\\PythonFormation\\Presentations\\.ipynb_checkpoints: Le Dictionnaire heritage dict-checkpoint.ipynb\n",
      "Fichier -- F:\\PythonFormation\\Presentations\\.ipynb_checkpoints: Lecture.Fichier.CSV-checkpoint.ipynb\n",
      "Fichier -- F:\\PythonFormation\\Presentations\\.ipynb_checkpoints: Untitled-checkpoint.ipynb\n",
      "\n",
      "Le dossier actuel est F:\\PythonFormation\\Presentations\\donnees\n",
      "Fichier -- F:\\PythonFormation\\Presentations\\donnees: Couleurs.txt\n",
      "Fichier -- F:\\PythonFormation\\Presentations\\donnees: Couleurs01.txt\n",
      "Fichier -- F:\\PythonFormation\\Presentations\\donnees: donnees_binaires\n",
      "Fichier -- F:\\PythonFormation\\Presentations\\donnees: Fichiertexte.txt\n",
      "Fichier -- F:\\PythonFormation\\Presentations\\donnees: FichiertexteOutput.txt\n",
      "Fichier -- F:\\PythonFormation\\Presentations\\donnees: FichiertexteOutput1.txt\n",
      "Fichier -- F:\\PythonFormation\\Presentations\\donnees: infos.txt\n",
      "Fichier -- F:\\PythonFormation\\Presentations\\donnees: MonFic.txt\n",
      "Fichier -- F:\\PythonFormation\\Presentations\\donnees: shelveFichier.bak\n",
      "Fichier -- F:\\PythonFormation\\Presentations\\donnees: shelveFichier.dat\n",
      "Fichier -- F:\\PythonFormation\\Presentations\\donnees: shelveFichier.dir\n",
      "\n",
      "Le dossier actuel est F:\\PythonFormation\\Presentations\\donnees\\.ipynb_checkpoints\n",
      "Fichier -- F:\\PythonFormation\\Presentations\\donnees\\.ipynb_checkpoints: Couleurs01-checkpoint.txt\n",
      "\n",
      "Le dossier actuel est F:\\PythonFormation\\Presentations\\scripts\n",
      "Fichier -- F:\\PythonFormation\\Presentations\\scripts: accumulate_reduce.py\n",
      "Fichier -- F:\\PythonFormation\\Presentations\\scripts: add_ex.py\n",
      "Fichier -- F:\\PythonFormation\\Presentations\\scripts: Atelier_5.4.1.n.py\n",
      "Fichier -- F:\\PythonFormation\\Presentations\\scripts: main.py\n",
      "Fichier -- F:\\PythonFormation\\Presentations\\scripts: min_max_values.py\n",
      "Fichier -- F:\\PythonFormation\\Presentations\\scripts: perf_lecture.py\n",
      "Fichier -- F:\\PythonFormation\\Presentations\\scripts: product.py\n",
      "Fichier -- F:\\PythonFormation\\Presentations\\scripts: readability.py\n",
      "Fichier -- F:\\PythonFormation\\Presentations\\scripts: test.py\n",
      "Fichier -- F:\\PythonFormation\\Presentations\\scripts: test_perf.py\n",
      "\n",
      "Le dossier actuel est F:\\PythonFormation\\Presentations\\test\n",
      "\n",
      "Le dossier actuel est F:\\PythonFormation\\Presentations\\__pycache__\n",
      "Fichier -- F:\\PythonFormation\\Presentations\\__pycache__: LesFichiers.cpython-310.pyc\n",
      "\n"
     ]
    }
   ],
   "source": [
    "for repN, susRep, fichiers in os.walk(os.getcwd()):\n",
    "    print('Le dossier actuel est ' + repN)\n",
    "    for fichier in fichiers:\n",
    "        print('Fichier -- ' + repN + ': '+ fichier)\n",
    "    print('')"
   ]
  },
  {
   "cell_type": "code",
   "execution_count": 3,
   "metadata": {},
   "outputs": [],
   "source": [
    "os.mkdir(\"F:/PythonFormation/Presentations/repCompress\")\n",
    "def compressRepertoire(nomRepertoire) :\n",
    "    os.chdir(nomRepertoire)\n",
    "    with zipfile.ZipFile(\"F:/PythonFormation/Presentations/repCompress/compressRep.zip\", \"w\") as file:\n",
    "        for repN, susRep, fichiers in os.walk(nomRepertoire):\n",
    "            for fichier in fichiers:\n",
    "                file.write (os.path.join(repN,fichier),fichier,\\\n",
    "                    zipfile.ZIP_DEFLATED) \n"
   ]
  },
  {
   "cell_type": "code",
   "execution_count": 4,
   "metadata": {},
   "outputs": [
    {
     "name": "stdout",
     "output_type": "stream",
     "text": [
      "F:\\PythonFormation\\Presentations\n"
     ]
    }
   ],
   "source": [
    "print(os.getcwd())\n",
    "os.chdir(\"donnees\")"
   ]
  },
  {
   "cell_type": "code",
   "execution_count": 5,
   "metadata": {},
   "outputs": [
    {
     "name": "stdout",
     "output_type": "stream",
     "text": [
      "F:\\PythonFormation\\Presentations\\donnees\n"
     ]
    }
   ],
   "source": [
    "print(os.getcwd())\n",
    "compressRepertoire(os.getcwd())"
   ]
  },
  {
   "cell_type": "code",
   "execution_count": 14,
   "metadata": {},
   "outputs": [
    {
     "name": "stdout",
     "output_type": "stream",
     "text": [
      " Le volume dans le lecteur F s'appelle Data\n",
      " Le num‚ro de s‚rie du volume est D4F7-8E12\n",
      "\n",
      " R‚pertoire de F:\\PythonFormation\\Presentations\\donnees\n",
      "\n",
      "14/12/2023  13:18    <DIR>          .\n",
      "14/12/2023  13:18    <DIR>          ..\n",
      "30/11/2023  13:43    <DIR>          .ipynb_checkpoints\n",
      "14/12/2023  09:30               137 Couleurs.txt\n",
      "14/12/2023  09:30               137 Couleurs01.txt\n",
      "14/12/2023  11:21                61 donnees_binaires\n",
      "14/12/2023  09:31               112 Fichiertexte.txt\n",
      "14/12/2023  09:31                88 FichiertexteOutput.txt\n",
      "14/12/2023  13:20                89 FichiertexteOutput1.txt\n",
      "14/12/2023  11:19                93 infos.txt\n",
      "14/12/2023  11:16               190 MonFic.txt\n",
      "14/12/2023  09:31                81 shelveFichier.bak\n",
      "14/12/2023  09:31             1ÿ582 shelveFichier.dat\n",
      "14/12/2023  09:31                81 shelveFichier.dir\n",
      "              11 fichier(s)            2ÿ651 octets\n",
      "               3 R‚p(s)  144ÿ918ÿ523ÿ904 octets libres\n"
     ]
    }
   ],
   "source": []
  },
  {
   "cell_type": "code",
   "execution_count": 6,
   "metadata": {},
   "outputs": [
    {
     "name": "stdout",
     "output_type": "stream",
     "text": [
      "Ceci est la ligne un\n",
      "Voici la ligne deux\n",
      "Voici la ligne trois\n",
      "Voici la ligne quatre\n",
      "#Voici la ligne quatre\n",
      "\n"
     ]
    }
   ],
   "source": [
    "def lireFichier(nomFichier,archive) :\n",
    "    with zipfile.ZipFile(archive, \"r\") as file:\n",
    "        print(file.read(nomFichier).decode()) \n",
    "\n",
    "lireFichier(\"Fichiertexte.txt\",\"F:/PythonFormation/Presentations/repCompress/compressRep.zip\")"
   ]
  },
  {
   "cell_type": "code",
   "execution_count": null,
   "metadata": {},
   "outputs": [],
   "source": []
  }
 ],
 "metadata": {
  "kernelspec": {
   "display_name": "Python 3 (ipykernel)",
   "language": "python",
   "name": "python3"
  },
  "language_info": {
   "codemirror_mode": {
    "name": "ipython",
    "version": 3
   },
   "file_extension": ".py",
   "mimetype": "text/x-python",
   "name": "python",
   "nbconvert_exporter": "python",
   "pygments_lexer": "ipython3",
   "version": "3.10.0"
  }
 },
 "nbformat": 4,
 "nbformat_minor": 4
}

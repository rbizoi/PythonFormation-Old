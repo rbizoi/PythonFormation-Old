{
 "cells": [
  {
   "cell_type": "code",
   "execution_count": 1,
   "metadata": {},
   "outputs": [],
   "source": [
    "import os\n",
    "os.chdir(\"./donnees\")\n",
    "#nomFichier=input('Nom fichier texte:')\n",
    "nomFichier=\"Fichiertexte.txt\""
   ]
  },
  {
   "cell_type": "code",
   "execution_count": 2,
   "metadata": {},
   "outputs": [],
   "source": [
    "with open(nomFichier,'w') as nomFic :\n",
    "    nomFic.write(\"Ceci est la ligne un\\nVoici la ligne deux\\n\")\n",
    "    nomFic.write(\"Voici la ligne trois\\nVoici la ligne quatre\\n\")\n",
    "    nomFic.write(\"#Voici la ligne quatre\\n\")"
   ]
  },
  {
   "cell_type": "code",
   "execution_count": 3,
   "metadata": {},
   "outputs": [
    {
     "name": "stdout",
     "output_type": "stream",
     "text": [
      "Ceci est la ligne un\n",
      "Voici la ligne deux\n",
      "Voici la ligne trois\n",
      "Voici la ligne quatre\n",
      "#Voici la ligne quatre\n",
      "\n"
     ]
    }
   ],
   "source": [
    "with open(nomFichier,'r') as nomFic :\n",
    "    print(nomFic.read())"
   ]
  },
  {
   "cell_type": "code",
   "execution_count": 4,
   "metadata": {},
   "outputs": [
    {
     "name": "stdout",
     "output_type": "stream",
     "text": [
      "['Ceci est la ligne un\\n', 'Voici la ligne deux\\n', 'Voici la ligne trois\\n', 'Voici la ligne quatre\\n', '#Voici la ligne quatre\\n']\n"
     ]
    }
   ],
   "source": [
    "with open(nomFichier,'r') as nomFic :\n",
    "    print(nomFic.readlines())"
   ]
  },
  {
   "cell_type": "code",
   "execution_count": 5,
   "metadata": {},
   "outputs": [],
   "source": [
    "def filtre(source,destination):\n",
    "    \"\"\"recopier un fichier en\n",
    "    éliminant les lignes de remarques\"\"\"\n",
    "    with open(source, 'r') as fs:\n",
    "        with open(destination, 'w') as fd:\n",
    "            while 1:\n",
    "                txt = fs.readline()\n",
    "                if txt =='':\n",
    "                    break\n",
    "                if txt[0] != '#':\n",
    "                    fd.write(txt)"
   ]
  },
  {
   "cell_type": "code",
   "execution_count": 6,
   "metadata": {},
   "outputs": [],
   "source": [
    "filtre(nomFichier,'FichiertexteOutput.txt')"
   ]
  },
  {
   "cell_type": "code",
   "execution_count": 7,
   "metadata": {},
   "outputs": [
    {
     "name": "stdout",
     "output_type": "stream",
     "text": [
      "Ceci est la ligne un\n",
      "Voici la ligne deux\n",
      "Voici la ligne trois\n",
      "Voici la ligne quatre\n",
      "\n"
     ]
    }
   ],
   "source": [
    "with open('FichiertexteOutput.txt', 'r') as f:\n",
    "    print(f.read())"
   ]
  },
  {
   "cell_type": "code",
   "execution_count": null,
   "metadata": {},
   "outputs": [],
   "source": []
  },
  {
   "cell_type": "code",
   "execution_count": null,
   "metadata": {},
   "outputs": [],
   "source": []
  }
 ],
 "metadata": {
  "kernelspec": {
   "display_name": "Python 3 (ipykernel)",
   "language": "python",
   "name": "python3"
  },
  "language_info": {
   "codemirror_mode": {
    "name": "ipython",
    "version": 3
   },
   "file_extension": ".py",
   "mimetype": "text/x-python",
   "name": "python",
   "nbconvert_exporter": "python",
   "pygments_lexer": "ipython3",
   "version": "3.10.0"
  }
 },
 "nbformat": 4,
 "nbformat_minor": 4
}

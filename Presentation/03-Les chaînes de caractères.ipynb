{
 "cells": [
  {
   "cell_type": "markdown",
   "metadata": {},
   "source": [
    "# Les chaînes de caractères"
   ]
  },
  {
   "cell_type": "markdown",
   "metadata": {},
   "source": [
    "Le terme \"chaîne de caractères\" ou string en anglais signifie une suite finie de caractères, autrement dit, du texte. Ce texte est compris entre deux guillemets ou deux apostrophes, ces deux symboles sont interchangeables."
   ]
  },
  {
   "cell_type": "code",
   "execution_count": 1,
   "metadata": {
    "ExecuteTime": {
     "end_time": "2019-07-08T09:51:43.632657Z",
     "start_time": "2019-07-08T09:51:43.601414Z"
    }
   },
   "outputs": [
    {
     "name": "stdout",
     "output_type": "stream",
     "text": [
      "<class 'str'> string = texte\n"
     ]
    }
   ],
   "source": [
    "t = \"string = texte\" \n",
    "print (type (t), t)"
   ]
  },
  {
   "cell_type": "code",
   "execution_count": 2,
   "metadata": {
    "ExecuteTime": {
     "end_time": "2019-07-08T09:51:43.663898Z",
     "start_time": "2019-07-08T09:51:43.632657Z"
    }
   },
   "outputs": [
    {
     "data": {
      "text/plain": [
       "'s'"
      ]
     },
     "execution_count": 2,
     "metadata": {},
     "output_type": "execute_result"
    }
   ],
   "source": [
    "t[0]"
   ]
  },
  {
   "cell_type": "code",
   "execution_count": 3,
   "metadata": {
    "ExecuteTime": {
     "end_time": "2019-07-08T09:51:43.679520Z",
     "start_time": "2019-07-08T09:51:43.663898Z"
    }
   },
   "outputs": [
    {
     "name": "stdout",
     "output_type": "stream",
     "text": [
      "s-t-r-i-n-g- -=- -t-e-x-t-e-"
     ]
    }
   ],
   "source": [
    "for c in t : print(c, end='-')"
   ]
  },
  {
   "cell_type": "code",
   "execution_count": 4,
   "metadata": {
    "ExecuteTime": {
     "end_time": "2019-07-08T09:51:43.695169Z",
     "start_time": "2019-07-08T09:51:43.679520Z"
    }
   },
   "outputs": [
    {
     "name": "stdout",
     "output_type": "stream",
     "text": [
      "nouvelle chaine nouvelle chaine \n"
     ]
    }
   ],
   "source": [
    "t1 = \"nouvelle chaine \"\\\n",
    "     \"nouvelle chaine \"\n",
    "\n",
    "print(t1)\n",
    "t2 = t1 + t"
   ]
  },
  {
   "cell_type": "code",
   "execution_count": 5,
   "metadata": {
    "ExecuteTime": {
     "end_time": "2019-07-08T09:51:43.710760Z",
     "start_time": "2019-07-08T09:51:43.695169Z"
    }
   },
   "outputs": [
    {
     "data": {
      "text/plain": [
       "(2834605164976, 2834605175360, 2834604959376)"
      ]
     },
     "execution_count": 5,
     "metadata": {},
     "output_type": "execute_result"
    }
   ],
   "source": [
    "id(t),id(t1),id(t2)"
   ]
  },
  {
   "cell_type": "code",
   "execution_count": 6,
   "metadata": {
    "ExecuteTime": {
     "end_time": "2019-07-08T09:51:43.726384Z",
     "start_time": "2019-07-08T09:51:43.710760Z"
    }
   },
   "outputs": [
    {
     "data": {
      "text/plain": [
       "'Nouvelle chaine nouvelle chaine '"
      ]
     },
     "execution_count": 6,
     "metadata": {},
     "output_type": "execute_result"
    }
   ],
   "source": [
    "t1 = 'N'+t1[1:]\n",
    "t1"
   ]
  },
  {
   "cell_type": "code",
   "execution_count": 7,
   "metadata": {
    "ExecuteTime": {
     "end_time": "2019-07-08T09:51:43.754020Z",
     "start_time": "2019-07-08T09:51:43.726384Z"
    }
   },
   "outputs": [
    {
     "name": "stdout",
     "output_type": "stream",
     "text": [
      "<class 'str'> string = texte, initialisation avec apostrophes\n"
     ]
    }
   ],
   "source": [
    "t = 'string = texte, initialisation avec apostrophes'\n",
    "print (type (t), t)"
   ]
  },
  {
   "cell_type": "code",
   "execution_count": 8,
   "metadata": {
    "ExecuteTime": {
     "end_time": "2019-07-08T09:51:43.769669Z",
     "start_time": "2019-07-08T09:51:43.754020Z"
    }
   },
   "outputs": [
    {
     "name": "stdout",
     "output_type": "stream",
     "text": [
      "morceau 1morceau 2\n"
     ]
    }
   ],
   "source": [
    "t = \"morceau 1\" \\\n",
    "    \"morceau 2\"\n",
    "print (t)"
   ]
  },
  {
   "cell_type": "code",
   "execution_count": 9,
   "metadata": {
    "ExecuteTime": {
     "end_time": "2019-07-08T09:51:43.785265Z",
     "start_time": "2019-07-08T09:51:43.769669Z"
    }
   },
   "outputs": [
    {
     "name": "stdout",
     "output_type": "stream",
     "text": [
      "morceau 1 morceau 2\n"
     ]
    }
   ],
   "source": [
    "t = \"morceau 1 morceau 2\"\n",
    "print (t)"
   ]
  },
  {
   "cell_type": "code",
   "execution_count": 10,
   "metadata": {
    "ExecuteTime": {
     "end_time": "2019-07-08T09:51:43.800911Z",
     "start_time": "2019-07-08T09:51:43.785265Z"
    }
   },
   "outputs": [
    {
     "name": "stdout",
     "output_type": "stream",
     "text": [
      "première ligne\n",
      "\n",
      "\n",
      "seconde ligne\n"
     ]
    },
    {
     "data": {
      "text/plain": [
       "'première ligne\\n\\n\\nseconde ligne'"
      ]
     },
     "execution_count": 10,
     "metadata": {},
     "output_type": "execute_result"
    }
   ],
   "source": [
    "t = \"\"\"première ligne\n",
    "\n",
    "\n",
    "seconde ligne\"\"\"\n",
    "print (t)\n",
    "t"
   ]
  },
  {
   "cell_type": "code",
   "execution_count": 11,
   "metadata": {
    "ExecuteTime": {
     "end_time": "2019-07-08T09:51:43.816502Z",
     "start_time": "2019-07-08T09:51:43.800911Z"
    }
   },
   "outputs": [
    {
     "name": "stdout",
     "output_type": "stream",
     "text": [
      "première ligne\n",
      "\n",
      "\n",
      "seconde ligne\n"
     ]
    },
    {
     "data": {
      "text/plain": [
       "'première ligne\\n\\n\\nseconde ligne'"
      ]
     },
     "execution_count": 11,
     "metadata": {},
     "output_type": "execute_result"
    }
   ],
   "source": [
    "t = '''première ligne\n",
    "\n",
    "\n",
    "seconde ligne'''\n",
    "print (t)\n",
    "t"
   ]
  },
  {
   "cell_type": "code",
   "execution_count": 12,
   "metadata": {
    "ExecuteTime": {
     "end_time": "2019-07-08T09:51:43.832126Z",
     "start_time": "2019-07-08T09:51:43.816502Z"
    }
   },
   "outputs": [
    {
     "name": "stdout",
     "output_type": "stream",
     "text": [
      "première ligneseconde ligne\n"
     ]
    },
    {
     "data": {
      "text/plain": [
       "'première ligneseconde ligne'"
      ]
     },
     "execution_count": 12,
     "metadata": {},
     "output_type": "execute_result"
    }
   ],
   "source": [
    "t = 'première ligne'+'seconde ligne'\n",
    "print(t)\n",
    "t"
   ]
  },
  {
   "cell_type": "code",
   "execution_count": 13,
   "metadata": {
    "ExecuteTime": {
     "end_time": "2019-07-08T09:51:43.860311Z",
     "start_time": "2019-07-08T09:51:43.832126Z"
    }
   },
   "outputs": [
    {
     "name": "stdout",
     "output_type": "stream",
     "text": [
      " <class 'str'> C:\\Users\\exemple.txt \n",
      " <class 'str'> C:\\Users\\exemple.txt\n"
     ]
    }
   ],
   "source": [
    "s1 = \"C:\\\\Users\\\\exemple.txt\"\n",
    "s2 =r\"C:\\Users\\exemple.txt\"\n",
    "print('',type(s1),s1,'\\n',type(s2),s2)"
   ]
  },
  {
   "cell_type": "code",
   "execution_count": 14,
   "metadata": {
    "ExecuteTime": {
     "end_time": "2019-07-08T09:51:43.875905Z",
     "start_time": "2019-07-08T09:51:43.860311Z"
    }
   },
   "outputs": [
    {
     "name": "stdout",
     "output_type": "stream",
     "text": [
      "\n",
      "Exemple de texte préformaté, c'est-à-dire\n",
      "dont les indentations et les\n",
      "caractères spéciaux \\ ' \" sont\n",
      "conservés sans\n",
      "autre forme de procès.\n"
     ]
    }
   ],
   "source": [
    "a1 = \"\"\"\n",
    "Exemple de texte préformaté, c'est-à-dire\n",
    "dont les indentations et les\n",
    "caractères spéciaux \\ ' \" sont\n",
    "conservés sans\n",
    "autre forme de procès.\"\"\"\n",
    "print(a1)"
   ]
  },
  {
   "cell_type": "markdown",
   "metadata": {},
   "source": [
    "# Manipulation d’une chaîne"
   ]
  },
  {
   "cell_type": "code",
   "execution_count": 15,
   "metadata": {
    "ExecuteTime": {
     "end_time": "2019-07-08T09:51:43.891525Z",
     "start_time": "2019-07-08T09:51:43.875905Z"
    }
   },
   "outputs": [
    {
     "name": "stdout",
     "output_type": "stream",
     "text": [
      "\"Oui\", répondit-il, j'aime bien les oeufs durs.\n"
     ]
    }
   ],
   "source": [
    "phrase1 = 'les oeufs durs.'\n",
    "phrase2 = '\"Oui\", répondit-il,'\n",
    "phrase3 = \"j'aime bien\"\n",
    "print(phrase2, phrase3, phrase1)"
   ]
  },
  {
   "cell_type": "code",
   "execution_count": 16,
   "metadata": {
    "ExecuteTime": {
     "end_time": "2019-07-08T09:51:43.907143Z",
     "start_time": "2019-07-08T09:51:43.891525Z"
    }
   },
   "outputs": [
    {
     "name": "stdout",
     "output_type": "stream",
     "text": [
      "\"Oui\", répondit-il,j'aime bien les oeufs durs.\n"
     ]
    }
   ],
   "source": [
    "phrase = phrase2 + phrase3 + ' ' + phrase1\n",
    "print(phrase)"
   ]
  },
  {
   "cell_type": "code",
   "execution_count": 17,
   "metadata": {
    "ExecuteTime": {
     "end_time": "2019-07-08T09:51:43.938418Z",
     "start_time": "2019-07-08T09:51:43.907143Z"
    }
   },
   "outputs": [
    {
     "name": "stdout",
     "output_type": "stream",
     "text": [
      "2\n",
      "35\n"
     ]
    },
    {
     "data": {
      "text/plain": [
       "'oeufs'"
      ]
     },
     "execution_count": 17,
     "metadata": {},
     "output_type": "execute_result"
    }
   ],
   "source": [
    "print(phrase.count('o'))\n",
    "print(phrase.find('oeuf'))\n",
    "phrase[35:40]"
   ]
  },
  {
   "cell_type": "code",
   "execution_count": 18,
   "metadata": {
    "ExecuteTime": {
     "end_time": "2019-07-08T09:51:43.954010Z",
     "start_time": "2019-07-08T09:51:43.938418Z"
    }
   },
   "outputs": [
    {
     "name": "stdout",
     "output_type": "stream",
     "text": [
      "\"Oui\", répondit-il,j'aime bien les oeufs durs.\n",
      "Oui, répondit-il,j'aime bien les oeufs durs.\n"
     ]
    }
   ],
   "source": [
    "print(phrase)\n",
    "print(phrase.replace('\\\"',''))"
   ]
  },
  {
   "cell_type": "code",
   "execution_count": 19,
   "metadata": {
    "ExecuteTime": {
     "end_time": "2019-07-08T09:51:43.969630Z",
     "start_time": "2019-07-08T09:51:43.954010Z"
    }
   },
   "outputs": [
    {
     "data": {
      "text/plain": [
       "['1', '2', '3']"
      ]
     },
     "execution_count": 19,
     "metadata": {},
     "output_type": "execute_result"
    }
   ],
   "source": [
    "'1,2,3'.split(',')"
   ]
  },
  {
   "cell_type": "code",
   "execution_count": 20,
   "metadata": {
    "ExecuteTime": {
     "end_time": "2019-07-08T09:51:43.985252Z",
     "start_time": "2019-07-08T09:51:43.969630Z"
    }
   },
   "outputs": [
    {
     "name": "stdout",
     "output_type": "stream",
     "text": [
      "\"Oui\", répondit-il,j'aime bien les oeufs durs.\n",
      "['\"Oui\"', \" répondit-il,j'aime bien les oeufs durs.\"]\n",
      "['\"Oui\"', ' répondit-il', \"j'aime bien les oeufs durs.\"]\n"
     ]
    }
   ],
   "source": [
    "print(phrase)\n",
    "print(phrase.split(',', maxsplit=1))\n",
    "print(phrase.split(','))"
   ]
  },
  {
   "cell_type": "code",
   "execution_count": 21,
   "metadata": {
    "ExecuteTime": {
     "end_time": "2019-07-08T09:51:44.000873Z",
     "start_time": "2019-07-08T09:51:43.985252Z"
    }
   },
   "outputs": [
    {
     "data": {
      "text/plain": [
       "'Section 3.2.1 Issue #32'"
      ]
     },
     "execution_count": 21,
     "metadata": {},
     "output_type": "execute_result"
    }
   ],
   "source": [
    "s = '#....... Section 3.2.1 Issue #32 .......'\n",
    "s.strip('.#! ')"
   ]
  },
  {
   "cell_type": "code",
   "execution_count": 22,
   "metadata": {
    "ExecuteTime": {
     "end_time": "2019-07-08T09:51:44.141496Z",
     "start_time": "2019-07-08T09:51:44.000873Z"
    }
   },
   "outputs": [
    {
     "ename": "TypeError",
     "evalue": "'str' object does not support item assignment",
     "output_type": "error",
     "traceback": [
      "\u001b[1;31m---------------------------------------------------------------------------\u001b[0m",
      "\u001b[1;31mTypeError\u001b[0m                                 Traceback (most recent call last)",
      "\u001b[1;32m<ipython-input-22-a76983768d15>\u001b[0m in \u001b[0;36m<module>\u001b[1;34m\u001b[0m\n\u001b[0;32m      1\u001b[0m \u001b[0ms\u001b[0m\u001b[1;33m=\u001b[0m\u001b[1;34m\"abcd\"\u001b[0m\u001b[1;33m\u001b[0m\u001b[1;33m\u001b[0m\u001b[0m\n\u001b[1;32m----> 2\u001b[1;33m \u001b[0ms\u001b[0m\u001b[1;33m[\u001b[0m\u001b[1;36m1\u001b[0m\u001b[1;33m]\u001b[0m\u001b[1;33m=\u001b[0m\u001b[1;34m'c'\u001b[0m\u001b[1;33m\u001b[0m\u001b[1;33m\u001b[0m\u001b[0m\n\u001b[0m",
      "\u001b[1;31mTypeError\u001b[0m: 'str' object does not support item assignment"
     ]
    }
   ],
   "source": [
    "s=\"abcd\"\n",
    "s[1]='c'"
   ]
  },
  {
   "cell_type": "code",
   "execution_count": 23,
   "metadata": {
    "ExecuteTime": {
     "end_time": "2019-07-08T09:51:57.359791Z",
     "start_time": "2019-07-08T09:51:57.344170Z"
    }
   },
   "outputs": [
    {
     "name": "stdout",
     "output_type": "stream",
     "text": [
      "a\n",
      "b\n",
      "c\n",
      "d\n"
     ]
    }
   ],
   "source": [
    "for i in s: print(i)"
   ]
  },
  {
   "cell_type": "code",
   "execution_count": 24,
   "metadata": {
    "ExecuteTime": {
     "end_time": "2019-07-08T09:51:57.406653Z",
     "start_time": "2019-07-08T09:51:57.359791Z"
    }
   },
   "outputs": [
    {
     "ename": "TypeError",
     "evalue": "'str' object does not support item assignment",
     "output_type": "error",
     "traceback": [
      "\u001b[1;31m---------------------------------------------------------------------------\u001b[0m",
      "\u001b[1;31mTypeError\u001b[0m                                 Traceback (most recent call last)",
      "\u001b[1;32m<ipython-input-24-a76983768d15>\u001b[0m in \u001b[0;36m<module>\u001b[1;34m\u001b[0m\n\u001b[0;32m      1\u001b[0m \u001b[0ms\u001b[0m\u001b[1;33m=\u001b[0m\u001b[1;34m\"abcd\"\u001b[0m\u001b[1;33m\u001b[0m\u001b[1;33m\u001b[0m\u001b[0m\n\u001b[1;32m----> 2\u001b[1;33m \u001b[0ms\u001b[0m\u001b[1;33m[\u001b[0m\u001b[1;36m1\u001b[0m\u001b[1;33m]\u001b[0m\u001b[1;33m=\u001b[0m\u001b[1;34m'c'\u001b[0m\u001b[1;33m\u001b[0m\u001b[1;33m\u001b[0m\u001b[0m\n\u001b[0m",
      "\u001b[1;31mTypeError\u001b[0m: 'str' object does not support item assignment"
     ]
    }
   ],
   "source": [
    "s=\"abcd\"\n",
    "s[1]='c'"
   ]
  },
  {
   "cell_type": "code",
   "execution_count": null,
   "metadata": {
    "ExecuteTime": {
     "end_time": "2019-07-08T09:51:57.406653Z",
     "start_time": "2019-07-08T09:51:57.364Z"
    }
   },
   "outputs": [],
   "source": [
    "s[0]+'c'+s[2:4]"
   ]
  },
  {
   "cell_type": "code",
   "execution_count": null,
   "metadata": {
    "ExecuteTime": {
     "end_time": "2019-07-08T09:51:57.406653Z",
     "start_time": "2019-07-08T09:51:57.372Z"
    }
   },
   "outputs": [],
   "source": [
    "s = '01234567890123456789012345678901234567890123456789'\n",
    "s"
   ]
  },
  {
   "cell_type": "code",
   "execution_count": null,
   "metadata": {},
   "outputs": [],
   "source": []
  },
  {
   "cell_type": "code",
   "execution_count": null,
   "metadata": {
    "ExecuteTime": {
     "end_time": "2019-07-08T09:51:57.406653Z",
     "start_time": "2019-07-08T09:51:57.378Z"
    }
   },
   "outputs": [],
   "source": [
    "for i in range(len(s)):\n",
    "    print(s[len(s)-1-i],sep='',end='')"
   ]
  },
  {
   "cell_type": "code",
   "execution_count": null,
   "metadata": {},
   "outputs": [],
   "source": []
  },
  {
   "cell_type": "markdown",
   "metadata": {},
   "source": [
    "# Formatage d’une chaîne"
   ]
  },
  {
   "cell_type": "code",
   "execution_count": null,
   "metadata": {
    "ExecuteTime": {
     "end_time": "2019-07-08T09:51:57.406653Z",
     "start_time": "2019-07-08T09:51:57.384Z"
    }
   },
   "outputs": [],
   "source": [
    "x,d,s = 5.5,7,\"caractères\"\n",
    "res = \"un nombre réel %f et un entier %d, une chaîne de %s, \\n\"\\\n",
    "  \"un réel d'abord converti en  chaîne de  caractères %s\" \\\n",
    "  %  (x,d,s, str(x+4))\n",
    "print(res)"
   ]
  },
  {
   "cell_type": "code",
   "execution_count": null,
   "metadata": {
    "ExecuteTime": {
     "end_time": "2019-07-08T09:51:57.406653Z",
     "start_time": "2019-07-08T09:51:57.388Z"
    }
   },
   "outputs": [],
   "source": [
    "print(\"un nombre réel %f et un entier %d, une chaîne de %s, \\n\"\\\n",
    "  \"un réel d'abord converti en  chaîne de  caractères %s\" \\\n",
    "  %  (x,d,s, str(x+4)))"
   ]
  },
  {
   "cell_type": "code",
   "execution_count": null,
   "metadata": {
    "ExecuteTime": {
     "end_time": "2019-07-08T09:51:57.406653Z",
     "start_time": "2019-07-08T09:51:57.394Z"
    }
   },
   "outputs": [],
   "source": [
    "print(\"%.2e\"%100000000001)"
   ]
  },
  {
   "cell_type": "code",
   "execution_count": null,
   "metadata": {
    "ExecuteTime": {
     "end_time": "2019-07-08T09:51:57.406653Z",
     "start_time": "2019-07-08T09:51:57.398Z"
    }
   },
   "outputs": [],
   "source": [
    "print(\"%g\"%100000000001)"
   ]
  },
  {
   "cell_type": "code",
   "execution_count": null,
   "metadata": {
    "ExecuteTime": {
     "end_time": "2019-07-08T09:51:57.406653Z",
     "start_time": "2019-07-08T09:51:57.401Z"
    }
   },
   "outputs": [],
   "source": [
    "print(\"%d\"%100000000001)"
   ]
  },
  {
   "cell_type": "code",
   "execution_count": null,
   "metadata": {
    "ExecuteTime": {
     "end_time": "2019-07-08T09:51:57.422276Z",
     "start_time": "2019-07-08T09:51:57.404Z"
    }
   },
   "outputs": [],
   "source": [
    "res = \"un nombre réel \" + str (x) + \\\n",
    "      \" et un entier \" + str (d) + \\\n",
    "      \", une chaîne de \" + s + \\\n",
    "      \",\\n un réel d’abord converti en chaîne de caractères \"\\\n",
    "      + str(x+4)\n",
    "print(res)"
   ]
  },
  {
   "cell_type": "code",
   "execution_count": 25,
   "metadata": {
    "ExecuteTime": {
     "end_time": "2019-07-08T09:51:57.547249Z",
     "start_time": "2019-07-08T09:51:57.531659Z"
    }
   },
   "outputs": [
    {
     "name": "stdout",
     "output_type": "stream",
     "text": [
      "0.123456789\n",
      "0.12\n",
      "000.12\n"
     ]
    }
   ],
   "source": [
    "x = 0.123456789\n",
    "print (x)\n",
    "print (\"%1.2f\"%x)\n",
    "print (\"%06.2f\"%x)"
   ]
  },
  {
   "cell_type": "code",
   "execution_count": 26,
   "metadata": {
    "ExecuteTime": {
     "end_time": "2019-07-08T09:51:57.562869Z",
     "start_time": "2019-07-08T09:51:57.547249Z"
    }
   },
   "outputs": [
    {
     "name": "stdout",
     "output_type": "stream",
     "text": [
      "La couleur est verte et la température vaut 17.247 °C\n"
     ]
    }
   ],
   "source": [
    "coul =\"verte\"\n",
    "temp =1.347 + 15.9\n",
    "ch =\"La couleur est {} et la température vaut {} °C\"\n",
    "print(ch.format(coul, temp))"
   ]
  },
  {
   "cell_type": "code",
   "execution_count": 27,
   "metadata": {
    "ExecuteTime": {
     "end_time": "2019-07-08T09:51:57.578490Z",
     "start_time": "2019-07-08T09:51:57.562869Z"
    }
   },
   "outputs": [
    {
     "name": "stdout",
     "output_type": "stream",
     "text": [
      "L'aire d'un disque de rayon 4.7 est égale à 69.3978.\n"
     ]
    }
   ],
   "source": [
    "pi =3.14159265358979323846264338327950288419716939937510582\n",
    "r =4.7\n",
    "ch =\"L'aire d'un disque de rayon {} est égale à {:2.4f}.\"\n",
    "print(ch.format(r, pi * r**2))"
   ]
  },
  {
   "cell_type": "code",
   "execution_count": 28,
   "metadata": {
    "ExecuteTime": {
     "end_time": "2019-07-08T09:51:57.594111Z",
     "start_time": "2019-07-08T09:51:57.578490Z"
    }
   },
   "outputs": [
    {
     "name": "stdout",
     "output_type": "stream",
     "text": [
      "Le chien aboie et le chat miaule.\n",
      "Les chiens aboient et les chats miaulent.\n"
     ]
    }
   ],
   "source": [
    "phrase =\"Le{0} chien{0} aboie{1} et le{0} chat{0} miaule{1}.\"\n",
    "print(phrase.format(\"\", \"\"))\n",
    "print(phrase.format(\"s\", \"nt\"))"
   ]
  },
  {
   "cell_type": "code",
   "execution_count": 29,
   "metadata": {
    "ExecuteTime": {
     "end_time": "2019-07-08T09:51:57.609733Z",
     "start_time": "2019-07-08T09:51:57.594111Z"
    }
   },
   "outputs": [
    {
     "name": "stdout",
     "output_type": "stream",
     "text": [
      "Le nombre 789 (décimal) \n",
      "vaut 315 en hexadécimal \n",
      "et 1100010101 en binaire.\n"
     ]
    }
   ],
   "source": [
    "n =789\n",
    "txt =\"Le nombre {0:d} (décimal) \\n\"\\\n",
    "     \"vaut {0:x} en hexadécimal \\n\"\\\n",
    "     \"et {0:b} en binaire.\"\n",
    "print(txt.format(n))"
   ]
  },
  {
   "cell_type": "code",
   "execution_count": 30,
   "metadata": {
    "ExecuteTime": {
     "end_time": "2019-07-08T09:51:57.625358Z",
     "start_time": "2019-07-08T09:51:57.609733Z"
    }
   },
   "outputs": [
    {
     "name": "stdout",
     "output_type": "stream",
     "text": [
      "Le nombre 789 (décimal) \n",
      "vaut 315 en hexadécimal \n",
      "et 1100010101 en binaire.   12.00003\n"
     ]
    }
   ],
   "source": [
    "n =789\n",
    "print(\"Le nombre {0:d} (décimal) \\n\"\\\n",
    "     \"vaut {0:x} en hexadécimal \\n\"\\\n",
    "     \"et {0:b} en binaire.\"\\\n",
    "     \"{1:4d}{2:.4f}{3:s}\".format(n,1,2,'3'))"
   ]
  },
  {
   "cell_type": "code",
   "execution_count": 31,
   "metadata": {
    "ExecuteTime": {
     "end_time": "2019-07-08T09:51:57.643498Z",
     "start_time": "2019-07-08T09:51:57.627870Z"
    }
   },
   "outputs": [
    {
     "data": {
      "text/plain": [
       "'Le nombre 789 (décimal) \\nvaut 315 en hexadécimal \\net 1100010101 en binaire.   12.00003'"
      ]
     },
     "execution_count": 31,
     "metadata": {},
     "output_type": "execute_result"
    }
   ],
   "source": [
    "\"Le nombre {0:d} (décimal) \\n\"\\\n",
    "     \"vaut {0:x} en hexadécimal \\n\"\\\n",
    "     \"et {0:b} en binaire.\"\\\n",
    "     \"{1:4d}{2:.4f}{3:s}\".format(n,1,2,'3')"
   ]
  },
  {
   "cell_type": "code",
   "execution_count": null,
   "metadata": {},
   "outputs": [],
   "source": []
  },
  {
   "cell_type": "code",
   "execution_count": 32,
   "metadata": {
    "ExecuteTime": {
     "end_time": "2019-07-08T09:51:57.659155Z",
     "start_time": "2019-07-08T09:51:57.643498Z"
    }
   },
   "outputs": [
    {
     "name": "stdout",
     "output_type": "stream",
     "text": [
      "Le nombre 789 (décimal) \n",
      "vaut 78.22256900 en hexadécimal \n",
      "et 9.00e+00 en binaire.\n"
     ]
    }
   ],
   "source": [
    "n0 =789\n",
    "n1 =78.22256899999\n",
    "n2 =9\n",
    "\n",
    "print(\"Le nombre {0:d} (décimal) \\n\"\\\n",
    "     \"vaut {1:.8f} en hexadécimal \\n\"\\\n",
    "     \"et {2:.2e} en binaire.\".format(n0,n1,n2))"
   ]
  },
  {
   "cell_type": "code",
   "execution_count": null,
   "metadata": {},
   "outputs": [],
   "source": []
  },
  {
   "cell_type": "code",
   "execution_count": 34,
   "metadata": {
    "ExecuteTime": {
     "end_time": "2019-07-08T09:52:07.964404Z",
     "start_time": "2019-07-08T09:52:07.948780Z"
    }
   },
   "outputs": [
    {
     "name": "stdout",
     "output_type": "stream",
     "text": [
      "utf-8\n",
      "- ascii\n",
      "- base64_codec\n",
      "- big5\n",
      "- big5hkscs\n",
      "- bz2_codec\n",
      "- cp037\n",
      "- cp1026\n",
      "- cp1125\n",
      "- cp1140\n",
      "- cp1250\n",
      "- cp1251\n",
      "- cp1252\n",
      "- cp1253\n",
      "- cp1254\n",
      "- cp1255\n",
      "- cp1256\n",
      "- cp1257\n",
      "- cp1258\n",
      "- cp273\n",
      "- cp424\n",
      "- cp437\n",
      "- cp500\n",
      "- cp775\n",
      "- cp850\n",
      "- cp852\n",
      "- cp855\n",
      "- cp857\n",
      "- cp858\n",
      "- cp860\n",
      "- cp861\n",
      "- cp862\n",
      "- cp863\n",
      "- cp864\n",
      "- cp865\n",
      "- cp866\n",
      "- cp869\n",
      "- cp932\n",
      "- cp949\n",
      "- cp950\n",
      "- euc_jis_2004\n",
      "- euc_jisx0213\n",
      "- euc_jp\n",
      "- euc_kr\n",
      "- gb18030\n",
      "- gb2312\n",
      "- gbk\n",
      "- hex_codec\n",
      "- hp_roman8\n",
      "- hz\n",
      "- iso2022_jp\n",
      "- iso2022_jp_1\n",
      "- iso2022_jp_2\n",
      "- iso2022_jp_2004\n",
      "- iso2022_jp_3\n",
      "- iso2022_jp_ext\n",
      "- iso2022_kr\n",
      "- iso8859_10\n",
      "- iso8859_11\n",
      "- iso8859_13\n",
      "- iso8859_14\n",
      "- iso8859_15\n",
      "- iso8859_16\n",
      "- iso8859_2\n",
      "- iso8859_3\n",
      "- iso8859_4\n",
      "- iso8859_5\n",
      "- iso8859_6\n",
      "- iso8859_7\n",
      "- iso8859_8\n",
      "- iso8859_9\n",
      "- johab\n",
      "- koi8_r\n",
      "- kz1048\n",
      "- latin_1\n",
      "- mac_cyrillic\n",
      "- mac_greek\n",
      "- mac_iceland\n",
      "- mac_latin2\n",
      "- mac_roman\n",
      "- mac_turkish\n",
      "- mbcs\n",
      "- ptcp154\n",
      "- quopri_codec\n",
      "- rot_13\n",
      "- shift_jis\n",
      "- shift_jis_2004\n",
      "- shift_jisx0213\n",
      "- tactis\n",
      "- tis_620\n",
      "- utf_16\n",
      "- utf_16_be\n",
      "- utf_16_le\n",
      "- utf_32\n",
      "- utf_32_be\n",
      "- utf_32_le\n",
      "- utf_7\n",
      "- utf_8\n",
      "- uu_codec\n",
      "- zlib_codec\n",
      "\n"
     ]
    }
   ],
   "source": [
    "import  locale\n",
    "import sys\n",
    "print (sys.getdefaultencoding ())\n",
    "locale.getdefaultlocale()\n",
    "import encodings\n",
    "print (''.join('- ' + e + '\\n' \\\n",
    "   for e in sorted(set(encodings.aliases.aliases.values()))))"
   ]
  },
  {
   "cell_type": "code",
   "execution_count": 35,
   "metadata": {
    "ExecuteTime": {
     "end_time": "2019-07-08T09:52:08.120647Z",
     "start_time": "2019-07-08T09:52:07.964404Z"
    }
   },
   "outputs": [
    {
     "name": "stdout",
     "output_type": "stream",
     "text": [
      "b'345' <class 'bytes'>\n",
      "b'.\\xf0\\xf1\\xf2' <class 'bytes'>\n",
      "b'abc' abc\n",
      "<class 'bytes'> <class 'str'>\n",
      "<class 'str'> <class 'bytes'>\n",
      "圖形碼常用字次常用字 \n",
      " b'\\xe5\\x9c\\x96\\xe5\\xbd\\xa2\\xe7\\xa2\\xbc\\xe5\\xb8\\xb8\\xe7\\x94\\xa8\\xe5\\xad\\x97\\xe6\\xac\\xa1\\xe5\\xb8\\xb8\\xe7\\x94\\xa8\\xe5\\xad\\x97'\n"
     ]
    }
   ],
   "source": [
    "b = b\"345\"\n",
    "print(b, type(b))\n",
    "b = bytes.fromhex('2Ef0 F1f2 ')\n",
    "print(b, type(b))\n",
    "b = \"abc\".encode(\"utf-8\")\n",
    "s = b.decode(\"ascii\")\n",
    "print(b, s)\n",
    "print(type(b), type(s))\n",
    "varStr = '圖形碼常用字次常用字'\n",
    "varBytes = varStr.encode()\n",
    "print(type(varStr), type(varBytes))\n",
    "print(varStr,'\\n',varBytes)"
   ]
  },
  {
   "cell_type": "code",
   "execution_count": null,
   "metadata": {},
   "outputs": [],
   "source": []
  }
 ],
 "metadata": {
  "kernelspec": {
   "display_name": "Python 3",
   "language": "python",
   "name": "python3"
  },
  "language_info": {
   "codemirror_mode": {
    "name": "ipython",
    "version": 3
   },
   "file_extension": ".py",
   "mimetype": "text/x-python",
   "name": "python",
   "nbconvert_exporter": "python",
   "pygments_lexer": "ipython3",
   "version": "3.8.3"
  }
 },
 "nbformat": 4,
 "nbformat_minor": 2
}

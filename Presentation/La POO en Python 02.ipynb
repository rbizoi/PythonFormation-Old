{
 "cells": [
  {
   "cell_type": "markdown",
   "metadata": {},
   "source": [
    "# Les constructeurs"
   ]
  },
  {
   "cell_type": "code",
   "execution_count": 1,
   "metadata": {},
   "outputs": [
    {
     "name": "stdout",
     "output_type": "stream",
     "text": [
      "BIZOÏ Razvan 52\n"
     ]
    }
   ],
   "source": [
    "class Personne :\n",
    "    \"\"\"\n",
    "    Classe définissant une personne \n",
    "    caractérisée par :\n",
    "    - son nom \n",
    "    - son prénom \n",
    "    - son âge  \n",
    "    \"\"\"\n",
    "\n",
    "    def __init__ (self , nom , prenom ):\n",
    "        \"\"\" Constructeur de notre classe \"\"\"\n",
    "        self.nom    = nom\n",
    "        self.prenom = prenom\n",
    "        self.age    = 52\n",
    "\n",
    "p = Personne('BIZOÏ','Razvan')\n",
    "print(p.nom,p.prenom,p.age)"
   ]
  },
  {
   "cell_type": "code",
   "execution_count": 2,
   "metadata": {},
   "outputs": [
    {
     "name": "stdout",
     "output_type": "stream",
     "text": [
      "Help on class Personne in module __main__:\n",
      "\n",
      "class Personne(builtins.object)\n",
      " |  Personne(nom, prenom)\n",
      " |  \n",
      " |  Classe définissant une personne \n",
      " |  caractérisée par :\n",
      " |  - son nom \n",
      " |  - son prénom \n",
      " |  - son âge\n",
      " |  \n",
      " |  Methods defined here:\n",
      " |  \n",
      " |  __init__(self, nom, prenom)\n",
      " |      Constructeur de notre classe\n",
      " |  \n",
      " |  ----------------------------------------------------------------------\n",
      " |  Data descriptors defined here:\n",
      " |  \n",
      " |  __dict__\n",
      " |      dictionary for instance variables (if defined)\n",
      " |  \n",
      " |  __weakref__\n",
      " |      list of weak references to the object (if defined)\n",
      "\n"
     ]
    }
   ],
   "source": [
    "help(Personne)"
   ]
  },
  {
   "cell_type": "code",
   "execution_count": 2,
   "metadata": {},
   "outputs": [],
   "source": [
    "del p.age"
   ]
  },
  {
   "cell_type": "code",
   "execution_count": 7,
   "metadata": {},
   "outputs": [
    {
     "name": "stdout",
     "output_type": "stream",
     "text": [
      "pas d'age\n"
     ]
    }
   ],
   "source": [
    "if 'age' not in dir(p) : print(\"pas d'age\")"
   ]
  },
  {
   "cell_type": "code",
   "execution_count": 2,
   "metadata": {},
   "outputs": [
    {
     "name": "stdout",
     "output_type": "stream",
     "text": [
      "['__class__', '__delattr__', '__dict__', '__dir__', '__doc__', '__eq__', '__format__', '__ge__', '__getattribute__', '__gt__', '__hash__', '__init__', '__init_subclass__', '__le__', '__lt__', '__module__', '__ne__', '__new__', '__reduce__', '__reduce_ex__', '__repr__', '__setattr__', '__sizeof__', '__str__', '__subclasshook__', '__weakref__', 'age', 'nom', 'prenom']\n"
     ]
    }
   ],
   "source": [
    "print(dir(p))"
   ]
  },
  {
   "cell_type": "code",
   "execution_count": 4,
   "metadata": {},
   "outputs": [
    {
     "name": "stdout",
     "output_type": "stream",
     "text": [
      "27\n"
     ]
    },
    {
     "ename": "ValueError",
     "evalue": "'nom1' is not in list",
     "output_type": "error",
     "traceback": [
      "\u001b[1;31m---------------------------------------------------------------------------\u001b[0m",
      "\u001b[1;31mValueError\u001b[0m                                Traceback (most recent call last)",
      "\u001b[1;32m<ipython-input-4-325429210602>\u001b[0m in \u001b[0;36m<module>\u001b[1;34m()\u001b[0m\n\u001b[0;32m      1\u001b[0m \u001b[0mprint\u001b[0m\u001b[1;33m(\u001b[0m\u001b[0mdir\u001b[0m\u001b[1;33m(\u001b[0m\u001b[0mp\u001b[0m\u001b[1;33m)\u001b[0m\u001b[1;33m.\u001b[0m\u001b[0mindex\u001b[0m\u001b[1;33m(\u001b[0m\u001b[1;34m'nom'\u001b[0m\u001b[1;33m)\u001b[0m\u001b[1;33m)\u001b[0m\u001b[1;33m\u001b[0m\u001b[0m\n\u001b[1;32m----> 2\u001b[1;33m \u001b[0mprint\u001b[0m\u001b[1;33m(\u001b[0m\u001b[0mdir\u001b[0m\u001b[1;33m(\u001b[0m\u001b[0mp\u001b[0m\u001b[1;33m)\u001b[0m\u001b[1;33m.\u001b[0m\u001b[0mindex\u001b[0m\u001b[1;33m(\u001b[0m\u001b[1;34m'nom1'\u001b[0m\u001b[1;33m)\u001b[0m\u001b[1;33m)\u001b[0m\u001b[1;33m\u001b[0m\u001b[0m\n\u001b[0m",
      "\u001b[1;31mValueError\u001b[0m: 'nom1' is not in list"
     ]
    }
   ],
   "source": [
    "print(dir(p).index('nom'))\n",
    "print(dir(p).index('nom1'))"
   ]
  },
  {
   "cell_type": "code",
   "execution_count": 9,
   "metadata": {},
   "outputs": [
    {
     "data": {
      "text/plain": [
       "['__class__',\n",
       " '__delattr__',\n",
       " '__dict__',\n",
       " '__dir__',\n",
       " '__doc__',\n",
       " '__eq__',\n",
       " '__format__',\n",
       " '__ge__',\n",
       " '__getattribute__',\n",
       " '__gt__',\n",
       " '__hash__',\n",
       " '__init__',\n",
       " '__init_subclass__',\n",
       " '__le__',\n",
       " '__lt__',\n",
       " '__module__',\n",
       " '__ne__',\n",
       " '__new__',\n",
       " '__reduce__',\n",
       " '__reduce_ex__',\n",
       " '__repr__',\n",
       " '__setattr__',\n",
       " '__sizeof__',\n",
       " '__str__',\n",
       " '__subclasshook__',\n",
       " '__weakref__',\n",
       " 'age',\n",
       " 'nom',\n",
       " 'nom1',\n",
       " 'prenom']"
      ]
     },
     "execution_count": 9,
     "metadata": {},
     "output_type": "execute_result"
    }
   ],
   "source": [
    "if dir(p).count('nom1') == 0 : p.nom1 = ''\n",
    "dir(p)    "
   ]
  },
  {
   "cell_type": "code",
   "execution_count": 2,
   "metadata": {},
   "outputs": [
    {
     "name": "stdout",
     "output_type": "stream",
     "text": [
      " Constructeur de notre classe \n"
     ]
    }
   ],
   "source": [
    "print(p.__init__.__doc__)"
   ]
  },
  {
   "cell_type": "code",
   "execution_count": 5,
   "metadata": {},
   "outputs": [
    {
     "name": "stdout",
     "output_type": "stream",
     "text": [
      " Classe définissant une personne \n",
      "    caractérisée par :\n",
      "    - son nom \n",
      "    - son prénom \n",
      "    - son âge  \n"
     ]
    }
   ],
   "source": [
    "print(p.__doc__)"
   ]
  },
  {
   "cell_type": "markdown",
   "metadata": {},
   "source": [
    "# La méthode « __new__ »"
   ]
  },
  {
   "cell_type": "code",
   "execution_count": 6,
   "metadata": {
    "collapsed": true,
    "jupyter": {
     "outputs_hidden": true
    }
   },
   "outputs": [],
   "source": [
    "class Personne(object) :\n",
    "    \"\"\" Classe définissant une personne \n",
    "    caractérisée par :\n",
    "    - son nom \n",
    "    - son prénom \n",
    "    - son âge  \"\"\"\n",
    "    \n",
    "    def __new__ (cls , nom , prenom ):\n",
    "        print (\\\n",
    "             \" Appel de la méthode __new__ de la classe {}\".\\\n",
    "               format (cls))\n",
    "        # On laisse le travail à object\n",
    "        return object.__new__(cls)\n",
    "\n",
    "    def __init__ (self , nom , prenom ):\n",
    "        \"\"\" Constructeur de notre classe \"\"\"\n",
    "        print (\" Appel de la méthode __init__ \")\n",
    "        self.nom    = nom\n",
    "        self.prenom = prenom\n",
    "        self.age    = 52"
   ]
  },
  {
   "cell_type": "code",
   "execution_count": 7,
   "metadata": {},
   "outputs": [
    {
     "name": "stdout",
     "output_type": "stream",
     "text": [
      " Appel de la méthode __new__ de la classe <class '__main__.Personne'>\n",
      " Appel de la méthode __init__ \n"
     ]
    }
   ],
   "source": [
    " p = Personne('BIZOÏ','Razvan')"
   ]
  },
  {
   "cell_type": "markdown",
   "metadata": {},
   "source": [
    "# Les attributs statiques"
   ]
  },
  {
   "cell_type": "code",
   "execution_count": 13,
   "metadata": {},
   "outputs": [],
   "source": [
    "class Compteur :\n",
    "    \"\"\"Cette classe possède un attribut qui s'incrémente\n",
    "        à chaque fois que l'on crée un objet de ce type \"\"\"\n",
    "    objets_crees = 0 # Le compteur vaut 0 au dé part\n",
    "    \n",
    "    def __init__( self ):\n",
    "        \"\"\" À chaque fois qu'on crée un objet,\n",
    "             on incrémente le compteur \"\"\"\n",
    "        Compteur.add_object(Compteur)\n",
    "        \n",
    "    def add_object (cls) :\n",
    "        cls.objets_crees += 1\n",
    "        \n",
    "\n",
    "\n",
    "c1 = Compteur()\n",
    "print(c1.objets_crees)\n",
    "\n",
    "c2 = Compteur()\n",
    "print(c1.objets_crees)\n",
    "\n",
    "c3 = Compteur()\n",
    "print(c1.objets_crees)"
   ]
  },
  {
   "cell_type": "code",
   "execution_count": 2,
   "metadata": {},
   "outputs": [
    {
     "data": {
      "text/plain": [
       "{}"
      ]
     },
     "execution_count": 2,
     "metadata": {},
     "output_type": "execute_result"
    }
   ],
   "source": [
    "c1.__dict__"
   ]
  },
  {
   "cell_type": "code",
   "execution_count": 3,
   "metadata": {},
   "outputs": [
    {
     "data": {
      "text/plain": [
       "mappingproxy({'__dict__': <attribute '__dict__' of 'Compteur' objects>,\n",
       "              '__doc__': \"Cette classe possède un attribut qui s'incrémente\\n        à chaque fois que l'on crée un objet de ce type \",\n",
       "              '__init__': <function __main__.Compteur.__init__>,\n",
       "              '__module__': '__main__',\n",
       "              '__weakref__': <attribute '__weakref__' of 'Compteur' objects>,\n",
       "              'objets_crees': 3})"
      ]
     },
     "execution_count": 3,
     "metadata": {},
     "output_type": "execute_result"
    }
   ],
   "source": [
    "c1.__class__.__dict__"
   ]
  },
  {
   "cell_type": "code",
   "execution_count": 4,
   "metadata": {},
   "outputs": [],
   "source": [
    "c1.objets_crees = 5"
   ]
  },
  {
   "cell_type": "code",
   "execution_count": 5,
   "metadata": {},
   "outputs": [
    {
     "data": {
      "text/plain": [
       "{'objets_crees': 5}"
      ]
     },
     "execution_count": 5,
     "metadata": {},
     "output_type": "execute_result"
    }
   ],
   "source": [
    "c1.__dict__"
   ]
  },
  {
   "cell_type": "code",
   "execution_count": 6,
   "metadata": {},
   "outputs": [
    {
     "data": {
      "text/plain": [
       "mappingproxy({'__dict__': <attribute '__dict__' of 'Compteur' objects>,\n",
       "              '__doc__': \"Cette classe possède un attribut qui s'incrémente\\n        à chaque fois que l'on crée un objet de ce type \",\n",
       "              '__init__': <function __main__.Compteur.__init__>,\n",
       "              '__module__': '__main__',\n",
       "              '__weakref__': <attribute '__weakref__' of 'Compteur' objects>,\n",
       "              'objets_crees': 3})"
      ]
     },
     "execution_count": 6,
     "metadata": {},
     "output_type": "execute_result"
    }
   ],
   "source": [
    "c1.__class__.__dict__"
   ]
  },
  {
   "cell_type": "code",
   "execution_count": 8,
   "metadata": {},
   "outputs": [
    {
     "name": "stdout",
     "output_type": "stream",
     "text": [
      "5 3\n"
     ]
    }
   ],
   "source": [
    "print(c1.objets_crees,Compteur.objets_crees)"
   ]
  },
  {
   "cell_type": "markdown",
   "metadata": {},
   "source": [
    "# Les méthodes de classe "
   ]
  },
  {
   "cell_type": "code",
   "execution_count": 1,
   "metadata": {},
   "outputs": [],
   "source": [
    "class Compteur :\n",
    "    \"\"\" Cette classe possède un attribut de classe qui \n",
    "        s'incrémente à chaque fois que \n",
    "        l'on crée un objet de ce type \"\"\"\n",
    "\n",
    "    objets_crees = 0 # Le compteur vaut 0 au dé part\n",
    "    liste_instances = []\n",
    "    def __init__ ( self ):\n",
    "        \"\"\" À chaque fois qu'on crée un objet, \n",
    "            on incrémente le compteur \"\"\"\n",
    "        Compteur.objets_crees += 1\n",
    "        Compteur.liste_instances.append(self)\n",
    "        print(id(self))\n",
    "        \n",
    "    def combien (cls):\n",
    "        \"\"\" Méthode de classe affichant combien \n",
    "            d'objets ont été créés \"\"\"\n",
    "        print(\n",
    "            \" Jusqu 'à présent , {} objets ont été créés.\".\n",
    "            format(cls.objets_crees))\n",
    "        \n",
    "    combien = classmethod(combien)"
   ]
  },
  {
   "cell_type": "code",
   "execution_count": 2,
   "metadata": {},
   "outputs": [
    {
     "name": "stdout",
     "output_type": "stream",
     "text": [
      " Jusqu 'à présent , 0 objets ont été créés.\n"
     ]
    }
   ],
   "source": [
    "Compteur.combien()"
   ]
  },
  {
   "cell_type": "code",
   "execution_count": 10,
   "metadata": {},
   "outputs": [
    {
     "name": "stdout",
     "output_type": "stream",
     "text": [
      "2384675208832\n",
      "2384675208832\n",
      " Jusqu 'à présent , 2 objets ont été créés.\n"
     ]
    }
   ],
   "source": [
    "c1 = Compteur()\n",
    "print(id(c1))\n",
    "c1.combien()"
   ]
  },
  {
   "cell_type": "code",
   "execution_count": 47,
   "metadata": {},
   "outputs": [
    {
     "name": "stdout",
     "output_type": "stream",
     "text": [
      " Jusqu 'à présent , 1 objets ont été créés.\n"
     ]
    }
   ],
   "source": [
    "Compteur.combien()"
   ]
  },
  {
   "cell_type": "code",
   "execution_count": 43,
   "metadata": {},
   "outputs": [
    {
     "name": "stdout",
     "output_type": "stream",
     "text": [
      "2753397884296\n",
      "2753397883624\n",
      " Jusqu 'à présent , 3 objets ont été créés.\n"
     ]
    }
   ],
   "source": [
    "c2 = Compteur()\n",
    "c3 = Compteur()\n",
    "c1.combien()"
   ]
  },
  {
   "cell_type": "code",
   "execution_count": 44,
   "metadata": {},
   "outputs": [
    {
     "name": "stdout",
     "output_type": "stream",
     "text": [
      "2753398181672\n",
      " Jusqu 'à présent , 4 objets ont été créés.\n"
     ]
    }
   ],
   "source": [
    "c1 = Compteur()\n",
    "c1.combien()"
   ]
  },
  {
   "cell_type": "code",
   "execution_count": 25,
   "metadata": {},
   "outputs": [
    {
     "name": "stdout",
     "output_type": "stream",
     "text": [
      " Jusqu 'à présent , 4 objets ont été créés.\n"
     ]
    }
   ],
   "source": [
    "#c1.objets_crees = 3\n",
    "c1.combien()"
   ]
  },
  {
   "cell_type": "code",
   "execution_count": 17,
   "metadata": {},
   "outputs": [
    {
     "name": "stdout",
     "output_type": "stream",
     "text": [
      " Jusqu 'à présent , 3 objets ont été créés.\n"
     ]
    }
   ],
   "source": [
    "#Compteur.objets_crees = 3\n",
    "c1.combien()"
   ]
  },
  {
   "cell_type": "code",
   "execution_count": 18,
   "metadata": {},
   "outputs": [
    {
     "name": "stdout",
     "output_type": "stream",
     "text": [
      "c1.__dict__ {'objets_crees': 3}\n",
      "c2.__dict__ {}\n"
     ]
    }
   ],
   "source": [
    "c1.objets_crees\n",
    "print('c1.__dict__',c1.__dict__)\n",
    "print('c2.__dict__',c2.__dict__)"
   ]
  },
  {
   "cell_type": "code",
   "execution_count": 26,
   "metadata": {},
   "outputs": [
    {
     "name": "stdout",
     "output_type": "stream",
     "text": [
      " Jusqu 'à présent , 4 objets ont été créés.\n",
      " Jusqu 'à présent , 4 objets ont été créés.\n",
      " Jusqu 'à présent , 4 objets ont été créés.\n",
      " Jusqu 'à présent , 4 objets ont été créés.\n"
     ]
    }
   ],
   "source": [
    "for i in c1.liste_instances: i.combien()"
   ]
  },
  {
   "cell_type": "code",
   "execution_count": 1,
   "metadata": {},
   "outputs": [
    {
     "name": "stdout",
     "output_type": "stream",
     "text": [
      "True 2753395508616 2753395508616\n"
     ]
    }
   ],
   "source": [
    "class Singleton(object):\n",
    "    \"\"\" Renvoie toujours la même instance \"\"\"\n",
    "    _ref = None\n",
    "    def __new__ (cls, *args, **kw):\n",
    "        if cls._ref is None:\n",
    "            cls._ref = super(Singleton,cls).\\\n",
    "                 __new__(cls, *args, **kw)\n",
    "        return  cls._ref\n",
    "\n",
    "class S(Singleton):\n",
    "    pass\n",
    "\n",
    "a = S()\n",
    "b = S()\n",
    "print(a is b,id(a),id(b))\n"
   ]
  },
  {
   "cell_type": "code",
   "execution_count": 8,
   "metadata": {},
   "outputs": [],
   "source": [
    "class Personne():\n",
    "    def __init__ (self,nom,prenom='Non Affecte'):\n",
    "        self.nom, self.prenom = nom, prenom\n",
    "        \n",
    "        \n",
    "class CompteBancaire():\n",
    "\n",
    "    def __init__(self, nom ='Dupont', solde =1000):\n",
    "        self.client = Personne(nom)\n",
    "        self.nom, self.solde = nom, solde\n",
    "        \n",
    "    def depot(self, somme):\n",
    "        self.solde = self.solde + somme\n",
    "        \n",
    "    def retrait(self, somme):\n",
    "        self.solde = self.solde - somme\n",
    "        \n",
    "    def affiche(self):\n",
    "        return \"Le solde du compte bancaire de {0} est de {1} euros.\".\\\n",
    "               format(self.nom, self.solde) \n",
    "    #def __str__(self):\n",
    "    #    #return self.affiche()\n",
    "    #    return  f\"Le solde du compte bancaire de {self.nom} est de {self.solde:4.2f} euros.\"\n",
    "    \n",
    "    def __repr__(self):\n",
    "        return self.affiche()\n",
    "        #return  f\"Le solde du compte bancaire de {self.nom} est de {self.solde:4.2f} euros.\"\n",
    "        "
   ]
  },
  {
   "cell_type": "code",
   "execution_count": 10,
   "metadata": {},
   "outputs": [
    {
     "data": {
      "text/plain": [
       "Le solde du compte bancaire de Dupont est de 1000 euros."
      ]
     },
     "execution_count": 10,
     "metadata": {},
     "output_type": "execute_result"
    }
   ],
   "source": [
    "c = CompteBancaire()\n",
    "c"
   ]
  },
  {
   "cell_type": "code",
   "execution_count": 37,
   "metadata": {},
   "outputs": [],
   "source": [
    "class CompteBancaire():\n",
    "    class Personne:\n",
    "        def __init__ (self,nom,prenom='Non Affecte'):\n",
    "            self.nom, self.prenom = nom, prenom\n",
    "        \n",
    "    def __init__(self, nom ='Dupont', solde =1000):\n",
    "        self.client = CompteBancaire.Personne(nom)\n",
    "        self.nom, self.solde = nom, solde\n",
    "        \n",
    "    def depot(self, somme):\n",
    "        self.solde = self.solde + somme\n",
    "        \n",
    "    def retrait(self, somme):\n",
    "        self.solde = self.solde - somme\n",
    "        \n",
    "    def affiche(self):\n",
    "        return \"Le solde du compte bancaire de {0} est de {1} euros.\".\\\n",
    "               format(self.nom, self.solde) \n",
    "    def __str__(self):\n",
    "        return self.affiche()\n",
    "        #return  f\"Le solde du compte bancaire de {self.nom} est de {self.solde:4.2f} euros.\"\n",
    "    \n",
    "    def __repr__(self):\n",
    "        return self.affiche()\n",
    "        #return  f\"Le solde du compte bancaire de {self.nom} est de {self.solde:4.2f} euros.\"\n",
    "        "
   ]
  },
  {
   "cell_type": "code",
   "execution_count": 38,
   "metadata": {},
   "outputs": [],
   "source": [
    "dir(CompteBancaire)\n",
    "a = CompteBancaire()"
   ]
  },
  {
   "cell_type": "code",
   "execution_count": 40,
   "metadata": {},
   "outputs": [
    {
     "data": {
      "text/plain": [
       "<__main__.CompteBancaire.Personne at 0x28113520f60>"
      ]
     },
     "execution_count": 40,
     "metadata": {},
     "output_type": "execute_result"
    }
   ],
   "source": [
    " CompteBancaire.Personne(\"a\")"
   ]
  },
  {
   "cell_type": "code",
   "execution_count": null,
   "metadata": {},
   "outputs": [],
   "source": []
  },
  {
   "cell_type": "markdown",
   "metadata": {},
   "source": [
    "# Les méthodes statiques "
   ]
  },
  {
   "cell_type": "code",
   "execution_count": 11,
   "metadata": {},
   "outputs": [
    {
     "name": "stdout",
     "output_type": "stream",
     "text": [
      "On affiche la même chose.\n",
      "peu importe les données de l'objet ou de la classe.\n"
     ]
    }
   ],
   "source": [
    "def afficher ():\n",
    "    \"\"\" Fonction chargée d'afficher quelque chose \"\"\"\n",
    "    print (\"On affiche la même chose.\")\n",
    "    print (\\\n",
    "      \"peu importe les données de l'objet ou de la classe.\")\n",
    "\n",
    "class Test :\n",
    "    \"\"\" Une classe de test tout simplement \"\"\"\n",
    "\n",
    "    afficher = staticmethod ( afficher )\n",
    "\n",
    "Test.afficher()"
   ]
  },
  {
   "cell_type": "code",
   "execution_count": 52,
   "metadata": {},
   "outputs": [
    {
     "name": "stdout",
     "output_type": "stream",
     "text": [
      "On affiche la même chose.\n",
      "peu importe les données de l'objet ou de la classe.\n"
     ]
    }
   ],
   "source": [
    "class Test :\n",
    "    \"\"\" Une classe de test tout simplement \"\"\"\n",
    "\n",
    "    def afficher ():\n",
    "        \"\"\" Fonction chargée d'afficher quelque chose \"\"\"\n",
    "        print (\"On affiche la même chose.\")\n",
    "        print (\\\n",
    "          \"peu importe les données de l'objet ou de la classe.\")\n",
    "        \n",
    "    afficher = staticmethod ( afficher )\n",
    "\n",
    "Test.afficher()"
   ]
  },
  {
   "cell_type": "code",
   "execution_count": 57,
   "metadata": {},
   "outputs": [
    {
     "name": "stdout",
     "output_type": "stream",
     "text": [
      "aaaaaa\n",
      "aaaaaa\n",
      "On affiche la même chose.\n",
      "peu importe les données de l'objet ou de la classe.\n"
     ]
    }
   ],
   "source": [
    "\n",
    "        \n",
    "class Test( ):\n",
    "    \"\"\" Une classe de test tout simplement \"\"\"\n",
    "    attrib01 = \"aaaaaa\"\n",
    "    \n",
    "    @classmethod  \n",
    "    def afficherClass (cls):\n",
    "        \"\"\" Fonction chargée d'afficher quelque chose \"\"\"\n",
    "        print (cls.attrib01)\n",
    "        \n",
    "    @staticmethod  \n",
    "    def afficherStatic ():\n",
    "        \"\"\" Fonction chargée d'afficher quelque chose \"\"\"\n",
    "        print (\"On affiche la même chose.\")\n",
    "        print (\\\n",
    "          \"peu importe les données de l'objet ou de la classe.\")        \n",
    "    #afficherClass  = classmethod ( afficherClass )\n",
    "    #afficherStatic = staticmethod(afficherStatic)\n",
    "\n",
    "Test.afficherClass()\n",
    "a = Test()\n",
    "a.afficherClass()\n",
    "a.afficherStatic()\n"
   ]
  },
  {
   "cell_type": "code",
   "execution_count": 20,
   "metadata": {},
   "outputs": [
    {
     "name": "stdout",
     "output_type": "stream",
     "text": [
      "On affiche la même chose.\n",
      "peu importe les données de l'objet ou de la classe.\n"
     ]
    }
   ],
   "source": [
    "def afficher ():\n",
    "    \"\"\" Fonction chargée d'afficher quelque chose \"\"\"\n",
    "    print (\"On affiche la même chose.\")\n",
    "    print (\"peu importe les données de l'objet ou de la classe.\")\n",
    "    \n",
    "class Test :\n",
    "    \"\"\" Une classe de test tout simplement \"\"\"\n",
    "    \n",
    "    afficher = staticmethod ( afficher )\n",
    "\n",
    "Test.afficher()"
   ]
  },
  {
   "cell_type": "code",
   "execution_count": 22,
   "metadata": {},
   "outputs": [
    {
     "name": "stdout",
     "output_type": "stream",
     "text": [
      "On affiche la même chose.\n",
      "peu importe les données de l'objet ou de la classe.\n",
      "<__main__.Test object at 0x0000000005981F60>\n"
     ]
    }
   ],
   "source": [
    "class Test :\n",
    "    \"\"\" Une classe de test tout simplement \"\"\"\n",
    "    \n",
    "    @staticmethod\n",
    "    def afficher ():\n",
    "        \"\"\" Fonction chargée d'afficher quelque chose \"\"\"\n",
    "        print (\"On affiche la même chose.\")\n",
    "        print (\\\n",
    "          \"peu importe les données de l'objet ou de la classe.\")\n",
    "        \n",
    "\n",
    "Test.afficher()\n",
    "a = Test()\n",
    "print(a)"
   ]
  },
  {
   "cell_type": "code",
   "execution_count": 25,
   "metadata": {},
   "outputs": [
    {
     "name": "stdout",
     "output_type": "stream",
     "text": [
      "10 1870032640\n"
     ]
    }
   ],
   "source": [
    "a = 10\n",
    "print(a,id(a))"
   ]
  },
  {
   "cell_type": "markdown",
   "metadata": {},
   "source": [
    "# La représentation et comparaison"
   ]
  },
  {
   "cell_type": "markdown",
   "metadata": {},
   "source": [
    "## __str__"
   ]
  },
  {
   "cell_type": "code",
   "execution_count": 17,
   "metadata": {},
   "outputs": [
    {
     "name": "stdout",
     "output_type": "stream",
     "text": [
      "<__main__.Personne object at 0x0000000005983358>\n",
      "Razvan BIZOÏ, âgé de 52 ans \n"
     ]
    }
   ],
   "source": [
    "class Personne :\n",
    "    \"\"\" Classe représentant une personne \"\"\"\n",
    "    \n",
    "    def __init__ (self , nom , prenom ):\n",
    "            \"\"\" Constructeur de notre classe \"\"\"\n",
    "            self.nom = nom\n",
    "            self.prenom = prenom\n",
    "            self.age = 52\n",
    "            \n",
    "            \n",
    "p = Personne('BIZOÏ','Razvan')\n",
    "print(p)\n",
    "print(\"{} {}, âgé de {} ans \".format(p.prenom,p.nom,p.age))"
   ]
  },
  {
   "cell_type": "code",
   "execution_count": 14,
   "metadata": {},
   "outputs": [
    {
     "name": "stdout",
     "output_type": "stream",
     "text": [
      "Razvan BIZOÏ, âgé de 52 ans \n"
     ]
    }
   ],
   "source": [
    "class Personne :\n",
    "    \"\"\" Classe représentant une personne \"\"\"\n",
    "    \n",
    "    def __init__ (self , nom , prenom ):\n",
    "            \"\"\" Constructeur de notre classe \"\"\"\n",
    "            self.nom = nom\n",
    "            self.prenom = prenom\n",
    "            self.age = 52\n",
    "            \n",
    "    def __str__ ( self ):\n",
    "        \"\"\" Méthode permettant d'afficher plus \n",
    "            joliment notre objet \"\"\"\n",
    "        return \"{} {}, âgé de {} ans \".\\\n",
    "                 format(self.prenom,self.nom,self.age)\n",
    "\n",
    "p = Personne('BIZOÏ','Razvan')\n",
    "print(p)"
   ]
  },
  {
   "cell_type": "markdown",
   "metadata": {},
   "source": [
    "## __repr__"
   ]
  },
  {
   "cell_type": "code",
   "execution_count": 23,
   "metadata": {},
   "outputs": [
    {
     "data": {
      "text/plain": [
       "<__main__.Personne at 0x4d1f860>"
      ]
     },
     "execution_count": 23,
     "metadata": {},
     "output_type": "execute_result"
    }
   ],
   "source": [
    "class Personne :\n",
    "    \"\"\" Classe représentant une personne \"\"\"\n",
    "\n",
    "p = Personne()\n",
    "p"
   ]
  },
  {
   "cell_type": "code",
   "execution_count": 58,
   "metadata": {},
   "outputs": [
    {
     "data": {
      "text/plain": [
       " Personne : nom(BIZOÏ), prénom(Razvan), âge(52)"
      ]
     },
     "execution_count": 58,
     "metadata": {},
     "output_type": "execute_result"
    }
   ],
   "source": [
    "class Personne :\n",
    "    \"\"\" Classe représentant une personne \"\"\"\n",
    "    \n",
    "    def __init__ (self , nom , prenom ):\n",
    "            \"\"\" Constructeur de notre classe \"\"\"\n",
    "            self.nom = nom\n",
    "            self.prenom = prenom\n",
    "            self.age = 52\n",
    "            \n",
    "    def __str__ ( self ):\n",
    "        \"\"\" Méthode permettant d'afficher plus \n",
    "            joliment notre objet \"\"\"\n",
    "        return \"{} {}, âgé de {} ans \".\\\n",
    "                 format(self.prenom,self.nom,self.age)\n",
    "        \n",
    "    def __repr__ ( self ):\n",
    "        \"\"\" Quand on entre notre objet dans l'interpréteur \"\"\"\n",
    "        return \" Personne : nom({}), prénom({}), âge({})\".\\\n",
    "        format(self.nom,self.prenom,self.age)\n",
    "\n",
    "p = Personne('BIZOÏ','Razvan')\n",
    "p"
   ]
  },
  {
   "cell_type": "code",
   "execution_count": 59,
   "metadata": {},
   "outputs": [
    {
     "name": "stdout",
     "output_type": "stream",
     "text": [
      "Razvan BIZOÏ, âgé de 52 ans \n"
     ]
    }
   ],
   "source": [
    "print(p)"
   ]
  },
  {
   "cell_type": "markdown",
   "metadata": {},
   "source": [
    "# Les méthodes de comparaison"
   ]
  },
  {
   "cell_type": "code",
   "execution_count": null,
   "metadata": {},
   "outputs": [],
   "source": [
    "class Personne :\n",
    "    \"\"\" Classe représentant une personne \"\"\"\n",
    "    \n",
    "    def __init__ (self , dico={} ):\n",
    "        \"\"\" Constructeur de notre classe \"\"\"\n",
    "        self.dico = dico\n"
   ]
  },
  {
   "cell_type": "code",
   "execution_count": 3,
   "metadata": {},
   "outputs": [],
   "source": [
    "class Personne :\n",
    "    \"\"\" Classe représentant une personne \"\"\"\n",
    "    \n",
    "    def __init__ (self , nom , prenom ):\n",
    "        \"\"\" Constructeur de notre classe \"\"\"\n",
    "        dico = {}\n",
    "        self.nom = nom\n",
    "        self.prenom = prenom\n",
    "        self.age = 52\n",
    "    def __eq__ (self,autre):\n",
    "        \"x==y -> x.__eq__(y)\"\n",
    "        if self.__class__ == autre.__class__ :\n",
    "            return self.nom    == autre.nom and \\\n",
    "                   self.prenom == autre.prenom and \\\n",
    "                   self.age    == autre.age\n",
    "        else : \n",
    "            return False\n",
    "    def __gt__ (self,autre):\n",
    "       \"x > y -> x.__ge__(y)\"\n",
    "       if self.__class__ == autre.__class__ :\n",
    "           return self.age > autre.age\n",
    "       else : \n",
    "           return False\n",
    "        \n",
    "    def __ge__ (self,autre):\n",
    "        \"x >= y -> x.__ge__(y)\"\n",
    "        if self.__class__ == autre.__class__ :\n",
    "            return self.age >= autre.age\n",
    "        else : \n",
    "            return False\n",
    "p1 = Personne('BIZOÏ','Razvan')\n",
    "p2 = Personne('DULUC','Isabelle')\n",
    "p1 = Personne('BIZOÏ','Razvan')\n",
    "p3 = Personne('BIZOÏ','Razvan')"
   ]
  },
  {
   "cell_type": "code",
   "execution_count": 4,
   "metadata": {},
   "outputs": [
    {
     "data": {
      "text/plain": [
       "'BIZOÏ'"
      ]
     },
     "execution_count": 4,
     "metadata": {},
     "output_type": "execute_result"
    }
   ],
   "source": [
    "p1.nom"
   ]
  },
  {
   "cell_type": "code",
   "execution_count": 5,
   "metadata": {},
   "outputs": [
    {
     "data": {
      "text/plain": [
       "False"
      ]
     },
     "execution_count": 5,
     "metadata": {},
     "output_type": "execute_result"
    }
   ],
   "source": [
    "p1 == p2"
   ]
  },
  {
   "cell_type": "code",
   "execution_count": 6,
   "metadata": {},
   "outputs": [
    {
     "data": {
      "text/plain": [
       "True"
      ]
     },
     "execution_count": 6,
     "metadata": {},
     "output_type": "execute_result"
    }
   ],
   "source": [
    "p1 == p3"
   ]
  },
  {
   "cell_type": "code",
   "execution_count": 7,
   "metadata": {},
   "outputs": [
    {
     "data": {
      "text/plain": [
       "False"
      ]
     },
     "execution_count": 7,
     "metadata": {},
     "output_type": "execute_result"
    }
   ],
   "source": [
    "p1 != p3"
   ]
  },
  {
   "cell_type": "code",
   "execution_count": 8,
   "metadata": {},
   "outputs": [
    {
     "data": {
      "text/plain": [
       "True"
      ]
     },
     "execution_count": 8,
     "metadata": {},
     "output_type": "execute_result"
    }
   ],
   "source": [
    "p1 != p2"
   ]
  },
  {
   "cell_type": "code",
   "execution_count": 14,
   "metadata": {},
   "outputs": [
    {
     "data": {
      "text/plain": [
       "False"
      ]
     },
     "execution_count": 14,
     "metadata": {},
     "output_type": "execute_result"
    }
   ],
   "source": [
    "p1 < p2"
   ]
  },
  {
   "cell_type": "code",
   "execution_count": 10,
   "metadata": {},
   "outputs": [],
   "source": [
    "p2.age = 50"
   ]
  },
  {
   "cell_type": "code",
   "execution_count": 11,
   "metadata": {},
   "outputs": [
    {
     "data": {
      "text/plain": [
       "True"
      ]
     },
     "execution_count": 11,
     "metadata": {},
     "output_type": "execute_result"
    }
   ],
   "source": [
    "p1 >= p2"
   ]
  },
  {
   "cell_type": "code",
   "execution_count": 12,
   "metadata": {},
   "outputs": [
    {
     "data": {
      "text/plain": [
       "False"
      ]
     },
     "execution_count": 12,
     "metadata": {},
     "output_type": "execute_result"
    }
   ],
   "source": [
    "p2 >= p1"
   ]
  },
  {
   "cell_type": "code",
   "execution_count": 13,
   "metadata": {},
   "outputs": [
    {
     "data": {
      "text/plain": [
       "True"
      ]
     },
     "execution_count": 13,
     "metadata": {},
     "output_type": "execute_result"
    }
   ],
   "source": [
    "p1 > p2"
   ]
  }
 ],
 "metadata": {
  "kernelspec": {
   "display_name": "Python 3 (ipykernel)",
   "language": "python",
   "name": "python3"
  },
  "language_info": {
   "codemirror_mode": {
    "name": "ipython",
    "version": 3
   },
   "file_extension": ".py",
   "mimetype": "text/x-python",
   "name": "python",
   "nbconvert_exporter": "python",
   "pygments_lexer": "ipython3",
   "version": "3.10.0"
  }
 },
 "nbformat": 4,
 "nbformat_minor": 4
}

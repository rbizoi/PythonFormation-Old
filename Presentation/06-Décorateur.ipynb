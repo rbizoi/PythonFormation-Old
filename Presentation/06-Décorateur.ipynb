{
 "cells": [
  {
   "cell_type": "code",
   "execution_count": 23,
   "metadata": {
    "ExecuteTime": {
     "end_time": "2020-09-26T16:51:54.042865Z",
     "start_time": "2020-09-26T16:51:54.031486Z"
    }
   },
   "outputs": [],
   "source": [
    "import time\n",
    "\n",
    "def clock(func):\n",
    "    def clocked(*args): \n",
    "        t0 = time.perf_counter()\n",
    "        result = func(*args) \n",
    "        elapsed = time.perf_counter() - t0\n",
    "        name = func.__name__\n",
    "        arg_str = ', '.join(repr(arg) for arg in args)\n",
    "        print('execution [%0.8fs] %s(%s) -> %r' % (elapsed, name, arg_str, result))\n",
    "        return result\n",
    "    return clocked "
   ]
  },
  {
   "cell_type": "code",
   "execution_count": 24,
   "metadata": {
    "ExecuteTime": {
     "end_time": "2020-09-26T16:51:54.210516Z",
     "start_time": "2020-09-26T16:51:54.046343Z"
    }
   },
   "outputs": [
    {
     "name": "stdout",
     "output_type": "stream",
     "text": [
      "**************************************** Calling snooze(.123)\n",
      "execution [0.13718220s] snooze(0.123) -> None\n",
      "**************************************** Calling factorial(6)\n",
      "execution [0.00000170s] factorial1(1) -> 1\n",
      "execution [0.00010260s] factorial1(2) -> 2\n",
      "execution [0.00099670s] factorial1(3) -> 6\n",
      "execution [0.00171110s] factorial1(4) -> 24\n",
      "execution [0.00273170s] factorial1(5) -> 120\n",
      "execution [0.00282930s] factorial1(6) -> 720\n",
      "6! = 720\n"
     ]
    },
    {
     "data": {
      "text/plain": [
       "'clocked'"
      ]
     },
     "execution_count": 24,
     "metadata": {},
     "output_type": "execute_result"
    }
   ],
   "source": [
    "@clock\n",
    "def snooze(seconds):\n",
    "    time.sleep(seconds)\n",
    "\n",
    "@clock\n",
    "def factorial1(n):\n",
    "    return 1 if n < 2 else n*factorial1(n-1)\n",
    "\n",
    "print('*' * 40, 'Calling snooze(.123)')\n",
    "snooze(.123)\n",
    "print('*' * 40, 'Calling factorial(6)')\n",
    "print('6! =', factorial1(6))\n",
    "\n",
    "factorial1.__name__"
   ]
  },
  {
   "cell_type": "markdown",
   "metadata": {},
   "source": [
    "# La suite de Fibonacci\n",
    "<br>\n",
    "$F_0 = 0 $\n",
    "<br>\n",
    "$F_1 = 1 $\n",
    "<br>\n",
    "$F_n = F_{n-2}+F_{n-1}$ pour $n ≥ 2$"
   ]
  },
  {
   "cell_type": "code",
   "execution_count": 25,
   "metadata": {
    "ExecuteTime": {
     "end_time": "2020-09-26T16:51:54.257927Z",
     "start_time": "2020-09-26T16:51:54.217765Z"
    }
   },
   "outputs": [
    {
     "name": "stdout",
     "output_type": "stream",
     "text": [
      "execution [0.00000160s] fibonacci(0) -> 0\n",
      "execution [0.00000270s] fibonacci(1) -> 1\n",
      "execution [0.00075150s] fibonacci(2) -> 1\n",
      "execution [0.00000140s] fibonacci(1) -> 1\n",
      "execution [0.00000110s] fibonacci(0) -> 0\n",
      "execution [0.00000250s] fibonacci(1) -> 1\n",
      "execution [0.00036390s] fibonacci(2) -> 1\n",
      "execution [0.00049540s] fibonacci(3) -> 2\n",
      "execution [0.00147400s] fibonacci(4) -> 3\n",
      "execution [0.00000250s] fibonacci(1) -> 1\n",
      "execution [0.00000290s] fibonacci(0) -> 0\n",
      "execution [0.00000350s] fibonacci(1) -> 1\n",
      "execution [0.00055110s] fibonacci(2) -> 1\n",
      "execution [0.00124080s] fibonacci(3) -> 2\n",
      "execution [0.00000250s] fibonacci(0) -> 0\n",
      "execution [0.00000260s] fibonacci(1) -> 1\n",
      "execution [0.00024680s] fibonacci(2) -> 1\n",
      "execution [0.00000260s] fibonacci(1) -> 1\n",
      "execution [0.00000170s] fibonacci(0) -> 0\n",
      "execution [0.00000340s] fibonacci(1) -> 1\n",
      "execution [0.00192460s] fibonacci(2) -> 1\n",
      "execution [0.00271940s] fibonacci(3) -> 2\n",
      "execution [0.00352180s] fibonacci(4) -> 3\n",
      "execution [0.00752970s] fibonacci(5) -> 5\n",
      "execution [0.01021640s] fibonacci(6) -> 8\n",
      "8\n"
     ]
    }
   ],
   "source": [
    "@clock\n",
    "def fibonacci(n):\n",
    "    if n < 2:\n",
    "        return n\n",
    "    return fibonacci(n-2) + fibonacci(n-1)\n",
    "\n",
    "print(fibonacci(6))"
   ]
  },
  {
   "cell_type": "code",
   "execution_count": 27,
   "metadata": {
    "ExecuteTime": {
     "end_time": "2020-09-26T16:52:08.764378Z",
     "start_time": "2020-09-26T16:52:08.756483Z"
    }
   },
   "outputs": [
    {
     "name": "stdout",
     "output_type": "stream",
     "text": [
      "execution [0.00000110s] fibonacci(0) -> 0\n",
      "execution [0.00000140s] fibonacci(1) -> 1\n",
      "execution [0.00035080s] fibonacci(2) -> 1\n",
      "execution [0.00000200s] fibonacci(3) -> 2\n",
      "execution [0.00054090s] fibonacci(4) -> 3\n",
      "execution [0.00000180s] fibonacci(5) -> 5\n",
      "execution [0.00064700s] fibonacci(6) -> 8\n",
      "execution [0.00000210s] fibonacci(7) -> 13\n",
      "execution [0.00074260s] fibonacci(8) -> 21\n",
      "execution [0.00000180s] fibonacci(9) -> 34\n",
      "execution [0.00083190s] fibonacci(10) -> 55\n",
      "execution [0.00000220s] fibonacci(11) -> 89\n",
      "execution [0.00102660s] fibonacci(12) -> 144\n",
      "144\n"
     ]
    }
   ],
   "source": [
    "import functools\n",
    "\n",
    "@functools.lru_cache() \n",
    "\n",
    "@clock #\n",
    "def fibonacci(n):\n",
    "    if n < 2:\n",
    "        return n\n",
    "    return fibonacci(n-2) + fibonacci(n-1)\n",
    "\n",
    "print(fibonacci(12))"
   ]
  },
  {
   "cell_type": "code",
   "execution_count": 28,
   "metadata": {
    "ExecuteTime": {
     "end_time": "2020-09-26T16:52:08.793842Z",
     "start_time": "2020-09-26T16:52:08.768509Z"
    }
   },
   "outputs": [],
   "source": [
    "class NbAppels(object):\n",
    "    def __init__(self, f):\n",
    "        self.f = f\n",
    "        self.appels = 0\n",
    "    def __call__(self, *args):\n",
    "        self.appels += 1\n",
    "        print (\"{}: {} appels\".format(self.f.__name__, self.appels))\n",
    "        return self.f(*args)"
   ]
  },
  {
   "cell_type": "code",
   "execution_count": 29,
   "metadata": {
    "ExecuteTime": {
     "end_time": "2020-09-26T16:52:08.809341Z",
     "start_time": "2020-09-26T16:52:08.797078Z"
    }
   },
   "outputs": [],
   "source": [
    "def factorielle(n):\n",
    "        if n == 0 : return 1\n",
    "        else : return n * factorielle(n-1)"
   ]
  },
  {
   "cell_type": "code",
   "execution_count": 30,
   "metadata": {
    "ExecuteTime": {
     "end_time": "2020-09-26T16:52:08.840530Z",
     "start_time": "2020-09-26T16:52:08.813210Z"
    }
   },
   "outputs": [
    {
     "name": "stdout",
     "output_type": "stream",
     "text": [
      "factorielle: 1 appels\n",
      "factorielle: 2 appels\n",
      "factorielle: 3 appels\n",
      "factorielle: 4 appels\n",
      "factorielle: 5 appels\n",
      "factorielle: 6 appels\n",
      "factorielle: 7 appels\n",
      "factorielle: 8 appels\n",
      "factorielle: 9 appels\n",
      "factorielle: 10 appels\n",
      "factorielle: 11 appels\n"
     ]
    },
    {
     "data": {
      "text/plain": [
       "3628800"
      ]
     },
     "execution_count": 30,
     "metadata": {},
     "output_type": "execute_result"
    }
   ],
   "source": [
    "factorielle = NbAppels(factorielle)\n",
    "factorielle(10) "
   ]
  },
  {
   "cell_type": "code",
   "execution_count": 31,
   "metadata": {
    "ExecuteTime": {
     "end_time": "2020-09-26T16:52:08.856289Z",
     "start_time": "2020-09-26T16:52:08.843500Z"
    }
   },
   "outputs": [],
   "source": [
    "class NbAppels1(object):\n",
    "    def __init__(self, f):\n",
    "        self.f = f\n",
    "        self.appels = 0\n",
    "    def __call__(self, *args):\n",
    "        self.appels += 1\n",
    "        print (\"{}: {} appels\".format(self.f.__name__, self.appels))\n",
    "        return self.f(*args)"
   ]
  },
  {
   "cell_type": "code",
   "execution_count": 32,
   "metadata": {
    "ExecuteTime": {
     "end_time": "2020-09-26T16:52:08.871746Z",
     "start_time": "2020-09-26T16:52:08.859786Z"
    }
   },
   "outputs": [],
   "source": [
    "@NbAppels1        \n",
    "def factorielle1(n):\n",
    "        if n == 0 : return 1\n",
    "        else : return n * factorielle1(n-1)"
   ]
  },
  {
   "cell_type": "code",
   "execution_count": 33,
   "metadata": {
    "ExecuteTime": {
     "end_time": "2020-09-26T16:52:08.903323Z",
     "start_time": "2020-09-26T16:52:08.874703Z"
    }
   },
   "outputs": [
    {
     "name": "stdout",
     "output_type": "stream",
     "text": [
      "factorielle1: 1 appels\n",
      "factorielle1: 2 appels\n",
      "factorielle1: 3 appels\n",
      "factorielle1: 4 appels\n",
      "factorielle1: 5 appels\n",
      "factorielle1: 6 appels\n",
      "factorielle1: 7 appels\n",
      "factorielle1: 8 appels\n",
      "factorielle1: 9 appels\n",
      "factorielle1: 10 appels\n",
      "factorielle1: 11 appels\n"
     ]
    },
    {
     "data": {
      "text/plain": [
       "3628800"
      ]
     },
     "execution_count": 33,
     "metadata": {},
     "output_type": "execute_result"
    }
   ],
   "source": [
    "factorielle1(10)  "
   ]
  },
  {
   "cell_type": "code",
   "execution_count": 34,
   "metadata": {
    "ExecuteTime": {
     "end_time": "2020-09-26T16:52:08.918537Z",
     "start_time": "2020-09-26T16:52:08.908126Z"
    }
   },
   "outputs": [],
   "source": [
    "enregistrement = set()\n",
    "\n",
    "def enregistrer(activation=True):\n",
    "    def decoration(fonction):\n",
    "        print('executer enregistrement(activation=%s)->decoration(%s)'\n",
    "                 % (activation, fonction))\n",
    "        if activation:\n",
    "            enregistrement.add(fonction)\n",
    "        else:\n",
    "            enregistrement.discard(fonction)\n",
    "        return fonction\n",
    "    return decoration"
   ]
  },
  {
   "cell_type": "code",
   "execution_count": 35,
   "metadata": {
    "ExecuteTime": {
     "end_time": "2020-09-26T16:52:08.949700Z",
     "start_time": "2020-09-26T16:52:08.921666Z"
    }
   },
   "outputs": [
    {
     "name": "stdout",
     "output_type": "stream",
     "text": [
      "executer enregistrement(activation=False)->decoration(<function f1 at 0x000001FB57AFA708>)\n",
      "executer enregistrement(activation=True)->decoration(<function f2 at 0x000001FB57AFD8B8>)\n"
     ]
    }
   ],
   "source": [
    "@enregistrer(activation=False)\n",
    "def f1():\n",
    "    print('running f1()')\n",
    "\n",
    "@enregistrer()\n",
    "def f2():\n",
    "    print('running f2()')\n",
    "    \n",
    "def f3():\n",
    "    print('running f3()')"
   ]
  },
  {
   "cell_type": "code",
   "execution_count": 36,
   "metadata": {
    "ExecuteTime": {
     "end_time": "2020-09-26T16:52:08.965430Z",
     "start_time": "2020-09-26T16:52:08.952570Z"
    }
   },
   "outputs": [
    {
     "data": {
      "text/plain": [
       "{<function __main__.f2()>}"
      ]
     },
     "execution_count": 36,
     "metadata": {},
     "output_type": "execute_result"
    }
   ],
   "source": [
    "enregistrement"
   ]
  },
  {
   "cell_type": "code",
   "execution_count": 37,
   "metadata": {
    "ExecuteTime": {
     "end_time": "2020-09-26T16:52:08.981485Z",
     "start_time": "2020-09-26T16:52:08.968361Z"
    }
   },
   "outputs": [
    {
     "name": "stdout",
     "output_type": "stream",
     "text": [
      "executer enregistrement(activation=True)->decoration(<function f3 at 0x000001FB57AFA678>)\n"
     ]
    },
    {
     "data": {
      "text/plain": [
       "<function __main__.f3()>"
      ]
     },
     "execution_count": 37,
     "metadata": {},
     "output_type": "execute_result"
    }
   ],
   "source": [
    "enregistrer()(f3) "
   ]
  },
  {
   "cell_type": "code",
   "execution_count": 38,
   "metadata": {
    "ExecuteTime": {
     "end_time": "2020-09-26T16:52:09.013001Z",
     "start_time": "2020-09-26T16:52:08.984509Z"
    }
   },
   "outputs": [
    {
     "data": {
      "text/plain": [
       "{<function __main__.f2()>, <function __main__.f3()>}"
      ]
     },
     "execution_count": 38,
     "metadata": {},
     "output_type": "execute_result"
    }
   ],
   "source": [
    "enregistrement "
   ]
  },
  {
   "cell_type": "code",
   "execution_count": 39,
   "metadata": {
    "ExecuteTime": {
     "end_time": "2020-09-26T16:52:09.029063Z",
     "start_time": "2020-09-26T16:52:09.016556Z"
    }
   },
   "outputs": [
    {
     "name": "stdout",
     "output_type": "stream",
     "text": [
      "executer enregistrement(activation=False)->decoration(<function f2 at 0x000001FB57AFD8B8>)\n"
     ]
    },
    {
     "data": {
      "text/plain": [
       "<function __main__.f2()>"
      ]
     },
     "execution_count": 39,
     "metadata": {},
     "output_type": "execute_result"
    }
   ],
   "source": [
    "enregistrer(activation=False)(f2) "
   ]
  },
  {
   "cell_type": "code",
   "execution_count": 40,
   "metadata": {
    "ExecuteTime": {
     "end_time": "2020-09-26T16:52:09.044869Z",
     "start_time": "2020-09-26T16:52:09.032101Z"
    }
   },
   "outputs": [
    {
     "data": {
      "text/plain": [
       "<function __main__.enregistrer(activation=True)>"
      ]
     },
     "execution_count": 40,
     "metadata": {},
     "output_type": "execute_result"
    }
   ],
   "source": [
    "enregistrer"
   ]
  },
  {
   "cell_type": "code",
   "execution_count": 41,
   "metadata": {
    "ExecuteTime": {
     "end_time": "2020-09-26T16:52:09.075921Z",
     "start_time": "2020-09-26T16:52:09.047565Z"
    }
   },
   "outputs": [],
   "source": [
    "import time\n",
    "\n",
    "DEFAULT_FMT = '[{elapsed:0.8f}s] {name}({args}) -> {result}'\n",
    "\n",
    "def clock(fmt=DEFAULT_FMT):\n",
    "    def decorate(func):\n",
    "        def clocked(*_args):\n",
    "            t0 = time.time()\n",
    "            _result = func(*_args)\n",
    "            elapsed = time.time() - t0\n",
    "            name = func.__name__\n",
    "            args = ', '.join(repr(arg) for arg in _args)\n",
    "            result = repr(_result)\n",
    "            print(fmt.format(**locals()))\n",
    "            return _result\n",
    "        return clocked\n",
    "    return decorate"
   ]
  },
  {
   "cell_type": "code",
   "execution_count": 42,
   "metadata": {
    "ExecuteTime": {
     "end_time": "2020-09-26T16:52:09.091216Z",
     "start_time": "2020-09-26T16:52:09.079196Z"
    }
   },
   "outputs": [],
   "source": [
    "@clock()\n",
    "def snooze(seconds):\n",
    "    time.sleep(seconds)"
   ]
  },
  {
   "cell_type": "code",
   "execution_count": 43,
   "metadata": {
    "ExecuteTime": {
     "end_time": "2020-09-26T16:52:09.507277Z",
     "start_time": "2020-09-26T16:52:09.094659Z"
    }
   },
   "outputs": [
    {
     "name": "stdout",
     "output_type": "stream",
     "text": [
      "[0.13905430s] snooze(0.123) -> None\n",
      "[0.12655067s] snooze(0.123) -> None\n",
      "[0.12342286s] snooze(0.123) -> None\n"
     ]
    }
   ],
   "source": [
    "for i in range(3):\n",
    "    snooze(.123)"
   ]
  }
 ],
 "metadata": {
  "kernelspec": {
   "display_name": "Python 3",
   "language": "python",
   "name": "python3"
  },
  "language_info": {
   "codemirror_mode": {
    "name": "ipython",
    "version": 3
   },
   "file_extension": ".py",
   "mimetype": "text/x-python",
   "name": "python",
   "nbconvert_exporter": "python",
   "pygments_lexer": "ipython3",
   "version": "3.8.3"
  }
 },
 "nbformat": 4,
 "nbformat_minor": 2
}

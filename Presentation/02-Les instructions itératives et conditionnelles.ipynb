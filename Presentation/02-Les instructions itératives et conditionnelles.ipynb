{
 "cells": [
  {
   "cell_type": "markdown",
   "metadata": {},
   "source": [
    "# Le type integer"
   ]
  },
  {
   "cell_type": "code",
   "execution_count": 5,
   "metadata": {},
   "outputs": [
    {
     "data": {
      "text/plain": [
       "(10, 20)"
      ]
     },
     "execution_count": 5,
     "metadata": {},
     "output_type": "execute_result"
    }
   ],
   "source": [
    "a = 10\n",
    "b = 20\n",
    "a,b"
   ]
  },
  {
   "cell_type": "code",
   "execution_count": 6,
   "metadata": {},
   "outputs": [
    {
     "data": {
      "text/plain": [
       "(20, 10)"
      ]
     },
     "execution_count": 6,
     "metadata": {},
     "output_type": "execute_result"
    }
   ],
   "source": [
    "a,b = b,a\n",
    "a,b"
   ]
  },
  {
   "cell_type": "code",
   "execution_count": 1,
   "metadata": {},
   "outputs": [
    {
     "name": "stdout",
     "output_type": "stream",
     "text": [
      "1 : 1 <class 'int'>\n",
      "2 : 2 <class 'int'>\n",
      "3 : 3 <class 'int'>\n",
      "4 : 5 <class 'int'>\n",
      "5 : 8 <class 'int'>\n",
      "6 : 13 <class 'int'>\n",
      "7 : 21 <class 'int'>\n",
      "8 : 34 <class 'int'>\n",
      "9 : 55 <class 'int'>\n",
      "10 : 89 <class 'int'>\n",
      "11 : 144 <class 'int'>\n",
      "12 : 233 <class 'int'>\n",
      "13 : 377 <class 'int'>\n",
      "14 : 610 <class 'int'>\n",
      "15 : 987 <class 'int'>\n",
      "16 : 1597 <class 'int'>\n",
      "17 : 2584 <class 'int'>\n",
      "18 : 4181 <class 'int'>\n",
      "19 : 6765 <class 'int'>\n",
      "20 : 10946 <class 'int'>\n",
      "21 : 17711 <class 'int'>\n",
      "22 : 28657 <class 'int'>\n",
      "23 : 46368 <class 'int'>\n",
      "24 : 75025 <class 'int'>\n",
      "25 : 121393 <class 'int'>\n",
      "26 : 196418 <class 'int'>\n",
      "27 : 317811 <class 'int'>\n",
      "28 : 514229 <class 'int'>\n",
      "29 : 832040 <class 'int'>\n",
      "30 : 1346269 <class 'int'>\n",
      "31 : 2178309 <class 'int'>\n",
      "32 : 3524578 <class 'int'>\n",
      "33 : 5702887 <class 'int'>\n",
      "34 : 9227465 <class 'int'>\n",
      "35 : 14930352 <class 'int'>\n",
      "36 : 24157817 <class 'int'>\n",
      "37 : 39088169 <class 'int'>\n",
      "38 : 63245986 <class 'int'>\n",
      "39 : 102334155 <class 'int'>\n",
      "40 : 165580141 <class 'int'>\n",
      "41 : 267914296 <class 'int'>\n",
      "42 : 433494437 <class 'int'>\n",
      "43 : 701408733 <class 'int'>\n",
      "44 : 1134903170 <class 'int'>\n",
      "45 : 1836311903 <class 'int'>\n",
      "46 : 2971215073 <class 'int'>\n",
      "47 : 4807526976 <class 'int'>\n",
      "48 : 7778742049 <class 'int'>\n",
      "49 : 12586269025 <class 'int'>\n",
      "50 : 20365011074 <class 'int'>\n",
      "51 : 32951280099 <class 'int'>\n",
      "52 : 53316291173 <class 'int'>\n",
      "53 : 86267571272 <class 'int'>\n",
      "54 : 139583862445 <class 'int'>\n",
      "55 : 225851433717 <class 'int'>\n",
      "56 : 365435296162 <class 'int'>\n",
      "57 : 591286729879 <class 'int'>\n",
      "58 : 956722026041 <class 'int'>\n",
      "59 : 1548008755920 <class 'int'>\n",
      "60 : 2504730781961 <class 'int'>\n",
      "61 : 4052739537881 <class 'int'>\n",
      "62 : 6557470319842 <class 'int'>\n",
      "63 : 10610209857723 <class 'int'>\n",
      "64 : 17167680177565 <class 'int'>\n",
      "65 : 27777890035288 <class 'int'>\n",
      "66 : 44945570212853 <class 'int'>\n",
      "67 : 72723460248141 <class 'int'>\n",
      "68 : 117669030460994 <class 'int'>\n",
      "69 : 190392490709135 <class 'int'>\n",
      "70 : 308061521170129 <class 'int'>\n",
      "71 : 498454011879264 <class 'int'>\n",
      "72 : 806515533049393 <class 'int'>\n",
      "73 : 1304969544928657 <class 'int'>\n",
      "74 : 2111485077978050 <class 'int'>\n",
      "75 : 3416454622906707 <class 'int'>\n",
      "76 : 5527939700884757 <class 'int'>\n",
      "77 : 8944394323791464 <class 'int'>\n",
      "78 : 14472334024676221 <class 'int'>\n",
      "79 : 23416728348467685 <class 'int'>\n"
     ]
    }
   ],
   "source": [
    "a, b, c = 1, 1, 1\n",
    "while c < 80 :\n",
    "    print(c,\":\",b,type(b))\n",
    "    a, b, c = b, a+b, c+1\n"
   ]
  },
  {
   "cell_type": "code",
   "execution_count": 2,
   "metadata": {},
   "outputs": [
    {
     "name": "stdout",
     "output_type": "stream",
     "text": [
      "1 :  2\n",
      "2 :  6\n",
      "3 :  12\n",
      "4 :  72\n",
      "5 :  864\n",
      "6 :  62208\n",
      "7 :  53747712\n",
      "8 :  3343537668096\n",
      "9 :  179707499645975396352\n",
      "10 :  600858794305667322270155425185792\n",
      "11 :  107978831564966913814384922944738457859243070439030784\n",
      "12 :  64880030544660752790736837369104977695001034284228042891827649456186234582611607420928\n",
      "13 :  7005669890111832002923764139957621692162454505797269791738369231327175488362123506443467340026896520469610300883250624900843742470237847552\n",
      "14 :  454528076456265799856362940482493512051682398707229461514016556556583986422276163358151238257824601969802061415367471160941735505142279479530059170096950422693079038247634055829175296831946224503933501754776033004012758368256\n"
     ]
    }
   ],
   "source": [
    "a, b, c = 3, 2, 1\n",
    "while c < 15:\n",
    "    print(c, \": \", b)\n",
    "    a, b, c = b, a*b, c+1"
   ]
  },
  {
   "cell_type": "code",
   "execution_count": 3,
   "metadata": {},
   "outputs": [
    {
     "data": {
      "text/plain": [
       "'0b1110'"
      ]
     },
     "execution_count": 3,
     "metadata": {},
     "output_type": "execute_result"
    }
   ],
   "source": [
    "# La forme binaire\n",
    "0b0101101001\n",
    "bin(14)"
   ]
  },
  {
   "cell_type": "code",
   "execution_count": 4,
   "metadata": {},
   "outputs": [
    {
     "data": {
      "text/plain": [
       "'0o1037'"
      ]
     },
     "execution_count": 4,
     "metadata": {},
     "output_type": "execute_result"
    }
   ],
   "source": [
    "# La forme octale\n",
    "0o76453\n",
    "oct(543)"
   ]
  },
  {
   "cell_type": "code",
   "execution_count": 5,
   "metadata": {},
   "outputs": [
    {
     "data": {
      "text/plain": [
       "'0xaa9c'"
      ]
     },
     "execution_count": 5,
     "metadata": {},
     "output_type": "execute_result"
    }
   ],
   "source": [
    "# La forme hexadécimale\n",
    "0x3ef7b66\n",
    "hex(43676)"
   ]
  },
  {
   "cell_type": "markdown",
   "metadata": {
    "ExecuteTime": {
     "end_time": "2020-09-27T20:04:29.015052Z",
     "start_time": "2020-09-27T20:04:29.012061Z"
    }
   },
   "source": [
    "# Les type float"
   ]
  },
  {
   "cell_type": "code",
   "execution_count": 2,
   "metadata": {
    "ExecuteTime": {
     "end_time": "2020-09-27T20:04:40.609341Z",
     "start_time": "2020-09-27T20:04:40.602360Z"
    }
   },
   "outputs": [
    {
     "name": "stdout",
     "output_type": "stream",
     "text": [
      "1 :  2.0\n",
      "2 :  2.0\n",
      "3 :  4.0\n",
      "4 :  8.0\n",
      "5 :  32.0\n",
      "6 :  256.0\n",
      "7 :  8192.0\n",
      "8 :  2097152.0\n",
      "9 :  17179869184.0\n",
      "10 :  3.602879701896397e+16\n",
      "11 :  6.189700196426902e+26\n",
      "12 :  2.2300745198530623e+43\n",
      "13 :  1.3803492693581128e+70\n",
      "14 :  3.078281734093319e+113\n",
      "15 :  4.249103942534137e+183\n",
      "16 :  1.307993905256674e+297\n",
      "17 :  inf\n"
     ]
    }
   ],
   "source": [
    "a, b, c = 1., 2., 1\n",
    "while c < 18:\n",
    "    print(c, \": \", b)\n",
    "    a, b, c = b, a*b, c+1"
   ]
  },
  {
   "cell_type": "code",
   "execution_count": 3,
   "metadata": {
    "ExecuteTime": {
     "end_time": "2020-09-27T20:04:48.299237Z",
     "start_time": "2020-09-27T20:04:48.290262Z"
    }
   },
   "outputs": [
    {
     "name": "stdout",
     "output_type": "stream",
     "text": [
      "1e+48 999999999999999999999999999999999999999999999999\n"
     ]
    },
    {
     "data": {
      "text/plain": [
       "False"
      ]
     },
     "execution_count": 3,
     "metadata": {},
     "output_type": "execute_result"
    }
   ],
   "source": [
    "varInt = 999999999999999999999999999999999999999999999999\n",
    "varFloat = float(varInt)\n",
    "print(varFloat,varInt)\n",
    "varInt == varFloat"
   ]
  },
  {
   "cell_type": "markdown",
   "metadata": {},
   "source": [
    "# Les instructions conditionnelles"
   ]
  },
  {
   "cell_type": "code",
   "execution_count": 8,
   "metadata": {},
   "outputs": [
    {
     "name": "stdout",
     "output_type": "stream",
     "text": [
      "Donnez une valeur pour varInt : 1\n",
      "varInt est négatif\n"
     ]
    }
   ],
   "source": [
    "print(\"Donnez une valeur pour varInt :\", end =\" \")\n",
    "varInt = int(input())\n",
    "\n",
    "if varInt > 10 :\n",
    "    print(\"varInt est positif\")\n",
    "elif varInt < 0 :\n",
    "    print(\"varInt est négatif\")    \n",
    "elif varInt < 1 :\n",
    "    print(\"varInt est négatif\")\n",
    "elif varInt < 2 :\n",
    "    print(\"varInt est négatif\")\n",
    "else:\n",
    "    print(\"varInt est égal à zéro\")"
   ]
  },
  {
   "cell_type": "code",
   "execution_count": null,
   "metadata": {},
   "outputs": [],
   "source": [
    "signe = 0\n",
    "print(\"Donnez une valeur pour x :\", end =\" \")\n",
    "x = int(input())\n",
    "if x < 0 : \n",
    "    signe = -1\n",
    "elif x == 0:\n",
    "    pass #signe est déjà égal à 0 \n",
    "else : \n",
    "    signe = 1\n",
    "print(signe)"
   ]
  },
  {
   "cell_type": "code",
   "execution_count": null,
   "metadata": {},
   "outputs": [],
   "source": [
    "varInt = 0\n",
    "while (varInt < 7):         # ( n'oubliez pas le double point !)\n",
    "    varInt = varInt + 1     # ( n'oubliez pas l'indentation !)\n",
    "    print(\"La valeur de varInt est : \",varInt)"
   ]
  },
  {
   "cell_type": "code",
   "execution_count": null,
   "metadata": {},
   "outputs": [],
   "source": [
    "i = 0\n",
    "while i < 2:\n",
    "    varInt = int(input(\"Entrez une valeur pour varInt :\"))\n",
    "    while varInt < 8:\n",
    "        varInt = varInt +1\n",
    "        print(varInt , varInt**2 , varInt**3)\n",
    "    else:\n",
    "        print('Valeur de varInt >= 8')\n",
    "    i = i + 1"
   ]
  },
  {
   "cell_type": "code",
   "execution_count": 11,
   "metadata": {},
   "outputs": [
    {
     "name": "stdout",
     "output_type": "stream",
     "text": [
      "1 2 - c >= 11 -\n",
      "-\n"
     ]
    }
   ],
   "source": [
    "a, b, c = 1, 1, 9\n",
    "while c < 11 :\n",
    "    print(b, end =\" \")\n",
    "    a, b, c = b, a+b, c+1\n",
    "else :\n",
    "    print(\"- c >= 11 -\")\n",
    "    \n",
    "print(\"-\")"
   ]
  },
  {
   "cell_type": "code",
   "execution_count": 13,
   "metadata": {},
   "outputs": [
    {
     "name": "stdout",
     "output_type": "stream",
     "text": [
      "1 :  2\n",
      "2 :  6\n",
      "3 :  12\n",
      "4 :  72\n",
      "5 :  864\n",
      "6 :  62208\n",
      "7 :  53747712\n"
     ]
    }
   ],
   "source": [
    "a, b, c = 3, 2, 1\n",
    "while c < 15:\n",
    "    print(c, \": \", b)\n",
    "    a, b, c = b, a*b, c+1\n",
    "    if b > 99999999999 : break\n",
    "else :\n",
    "    print(\"- c >= 15 -\")        "
   ]
  }
 ],
 "metadata": {
  "kernelspec": {
   "display_name": "Python 3",
   "language": "python",
   "name": "python3"
  },
  "language_info": {
   "codemirror_mode": {
    "name": "ipython",
    "version": 3
   },
   "file_extension": ".py",
   "mimetype": "text/x-python",
   "name": "python",
   "nbconvert_exporter": "python",
   "pygments_lexer": "ipython3",
   "version": "3.8.3"
  }
 },
 "nbformat": 4,
 "nbformat_minor": 2
}

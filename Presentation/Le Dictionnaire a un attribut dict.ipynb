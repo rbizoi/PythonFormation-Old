{
 "cells": [
  {
   "cell_type": "code",
   "execution_count": null,
   "metadata": {},
   "outputs": [],
   "source": [
    "import shelve\n",
    "import os\n",
    "import re\n",
    "os.chdir(\"C:\\Solutions\")"
   ]
  },
  {
   "cell_type": "code",
   "execution_count": null,
   "metadata": {},
   "outputs": [],
   "source": []
  },
  {
   "cell_type": "code",
   "execution_count": 13,
   "metadata": {},
   "outputs": [],
   "source": [
    "class Dictionnaire(): \n",
    "    \n",
    "    def __init__ ( self, *args, **kwargs):\n",
    "        \"\"\"constructeur: Initialisation des premières valeurs\"\"\"\n",
    "        self . _dictionnaire = dict(*args, **kwargs)\n",
    "        \n",
    "    def __str__(self):\n",
    "        \"\"\" Méthode permettant d'afficher plus \n",
    "            joliment notre objet \"\"\"\n",
    "        s = ''\n",
    "        for nom in self._dictionnaire :\n",
    "                s += \"Nom : {0} - âge : {1} ans - taille : {2} m.\\n\".\\\n",
    "                format(nom, self._dictionnaire[nom][0], self._dictionnaire[nom][1])\n",
    "        return s\n",
    "\n",
    "    def __repr__(self):\n",
    "        \"\"\" Quand on entre notre objet dans l'interpréteur \"\"\"\n",
    "        return self.__str__()\n",
    "\n",
    "    def __getitem__ (self , index ):\n",
    "        \"\"\" Cette méthode spéciale est appelée \n",
    "        quand on fait : objet[index] \n",
    "        Elle redirige vers self._dictionnaire[index]\"\"\"\n",
    "\n",
    "        return self . _dictionnaire [ index ]\n",
    "        \n",
    "    def __setitem__ (self , index , valeur ):\n",
    "        \"\"\" Cette méthode est appelée quand on écrit \n",
    "        objet[index]=valeur\n",
    "        On redirige vers self._dictionnaire[index]=valeur \"\"\"\n",
    "\n",
    "        self . _dictionnaire [ index ] = valeur\n",
    "        \n",
    "    def __contains__ (self,index):\n",
    "        \"\"\" Cette méthode est appelée quand on écrit \n",
    "        valeur in objet \"\"\"\n",
    "        if self._dictionnaire is None:\n",
    "            raise TypeError('pas de dictionnaire')\n",
    "        return any(item == index for item in  \\\n",
    "                   self._dictionnaire.keys())\n",
    "\n",
    "    def __len__ (self):\n",
    "        \"\"\" Cette méthode est appelée quand on écrit \n",
    "        len(objet) \"\"\"\n",
    "        if self._dictionnaire is None:\n",
    "            raise TypeError('pas de dictionnaire')\n",
    "        return len(self._dictionnaire)\n",
    "        \n",
    "    def __eq__ (self,autre):\n",
    "        \"\"\" Cette méthode est appelée quand on écrit \n",
    "        objet == objet \"\"\"\n",
    "        for cle in self._dictionnaire.keys() :\n",
    "            if not cle in autre : \n",
    "                return False\n",
    "        return True\n",
    "\n",
    "        \n",
    "    def affichage(self):\n",
    "        for nom in self._dictionnaire :\n",
    "                print(\"Nom : {0} - âge : {1} ans - taille : {2} m.\".\\\n",
    "                format(nom, self._dictionnaire[nom][0], self._dictionnaire[nom][1]))\n",
    "\n",
    "    def consultation(self):\n",
    "        while 1:\n",
    "            nom = input(\"Entrez le nom (ou <enter> pour terminer) : \")\n",
    "            if nom == \"\":\n",
    "                break\n",
    "            if nom in self._dictionnaire:             # le nom est-il répertorié ?\n",
    "                item = self._dictionnaire[nom]        # consultation proprement dite\n",
    "                age, taille = item[0], item[1]\n",
    "                print(\"Nom : {0} - âge : {1} ans - taille : {2} m.\".\\\n",
    "                        format(nom, age, taille))\n",
    "            else:\n",
    "                print(\"*** nom inconnu ! ***\")\n",
    "                \n",
    "    def consultationLike(self):\n",
    "        while 1:\n",
    "            nom = input(\"Entrez le nom (ou <enter> pour terminer) : \")\n",
    "            if nom == \"\":\n",
    "                break\n",
    "            nomRegex = re.compile('.*'+nom+'.*')\n",
    "            for nom in self._dictionnaire :    \n",
    "                if nomRegex.search(nom): \n",
    "                    item = self._dictionnaire[nom]        # consultation proprement dite\n",
    "                    age, taille = item[0], item[1]\n",
    "                    print(\"Nom : {0} - âge : {1} ans - taille : {2} m.\".\\\n",
    "                            format(nom, age, taille))\n",
    "                \n",
    "    def remplissage(self):\n",
    "        while 1:\n",
    "            nom = input(\"Entrez le nom (ou <enter> pour terminer) : \")\n",
    "            if nom == \"\":\n",
    "                break\n",
    "            age = int(input(\"Entrez l'âge (nombre entier !) : \"))\n",
    "            taille = float(input(\"Entrez la taille (en mètres) : \"))\n",
    "            self._dictionnaire[nom] = (age, taille)\n",
    "            \n",
    "    def enregistrement(self):\n",
    "        fich = input(\"Entrez le nom du fichier de sauvegarde : \")\n",
    "        ofi = shelve.open(fich)\n",
    "        # écriture d'une ligne-repère pour identifier le type de fichier :\n",
    "        ofi['dictionnaire'] = self._dictionnaire\n",
    "        ofi.close()\n",
    "        \n",
    "    def lectureFichier(self):\n",
    "        fich = input(\"Entrez le nom du fichier de sauvegarde : \")\n",
    "        ofi = shelve.open(fich)\n",
    "        # écriture d'une ligne-repère pour identifier le type de fichier :\n",
    "        self._dictionnaire.update(ofi['dictionnaire'])\n",
    "        ofi.close()\n",
    "\n",
    "    def sortie(self):        \n",
    "        print(\"*** Job terminé ***\")\n",
    "        return 1 # afin de provoquer la sortie de la boucle\n",
    "        \n",
    "    def autre(self):        \n",
    "        print(\"Veuillez frapper R, A, C, S ou T, svp.\")\n",
    "\n",
    "    def traitement(self):        \n",
    "        fonc ={\"R\":self.lectureFichier,\"A\":self.remplissage,\"C\":self.consultation,\"K\":self.consultationLike,\n",
    "               \"L\":self.affichage,\"S\":self.enregistrement,\"T\":self.sortie}\n",
    "\n",
    "        while 1:\n",
    "            choix = input(\"Choisissez :\\n\" +\\\n",
    "                \"(R)écupérer un dictionnaire préexistant sauvegardé dans un fichier\\n\" +\\\n",
    "                \"(A)jouter des données au dictionnaire courant\\n\" +\\\n",
    "                \"(C)onsulter non le dictionnaire courant\\n\" +\\\n",
    "                \"(K)onsulter like le dictionnaire courant\\n\" +\\\n",
    "                \"(L)ister le dictionnaire courant\\n\" +\\\n",
    "                \"(S)auvegarder le dictionnaire courant dans un fichier\\n\" +\\\n",
    "                \"(T)erminer : \").upper()\n",
    "            # l'instruction ci-dessous appelle une fonction différente pour chaque\n",
    "            # choix, par l'intermédiaire du dictionnaire <fonc> :\n",
    "            if fonc.get(choix, self.autre)():\n",
    "                break\n",
    "            # note : toutes les fonctions appelées ici renvoient <None> par défaut\n",
    "            # sauf la fonction sortie() qui renvoie 1 => sortie de la boucle\n",
    "        "
   ]
  },
  {
   "cell_type": "code",
   "execution_count": 14,
   "metadata": {},
   "outputs": [],
   "source": [
    "d1 =Dictionnaire({'BIZOÏ': (53, 1.81),\n",
    "                 'DULUC': (50, 1.81),\n",
    "                 'FABER': (65, 1.85),\n",
    "                 'BRINZEI': (54, 1.83),\n",
    "                 'FROELS': (50, 1.7),\n",
    "                 'DUPONT': (50, 1.86),\n",
    "                 'DURAND': (40, 1.85),\n",
    "                 'BELLI': (60, 1.7)})\n",
    "d2 =Dictionnaire({'BIZOÏ': (53, 1.81),\n",
    "                 'DULUC': (50, 1.81),\n",
    "                 'FABER': (65, 1.85),\n",
    "                 'BRINZEI': (54, 1.83),\n",
    "                 'FROELS': (50, 1.7),\n",
    "                 'DUPONT': (50, 1.86),\n",
    "                 'DURAND': (40, 1.85),\n",
    "                 'BELLI': (60, 1.7)})\n",
    "d3 =Dictionnaire({'BIZOÏ': (53, 1.81),\n",
    "                 'DULUC': (50, 1.81),\n",
    "                 'FABER': (65, 1.85),\n",
    "                 'BRINZEI': (54, 1.83),\n",
    "                 'FROELS': (50, 1.7),\n",
    "                 'BELLI': (60, 1.7)})"
   ]
  },
  {
   "cell_type": "code",
   "execution_count": 18,
   "metadata": {},
   "outputs": [
    {
     "name": "stdout",
     "output_type": "stream",
     "text": [
      "Nom : BIZOÏ - âge : 53 ans - taille : 1.81 m.\n",
      "Nom : DULUC - âge : 50 ans - taille : 1.81 m.\n",
      "Nom : FABER - âge : 65 ans - taille : 1.85 m.\n",
      "Nom : BRINZEI - âge : 54 ans - taille : 1.83 m.\n",
      "Nom : FROELS - âge : 50 ans - taille : 1.7 m.\n",
      "Nom : DUPONT - âge : 50 ans - taille : 1.86 m.\n",
      "Nom : DURAND - âge : 40 ans - taille : 1.85 m.\n",
      "Nom : BELLI - âge : 60 ans - taille : 1.7 m.\n",
      "\n"
     ]
    },
    {
     "data": {
      "text/plain": [
       "Nom : BIZOÏ - âge : 53 ans - taille : 1.81 m.\n",
       "Nom : DULUC - âge : 50 ans - taille : 1.81 m.\n",
       "Nom : FABER - âge : 65 ans - taille : 1.85 m.\n",
       "Nom : BRINZEI - âge : 54 ans - taille : 1.83 m.\n",
       "Nom : FROELS - âge : 50 ans - taille : 1.7 m.\n",
       "Nom : DUPONT - âge : 50 ans - taille : 1.86 m.\n",
       "Nom : DURAND - âge : 40 ans - taille : 1.85 m.\n",
       "Nom : BELLI - âge : 60 ans - taille : 1.7 m."
      ]
     },
     "execution_count": 18,
     "metadata": {},
     "output_type": "execute_result"
    }
   ],
   "source": [
    "print(d1)\n",
    "d1"
   ]
  },
  {
   "cell_type": "code",
   "execution_count": 20,
   "metadata": {},
   "outputs": [
    {
     "data": {
      "text/plain": [
       "True"
      ]
     },
     "execution_count": 20,
     "metadata": {},
     "output_type": "execute_result"
    }
   ],
   "source": [
    "d1 == d2"
   ]
  },
  {
   "cell_type": "code",
   "execution_count": 21,
   "metadata": {},
   "outputs": [
    {
     "data": {
      "text/plain": [
       "False"
      ]
     },
     "execution_count": 21,
     "metadata": {},
     "output_type": "execute_result"
    }
   ],
   "source": [
    "d1 == d3"
   ]
  },
  {
   "cell_type": "code",
   "execution_count": 22,
   "metadata": {},
   "outputs": [
    {
     "data": {
      "text/plain": [
       "8"
      ]
     },
     "execution_count": 22,
     "metadata": {},
     "output_type": "execute_result"
    }
   ],
   "source": [
    "len(d1)"
   ]
  },
  {
   "cell_type": "code",
   "execution_count": 25,
   "metadata": {},
   "outputs": [
    {
     "data": {
      "text/plain": [
       "True"
      ]
     },
     "execution_count": 25,
     "metadata": {},
     "output_type": "execute_result"
    }
   ],
   "source": [
    "'BELLI' in d1"
   ]
  },
  {
   "cell_type": "code",
   "execution_count": 26,
   "metadata": {},
   "outputs": [
    {
     "data": {
      "text/plain": [
       "False"
      ]
     },
     "execution_count": 26,
     "metadata": {},
     "output_type": "execute_result"
    }
   ],
   "source": [
    "'DUPONT' in d3"
   ]
  },
  {
   "cell_type": "code",
   "execution_count": 27,
   "metadata": {},
   "outputs": [
    {
     "data": {
      "text/plain": [
       "(60, 1.7)"
      ]
     },
     "execution_count": 27,
     "metadata": {},
     "output_type": "execute_result"
    }
   ],
   "source": [
    "d1['BELLI']"
   ]
  }
 ],
 "metadata": {
  "kernelspec": {
   "display_name": "Python 3 (ipykernel)",
   "language": "python",
   "name": "python3"
  },
  "language_info": {
   "codemirror_mode": {
    "name": "ipython",
    "version": 3
   },
   "file_extension": ".py",
   "mimetype": "text/x-python",
   "name": "python",
   "nbconvert_exporter": "python",
   "pygments_lexer": "ipython3",
   "version": "3.10.0"
  }
 },
 "nbformat": 4,
 "nbformat_minor": 4
}

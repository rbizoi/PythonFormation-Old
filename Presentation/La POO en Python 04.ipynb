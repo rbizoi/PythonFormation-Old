{
 "cells": [
  {
   "cell_type": "markdown",
   "metadata": {},
   "source": [
    "# Les méthodes de conteneur"
   ]
  },
  {
   "cell_type": "code",
   "execution_count": 3,
   "metadata": {
    "collapsed": true,
    "jupyter": {
     "outputs_hidden": true
    }
   },
   "outputs": [],
   "source": [
    "class UnDict :\n",
    "    \"\"\" Classe enveloppe d'un dictionnaire \"\"\"\n",
    "    \n",
    "    def __init__ ( self ):\n",
    "        \"\"\" Notre classe n'accepte aucun param ètre \"\"\"\n",
    "        self . _dictionnaire = {}\n",
    "        \n",
    "    def __getitem__ (self , index ):\n",
    "        \"\"\" Cette méthode spéciale est appelée quand on fait \n",
    "        objet[index]\n",
    "        Elle redirige vers self._dictionnaire[index]\"\"\"\n",
    "\n",
    "        return self . _dictionnaire [ index ]\n",
    "        \n",
    "    def __setitem__ (self , index , valeur ):\n",
    "        \"\"\" Cette méthode est appelée quand on écrit \n",
    "        objet[index]=valeur\n",
    "        On redirige vers self._dictionnaire[index]=valeur \"\"\"\n",
    "\n",
    "        self . _dictionnaire [ index ] = valeur"
   ]
  },
  {
   "cell_type": "code",
   "execution_count": 4,
   "metadata": {},
   "outputs": [
    {
     "name": "stdout",
     "output_type": "stream",
     "text": [
      "Avoir un esprit cartésien, être cartésien.\n"
     ]
    }
   ],
   "source": [
    "d = UnDict()\n",
    "d['cartésien'] = 'Avoir un esprit cartésien, être cartésien.'\n",
    "print(d['cartésien'])\n",
    "d['exhaustif']='Etre exhaustif ou non exhaustif, un tirage exhaustif, un échantillon exhaustif.'"
   ]
  },
  {
   "cell_type": "markdown",
   "metadata": {},
   "source": [
    "# La méthode spéciale derrière le mot-clé in"
   ]
  },
  {
   "cell_type": "code",
   "execution_count": 5,
   "metadata": {
    "collapsed": true,
    "jupyter": {
     "outputs_hidden": true
    }
   },
   "outputs": [],
   "source": [
    "class UnDict :\n",
    "    \"\"\" Classe enveloppe d'un dictionnaire \"\"\"\n",
    "    \n",
    "    def __init__ ( self ):\n",
    "        \"\"\" Notre classe n'accepte aucun param ètre \"\"\"\n",
    "        self . _dictionnaire = {}\n",
    "        \n",
    "    def __getitem__ (self , index ):\n",
    "        \"\"\" Cette méthode spéciale est appelée quand on fait \n",
    "        objet[index]\n",
    "        Elle redirige vers self._dictionnaire[index]\"\"\"\n",
    "\n",
    "        return self . _dictionnaire [ index ]\n",
    "        \n",
    "    def __setitem__ (self , index , valeur ):\n",
    "        \"\"\" Cette méthode est appelée quand on écrit \n",
    "        objet[index]=valeur\n",
    "        On redirige vers self._dictionnaire[index]=valeur \"\"\"\n",
    "\n",
    "        self . _dictionnaire [ index ] = valeur\n",
    "        \n",
    "    def __contains__ (self,index):\n",
    "        \"\"\" Cette méthode est appelée quand on écrit \n",
    "        valeur in objet \"\"\"\n",
    "        if self._dictionnaire is None:\n",
    "            raise TypeError('pas de dictionnaire')\n",
    "        return any(item == index for item in  \\\n",
    "                   self._dictionnaire.keys())          "
   ]
  },
  {
   "cell_type": "code",
   "execution_count": 6,
   "metadata": {},
   "outputs": [
    {
     "name": "stdout",
     "output_type": "stream",
     "text": [
      "Avoir un esprit cartésien, être cartésien.\n"
     ]
    }
   ],
   "source": [
    "d = UnDict()\n",
    "d['cartésien'] = 'Avoir un esprit cartésien, être cartésien.'\n",
    "print(d['cartésien'])\n",
    "d['exhaustif']='Etre exhaustif ou non exhaustif, un tirage exhaustif, un échantillon exhaustif.'"
   ]
  },
  {
   "cell_type": "code",
   "execution_count": 7,
   "metadata": {},
   "outputs": [
    {
     "data": {
      "text/plain": [
       "False"
      ]
     },
     "execution_count": 7,
     "metadata": {},
     "output_type": "execute_result"
    }
   ],
   "source": [
    "'factuel' in d"
   ]
  },
  {
   "cell_type": "code",
   "execution_count": 8,
   "metadata": {},
   "outputs": [
    {
     "data": {
      "text/plain": [
       "True"
      ]
     },
     "execution_count": 8,
     "metadata": {},
     "output_type": "execute_result"
    }
   ],
   "source": [
    "'cartésien' in d"
   ]
  },
  {
   "cell_type": "markdown",
   "metadata": {},
   "source": [
    "# La taille d'un conteneur"
   ]
  },
  {
   "cell_type": "code",
   "execution_count": 9,
   "metadata": {
    "collapsed": true,
    "jupyter": {
     "outputs_hidden": true
    }
   },
   "outputs": [],
   "source": [
    "class UnDict :\n",
    "    \"\"\" Classe enveloppe d'un dictionnaire \"\"\"\n",
    "    \n",
    "    def __init__ ( self ):\n",
    "        \"\"\" Notre classe n'accepte aucun param ètre \"\"\"\n",
    "        self . _dictionnaire = {}\n",
    "        \n",
    "    def __getitem__ (self , index ):\n",
    "        \"\"\" Cette méthode spéciale est appelée quand on fait \n",
    "        objet[index]\n",
    "        Elle redirige vers self._dictionnaire[index]\"\"\"\n",
    "\n",
    "        return self . _dictionnaire [ index ]\n",
    "        \n",
    "    def __setitem__ (self , index , valeur ):\n",
    "        \"\"\" Cette méthode est appelée quand on écrit \n",
    "        objet[index]=valeur\n",
    "        On redirige vers self._dictionnaire[index]=valeur \"\"\"\n",
    "\n",
    "        self . _dictionnaire [ index ] = valeur\n",
    "        \n",
    "    def __contains__ (self,index):\n",
    "        \"\"\" Cette méthode est appelée quand on écrit \n",
    "        valeur in objet \"\"\"\n",
    "        if self._dictionnaire is None:\n",
    "            raise TypeError('pas de dictionnaire')\n",
    "        return any(item == index for item in  \\\n",
    "                   self._dictionnaire.keys())          \n",
    "    \n",
    "    def __len__ (self):\n",
    "        \"\"\" Cette méthode est appelée quand on écrit \n",
    "        len(objet) \"\"\"\n",
    "        if self._dictionnaire is None:\n",
    "            raise TypeError('pas de dictionnaire')\n",
    "        return len(self._dictionnaire)"
   ]
  },
  {
   "cell_type": "code",
   "execution_count": 10,
   "metadata": {},
   "outputs": [
    {
     "data": {
      "text/plain": [
       "0"
      ]
     },
     "execution_count": 10,
     "metadata": {},
     "output_type": "execute_result"
    }
   ],
   "source": [
    "d = UnDict()\n",
    "len(d)"
   ]
  },
  {
   "cell_type": "code",
   "execution_count": 11,
   "metadata": {},
   "outputs": [
    {
     "name": "stdout",
     "output_type": "stream",
     "text": [
      "Avoir un esprit cartésien, être cartésien.\n"
     ]
    },
    {
     "data": {
      "text/plain": [
       "2"
      ]
     },
     "execution_count": 11,
     "metadata": {},
     "output_type": "execute_result"
    }
   ],
   "source": [
    "d['cartésien'] = 'Avoir un esprit cartésien, être cartésien.'\n",
    "print(d['cartésien'])\n",
    "d['exhaustif']='Etre exhaustif ou non exhaustif, un tirage exhaustif, un échantillon exhaustif.'\n",
    "len(d)"
   ]
  },
  {
   "cell_type": "markdown",
   "metadata": {},
   "source": [
    "# Les méthodes mathématiques"
   ]
  },
  {
   "cell_type": "code",
   "execution_count": 12,
   "metadata": {},
   "outputs": [],
   "source": [
    "class Duree :\n",
    "    \"\"\" Classe contenant des durées sous la forme \n",
    "    d'un nombre de minutes et de secondes \"\"\"\n",
    "\n",
    "    def __init__ (self , min =0, sec=0):\n",
    "        \"\"\" Constructeur de la classe \"\"\"\n",
    "        self . min = min # Nombre de minutes\n",
    "        self . sec = sec # Nombre de secondes\n",
    "\n",
    "    def __str__ ( self ):\n",
    "        \"\"\" Affichage un peu plus joli de nos objets \"\"\"\n",
    "        return \"{0:02}:{1:02}\".format(self.min,self.sec)  \n",
    "        \n",
    "    def __add__ (self,objet_a_ajouter ):\n",
    "        \"\"\" L'objet à ajouter est un entier, \n",
    "            le nombre de secondes\n",
    "            self + a \"\"\"\n",
    "        nouvelle_duree = Duree ()\n",
    "        # On va copier self dans l'objet créé \n",
    "        #       pour avoir la même durée\n",
    "        nouvelle_duree.min = self.min\n",
    "        nouvelle_duree.sec = self.sec\n",
    "        # On ajoute la durée\n",
    "        nouvelle_duree.sec += objet_a_ajouter\n",
    "        # Si le nombre de secondes >= 60\n",
    "        if nouvelle_duree.sec >= 60:\n",
    "            nouvelle_duree.min += nouvelle_duree.sec // 60\n",
    "            nouvelle_duree.sec = nouvelle_duree.sec % 60\n",
    "        # On renvoie la nouvelle durée\n",
    "        return nouvelle_duree\n",
    "#\n",
    "    #def __iadd__ (self , objet_a_ajouter ):\n",
    "    #    \"\"\" L'objet à ajouter est un entier, \n",
    "    #        le nombre de secondes \"\"\"\n",
    "    #    # On travaille directement sur self cette fois\n",
    "    #    # On ajoute la durée\n",
    "    #    self . sec += objet_a_ajouter\n",
    "    #    # Si le nombre de secondes >= 60\n",
    "    #    if self .sec >= 60:\n",
    "    #        self .min += self .sec // 60\n",
    "    #        self .sec = self .sec % 60\n",
    "    #    # On renvoie self\n",
    "    #    return self\n",
    "\n",
    "    def __radd__ (self , objet_a_ajouter ):\n",
    "        \"\"\" Cette méthode est appelée si on écrit \n",
    "        objet + self\n",
    "        4 + objet \n",
    "        et que le premier objet \n",
    "        ne sait pas comment ajouter le second. \n",
    "        On se contente de rediriger sur __add__ puisque, \n",
    "        ici, cela revient au même : \n",
    "        l'opération doit avoir le même résultat, \n",
    "        posée dans un sens ou dans l'autre \"\"\"\n",
    "        return self + objet_a_ajouter"
   ]
  },
  {
   "cell_type": "code",
   "execution_count": 13,
   "metadata": {},
   "outputs": [
    {
     "name": "stdout",
     "output_type": "stream",
     "text": [
      "12:12\n"
     ]
    }
   ],
   "source": [
    "d1 = Duree(12,8)\n",
    "#d1 += 4\n",
    "d1 =  4 + d1\n",
    "print(d1  )\n"
   ]
  },
  {
   "cell_type": "code",
   "execution_count": 2,
   "metadata": {},
   "outputs": [
    {
     "name": "stdout",
     "output_type": "stream",
     "text": [
      "12:08\n"
     ]
    },
    {
     "ename": "TypeError",
     "evalue": "unsupported operand type(s) for +: 'Duree' and 'int'",
     "output_type": "error",
     "traceback": [
      "\u001b[1;31m---------------------------------------------------------------------------\u001b[0m",
      "\u001b[1;31mTypeError\u001b[0m                                 Traceback (most recent call last)",
      "\u001b[1;32m<ipython-input-2-3345412faf47>\u001b[0m in \u001b[0;36m<module>\u001b[1;34m\u001b[0m\n\u001b[0;32m      2\u001b[0m \u001b[0mprint\u001b[0m \u001b[1;33m(\u001b[0m\u001b[0md1\u001b[0m\u001b[1;33m)\u001b[0m\u001b[1;33m\u001b[0m\u001b[1;33m\u001b[0m\u001b[0m\n\u001b[0;32m      3\u001b[0m \u001b[1;33m\u001b[0m\u001b[0m\n\u001b[1;32m----> 4\u001b[1;33m \u001b[0md2\u001b[0m \u001b[1;33m=\u001b[0m \u001b[0md1\u001b[0m \u001b[1;33m+\u001b[0m \u001b[1;36m54\u001b[0m\u001b[1;33m\u001b[0m\u001b[1;33m\u001b[0m\u001b[0m\n\u001b[0m\u001b[0;32m      5\u001b[0m \u001b[0mprint\u001b[0m \u001b[1;33m(\u001b[0m\u001b[0md2\u001b[0m\u001b[1;33m)\u001b[0m\u001b[1;33m\u001b[0m\u001b[1;33m\u001b[0m\u001b[0m\n\u001b[0;32m      6\u001b[0m \u001b[1;33m\u001b[0m\u001b[0m\n",
      "\u001b[1;31mTypeError\u001b[0m: unsupported operand type(s) for +: 'Duree' and 'int'"
     ]
    }
   ],
   "source": [
    "d1 = Duree(12,8)\n",
    "print (d1)\n",
    "\n",
    "d2 = d1 + 54\n",
    "print (d2)\n",
    "\n",
    "d3 = 4 + d1\n",
    "d3 += 20\n",
    "print (d3)"
   ]
  },
  {
   "cell_type": "markdown",
   "metadata": {},
   "source": [
    "# Les attributs privés"
   ]
  },
  {
   "cell_type": "code",
   "execution_count": 19,
   "metadata": {},
   "outputs": [
    {
     "data": {
      "text/plain": [
       "mappingproxy({'__module__': '__main__',\n",
       "              '__doc__': 'La syntaxe des attributs proteges',\n",
       "              '__init__': <function __main__.EssaiVar.__init__(self)>,\n",
       "              '__dict__': <attribute '__dict__' of 'EssaiVar' objects>,\n",
       "              '__weakref__': <attribute '__weakref__' of 'EssaiVar' objects>})"
      ]
     },
     "execution_count": 19,
     "metadata": {},
     "output_type": "execute_result"
    }
   ],
   "source": [
    "class EssaiVar:\n",
    "    \"La syntaxe des attributs proteges\"\n",
    "    def __init__(self):\n",
    "        self._attr1     = '_nom'\n",
    "        self._attr2_    = '_nom_'\n",
    "        self.__attr3    = '__nom'# private \n",
    "        self.__attr4__  = '__nom__'\n",
    "\n",
    "v = EssaiVar()\n",
    "EssaiVar.__dict__"
   ]
  },
  {
   "cell_type": "code",
   "execution_count": 20,
   "metadata": {},
   "outputs": [
    {
     "name": "stdout",
     "output_type": "stream",
     "text": [
      "_nom _nom_ __nom__\n"
     ]
    }
   ],
   "source": [
    "print(v._attr1   ,\n",
    "v._attr2_  ,\n",
    "#v.__attr3  ,\n",
    "v.__attr4__)"
   ]
  },
  {
   "cell_type": "code",
   "execution_count": 22,
   "metadata": {},
   "outputs": [
    {
     "data": {
      "text/plain": [
       "'__nom'"
      ]
     },
     "execution_count": 22,
     "metadata": {},
     "output_type": "execute_result"
    }
   ],
   "source": [
    "v._EssaiVar__attr3"
   ]
  },
  {
   "cell_type": "code",
   "execution_count": 16,
   "metadata": {},
   "outputs": [
    {
     "data": {
      "text/plain": [
       "['_EssaiVar__attr3',\n",
       " '__attr4__',\n",
       " '__class__',\n",
       " '__delattr__',\n",
       " '__dict__',\n",
       " '__dir__',\n",
       " '__doc__',\n",
       " '__eq__',\n",
       " '__format__',\n",
       " '__ge__',\n",
       " '__getattribute__',\n",
       " '__gt__',\n",
       " '__hash__',\n",
       " '__init__',\n",
       " '__init_subclass__',\n",
       " '__le__',\n",
       " '__lt__',\n",
       " '__module__',\n",
       " '__ne__',\n",
       " '__new__',\n",
       " '__reduce__',\n",
       " '__reduce_ex__',\n",
       " '__repr__',\n",
       " '__setattr__',\n",
       " '__sizeof__',\n",
       " '__str__',\n",
       " '__subclasshook__',\n",
       " '__weakref__',\n",
       " '_attr1',\n",
       " '_attr2_']"
      ]
     },
     "execution_count": 16,
     "metadata": {},
     "output_type": "execute_result"
    }
   ],
   "source": [
    "dir(v)"
   ]
  },
  {
   "cell_type": "code",
   "execution_count": 17,
   "metadata": {},
   "outputs": [
    {
     "data": {
      "text/plain": [
       "'attribut _nom'"
      ]
     },
     "execution_count": 17,
     "metadata": {},
     "output_type": "execute_result"
    }
   ],
   "source": [
    "v._attr1"
   ]
  },
  {
   "cell_type": "code",
   "execution_count": 18,
   "metadata": {},
   "outputs": [
    {
     "data": {
      "text/plain": [
       "'attribut _nom_'"
      ]
     },
     "execution_count": 18,
     "metadata": {},
     "output_type": "execute_result"
    }
   ],
   "source": [
    "v._attr2_"
   ]
  },
  {
   "cell_type": "code",
   "execution_count": 19,
   "metadata": {},
   "outputs": [
    {
     "ename": "AttributeError",
     "evalue": "'EssaiVar' object has no attribute '__attr3'",
     "output_type": "error",
     "traceback": [
      "\u001b[0;31m-------------------------------------------------------------------------\u001b[0m",
      "\u001b[0;31mAttributeError\u001b[0m                          Traceback (most recent call last)",
      "\u001b[0;32m<ipython-input-19-81577295d415>\u001b[0m in \u001b[0;36m<module>\u001b[0;34m()\u001b[0m\n\u001b[0;32m----> 1\u001b[0;31m \u001b[0mv\u001b[0m\u001b[1;33m.\u001b[0m\u001b[0m__attr3\u001b[0m\u001b[1;33m\u001b[0m\u001b[0m\n\u001b[0m",
      "\u001b[0;31mAttributeError\u001b[0m: 'EssaiVar' object has no attribute '__attr3'"
     ]
    }
   ],
   "source": [
    "v.__attr3"
   ]
  },
  {
   "cell_type": "code",
   "execution_count": 20,
   "metadata": {},
   "outputs": [
    {
     "data": {
      "text/plain": [
       "'attribut __nom'"
      ]
     },
     "execution_count": 20,
     "metadata": {},
     "output_type": "execute_result"
    }
   ],
   "source": [
    "v._EssaiVar__attr3"
   ]
  },
  {
   "cell_type": "code",
   "execution_count": 21,
   "metadata": {},
   "outputs": [
    {
     "data": {
      "text/plain": [
       "'attribut __nom__'"
      ]
     },
     "execution_count": 21,
     "metadata": {},
     "output_type": "execute_result"
    }
   ],
   "source": [
    "v.__attr4__"
   ]
  },
  {
   "cell_type": "markdown",
   "metadata": {},
   "source": [
    "# Les propriétés"
   ]
  },
  {
   "cell_type": "code",
   "execution_count": 23,
   "metadata": {},
   "outputs": [
    {
     "data": {
      "text/plain": [
       "' Classe définissant une personne \\n    caractérisée par :\\n    - son nom ;\\n    - son prénom ;\\n    - son âge ;\\n    - son lieu de résidence '"
      ]
     },
     "execution_count": 23,
     "metadata": {},
     "output_type": "execute_result"
    }
   ],
   "source": [
    "class Personne :\n",
    "    \"\"\" Classe définissant une personne \n",
    "    caractérisée par :\n",
    "    - son nom ;\n",
    "    - son prénom ;\n",
    "    - son âge ;\n",
    "    - son lieu de résidence \"\"\"\n",
    "\n",
    "    def __init__ (self , nom , prenom ):\n",
    "        \"\"\" Constructeur de notre classe \"\"\"\n",
    "        self.nom    = nom\n",
    "        self.prenom = prenom\n",
    "        self.age    = 52\n",
    "        self._lieu_residence = \" Paris \" \n",
    "        \n",
    "    def _get_lieu_residence ( self ):\n",
    "        \"\"\" Méthode qui sera appelée quand on souhaitera \n",
    "        accéder en lecture à l'attribut '_lieu_residence '\"\"\"\n",
    "        print (\"On accède à l'attribut lieu_residence !\")\n",
    "        return self . _lieu_residence\n",
    "        \n",
    "    def _set_lieu_residence (self , nouvelle_residence ):\n",
    "        \"\"\" Méthode appelée quand on souhaite modifier \n",
    "            le lieu de résidence \"\"\"\n",
    "        print (\" Attention , il semble que {} déménage à {}.\".\\\n",
    "           format ( self.prenom , nouvelle_residence ))\n",
    "        self._lieu_residence = nouvelle_residence\n",
    "    \n",
    "    # On va dire à Python que notre attribut \n",
    "    #_lieu_residence pointe vers une propriété\n",
    "    lieu_residence = property ( _get_lieu_residence,\\\n",
    "                      _set_lieu_residence,\\\n",
    "                doc=\"La propriète de l'attribut lieu_residence\")\n",
    "\n",
    "Personne.__doc__"
   ]
  },
  {
   "cell_type": "code",
   "execution_count": 24,
   "metadata": {},
   "outputs": [
    {
     "name": "stdout",
     "output_type": "stream",
     "text": [
      "La propriète de l'attribut lieu_residence\n"
     ]
    }
   ],
   "source": [
    "print(Personne.lieu_residence.__doc__)"
   ]
  },
  {
   "cell_type": "code",
   "execution_count": 25,
   "metadata": {},
   "outputs": [
    {
     "name": "stdout",
     "output_type": "stream",
     "text": [
      "On accède à l'attribut lieu_residence !\n"
     ]
    },
    {
     "data": {
      "text/plain": [
       "' Paris '"
      ]
     },
     "execution_count": 25,
     "metadata": {},
     "output_type": "execute_result"
    }
   ],
   "source": [
    "p = Personne('BIZOÏ','Razvan')\n",
    "p.lieu_residence "
   ]
  },
  {
   "cell_type": "code",
   "execution_count": 25,
   "metadata": {},
   "outputs": [
    {
     "name": "stdout",
     "output_type": "stream",
     "text": [
      "On accède à l'attribut lieu_residence !\n",
      " Attention , il semble que Razvan déménage à Strasbourg.\n",
      "On accède à l'attribut lieu_residence !\n",
      "Bucarest\n"
     ]
    }
   ],
   "source": [
    "                                      \n",
    "p.lieu_residence = 'Strasbourg'                        \n",
    "p._lieu_residence = 'Bucarest'\n",
    "print(p.lieu_residence)"
   ]
  },
  {
   "cell_type": "code",
   "execution_count": 38,
   "metadata": {},
   "outputs": [],
   "source": [
    "class Personne :\n",
    "    \"\"\" Classe définissant une personne \n",
    "    caractérisée par :\n",
    "    - son nom ;\n",
    "    - son prénom ;\n",
    "    - son âge ;\n",
    "    - son lieu de résidence \"\"\"\n",
    "    def __init__ (self , nom , prenom ):\n",
    "        \"\"\" Constructeur de notre classe \"\"\"\n",
    "        self.nom    = nom\n",
    "        self.prenom = prenom\n",
    "        self.age    = 52\n",
    "        self.__lieu_residence = \" Paris \" \n",
    "        \n",
    "    @property\n",
    "    def lieu_residence ( self ):\n",
    "        \"\"\" Méthode qui sera appelée quand on souhaitera \n",
    "        accéder en lecture à l'attribut '_lieu_residence '\"\"\"\n",
    "        print (\"On accède à l'attribut lieu_residence !\")\n",
    "        return self.__lieu_residence\n",
    "        \n",
    "    @lieu_residence.setter\n",
    "    def lieu_residence (self , nouvelle_residence ):\n",
    "        \"\"\" Méthode appelée quand on souhaite \n",
    "            modifier le lieu de résidence \"\"\"\n",
    "        print (\" Attention , il semble que {} déménage à {}.\".\\\n",
    "                    format ( self.prenom,nouvelle_residence ))\n",
    "        self._lieu__residence = nouvelle_residence"
   ]
  },
  {
   "cell_type": "code",
   "execution_count": 39,
   "metadata": {},
   "outputs": [
    {
     "data": {
      "text/plain": [
       "['__class__',\n",
       " '__delattr__',\n",
       " '__dict__',\n",
       " '__dir__',\n",
       " '__doc__',\n",
       " '__eq__',\n",
       " '__format__',\n",
       " '__ge__',\n",
       " '__getattribute__',\n",
       " '__gt__',\n",
       " '__hash__',\n",
       " '__init__',\n",
       " '__init_subclass__',\n",
       " '__le__',\n",
       " '__lt__',\n",
       " '__module__',\n",
       " '__ne__',\n",
       " '__new__',\n",
       " '__reduce__',\n",
       " '__reduce_ex__',\n",
       " '__repr__',\n",
       " '__setattr__',\n",
       " '__sizeof__',\n",
       " '__str__',\n",
       " '__subclasshook__',\n",
       " '__weakref__',\n",
       " 'lieu_residence']"
      ]
     },
     "execution_count": 39,
     "metadata": {},
     "output_type": "execute_result"
    }
   ],
   "source": [
    "dir(Personne)"
   ]
  },
  {
   "cell_type": "code",
   "execution_count": 40,
   "metadata": {},
   "outputs": [
    {
     "data": {
      "text/plain": [
       "['_Personne__lieu_residence',\n",
       " '__class__',\n",
       " '__delattr__',\n",
       " '__dict__',\n",
       " '__dir__',\n",
       " '__doc__',\n",
       " '__eq__',\n",
       " '__format__',\n",
       " '__ge__',\n",
       " '__getattribute__',\n",
       " '__gt__',\n",
       " '__hash__',\n",
       " '__init__',\n",
       " '__init_subclass__',\n",
       " '__le__',\n",
       " '__lt__',\n",
       " '__module__',\n",
       " '__ne__',\n",
       " '__new__',\n",
       " '__reduce__',\n",
       " '__reduce_ex__',\n",
       " '__repr__',\n",
       " '__setattr__',\n",
       " '__sizeof__',\n",
       " '__str__',\n",
       " '__subclasshook__',\n",
       " '__weakref__',\n",
       " 'age',\n",
       " 'lieu_residence',\n",
       " 'nom',\n",
       " 'prenom']"
      ]
     },
     "execution_count": 40,
     "metadata": {},
     "output_type": "execute_result"
    }
   ],
   "source": [
    "p = Personne('BIZOÏ','Razvan')\n",
    "dir(p)"
   ]
  },
  {
   "cell_type": "code",
   "execution_count": 36,
   "metadata": {},
   "outputs": [
    {
     "data": {
      "text/plain": [
       "' Paris '"
      ]
     },
     "execution_count": 36,
     "metadata": {},
     "output_type": "execute_result"
    }
   ],
   "source": [
    "p = Personne('BIZOÏ','Razvan')\n",
    "p._Personne__lieu_residence"
   ]
  },
  {
   "cell_type": "code",
   "execution_count": 37,
   "metadata": {},
   "outputs": [
    {
     "name": "stdout",
     "output_type": "stream",
     "text": [
      "On accède à l'attribut lieu_residence !\n"
     ]
    },
    {
     "data": {
      "text/plain": [
       "' Paris '"
      ]
     },
     "execution_count": 37,
     "metadata": {},
     "output_type": "execute_result"
    }
   ],
   "source": [
    "p.lieu_residence"
   ]
  },
  {
   "cell_type": "code",
   "execution_count": 42,
   "metadata": {},
   "outputs": [],
   "source": [
    "import pandas as pd\n",
    "cython"
   ]
  },
  {
   "cell_type": "code",
   "execution_count": 44,
   "metadata": {
    "collapsed": true,
    "jupyter": {
     "outputs_hidden": true
    }
   },
   "outputs": [
    {
     "data": {
      "text/plain": [
       "['T',\n",
       " '_AXIS_ALIASES',\n",
       " '_AXIS_IALIASES',\n",
       " '_AXIS_LEN',\n",
       " '_AXIS_NAMES',\n",
       " '_AXIS_NUMBERS',\n",
       " '_AXIS_ORDERS',\n",
       " '_AXIS_REVERSED',\n",
       " '_AXIS_SLICEMAP',\n",
       " '__abs__',\n",
       " '__add__',\n",
       " '__and__',\n",
       " '__array__',\n",
       " '__array_wrap__',\n",
       " '__bool__',\n",
       " '__bytes__',\n",
       " '__class__',\n",
       " '__contains__',\n",
       " '__copy__',\n",
       " '__deepcopy__',\n",
       " '__delattr__',\n",
       " '__delitem__',\n",
       " '__dict__',\n",
       " '__dir__',\n",
       " '__div__',\n",
       " '__doc__',\n",
       " '__eq__',\n",
       " '__finalize__',\n",
       " '__floordiv__',\n",
       " '__format__',\n",
       " '__ge__',\n",
       " '__getattr__',\n",
       " '__getattribute__',\n",
       " '__getitem__',\n",
       " '__getstate__',\n",
       " '__gt__',\n",
       " '__hash__',\n",
       " '__iadd__',\n",
       " '__iand__',\n",
       " '__ifloordiv__',\n",
       " '__imod__',\n",
       " '__imul__',\n",
       " '__init__',\n",
       " '__init_subclass__',\n",
       " '__invert__',\n",
       " '__ior__',\n",
       " '__ipow__',\n",
       " '__isub__',\n",
       " '__iter__',\n",
       " '__itruediv__',\n",
       " '__ixor__',\n",
       " '__le__',\n",
       " '__len__',\n",
       " '__lt__',\n",
       " '__matmul__',\n",
       " '__mod__',\n",
       " '__module__',\n",
       " '__mul__',\n",
       " '__ne__',\n",
       " '__neg__',\n",
       " '__new__',\n",
       " '__nonzero__',\n",
       " '__or__',\n",
       " '__pos__',\n",
       " '__pow__',\n",
       " '__radd__',\n",
       " '__rand__',\n",
       " '__rdiv__',\n",
       " '__reduce__',\n",
       " '__reduce_ex__',\n",
       " '__repr__',\n",
       " '__rfloordiv__',\n",
       " '__rmatmul__',\n",
       " '__rmod__',\n",
       " '__rmul__',\n",
       " '__ror__',\n",
       " '__round__',\n",
       " '__rpow__',\n",
       " '__rsub__',\n",
       " '__rtruediv__',\n",
       " '__rxor__',\n",
       " '__setattr__',\n",
       " '__setitem__',\n",
       " '__setstate__',\n",
       " '__sizeof__',\n",
       " '__str__',\n",
       " '__sub__',\n",
       " '__subclasshook__',\n",
       " '__truediv__',\n",
       " '__unicode__',\n",
       " '__weakref__',\n",
       " '__xor__',\n",
       " '_accessors',\n",
       " '_add_numeric_operations',\n",
       " '_add_series_only_operations',\n",
       " '_add_series_or_dataframe_operations',\n",
       " '_agg_by_level',\n",
       " '_agg_doc',\n",
       " '_aggregate',\n",
       " '_aggregate_multiple_funcs',\n",
       " '_align_frame',\n",
       " '_align_series',\n",
       " '_box_col_values',\n",
       " '_box_item_values',\n",
       " '_builtin_table',\n",
       " '_check_inplace_setting',\n",
       " '_check_is_chained_assignment_possible',\n",
       " '_check_label_or_level_ambiguity',\n",
       " '_check_percentile',\n",
       " '_check_setitem_copy',\n",
       " '_clear_item_cache',\n",
       " '_clip_with_one_bound',\n",
       " '_clip_with_scalar',\n",
       " '_combine_const',\n",
       " '_combine_frame',\n",
       " '_combine_match_columns',\n",
       " '_combine_match_index',\n",
       " '_compare_frame',\n",
       " '_consolidate',\n",
       " '_consolidate_inplace',\n",
       " '_construct_axes_dict',\n",
       " '_construct_axes_dict_for_slice',\n",
       " '_construct_axes_dict_from',\n",
       " '_construct_axes_from_arguments',\n",
       " '_constructor',\n",
       " '_constructor_expanddim',\n",
       " '_constructor_sliced',\n",
       " '_convert',\n",
       " '_count_level',\n",
       " '_create_indexer',\n",
       " '_cython_table',\n",
       " '_deprecations',\n",
       " '_dir_additions',\n",
       " '_dir_deletions',\n",
       " '_drop_axis',\n",
       " '_drop_labels_or_levels',\n",
       " '_ensure_valid_index',\n",
       " '_expand_axes',\n",
       " '_find_valid_index',\n",
       " '_from_arrays',\n",
       " '_from_axes',\n",
       " '_get_agg_axis',\n",
       " '_get_axis',\n",
       " '_get_axis_name',\n",
       " '_get_axis_number',\n",
       " '_get_axis_resolvers',\n",
       " '_get_block_manager_axis',\n",
       " '_get_bool_data',\n",
       " '_get_cacher',\n",
       " '_get_index_resolvers',\n",
       " '_get_item_cache',\n",
       " '_get_label_or_level_values',\n",
       " '_get_numeric_data',\n",
       " '_get_value',\n",
       " '_get_values',\n",
       " '_getitem_array',\n",
       " '_getitem_column',\n",
       " '_getitem_frame',\n",
       " '_getitem_multilevel',\n",
       " '_getitem_slice',\n",
       " '_gotitem',\n",
       " '_iget_item_cache',\n",
       " '_indexed_same',\n",
       " '_info_axis',\n",
       " '_info_axis_name',\n",
       " '_info_axis_number',\n",
       " '_info_repr',\n",
       " '_init_dict',\n",
       " '_init_mgr',\n",
       " '_init_ndarray',\n",
       " '_internal_names',\n",
       " '_internal_names_set',\n",
       " '_is_builtin_func',\n",
       " '_is_cached',\n",
       " '_is_copy',\n",
       " '_is_cython_func',\n",
       " '_is_datelike_mixed_type',\n",
       " '_is_label_or_level_reference',\n",
       " '_is_label_reference',\n",
       " '_is_level_reference',\n",
       " '_is_mixed_type',\n",
       " '_is_numeric_mixed_type',\n",
       " '_is_view',\n",
       " '_ix',\n",
       " '_ixs',\n",
       " '_join_compat',\n",
       " '_maybe_cache_changed',\n",
       " '_maybe_update_cacher',\n",
       " '_metadata',\n",
       " '_needs_reindex_multi',\n",
       " '_obj_with_exclusions',\n",
       " '_protect_consolidate',\n",
       " '_reduce',\n",
       " '_reindex_axes',\n",
       " '_reindex_axis',\n",
       " '_reindex_columns',\n",
       " '_reindex_index',\n",
       " '_reindex_multi',\n",
       " '_reindex_with_indexers',\n",
       " '_repr_data_resource_',\n",
       " '_repr_fits_horizontal_',\n",
       " '_repr_fits_vertical_',\n",
       " '_repr_html_',\n",
       " '_repr_latex_',\n",
       " '_reset_cache',\n",
       " '_reset_cacher',\n",
       " '_sanitize_column',\n",
       " '_selected_obj',\n",
       " '_selection',\n",
       " '_selection_list',\n",
       " '_selection_name',\n",
       " '_series',\n",
       " '_set_as_cached',\n",
       " '_set_axis',\n",
       " '_set_axis_name',\n",
       " '_set_is_copy',\n",
       " '_set_item',\n",
       " '_set_value',\n",
       " '_setitem_array',\n",
       " '_setitem_frame',\n",
       " '_setitem_slice',\n",
       " '_setup_axes',\n",
       " '_shallow_copy',\n",
       " '_slice',\n",
       " '_stat_axis',\n",
       " '_stat_axis_name',\n",
       " '_stat_axis_number',\n",
       " '_take',\n",
       " '_to_dict_of_blocks',\n",
       " '_try_aggregate_string_function',\n",
       " '_typ',\n",
       " '_unpickle_frame_compat',\n",
       " '_unpickle_matrix_compat',\n",
       " '_update_inplace',\n",
       " '_validate_dtype',\n",
       " '_values',\n",
       " '_where',\n",
       " '_xs',\n",
       " 'abs',\n",
       " 'add',\n",
       " 'add_prefix',\n",
       " 'add_suffix',\n",
       " 'agg',\n",
       " 'aggregate',\n",
       " 'align',\n",
       " 'all',\n",
       " 'any',\n",
       " 'append',\n",
       " 'apply',\n",
       " 'applymap',\n",
       " 'as_blocks',\n",
       " 'as_matrix',\n",
       " 'asfreq',\n",
       " 'asof',\n",
       " 'assign',\n",
       " 'astype',\n",
       " 'at',\n",
       " 'at_time',\n",
       " 'axes',\n",
       " 'between_time',\n",
       " 'bfill',\n",
       " 'blocks',\n",
       " 'bool',\n",
       " 'boxplot',\n",
       " 'clip',\n",
       " 'clip_lower',\n",
       " 'clip_upper',\n",
       " 'columns',\n",
       " 'combine',\n",
       " 'combine_first',\n",
       " 'compound',\n",
       " 'consolidate',\n",
       " 'convert_objects',\n",
       " 'copy',\n",
       " 'corr',\n",
       " 'corrwith',\n",
       " 'count',\n",
       " 'cov',\n",
       " 'cummax',\n",
       " 'cummin',\n",
       " 'cumprod',\n",
       " 'cumsum',\n",
       " 'describe',\n",
       " 'diff',\n",
       " 'div',\n",
       " 'divide',\n",
       " 'dot',\n",
       " 'drop',\n",
       " 'drop_duplicates',\n",
       " 'dropna',\n",
       " 'dtypes',\n",
       " 'duplicated',\n",
       " 'empty',\n",
       " 'eq',\n",
       " 'equals',\n",
       " 'eval',\n",
       " 'ewm',\n",
       " 'expanding',\n",
       " 'ffill',\n",
       " 'fillna',\n",
       " 'filter',\n",
       " 'first',\n",
       " 'first_valid_index',\n",
       " 'floordiv',\n",
       " 'from_csv',\n",
       " 'from_dict',\n",
       " 'from_items',\n",
       " 'from_records',\n",
       " 'ftypes',\n",
       " 'ge',\n",
       " 'get',\n",
       " 'get_dtype_counts',\n",
       " 'get_ftype_counts',\n",
       " 'get_value',\n",
       " 'get_values',\n",
       " 'groupby',\n",
       " 'gt',\n",
       " 'head',\n",
       " 'hist',\n",
       " 'iat',\n",
       " 'idxmax',\n",
       " 'idxmin',\n",
       " 'iloc',\n",
       " 'index',\n",
       " 'infer_objects',\n",
       " 'info',\n",
       " 'insert',\n",
       " 'interpolate',\n",
       " 'is_copy',\n",
       " 'isin',\n",
       " 'isna',\n",
       " 'isnull',\n",
       " 'items',\n",
       " 'iteritems',\n",
       " 'iterrows',\n",
       " 'itertuples',\n",
       " 'ix',\n",
       " 'join',\n",
       " 'keys',\n",
       " 'kurt',\n",
       " 'kurtosis',\n",
       " 'last',\n",
       " 'last_valid_index',\n",
       " 'le',\n",
       " 'loc',\n",
       " 'lookup',\n",
       " 'lt',\n",
       " 'mad',\n",
       " 'mask',\n",
       " 'max',\n",
       " 'mean',\n",
       " 'median',\n",
       " 'melt',\n",
       " 'memory_usage',\n",
       " 'merge',\n",
       " 'min',\n",
       " 'mod',\n",
       " 'mode',\n",
       " 'mul',\n",
       " 'multiply',\n",
       " 'ndim',\n",
       " 'ne',\n",
       " 'nlargest',\n",
       " 'notna',\n",
       " 'notnull',\n",
       " 'nsmallest',\n",
       " 'nunique',\n",
       " 'pct_change',\n",
       " 'pipe',\n",
       " 'pivot',\n",
       " 'pivot_table',\n",
       " 'plot',\n",
       " 'pop',\n",
       " 'pow',\n",
       " 'prod',\n",
       " 'product',\n",
       " 'quantile',\n",
       " 'query',\n",
       " 'radd',\n",
       " 'rank',\n",
       " 'rdiv',\n",
       " 'reindex',\n",
       " 'reindex_axis',\n",
       " 'reindex_like',\n",
       " 'rename',\n",
       " 'rename_axis',\n",
       " 'reorder_levels',\n",
       " 'replace',\n",
       " 'resample',\n",
       " 'reset_index',\n",
       " 'rfloordiv',\n",
       " 'rmod',\n",
       " 'rmul',\n",
       " 'rolling',\n",
       " 'round',\n",
       " 'rpow',\n",
       " 'rsub',\n",
       " 'rtruediv',\n",
       " 'sample',\n",
       " 'select',\n",
       " 'select_dtypes',\n",
       " 'sem',\n",
       " 'set_axis',\n",
       " 'set_index',\n",
       " 'set_value',\n",
       " 'shape',\n",
       " 'shift',\n",
       " 'size',\n",
       " 'skew',\n",
       " 'slice_shift',\n",
       " 'sort_index',\n",
       " 'sort_values',\n",
       " 'sortlevel',\n",
       " 'squeeze',\n",
       " 'stack',\n",
       " 'std',\n",
       " 'style',\n",
       " 'sub',\n",
       " 'subtract',\n",
       " 'sum',\n",
       " 'swapaxes',\n",
       " 'swaplevel',\n",
       " 'tail',\n",
       " 'take',\n",
       " 'to_clipboard',\n",
       " 'to_csv',\n",
       " 'to_dense',\n",
       " 'to_dict',\n",
       " 'to_excel',\n",
       " 'to_feather',\n",
       " 'to_gbq',\n",
       " 'to_hdf',\n",
       " 'to_html',\n",
       " 'to_json',\n",
       " 'to_latex',\n",
       " 'to_msgpack',\n",
       " 'to_panel',\n",
       " 'to_parquet',\n",
       " 'to_period',\n",
       " 'to_pickle',\n",
       " 'to_records',\n",
       " 'to_sparse',\n",
       " 'to_sql',\n",
       " 'to_stata',\n",
       " 'to_string',\n",
       " 'to_timestamp',\n",
       " 'to_xarray',\n",
       " 'transform',\n",
       " 'transpose',\n",
       " 'truediv',\n",
       " 'truncate',\n",
       " 'tshift',\n",
       " 'tz_convert',\n",
       " 'tz_localize',\n",
       " 'unstack',\n",
       " 'update',\n",
       " 'values',\n",
       " 'var',\n",
       " 'where',\n",
       " 'xs']"
      ]
     },
     "execution_count": 44,
     "metadata": {},
     "output_type": "execute_result"
    }
   ],
   "source": [
    "dir(pd.DataFrame)"
   ]
  },
  {
   "cell_type": "code",
   "execution_count": 45,
   "metadata": {},
   "outputs": [
    {
     "name": "stdout",
     "output_type": "stream",
     "text": [
      "Help on class dict in module builtins:\n",
      "\n",
      "class dict(object)\n",
      " |  dict() -> new empty dictionary\n",
      " |  dict(mapping) -> new dictionary initialized from a mapping object's\n",
      " |      (key, value) pairs\n",
      " |  dict(iterable) -> new dictionary initialized as if via:\n",
      " |      d = {}\n",
      " |      for k, v in iterable:\n",
      " |          d[k] = v\n",
      " |  dict(**kwargs) -> new dictionary initialized with the name=value pairs\n",
      " |      in the keyword argument list.  For example:  dict(one=1, two=2)\n",
      " |  \n",
      " |  Methods defined here:\n",
      " |  \n",
      " |  __contains__(self, key, /)\n",
      " |      True if D has a key k, else False.\n",
      " |  \n",
      " |  __delitem__(self, key, /)\n",
      " |      Delete self[key].\n",
      " |  \n",
      " |  __eq__(self, value, /)\n",
      " |      Return self==value.\n",
      " |  \n",
      " |  __ge__(self, value, /)\n",
      " |      Return self>=value.\n",
      " |  \n",
      " |  __getattribute__(self, name, /)\n",
      " |      Return getattr(self, name).\n",
      " |  \n",
      " |  __getitem__(...)\n",
      " |      x.__getitem__(y) <==> x[y]\n",
      " |  \n",
      " |  __gt__(self, value, /)\n",
      " |      Return self>value.\n",
      " |  \n",
      " |  __init__(self, /, *args, **kwargs)\n",
      " |      Initialize self.  See help(type(self)) for accurate signature.\n",
      " |  \n",
      " |  __iter__(self, /)\n",
      " |      Implement iter(self).\n",
      " |  \n",
      " |  __le__(self, value, /)\n",
      " |      Return self<=value.\n",
      " |  \n",
      " |  __len__(self, /)\n",
      " |      Return len(self).\n",
      " |  \n",
      " |  __lt__(self, value, /)\n",
      " |      Return self<value.\n",
      " |  \n",
      " |  __ne__(self, value, /)\n",
      " |      Return self!=value.\n",
      " |  \n",
      " |  __new__(*args, **kwargs) from builtins.type\n",
      " |      Create and return a new object.  See help(type) for accurate signature.\n",
      " |  \n",
      " |  __repr__(self, /)\n",
      " |      Return repr(self).\n",
      " |  \n",
      " |  __setitem__(self, key, value, /)\n",
      " |      Set self[key] to value.\n",
      " |  \n",
      " |  __sizeof__(...)\n",
      " |      D.__sizeof__() -> size of D in memory, in bytes\n",
      " |  \n",
      " |  clear(...)\n",
      " |      D.clear() -> None.  Remove all items from D.\n",
      " |  \n",
      " |  copy(...)\n",
      " |      D.copy() -> a shallow copy of D\n",
      " |  \n",
      " |  fromkeys(iterable, value=None, /) from builtins.type\n",
      " |      Returns a new dict with keys from iterable and values equal to value.\n",
      " |  \n",
      " |  get(...)\n",
      " |      D.get(k[,d]) -> D[k] if k in D, else d.  d defaults to None.\n",
      " |  \n",
      " |  items(...)\n",
      " |      D.items() -> a set-like object providing a view on D's items\n",
      " |  \n",
      " |  keys(...)\n",
      " |      D.keys() -> a set-like object providing a view on D's keys\n",
      " |  \n",
      " |  pop(...)\n",
      " |      D.pop(k[,d]) -> v, remove specified key and return the corresponding value.\n",
      " |      If key is not found, d is returned if given, otherwise KeyError is raised\n",
      " |  \n",
      " |  popitem(...)\n",
      " |      D.popitem() -> (k, v), remove and return some (key, value) pair as a\n",
      " |      2-tuple; but raise KeyError if D is empty.\n",
      " |  \n",
      " |  setdefault(...)\n",
      " |      D.setdefault(k[,d]) -> D.get(k,d), also set D[k]=d if k not in D\n",
      " |  \n",
      " |  update(...)\n",
      " |      D.update([E, ]**F) -> None.  Update D from dict/iterable E and F.\n",
      " |      If E is present and has a .keys() method, then does:  for k in E: D[k] = E[k]\n",
      " |      If E is present and lacks a .keys() method, then does:  for k, v in E: D[k] = v\n",
      " |      In either case, this is followed by: for k in F:  D[k] = F[k]\n",
      " |  \n",
      " |  values(...)\n",
      " |      D.values() -> an object providing a view on D's values\n",
      " |  \n",
      " |  ----------------------------------------------------------------------\n",
      " |  Data and other attributes defined here:\n",
      " |  \n",
      " |  __hash__ = None\n",
      "\n"
     ]
    }
   ],
   "source": [
    "d = {}\n",
    "help(dict)"
   ]
  },
  {
   "cell_type": "markdown",
   "metadata": {},
   "source": [
    "# L'héritage"
   ]
  },
  {
   "cell_type": "code",
   "execution_count": 53,
   "metadata": {},
   "outputs": [
    {
     "name": "stdout",
     "output_type": "stream",
     "text": [
      "L'age du mamifère est 2 et il a un poids de 5--10.\n",
      "Le cri du mammifère !\n",
      "Chut. Je dors.\n"
     ]
    }
   ],
   "source": [
    "class Mammifere :\n",
    "    def __init__ (self,age=2,poids=5):\n",
    "        self.sonAge = age\n",
    "        self.sonPoids = poids\n",
    "        self.test = 10\n",
    "        \n",
    "    def GetInfo(self) :\n",
    "        return \\\n",
    "            \"L'age du mamifère est {} et il a un poids de {}--{}.\"\\\n",
    "                 .format(self.sonAge,self.sonPoids,self.test)\n",
    "        \n",
    "    def Crier (self):\n",
    "        print(\"Le cri du mammifère !\")\n",
    "        \n",
    "    def Dormir(self):\n",
    "        print(\"Chut. Je dors.\")\n",
    "\n",
    "class Chien(Mammifere) :\n",
    "    RACE = ['GOLDEN','CAIRN','DANDIE',\\\n",
    "            'SHETLAND','DOBERMAN','LAB']\n",
    "    \n",
    "    def __init__ (self,age=2,poids=15,race=1):\n",
    "        Mammifere.__init__(self,age,poids)\n",
    "        self.sonAge = age\n",
    "        self.sonPoids = poids\n",
    "        self.saRace = race\n",
    "        \n",
    "    def GetRace(self) :\n",
    "        return self.RACE[self.saRace]\n",
    "\n",
    "    def RemuerQueue(self) :\n",
    "        print(\"Je remue la queue...\")\n",
    "        \n",
    "    def Quemander(self) :\n",
    "        print(\"Je mendie de la nourriture...\")\n",
    "\n",
    "mam = Mammifere()\n",
    "print(mam.GetInfo())\n",
    "mam.Crier ()\n",
    "mam.Dormir()"
   ]
  },
  {
   "cell_type": "code",
   "execution_count": 54,
   "metadata": {},
   "outputs": [
    {
     "name": "stdout",
     "output_type": "stream",
     "text": [
      "Le cri du mammifère !\n",
      "Je remue la queue...\n",
      "Je mendie de la nourriture...\n",
      "L'age du mamifère est 2 et il a un poids de 15--10.\n",
      "CAIRN\n",
      " <class '__main__.Mammifere'> \n",
      " <class '__main__.Chien'> \n",
      " ['Crier', 'Dormir', 'GetInfo', 'GetRace', 'Quemander', 'RACE', 'RemuerQueue', '__class__', '__delattr__', '__dict__', '__dir__', '__doc__', '__eq__', '__format__', '__ge__', '__getattribute__', '__gt__', '__hash__', '__init__', '__init_subclass__', '__le__', '__lt__', '__module__', '__ne__', '__new__', '__reduce__', '__reduce_ex__', '__repr__', '__setattr__', '__sizeof__', '__str__', '__subclasshook__', '__weakref__', 'saRace', 'sonAge', 'sonPoids', 'test']\n"
     ]
    }
   ],
   "source": [
    "fido = Chien(race=1)\n",
    "fido.Crier()\n",
    "fido.RemuerQueue()\n",
    "fido.Quemander()\n",
    "print(fido.GetInfo())\n",
    "print(fido.GetRace())\n",
    "print('',type(mam),'\\n',type(fido),'\\n',dir(fido))"
   ]
  },
  {
   "cell_type": "code",
   "execution_count": 8,
   "metadata": {},
   "outputs": [
    {
     "name": "stdout",
     "output_type": "stream",
     "text": [
      "Le cri du chien !\n",
      "Je remue la queue...\n",
      "Je mendie de la nourriture...\n",
      "L'age du mamifère est 2 et il a un poids de 15.\n",
      "L'age du chien CAIRN est 2 et il a un poids de 15.\n",
      "CAIRN\n",
      " <class '__main__.Mammifere'> \n",
      " <class '__main__.Chien'> \n",
      " ['Crier', 'Dormir', 'GetInfo', 'GetRace', 'Quemander', 'RACE', 'RemuerQueue', '__class__', '__delattr__', '__dict__', '__dir__', '__doc__', '__eq__', '__format__', '__ge__', '__getattribute__', '__gt__', '__hash__', '__init__', '__init_subclass__', '__le__', '__lt__', '__module__', '__ne__', '__new__', '__reduce__', '__reduce_ex__', '__repr__', '__setattr__', '__sizeof__', '__str__', '__subclasshook__', '__weakref__', 'saRace', 'sonAge', 'sonPoids']\n"
     ]
    }
   ],
   "source": [
    "class Chien(Mammifere) :\n",
    "    RACE = ['GOLDEN','CAIRN','DANDIE',\\\n",
    "            'SHETLAND','DOBERMAN','LAB']\n",
    "    \n",
    "    def __init__ (self,age=2,poids=15,race=1):\n",
    "        Mammifere.__init__(self,age,poids)\n",
    "        self.saRace = race\n",
    "        \n",
    "    def GetRace(self) :\n",
    "        return self.RACE[self.saRace]\n",
    "\n",
    "    def RemuerQueue(self) :\n",
    "        print(\"Je remue la queue...\")\n",
    "        \n",
    "    def Quemander(self) :\n",
    "        print(\"Je mendie de la nourriture...\")\n",
    "        \n",
    "    def Crier (self):\n",
    "        print(\"Le cri du chien !\")\n",
    "\n",
    "    def GetInfo(self) :\n",
    "        print(Mammifere.GetInfo(self))\n",
    "        return \\\n",
    "            \"L'age du chien {} est {} et il a un poids de {}.\"\\\n",
    "                 .format(self.RACE[self.saRace],self.sonAge,self.sonPoids)        \n",
    "        \n",
    "fido = Chien(race=1)\n",
    "fido.Crier()\n",
    "fido.RemuerQueue()\n",
    "fido.Quemander()\n",
    "print(fido.GetInfo())\n",
    "print(fido.GetRace())\n",
    "print('',type(mam),'\\n',type(fido),'\\n',dir(fido))        \n",
    "        "
   ]
  },
  {
   "cell_type": "markdown",
   "metadata": {},
   "source": [
    "# Le sens de l’héritage"
   ]
  },
  {
   "cell_type": "code",
   "execution_count": 55,
   "metadata": {},
   "outputs": [
    {
     "name": "stdout",
     "output_type": "stream",
     "text": [
      "rectangle 3 x 4 \n",
      " rectangle 5 x 5\n"
     ]
    }
   ],
   "source": [
    "class rectangle :\n",
    "    def __init__(self,a,b) : \n",
    "        self.a,self.b = a,b\n",
    "    def __str__(self) :\n",
    "        return \"rectangle \"+str(self.a)\\\n",
    "            +\" x \"+str(self.b)\n",
    "\n",
    "    \n",
    "class carre(rectangle):\n",
    "    def __init__( self, a) :\n",
    "        rectangle.__init__(self, a,a)\n",
    "\n",
    "        \n",
    "r = rectangle(3,4)\n",
    "c = carre(5)\n",
    "print(r,'\\n',c)"
   ]
  },
  {
   "cell_type": "code",
   "execution_count": 56,
   "metadata": {},
   "outputs": [
    {
     "name": "stdout",
     "output_type": "stream",
     "text": [
      "rectangle 3 x 4 \n",
      " carre 5\n"
     ]
    }
   ],
   "source": [
    "class carre(rectangle):\n",
    "    def __init__( self, a) :\n",
    "        self.a = a\n",
    "    def __str__(self) :\n",
    "        return \"carre \"+str(self.a)\n",
    "\n",
    "class rectangle :\n",
    "    def __init__(self,a,b) : \n",
    "        carre.__init__(self, a) \n",
    "        self.b = b\n",
    "    def __str__(self) :\n",
    "        return \"rectangle \"+str(self.a)\\\n",
    "            +\" x \"+str(self.b)\n",
    "\n",
    "r = rectangle (3,4)\n",
    "c = carre(5)\n",
    "print(r,'\\n',c)"
   ]
  },
  {
   "cell_type": "markdown",
   "metadata": {},
   "source": [
    "# L’héritage multiple"
   ]
  },
  {
   "cell_type": "code",
   "execution_count": 58,
   "metadata": {},
   "outputs": [
    {
     "name": "stdout",
     "output_type": "stream",
     "text": [
      "25\n",
      "125\n"
     ]
    }
   ],
   "source": [
    "class A :\n",
    "    def __init__(self) : self.a = 5\n",
    "    def carre (self) : return self.a ** 2\n",
    "\n",
    "class B :\n",
    "    def __init__(self) : self.a = 6\n",
    "    def cube (self) : return self.a ** 3\n",
    "\n",
    "class C (A,B) :\n",
    "    def __init__(self): A.__init__(self)\n",
    "\n",
    "x = C()\n",
    "\n",
    "print(x.carre())\n",
    "\n",
    "print(x.cube())"
   ]
  },
  {
   "cell_type": "code",
   "execution_count": 59,
   "metadata": {},
   "outputs": [
    {
     "name": "stdout",
     "output_type": "stream",
     "text": [
      "Help on class C in module __main__:\n",
      "\n",
      "class C(A, B)\n",
      " |  Method resolution order:\n",
      " |      C\n",
      " |      A\n",
      " |      B\n",
      " |      builtins.object\n",
      " |  \n",
      " |  Methods defined here:\n",
      " |  \n",
      " |  __init__(self)\n",
      " |      Initialize self.  See help(type(self)) for accurate signature.\n",
      " |  \n",
      " |  ----------------------------------------------------------------------\n",
      " |  Methods inherited from A:\n",
      " |  \n",
      " |  carre(self)\n",
      " |  \n",
      " |  ----------------------------------------------------------------------\n",
      " |  Data descriptors inherited from A:\n",
      " |  \n",
      " |  __dict__\n",
      " |      dictionary for instance variables (if defined)\n",
      " |  \n",
      " |  __weakref__\n",
      " |      list of weak references to the object (if defined)\n",
      " |  \n",
      " |  ----------------------------------------------------------------------\n",
      " |  Methods inherited from B:\n",
      " |  \n",
      " |  cube(self)\n",
      "\n"
     ]
    }
   ],
   "source": [
    "help(C)"
   ]
  },
  {
   "cell_type": "code",
   "execution_count": 7,
   "metadata": {},
   "outputs": [
    {
     "name": "stdout",
     "output_type": "stream",
     "text": [
      "25\n"
     ]
    }
   ],
   "source": [
    "class A :\n",
    "    def __init__(self) : self.a = 5\n",
    "    def calcul(self)   : return self.a ** 2\n",
    "\n",
    "class B :\n",
    "    def __init__(self) : self.a = 6\n",
    "    def calcul(self)   : return self.a ** 3\n",
    "\n",
    "class C (A,B) :\n",
    "    def __init__(self): A.__init__(self)\n",
    "\n",
    "x = C ()\n",
    "print(x.calcul())"
   ]
  },
  {
   "cell_type": "code",
   "execution_count": 8,
   "metadata": {},
   "outputs": [
    {
     "data": {
      "text/plain": [
       "['__class__',\n",
       " '__delattr__',\n",
       " '__dict__',\n",
       " '__dir__',\n",
       " '__doc__',\n",
       " '__eq__',\n",
       " '__format__',\n",
       " '__ge__',\n",
       " '__getattribute__',\n",
       " '__gt__',\n",
       " '__hash__',\n",
       " '__init__',\n",
       " '__init_subclass__',\n",
       " '__le__',\n",
       " '__lt__',\n",
       " '__module__',\n",
       " '__ne__',\n",
       " '__new__',\n",
       " '__reduce__',\n",
       " '__reduce_ex__',\n",
       " '__repr__',\n",
       " '__setattr__',\n",
       " '__sizeof__',\n",
       " '__str__',\n",
       " '__subclasshook__',\n",
       " '__weakref__',\n",
       " 'a',\n",
       " 'calcul']"
      ]
     },
     "execution_count": 8,
     "metadata": {},
     "output_type": "execute_result"
    }
   ],
   "source": [
    "dir(x)"
   ]
  },
  {
   "cell_type": "code",
   "execution_count": 21,
   "metadata": {},
   "outputs": [
    {
     "name": "stdout",
     "output_type": "stream",
     "text": [
      "25\n",
      "a False\n",
      "calcul True\n"
     ]
    },
    {
     "data": {
      "text/plain": [
       "25"
      ]
     },
     "execution_count": 21,
     "metadata": {},
     "output_type": "execute_result"
    }
   ],
   "source": [
    "x = C ()\n",
    "print(x.calcul())\n",
    "for i in dir(x):\n",
    "    if i[0] != '_' :\n",
    "        print(i,inspect.ismethod(getattr(x,i)))\n",
    "a = getattr(x,'calcul')\n",
    "a()"
   ]
  },
  {
   "cell_type": "code",
   "execution_count": 13,
   "metadata": {},
   "outputs": [
    {
     "data": {
      "text/plain": [
       "False"
      ]
     },
     "execution_count": 13,
     "metadata": {},
     "output_type": "execute_result"
    }
   ],
   "source": [
    "import inspect \n",
    "inspect.isfunction(x.a)\n",
    "inspect.ismethod(x.a)"
   ]
  },
  {
   "cell_type": "code",
   "execution_count": 14,
   "metadata": {},
   "outputs": [
    {
     "data": {
      "text/plain": [
       "True"
      ]
     },
     "execution_count": 14,
     "metadata": {},
     "output_type": "execute_result"
    }
   ],
   "source": [
    "inspect.isfunction(x.calcul)\n",
    "inspect.ismethod(x.calcul)"
   ]
  },
  {
   "cell_type": "code",
   "execution_count": 62,
   "metadata": {},
   "outputs": [
    {
     "name": "stdout",
     "output_type": "stream",
     "text": [
      "Help on class C in module __main__:\n",
      "\n",
      "class C(A, B)\n",
      " |  Method resolution order:\n",
      " |      C\n",
      " |      A\n",
      " |      B\n",
      " |      builtins.object\n",
      " |  \n",
      " |  Methods defined here:\n",
      " |  \n",
      " |  __init__(self)\n",
      " |      Initialize self.  See help(type(self)) for accurate signature.\n",
      " |  \n",
      " |  ----------------------------------------------------------------------\n",
      " |  Methods inherited from A:\n",
      " |  \n",
      " |  calcul(self)\n",
      " |  \n",
      " |  ----------------------------------------------------------------------\n",
      " |  Data descriptors inherited from A:\n",
      " |  \n",
      " |  __dict__\n",
      " |      dictionary for instance variables (if defined)\n",
      " |  \n",
      " |  __weakref__\n",
      " |      list of weak references to the object (if defined)\n",
      "\n"
     ]
    }
   ],
   "source": [
    "help(C)"
   ]
  },
  {
   "cell_type": "code",
   "execution_count": 64,
   "metadata": {},
   "outputs": [
    {
     "name": "stdout",
     "output_type": "stream",
     "text": [
      "125\n"
     ]
    }
   ],
   "source": [
    "class C (A,B) :\n",
    "    def __init__(self): A.__init__(self)\n",
    "    def calcul(self)   : return B.calcul(self)\n",
    "\n",
    "x = C ()\n",
    "print(x.calcul())"
   ]
  },
  {
   "cell_type": "code",
   "execution_count": 66,
   "metadata": {},
   "outputs": [],
   "source": [
    "class C (A,B) :\n",
    "    def __init__(self): \n",
    "        A.__init__(self)\n",
    "        B.__init__(self)"
   ]
  },
  {
   "cell_type": "markdown",
   "metadata": {},
   "source": [
    "# Les fonctions issubclass et isinstance"
   ]
  },
  {
   "cell_type": "code",
   "execution_count": 67,
   "metadata": {},
   "outputs": [
    {
     "name": "stdout",
     "output_type": "stream",
     "text": [
      "issubclass(A,B) False\n",
      "issubclass(B,A) True\n",
      "issubclass(A,C) False\n",
      "issubclass(C,A) True\n"
     ]
    }
   ],
   "source": [
    "class A (object) : pass\n",
    "\n",
    "class B (A) : pass\n",
    "\n",
    "class C (B) : pass\n",
    "\n",
    "print('issubclass(A,B)',issubclass(A,B))\n",
    "\n",
    "print('issubclass(B,A)',issubclass(B,A))\n",
    "\n",
    "print('issubclass(A,C)',issubclass(A,C))\n",
    "\n",
    "print('issubclass(C,A)',issubclass(C,A))"
   ]
  },
  {
   "cell_type": "code",
   "execution_count": 68,
   "metadata": {},
   "outputs": [
    {
     "name": "stdout",
     "output_type": "stream",
     "text": [
      "issubclass(a.__class__,B) False\n",
      "issubclass(b.__class__,A) True\n",
      "issubclass(a.__class__,A) True\n"
     ]
    }
   ],
   "source": [
    "a = A()\n",
    "b = B()\n",
    "print('issubclass(a.__class__,B)',issubclass(a.__class__,B))\n",
    "\n",
    "print('issubclass(b.__class__,A)',issubclass(b.__class__,A))\n",
    "\n",
    "print('issubclass(a.__class__,A)',issubclass(a.__class__,A))"
   ]
  },
  {
   "cell_type": "code",
   "execution_count": 69,
   "metadata": {},
   "outputs": [
    {
     "name": "stdout",
     "output_type": "stream",
     "text": [
      "isinstance(a,B) False\n",
      "isinstance(b,A) True\n",
      "isinstance(a,A) True\n"
     ]
    }
   ],
   "source": [
    "a = A()\n",
    "b = B()\n",
    "print('isinstance(a,B)',isinstance(a,B))\n",
    "\n",
    "print('isinstance(b,A)',isinstance(b,A))\n",
    "\n",
    "print('isinstance(a,A)',isinstance(a,A))"
   ]
  },
  {
   "cell_type": "code",
   "execution_count": 70,
   "metadata": {},
   "outputs": [
    {
     "name": "stdout",
     "output_type": "stream",
     "text": [
      "list undeuxtrois\n",
      "dict undeuxtrois\n",
      "erreur\n"
     ]
    }
   ],
   "source": [
    "def fonction_somme_list (ens) :\n",
    "    r = \"list \"\n",
    "    for e in ens : r += e\n",
    "    return r\n",
    "\n",
    "def fonction_somme_dict (ens) :\n",
    "    r = \"dict \"\n",
    "    for k,v in ens.items () : r += v\n",
    "    return r\n",
    "\n",
    "def fonction_somme (ens) :\n",
    "    if isinstance(ens,dict) : \n",
    "        return fonction_somme_dict (ens)\n",
    "    elif isinstance(ens,list) : \n",
    "        return fonction_somme_list (ens)\n",
    "    else : \n",
    "        return \"erreur\"\n",
    "\n",
    "li = [\"un\", \"deux\", \"trois\"]\n",
    "di = {1:\"un\", 2:\"deux\", 3:\"trois\"}\n",
    "tu = (\"un\", \"deux\", \"trois\")\n",
    "\n",
    "print(fonction_somme(li))\n",
    "\n",
    "print(fonction_somme(di))\n",
    "\n",
    "print(fonction_somme(tu))\n"
   ]
  },
  {
   "cell_type": "code",
   "execution_count": 2,
   "metadata": {},
   "outputs": [
    {
     "name": "stdout",
     "output_type": "stream",
     "text": [
      "1\n",
      "2\n",
      "3\n"
     ]
    }
   ],
   "source": [
    "l = [1,2,3]\n",
    "for i in l: print(i)"
   ]
  },
  {
   "cell_type": "code",
   "execution_count": 3,
   "metadata": {},
   "outputs": [
    {
     "name": "stdout",
     "output_type": "stream",
     "text": [
      "1\n",
      "2\n",
      "3\n"
     ]
    }
   ],
   "source": [
    "l = [1,2,3]\n",
    "for i in range(len(l)): \n",
    "    yield l \n",
    "    print(l[i])"
   ]
  },
  {
   "cell_type": "code",
   "execution_count": 5,
   "metadata": {},
   "outputs": [
    {
     "data": {
      "text/plain": [
       "1"
      ]
     },
     "execution_count": 5,
     "metadata": {},
     "output_type": "execute_result"
    }
   ],
   "source": [
    "a= iter(l)\n",
    "next(a)"
   ]
  },
  {
   "cell_type": "code",
   "execution_count": 6,
   "metadata": {},
   "outputs": [
    {
     "data": {
      "text/plain": [
       "2"
      ]
     },
     "execution_count": 6,
     "metadata": {},
     "output_type": "execute_result"
    }
   ],
   "source": [
    "next(a)"
   ]
  },
  {
   "cell_type": "code",
   "execution_count": null,
   "metadata": {},
   "outputs": [],
   "source": []
  },
  {
   "cell_type": "code",
   "execution_count": null,
   "metadata": {},
   "outputs": [],
   "source": []
  },
  {
   "cell_type": "code",
   "execution_count": null,
   "metadata": {},
   "outputs": [],
   "source": []
  }
 ],
 "metadata": {
  "kernelspec": {
   "display_name": "Python 3 (ipykernel)",
   "language": "python",
   "name": "python3"
  },
  "language_info": {
   "codemirror_mode": {
    "name": "ipython",
    "version": 3
   },
   "file_extension": ".py",
   "mimetype": "text/x-python",
   "name": "python",
   "nbconvert_exporter": "python",
   "pygments_lexer": "ipython3",
   "version": "3.10.0"
  }
 },
 "nbformat": 4,
 "nbformat_minor": 4
}

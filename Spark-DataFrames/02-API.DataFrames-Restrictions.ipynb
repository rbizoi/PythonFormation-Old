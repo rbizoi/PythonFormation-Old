{
 "cells": [
  {
   "cell_type": "markdown",
   "metadata": {
    "toc": true
   },
   "source": [
    "<h1>Table of Contents<span class=\"tocSkip\"></span></h1>\n",
    "<div class=\"toc\"><ul class=\"toc-item\"><li><span><a href=\"#Restrictions\" data-toc-modified-id=\"Restrictions-1\"><span class=\"toc-item-num\">1&nbsp;&nbsp;</span>Restrictions</a></span><ul class=\"toc-item\"><li><span><a href=\"#limit\" data-toc-modified-id=\"limit-1.1\"><span class=\"toc-item-num\">1.1&nbsp;&nbsp;</span>limit</a></span></li><li><span><a href=\"#distinct\" data-toc-modified-id=\"distinct-1.2\"><span class=\"toc-item-num\">1.2&nbsp;&nbsp;</span>distinct</a></span><ul class=\"toc-item\"><li><span><a href=\"#where\" data-toc-modified-id=\"where-1.2.1\"><span class=\"toc-item-num\">1.2.1&nbsp;&nbsp;</span>where</a></span></li></ul></li></ul></li><li><span><a href=\"#Colonnes\" data-toc-modified-id=\"Colonnes-2\"><span class=\"toc-item-num\">2&nbsp;&nbsp;</span>Colonnes</a></span></li><li><span><a href=\"#expr\" data-toc-modified-id=\"expr-3\"><span class=\"toc-item-num\">3&nbsp;&nbsp;</span>expr</a></span></li><li><span><a href=\"#Transformations\" data-toc-modified-id=\"Transformations-4\"><span class=\"toc-item-num\">4&nbsp;&nbsp;</span>Transformations</a></span><ul class=\"toc-item\"><li><span><a href=\"#Projections\" data-toc-modified-id=\"Projections-4.1\"><span class=\"toc-item-num\">4.1&nbsp;&nbsp;</span>Projections</a></span><ul class=\"toc-item\"><li><span><a href=\"#selectExpr\" data-toc-modified-id=\"selectExpr-4.1.1\"><span class=\"toc-item-num\">4.1.1&nbsp;&nbsp;</span>selectExpr</a></span></li><li><span><a href=\"#drop\" data-toc-modified-id=\"drop-4.1.2\"><span class=\"toc-item-num\">4.1.2&nbsp;&nbsp;</span>drop</a></span></li><li><span><a href=\"#orderBy\" data-toc-modified-id=\"orderBy-4.1.3\"><span class=\"toc-item-num\">4.1.3&nbsp;&nbsp;</span>orderBy</a></span></li></ul></li></ul></li></ul></div>"
   ]
  },
  {
   "cell_type": "code",
   "execution_count": 1,
   "metadata": {},
   "outputs": [],
   "source": [
    "import os\n",
    "from distutils.sysconfig import get_python_lib,get_python_inc,get_python_version"
   ]
  },
  {
   "cell_type": "code",
   "execution_count": 2,
   "metadata": {},
   "outputs": [],
   "source": [
    "os.environ['SPARK_HOME']=f'{get_python_lib()}{os.sep}pyspark'\n",
    "os.environ['PYSPARK_PYTHON']=f'{get_python_lib()}{os.sep}pyspark'.split('Lib')[0]+'python.exe'"
   ]
  },
  {
   "cell_type": "code",
   "execution_count": 3,
   "metadata": {
    "ExecuteTime": {
     "end_time": "2021-12-07T09:05:05.002903Z",
     "start_time": "2021-12-07T09:05:04.994901Z"
    }
   },
   "outputs": [],
   "source": [
    "from pyspark.sql import SparkSession\n",
    "from pyspark.sql.functions import *\n",
    "from pyspark.sql.types     import StructType, \\\n",
    "     StructField, FloatType, \\\n",
    "     IntegerType, StringType"
   ]
  },
  {
   "cell_type": "code",
   "execution_count": 4,
   "metadata": {},
   "outputs": [],
   "source": [
    "referentiel = os.path.join(os.getcwd(),'warehouse')\n",
    "os.makedirs(referentiel, exist_ok=True)"
   ]
  },
  {
   "cell_type": "code",
   "execution_count": 5,
   "metadata": {},
   "outputs": [
    {
     "data": {
      "text/plain": [
       "'F:\\\\PythonFormation\\\\Spark-DataFrames\\\\warehouse'"
      ]
     },
     "execution_count": 5,
     "metadata": {},
     "output_type": "execute_result"
    }
   ],
   "source": [
    "referentiel"
   ]
  },
  {
   "cell_type": "code",
   "execution_count": 6,
   "metadata": {},
   "outputs": [],
   "source": [
    "spark = SparkSession \\\n",
    "    .builder \\\n",
    "    .appName(\"PresentationSpark\") \\\n",
    "    .config(\"spark.sql.warehouse.dir\", referentiel) \\\n",
    "    .config(\"spark.executor.cores\", 8) \\\n",
    "    .config(\"spark.executor.memory\", '24g') \\\n",
    "    .enableHiveSupport() \\\n",
    "    .getOrCreate()"
   ]
  },
  {
   "cell_type": "code",
   "execution_count": 7,
   "metadata": {
    "ExecuteTime": {
     "end_time": "2021-12-07T09:05:05.033797Z",
     "start_time": "2021-12-07T09:05:05.004875Z"
    }
   },
   "outputs": [
    {
     "data": {
      "text/html": [
       "\n",
       "            <div>\n",
       "                <p><b>SparkSession - hive</b></p>\n",
       "                \n",
       "        <div>\n",
       "            <p><b>SparkContext</b></p>\n",
       "\n",
       "            <p><a href=\"http://thor.olimp.fr:4040\">Spark UI</a></p>\n",
       "\n",
       "            <dl>\n",
       "              <dt>Version</dt>\n",
       "                <dd><code>v3.4.1</code></dd>\n",
       "              <dt>Master</dt>\n",
       "                <dd><code>local[*]</code></dd>\n",
       "              <dt>AppName</dt>\n",
       "                <dd><code>PresentationSpark</code></dd>\n",
       "            </dl>\n",
       "        </div>\n",
       "        \n",
       "            </div>\n",
       "        "
      ],
      "text/plain": [
       "<pyspark.sql.session.SparkSession at 0x25fe872cb50>"
      ]
     },
     "execution_count": 7,
     "metadata": {},
     "output_type": "execute_result"
    }
   ],
   "source": [
    "spark"
   ]
  },
  {
   "cell_type": "code",
   "execution_count": 8,
   "metadata": {},
   "outputs": [
    {
     "name": "stdout",
     "output_type": "stream",
     "text": [
      "spark.executor.cores = 8\n",
      "spark.executor.memory = 24g\n"
     ]
    }
   ],
   "source": [
    "print(f\"spark.executor.cores = {spark.conf.get('spark.executor.cores')}\\nspark.executor.memory = {spark.conf.get('spark.executor.memory')}\")"
   ]
  },
  {
   "cell_type": "markdown",
   "metadata": {
    "ExecuteTime": {
     "end_time": "2021-12-07T07:50:21.795770Z",
     "start_time": "2021-12-07T07:50:21.781805Z"
    }
   },
   "source": [
    "# Restrictions\n",
    "Une Transformation qui permet de limiter le nombre d’enregistrements du DataFrame résultante est une restriction."
   ]
  },
  {
   "cell_type": "code",
   "execution_count": 9,
   "metadata": {
    "ExecuteTime": {
     "end_time": "2021-12-07T09:05:05.629439Z",
     "start_time": "2021-12-07T09:05:05.035793Z"
    }
   },
   "outputs": [
    {
     "data": {
      "text/plain": [
       "4703265"
      ]
     },
     "execution_count": 9,
     "metadata": {},
     "output_type": "execute_result"
    }
   ],
   "source": [
    "from pyspark.sql.functions import *\n",
    "\n",
    "meteoDataFrame  = spark.read.format('csv')\\\n",
    "    .option('sep',';')\\\n",
    "    .option('header','true')\\\n",
    "    .option('nullValue','mq')\\\n",
    "    .option('inferSchema', 'true')\\\n",
    "    .load('../donnees/meteo/*/')  #   .cache()\n",
    "\n",
    "\n",
    "from pyspark.sql.types     import StructType, \\\n",
    "     StructField, FloatType, \\\n",
    "     IntegerType, StringType\n",
    "\n",
    "schema = StructType([\n",
    "        StructField('Id'           , StringType() , True),\n",
    "        StructField('ville'        , StringType() , True),\n",
    "        StructField('latitude'     , FloatType() , True),\n",
    "        StructField('longitude'    , FloatType() , True),\n",
    "        StructField('altitude'     , IntegerType() , True)])\n",
    "\n",
    "villes  = spark.read.format('csv')   \\\n",
    "      .option('sep',';')                \\\n",
    "      .option('mergeSchema', 'true')    \\\n",
    "      .option('header','true')          \\\n",
    "      .schema(schema)                   \\\n",
    "      .load('../donnees/postesSynop.csv') #      .cache()\n",
    "\n",
    "meteoDataFrame.count()"
   ]
  },
  {
   "cell_type": "markdown",
   "metadata": {},
   "source": [
    "## limit"
   ]
  },
  {
   "cell_type": "code",
   "execution_count": 10,
   "metadata": {
    "ExecuteTime": {
     "end_time": "2021-12-07T09:05:05.754106Z",
     "start_time": "2021-12-07T09:05:05.632432Z"
    }
   },
   "outputs": [
    {
     "name": "stdout",
     "output_type": "stream",
     "text": [
      "+---------+------------------+\n",
      "|numer_sta|       temperature|\n",
      "+---------+------------------+\n",
      "|     7005|15.400000000000034|\n",
      "|     7015|15.600000000000023|\n",
      "|     7020| 16.30000000000001|\n",
      "|     7027|15.900000000000034|\n",
      "|     7037|15.600000000000023|\n",
      "+---------+------------------+\n",
      "\n"
     ]
    }
   ],
   "source": [
    "meteoDataFrame.selectExpr(\n",
    "        'numer_sta','t  - 273.15 as temperature'\n",
    "        ).limit(5).show()"
   ]
  },
  {
   "cell_type": "markdown",
   "metadata": {},
   "source": [
    "## distinct"
   ]
  },
  {
   "cell_type": "code",
   "execution_count": 11,
   "metadata": {
    "ExecuteTime": {
     "end_time": "2021-12-07T09:05:06.044330Z",
     "start_time": "2021-12-07T09:05:05.755104Z"
    }
   },
   "outputs": [
    {
     "data": {
      "text/plain": [
       "62"
      ]
     },
     "execution_count": 11,
     "metadata": {},
     "output_type": "execute_result"
    }
   ],
   "source": [
    "meteoDataFrame.select('numer_sta').distinct().count()"
   ]
  },
  {
   "cell_type": "code",
   "execution_count": 12,
   "metadata": {
    "ExecuteTime": {
     "end_time": "2021-12-07T09:05:06.311617Z",
     "start_time": "2021-12-07T09:05:06.045328Z"
    }
   },
   "outputs": [
    {
     "name": "stdout",
     "output_type": "stream",
     "text": [
      "+---------+\n",
      "|numer_sta|\n",
      "+---------+\n",
      "|     7240|\n",
      "|     7168|\n",
      "|    61972|\n",
      "+---------+\n",
      "only showing top 3 rows\n",
      "\n"
     ]
    }
   ],
   "source": [
    "meteoDataFrame.select('numer_sta').distinct().show(3)"
   ]
  },
  {
   "cell_type": "code",
   "execution_count": 13,
   "metadata": {
    "ExecuteTime": {
     "end_time": "2021-12-07T09:05:07.738448Z",
     "start_time": "2021-12-07T09:05:06.312614Z"
    }
   },
   "outputs": [
    {
     "data": {
      "text/plain": [
       "4528765"
      ]
     },
     "execution_count": 13,
     "metadata": {},
     "output_type": "execute_result"
    }
   ],
   "source": [
    "meteoDataFrame.distinct().count()"
   ]
  },
  {
   "cell_type": "markdown",
   "metadata": {},
   "source": [
    "### where"
   ]
  },
  {
   "cell_type": "code",
   "execution_count": 14,
   "metadata": {
    "ExecuteTime": {
     "end_time": "2021-12-07T09:05:07.785322Z",
     "start_time": "2021-12-07T09:05:07.740443Z"
    }
   },
   "outputs": [
    {
     "name": "stdout",
     "output_type": "stream",
     "text": [
      "+-----+---------------+---------+---------+--------+\n",
      "|   Id|          ville| latitude|longitude|altitude|\n",
      "+-----+---------------+---------+---------+--------+\n",
      "|07005|      ABBEVILLE|   50.136|    1.834|      69|\n",
      "|07015|  LILLE-LESQUIN|    50.57|   3.0975|      47|\n",
      "|07020|PTE DE LA HAGUE|49.725166|-1.939833|       6|\n",
      "|07027| CAEN-CARPIQUET|    49.18|-0.456167|      67|\n",
      "|07037|     ROUEN-BOOS|   49.383| 1.181667|     151|\n",
      "|07072|   REIMS-PRUNAY|49.209667| 4.155333|      95|\n",
      "+-----+---------------+---------+---------+--------+\n",
      "\n"
     ]
    }
   ],
   "source": [
    "villes.where('latitude > 49').show()"
   ]
  },
  {
   "cell_type": "code",
   "execution_count": 15,
   "metadata": {
    "ExecuteTime": {
     "end_time": "2021-12-07T09:05:07.847666Z",
     "start_time": "2021-12-07T09:05:07.787318Z"
    }
   },
   "outputs": [
    {
     "name": "stdout",
     "output_type": "stream",
     "text": [
      "+-----+------------+---------+---------+--------+\n",
      "|   Id|       ville| latitude|longitude|altitude|\n",
      "+-----+------------+---------+---------+--------+\n",
      "|07037|  ROUEN-BOOS|   49.383| 1.181667|     151|\n",
      "|07072|REIMS-PRUNAY|49.209667| 4.155333|      95|\n",
      "+-----+------------+---------+---------+--------+\n",
      "\n"
     ]
    }
   ],
   "source": [
    "villes.where('latitude > 49 and altitude > 90').show()"
   ]
  },
  {
   "cell_type": "code",
   "execution_count": 16,
   "metadata": {
    "ExecuteTime": {
     "end_time": "2021-12-07T09:05:07.893055Z",
     "start_time": "2021-12-07T09:05:07.849661Z"
    }
   },
   "outputs": [
    {
     "name": "stdout",
     "output_type": "stream",
     "text": [
      "+-----+---------------+---------+---------+--------+\n",
      "|   Id|          ville| latitude|longitude|altitude|\n",
      "+-----+---------------+---------+---------+--------+\n",
      "|07005|      ABBEVILLE|   50.136|    1.834|      69|\n",
      "|07015|  LILLE-LESQUIN|    50.57|   3.0975|      47|\n",
      "|07020|PTE DE LA HAGUE|49.725166|-1.939833|       6|\n",
      "|07027| CAEN-CARPIQUET|    49.18|-0.456167|      67|\n",
      "|07037|     ROUEN-BOOS|   49.383| 1.181667|     151|\n",
      "|07072|   REIMS-PRUNAY|49.209667| 4.155333|      95|\n",
      "|07471|  LE PUY-LOUDES|  45.0745|    3.764|     833|\n",
      "|07591|         EMBRUN|44.565666| 6.502333|     871|\n",
      "+-----+---------------+---------+---------+--------+\n",
      "\n"
     ]
    }
   ],
   "source": [
    "villes.where('latitude > 49 or altitude > 800').show()"
   ]
  },
  {
   "cell_type": "code",
   "execution_count": 17,
   "metadata": {
    "ExecuteTime": {
     "end_time": "2021-12-07T09:05:08.220690Z",
     "start_time": "2021-12-07T09:05:07.895051Z"
    }
   },
   "outputs": [
    {
     "data": {
      "text/plain": [
       "(4703265, 47102, 46922)"
      ]
     },
     "execution_count": 17,
     "metadata": {},
     "output_type": "execute_result"
    }
   ],
   "source": [
    "meteoDataFrame.count(), meteoDataFrame.sample(1/100).count(), meteoDataFrame.sample(True,1/100).count()"
   ]
  },
  {
   "cell_type": "code",
   "execution_count": 18,
   "metadata": {
    "ExecuteTime": {
     "end_time": "2021-12-07T09:05:08.265569Z",
     "start_time": "2021-12-07T09:05:08.222685Z"
    }
   },
   "outputs": [
    {
     "name": "stdout",
     "output_type": "stream",
     "text": [
      "+-----+---------------+---------+---------+--------+\n",
      "|   Id|          ville| latitude|longitude|altitude|\n",
      "+-----+---------------+---------+---------+--------+\n",
      "|07168|TROYES-BARBEREY| 48.32467|     4.02|     112|\n",
      "|07280|  DIJON-LONGVIC|47.267834| 5.088333|     219|\n",
      "+-----+---------------+---------+---------+--------+\n",
      "\n"
     ]
    }
   ],
   "source": [
    "villes.sample(True,2/100,0).show()"
   ]
  },
  {
   "cell_type": "code",
   "execution_count": 19,
   "metadata": {
    "ExecuteTime": {
     "end_time": "2021-12-07T09:05:08.327405Z",
     "start_time": "2021-12-07T09:05:08.267564Z"
    }
   },
   "outputs": [
    {
     "name": "stdout",
     "output_type": "stream",
     "text": [
      "+-----+---------------+---------+---------+--------+\n",
      "|   Id|          ville| latitude|longitude|altitude|\n",
      "+-----+---------------+---------+---------+--------+\n",
      "|07168|TROYES-BARBEREY| 48.32467|     4.02|     112|\n",
      "|07280|  DIJON-LONGVIC|47.267834| 5.088333|     219|\n",
      "+-----+---------------+---------+---------+--------+\n",
      "\n"
     ]
    }
   ],
   "source": [
    "villes.filter(\"Id == '07168' or Id == '07280'\").show()"
   ]
  },
  {
   "cell_type": "code",
   "execution_count": 20,
   "metadata": {
    "ExecuteTime": {
     "end_time": "2021-12-07T09:05:08.388242Z",
     "start_time": "2021-12-07T09:05:08.329399Z"
    }
   },
   "outputs": [
    {
     "name": "stdout",
     "output_type": "stream",
     "text": [
      "+-----+---------------+---------+---------+--------+\n",
      "|   Id|          ville| latitude|longitude|altitude|\n",
      "+-----+---------------+---------+---------+--------+\n",
      "|07168|TROYES-BARBEREY| 48.32467|     4.02|     112|\n",
      "|07280|  DIJON-LONGVIC|47.267834| 5.088333|     219|\n",
      "+-----+---------------+---------+---------+--------+\n",
      "\n"
     ]
    }
   ],
   "source": [
    "villes.filter(\"Id = '07168' or Id = '07280'\").show()"
   ]
  },
  {
   "cell_type": "code",
   "execution_count": null,
   "metadata": {},
   "outputs": [],
   "source": []
  },
  {
   "cell_type": "code",
   "execution_count": null,
   "metadata": {},
   "outputs": [],
   "source": []
  },
  {
   "cell_type": "code",
   "execution_count": null,
   "metadata": {},
   "outputs": [],
   "source": []
  },
  {
   "cell_type": "code",
   "execution_count": null,
   "metadata": {},
   "outputs": [],
   "source": []
  },
  {
   "cell_type": "code",
   "execution_count": null,
   "metadata": {},
   "outputs": [],
   "source": []
  },
  {
   "cell_type": "code",
   "execution_count": null,
   "metadata": {},
   "outputs": [],
   "source": []
  },
  {
   "cell_type": "code",
   "execution_count": null,
   "metadata": {},
   "outputs": [],
   "source": []
  },
  {
   "cell_type": "code",
   "execution_count": null,
   "metadata": {},
   "outputs": [],
   "source": []
  },
  {
   "cell_type": "code",
   "execution_count": null,
   "metadata": {},
   "outputs": [],
   "source": []
  },
  {
   "cell_type": "code",
   "execution_count": null,
   "metadata": {},
   "outputs": [],
   "source": []
  },
  {
   "cell_type": "code",
   "execution_count": null,
   "metadata": {},
   "outputs": [],
   "source": []
  },
  {
   "cell_type": "code",
   "execution_count": null,
   "metadata": {},
   "outputs": [],
   "source": []
  },
  {
   "cell_type": "code",
   "execution_count": null,
   "metadata": {},
   "outputs": [],
   "source": []
  },
  {
   "cell_type": "code",
   "execution_count": null,
   "metadata": {},
   "outputs": [],
   "source": []
  },
  {
   "cell_type": "code",
   "execution_count": null,
   "metadata": {},
   "outputs": [],
   "source": []
  },
  {
   "cell_type": "code",
   "execution_count": null,
   "metadata": {},
   "outputs": [],
   "source": []
  },
  {
   "cell_type": "code",
   "execution_count": null,
   "metadata": {},
   "outputs": [],
   "source": []
  },
  {
   "cell_type": "code",
   "execution_count": null,
   "metadata": {},
   "outputs": [],
   "source": []
  },
  {
   "cell_type": "code",
   "execution_count": null,
   "metadata": {},
   "outputs": [],
   "source": []
  },
  {
   "cell_type": "code",
   "execution_count": null,
   "metadata": {},
   "outputs": [],
   "source": []
  },
  {
   "cell_type": "code",
   "execution_count": null,
   "metadata": {},
   "outputs": [],
   "source": []
  },
  {
   "cell_type": "code",
   "execution_count": null,
   "metadata": {},
   "outputs": [],
   "source": []
  }
 ],
 "metadata": {
  "kernelspec": {
   "display_name": "Python 3 (ipykernel)",
   "language": "python",
   "name": "python3"
  },
  "language_info": {
   "codemirror_mode": {
    "name": "ipython",
    "version": 3
   },
   "file_extension": ".py",
   "mimetype": "text/x-python",
   "name": "python",
   "nbconvert_exporter": "python",
   "pygments_lexer": "ipython3",
   "version": "3.10.0"
  },
  "toc": {
   "base_numbering": 1,
   "nav_menu": {},
   "number_sections": true,
   "sideBar": true,
   "skip_h1_title": false,
   "title_cell": "Table of Contents",
   "title_sidebar": "Contents",
   "toc_cell": true,
   "toc_position": {},
   "toc_section_display": true,
   "toc_window_display": false
  }
 },
 "nbformat": 4,
 "nbformat_minor": 4
}

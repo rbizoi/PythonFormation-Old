{
 "cells": [
  {
   "cell_type": "markdown",
   "metadata": {
    "toc": true
   },
   "source": [
    "<h1>Table of Contents<span class=\"tocSkip\"></span></h1>\n",
    "<div class=\"toc\"><ul class=\"toc-item\"><li><span><a href=\"#groupBy\" data-toc-modified-id=\"groupBy-1\"><span class=\"toc-item-num\">1&nbsp;&nbsp;</span>groupBy</a></span><ul class=\"toc-item\"><li><span><a href=\"#rollup\" data-toc-modified-id=\"rollup-1.1\"><span class=\"toc-item-num\">1.1&nbsp;&nbsp;</span>rollup</a></span></li><li><span><a href=\"#cube\" data-toc-modified-id=\"cube-1.2\"><span class=\"toc-item-num\">1.2&nbsp;&nbsp;</span>cube</a></span></li></ul></li><li><span><a href=\"#pivot\" data-toc-modified-id=\"pivot-2\"><span class=\"toc-item-num\">2&nbsp;&nbsp;</span>pivot</a></span></li></ul></div>"
   ]
  },
  {
   "cell_type": "code",
   "execution_count": 1,
   "metadata": {},
   "outputs": [],
   "source": [
    "import os\n",
    "from distutils.sysconfig import get_python_lib,get_python_inc,get_python_version"
   ]
  },
  {
   "cell_type": "code",
   "execution_count": 2,
   "metadata": {},
   "outputs": [],
   "source": [
    "os.environ['SPARK_HOME']=f'{get_python_lib()}{os.sep}pyspark'\n",
    "os.environ['PYSPARK_PYTHON']=f'{get_python_lib()}{os.sep}pyspark'.split('Lib')[0]+'python.exe'"
   ]
  },
  {
   "cell_type": "code",
   "execution_count": 3,
   "metadata": {
    "ExecuteTime": {
     "end_time": "2021-12-07T09:44:30.708221Z",
     "start_time": "2021-12-07T09:44:30.694260Z"
    }
   },
   "outputs": [],
   "source": [
    "from pyspark.sql import SparkSession\n",
    "from pyspark.sql.functions import *\n",
    "from pyspark.sql.types     import StructType, \\\n",
    "     StructField, FloatType, \\\n",
    "     IntegerType, StringType"
   ]
  },
  {
   "cell_type": "code",
   "execution_count": 4,
   "metadata": {},
   "outputs": [],
   "source": [
    "referentiel = os.path.join(os.getcwd(),'warehouse')\n",
    "os.makedirs(referentiel, exist_ok=True)"
   ]
  },
  {
   "cell_type": "code",
   "execution_count": 5,
   "metadata": {},
   "outputs": [
    {
     "data": {
      "text/plain": [
       "'F:\\\\PythonFormation\\\\Spark-DataFrames\\\\warehouse'"
      ]
     },
     "execution_count": 5,
     "metadata": {},
     "output_type": "execute_result"
    }
   ],
   "source": [
    "referentiel"
   ]
  },
  {
   "cell_type": "code",
   "execution_count": 6,
   "metadata": {},
   "outputs": [],
   "source": [
    "spark = SparkSession \\\n",
    "    .builder \\\n",
    "    .appName(\"PresentationSpark\") \\\n",
    "    .config(\"spark.sql.warehouse.dir\", referentiel) \\\n",
    "    .config(\"spark.executor.cores\", 8) \\\n",
    "    .config(\"spark.executor.memory\", '24g') \\\n",
    "    .enableHiveSupport() \\\n",
    "    .getOrCreate()"
   ]
  },
  {
   "cell_type": "code",
   "execution_count": 7,
   "metadata": {
    "ExecuteTime": {
     "end_time": "2021-12-07T09:05:05.033797Z",
     "start_time": "2021-12-07T09:05:05.004875Z"
    }
   },
   "outputs": [
    {
     "data": {
      "text/html": [
       "\n",
       "            <div>\n",
       "                <p><b>SparkSession - hive</b></p>\n",
       "                \n",
       "        <div>\n",
       "            <p><b>SparkContext</b></p>\n",
       "\n",
       "            <p><a href=\"http://thor.olimp.fr:4040\">Spark UI</a></p>\n",
       "\n",
       "            <dl>\n",
       "              <dt>Version</dt>\n",
       "                <dd><code>v3.4.1</code></dd>\n",
       "              <dt>Master</dt>\n",
       "                <dd><code>local[*]</code></dd>\n",
       "              <dt>AppName</dt>\n",
       "                <dd><code>PresentationSpark</code></dd>\n",
       "            </dl>\n",
       "        </div>\n",
       "        \n",
       "            </div>\n",
       "        "
      ],
      "text/plain": [
       "<pyspark.sql.session.SparkSession at 0x15e5bf78d00>"
      ]
     },
     "execution_count": 7,
     "metadata": {},
     "output_type": "execute_result"
    }
   ],
   "source": [
    "spark"
   ]
  },
  {
   "cell_type": "code",
   "execution_count": 8,
   "metadata": {},
   "outputs": [
    {
     "name": "stdout",
     "output_type": "stream",
     "text": [
      "spark.executor.cores = 8\n",
      "spark.executor.memory = 24g\n"
     ]
    }
   ],
   "source": [
    "print(f\"spark.executor.cores = {spark.conf.get('spark.executor.cores')}\\nspark.executor.memory = {spark.conf.get('spark.executor.memory')}\")"
   ]
  },
  {
   "cell_type": "code",
   "execution_count": 9,
   "metadata": {
    "ExecuteTime": {
     "end_time": "2021-12-07T09:44:40.397163Z",
     "start_time": "2021-12-07T09:44:30.725176Z"
    }
   },
   "outputs": [
    {
     "data": {
      "text/plain": [
       "(4703265, 62)"
      ]
     },
     "execution_count": 9,
     "metadata": {},
     "output_type": "execute_result"
    }
   ],
   "source": [
    "from pyspark.sql.functions import *\n",
    "\n",
    "meteo = spark.read.format('csv')\\\n",
    "    .option('sep',';')\\\n",
    "    .option('header','true')\\\n",
    "    .option('nullValue','mq')\\\n",
    "    .option('inferSchema', 'true')\\\n",
    "    .load('../donnees/meteo/*/') #    .cache()\n",
    "\n",
    "meteo = meteo.select(\n",
    "                 col('numer_sta'),\n",
    "                 col('date')[0:4].cast('int') ,\n",
    "                 col('date')[5:2].cast('int'),\n",
    "                 col('date')[7:2].cast('int'),\n",
    "                 col('date')[5:4],\n",
    "                 round(col('t') - 273.15,2),\n",
    "                 col('u') / 100 ,\n",
    "                 col('vv') / 1000 ,\n",
    "                 col('pres') / 1000,\n",
    "                 coalesce( col('rr3'),\n",
    "                           col('rr24')/8,\n",
    "                           col('rr12')/4,\n",
    "                           col('rr6')/2,\n",
    "                           col('rr1')*3  ) )\\\n",
    "             .toDF('id','annee','mois','jour','mois_jour','temperature',\n",
    "                   'humidite','visibilite','pression','precipitations') #             .cache()\n",
    "\n",
    "\n",
    "from pyspark.sql.types     import StructType, \\\n",
    "     StructField, FloatType, \\\n",
    "     IntegerType, StringType\n",
    "\n",
    "schema = StructType([\n",
    "        StructField('Id'           , StringType() , True),\n",
    "        StructField('ville'        , StringType() , True),\n",
    "        StructField('latitude'     , FloatType() , True),\n",
    "        StructField('longitude'    , FloatType() , True),\n",
    "        StructField('altitude'     , IntegerType() , True)])\n",
    "\n",
    "villes  = spark.read.format('csv')   \\\n",
    "      .option('sep',';')                \\\n",
    "      .option('mergeSchema', 'true')    \\\n",
    "      .option('header','true')          \\\n",
    "      .schema(schema)                   \\\n",
    "      .load('../donnees/postesSynop.csv')  \\\n",
    "      .cache()\n",
    "\n",
    "meteo.count(), villes.count()"
   ]
  },
  {
   "cell_type": "markdown",
   "metadata": {},
   "source": [
    "# groupBy\n",
    "\n",
    "<img src=\"https://raw.githubusercontent.com/rbizoi/AnalyserLesDonneesAvecSpark/main/DataFrameSpark/images/M06-03.png\" width=\"400\">    "
   ]
  },
  {
   "cell_type": "code",
   "execution_count": 10,
   "metadata": {
    "ExecuteTime": {
     "end_time": "2021-12-07T09:44:42.754555Z",
     "start_time": "2021-12-07T09:44:40.398161Z"
    }
   },
   "outputs": [
    {
     "name": "stdout",
     "output_type": "stream",
     "text": [
      "+-------+------------------+-----------------+------------------+--------------------+\n",
      "|summary|             annee|        mois_jour|       temperature|      precipitations|\n",
      "+-------+------------------+-----------------+------------------+--------------------+\n",
      "|  count|           3345920|          3345920|           3331578|             3316612|\n",
      "|   mean|2009.5241057765877|666.2460330790933|12.730304780497685|  0.2587658467436155|\n",
      "| stddev| 8.006457123929179|344.4202142570863| 7.336417149748348|  1.3217897238227296|\n",
      "|    min|              1996|             0101|             -21.3|-0.30000000000000004|\n",
      "|    max|              2023|             1231|              96.0|               443.0|\n",
      "+-------+------------------+-----------------+------------------+--------------------+\n",
      "\n"
     ]
    }
   ],
   "source": [
    "meteo.where('id < 8000')\\\n",
    "     .select('annee','mois_jour','temperature','precipitations')\\\n",
    "     .describe().show()"
   ]
  },
  {
   "cell_type": "code",
   "execution_count": 11,
   "metadata": {
    "ExecuteTime": {
     "end_time": "2021-12-07T09:44:44.749666Z",
     "start_time": "2021-12-07T09:44:42.756550Z"
    },
    "scrolled": true
   },
   "outputs": [
    {
     "name": "stdout",
     "output_type": "stream",
     "text": [
      "+-------+------------------+-----------------+------------------+\n",
      "|summary|             annee|        mois_jour|       temperature|\n",
      "+-------+------------------+-----------------+------------------+\n",
      "|  count|           3345920|          3345920|           3331578|\n",
      "|   mean|2009.5241057765877|666.2460330790933|12.730304780497685|\n",
      "| stddev| 8.006457123929179|344.4202142570863| 7.336417149748348|\n",
      "|    min|              1996|             0101|             -21.3|\n",
      "|    max|              2023|             1231|              96.0|\n",
      "+-------+------------------+-----------------+------------------+\n",
      "\n"
     ]
    }
   ],
   "source": [
    "meteo.where('id < 8000')\\\n",
    "     .select('annee','mois_jour','temperature')\\\n",
    "     .describe().show()"
   ]
  },
  {
   "cell_type": "code",
   "execution_count": 12,
   "metadata": {
    "ExecuteTime": {
     "end_time": "2021-12-07T09:44:45.062365Z",
     "start_time": "2021-12-07T09:44:44.752659Z"
    },
    "scrolled": true
   },
   "outputs": [
    {
     "data": {
      "text/plain": [
       "3345920"
      ]
     },
     "execution_count": 12,
     "metadata": {},
     "output_type": "execute_result"
    }
   ],
   "source": [
    "meteo.where('id < 8000').count()"
   ]
  },
  {
   "cell_type": "code",
   "execution_count": 13,
   "metadata": {
    "ExecuteTime": {
     "end_time": "2021-12-07T09:44:45.864241Z",
     "start_time": "2021-12-07T09:44:45.063364Z"
    }
   },
   "outputs": [
    {
     "name": "stdout",
     "output_type": "stream",
     "text": [
      "+-------+-------------------+------------------+------------------+\n",
      "|summary|           humidite|        visibilite|          pression|\n",
      "+-------+-------------------+------------------+------------------+\n",
      "|  count|            3327879|           2903875|           3325109|\n",
      "|   mean| 0.7544562076926593|22.576944668761783| 99.56771475762103|\n",
      "| stddev|0.17774905844413927|15.256162059897415|2.5315149532100767|\n",
      "|    min|               0.01|               0.0|              43.4|\n",
      "|    max|                1.0|             80.01|            105.09|\n",
      "+-------+-------------------+------------------+------------------+\n",
      "\n"
     ]
    }
   ],
   "source": [
    "meteo.where('id < 8000')\\\n",
    "     .select('humidite','visibilite','pression')\\\n",
    "     .describe().show()"
   ]
  },
  {
   "cell_type": "code",
   "execution_count": 14,
   "metadata": {
    "ExecuteTime": {
     "end_time": "2021-12-07T09:44:46.768932Z",
     "start_time": "2021-12-07T09:44:45.866236Z"
    }
   },
   "outputs": [
    {
     "name": "stdout",
     "output_type": "stream",
     "text": [
      "+-----+------------------+------------------+-----------------+\n",
      "|annee|  avg(temperature)|   avg(visibilite)|    avg(pression)|\n",
      "+-----+------------------+------------------+-----------------+\n",
      "| 2023|14.335714549927022| 25.97829452920015|99.53528064548905|\n",
      "| 2022|13.956919192345685|25.500372519056686|99.68878205182264|\n",
      "| 2019|13.185722746378657|25.786389970746523|99.53540068658667|\n",
      "| 2020|13.526039191405296| 26.92226900837133| 99.6296426331237|\n",
      "| 2018| 13.37747716669952|24.960805049257885|99.49398817480282|\n",
      "+-----+------------------+------------------+-----------------+\n",
      "only showing top 5 rows\n",
      "\n"
     ]
    }
   ],
   "source": [
    "meteo.where('id < 8000')\\\n",
    "     .groupBy('annee')\\\n",
    "     .avg('temperature','visibilite','pression').show(5)"
   ]
  },
  {
   "cell_type": "code",
   "execution_count": 15,
   "metadata": {
    "ExecuteTime": {
     "end_time": "2021-12-07T09:44:48.565205Z",
     "start_time": "2021-12-07T09:44:46.772922Z"
    }
   },
   "outputs": [
    {
     "name": "stdout",
     "output_type": "stream",
     "text": [
      "+----+-----+----------------+---------------+-------------+\n",
      "|  id|annee|max(temperature)|max(visibilite)|max(pression)|\n",
      "+----+-----+----------------+---------------+-------------+\n",
      "|7627| 2022|            37.7|           20.0|        98.74|\n",
      "|7747| 2020|            36.2|           60.0|       103.02|\n",
      "|7481| 2022|            38.5|           80.0|       100.93|\n",
      "|7627| 2023|            38.4|           20.0|        98.94|\n",
      "|7558| 2019|            36.3|           20.0|        94.96|\n",
      "+----+-----+----------------+---------------+-------------+\n",
      "only showing top 5 rows\n",
      "\n"
     ]
    }
   ],
   "source": [
    "meteo.where('id < 8000')\\\n",
    "     .groupBy('id','annee')\\\n",
    "     .max('temperature','visibilite','pression').show(5)"
   ]
  },
  {
   "cell_type": "code",
   "execution_count": 16,
   "metadata": {
    "ExecuteTime": {
     "end_time": "2021-12-07T09:44:51.089807Z",
     "start_time": "2021-12-07T09:44:48.568199Z"
    }
   },
   "outputs": [
    {
     "name": "stdout",
     "output_type": "stream",
     "text": [
      "+----+-----+---------+-----------+--------+----------+--------+--------------+\n",
      "|  id|annee|nb_villes|temperature|humidite|visibilite|pression|precipitations|\n",
      "+----+-----+---------+-----------+--------+----------+--------+--------------+\n",
      "|7005| 1996|     2913|       9.06|    0.81|     12.77|  100.67|      293245.0|\n",
      "|7005| 1997|     2904|      10.54|    0.83|     12.91|   100.8|      292736.0|\n",
      "|7005| 1998|     2912|      10.55|    0.83|     14.52|   100.7|      293250.0|\n",
      "|7005| 1999|     2902|      11.14|    0.82|     13.85|   100.6|      291927.0|\n",
      "|7005| 2000|     2903|      10.94|    0.84|     14.01|  100.57|      291960.0|\n",
      "|7005| 2001|     2882|       10.6|    0.84|     14.87|  100.66|      290096.0|\n",
      "|7005| 2002|     2894|      10.95|    0.83|     16.48|  100.61|      290059.0|\n",
      "|7005| 2003|     2905|      10.93|    0.79|     16.98|  100.83|      292904.0|\n",
      "|7005| 2004|     2911|      10.71|    0.83|     17.87|  100.75|      293285.0|\n",
      "|7005| 2005|     2879|      10.79|    0.84|     17.36|  100.89|      290469.0|\n",
      "|7005| 2006|     2909|      11.08|    0.83|     17.55|  100.75|      293087.0|\n",
      "|7005| 2007|     2914|      11.08|    0.84|     18.17|  100.83|      293808.0|\n",
      "|7005| 2008|     2909|      10.62|    0.84|     20.42|  100.64|      292766.0|\n",
      "|7005| 2009|     2915|      10.65|    0.82|     20.02|  100.57|      292964.0|\n",
      "|7005| 2010|     2905|       9.45|    0.82|     19.85|  100.53|      292048.0|\n",
      "|7005| 2011|     2910|      11.52|     0.8|     18.37|  100.86|      293515.0|\n",
      "|7005| 2012|     2913|       10.4|    0.81|     16.99|  100.74|      293463.0|\n",
      "|7005| 2013|     2910|      10.09|    0.83|     15.92|   100.7|      293044.0|\n",
      "|7005| 2014|     2904|      11.69|    0.81|     16.93|  100.53|      291941.0|\n",
      "|7005| 2015|     2907|      11.27|    0.78|     18.03|  100.99|      293579.0|\n",
      "|7005| 2016|     2926|      10.92|    0.81|     17.08|  100.83|      295036.0|\n",
      "|7005| 2017|     2890|      11.42|     0.8|     17.11|  100.89|      291566.0|\n",
      "|7005| 2018|     2910|      11.56|    0.79|     15.43|   100.7|      293038.0|\n",
      "|7005| 2019|     2911|      11.51|    0.78|     16.25|  100.67|      292942.0|\n",
      "|7005| 2020|     5854|      12.13|    0.78|     16.94|  100.74|      589713.0|\n",
      "|7005| 2022|     2917|      12.04|    0.79|     16.54|  100.91|      293346.0|\n",
      "|7005| 2023|     2655|      12.49|    0.81|     16.54|  100.68|      267198.0|\n",
      "|7015| 1996|     2873|       9.31|    0.79|     13.63|  100.96|      290050.0|\n",
      "+----+-----+---------+-----------+--------+----------+--------+--------------+\n",
      "only showing top 28 rows\n",
      "\n"
     ]
    }
   ],
   "source": [
    "meteo.where('id < 8000')\\\n",
    "     .groupBy('id','annee')\\\n",
    "     .agg(\n",
    "            count('id').alias('nb_villes'),\n",
    "            round(avg('temperature'),2).alias('temperature'),\n",
    "            round(avg('humidite'),2).alias('humidite'),\n",
    "            round(avg('visibilite'),2).alias('visibilite'),\n",
    "            round(avg('pression'),2).alias('pression'),\n",
    "            round(sum('pression')).alias('precipitations'))\\\n",
    "     .orderBy(\"id\",\"annee\")\\\n",
    "     .show(28)"
   ]
  },
  {
   "cell_type": "code",
   "execution_count": 17,
   "metadata": {
    "ExecuteTime": {
     "end_time": "2021-12-07T09:44:51.909616Z",
     "start_time": "2021-12-07T09:44:51.091803Z"
    }
   },
   "outputs": [
    {
     "name": "stdout",
     "output_type": "stream",
     "text": [
      "+-----+----+--------------+\n",
      "|annee|mois|precipitations|\n",
      "+-----+----+--------------+\n",
      "| 1996|   1|         963.0|\n",
      "| 1996|   2|         908.0|\n",
      "| 1996|   3|         966.0|\n",
      "| 1996|   4|         941.0|\n",
      "| 1996|   5|         974.0|\n",
      "+-----+----+--------------+\n",
      "only showing top 5 rows\n",
      "\n"
     ]
    }
   ],
   "source": [
    "meteo.where('id < 8000')\\\n",
    "     .groupBy('annee','mois')\\\n",
    "     .agg(round(sum('pression') / 1000).alias('precipitations'))\\\n",
    "     .orderBy('annee','mois')\\\n",
    "     .show(5)"
   ]
  },
  {
   "cell_type": "markdown",
   "metadata": {},
   "source": [
    "## rollup\n",
    "<img src=\"https://raw.githubusercontent.com/rbizoi/AnalyserLesDonneesAvecSpark/main/DataFrameSpark/images/M06-05.png\" width=\"400\">"
   ]
  },
  {
   "cell_type": "code",
   "execution_count": 18,
   "metadata": {
    "ExecuteTime": {
     "end_time": "2021-12-07T09:44:52.901970Z",
     "start_time": "2021-12-07T09:44:51.911610Z"
    }
   },
   "outputs": [
    {
     "name": "stdout",
     "output_type": "stream",
     "text": [
      "+-----+----+--------------+\n",
      "|annee|mois|precipitations|\n",
      "+-----+----+--------------+\n",
      "| 1996|   1|         963.0|\n",
      "| 1996|   2|         908.0|\n",
      "| 1996|   3|         966.0|\n",
      "| 1996|   4|         941.0|\n",
      "| 1996|   5|         974.0|\n",
      "| 1996|   6|         952.0|\n",
      "| 1996|   7|         978.0|\n",
      "| 1996|   8|         974.0|\n",
      "| 1996|   9|         943.0|\n",
      "| 1996|  10|         959.0|\n",
      "| 1996|  11|         943.0|\n",
      "| 1996|  12|         976.0|\n",
      "| 1996|null|       11477.0|\n",
      "| 1997|   1|         982.0|\n",
      "+-----+----+--------------+\n",
      "only showing top 14 rows\n",
      "\n"
     ]
    }
   ],
   "source": [
    "meteo.where('id < 8000')\\\n",
    "     .groupBy('annee','mois')\\\n",
    "     .agg(round(sum('pression') / 1000).alias('precipitations'))\\\n",
    "     .rollup('annee','mois')\\\n",
    "     .agg( round(sum('precipitations')).alias('precipitations'))\\\n",
    "     .orderBy(col('annee').asc_nulls_last(),\n",
    "              col('mois').asc_nulls_last())\\\n",
    "     .show(14)"
   ]
  },
  {
   "cell_type": "code",
   "execution_count": 19,
   "metadata": {
    "ExecuteTime": {
     "end_time": "2021-12-07T09:44:53.631175Z",
     "start_time": "2021-12-07T09:44:52.902967Z"
    }
   },
   "outputs": [
    {
     "name": "stdout",
     "output_type": "stream",
     "text": [
      "+-----+----+--------------+\n",
      "|annee|mois|precipitations|\n",
      "+-----+----+--------------+\n",
      "| 1996|   1|         963.0|\n",
      "| 1996|   2|         908.0|\n",
      "| 1996|   3|         966.0|\n",
      "| 1996|   4|         941.0|\n",
      "| 1996|   5|         974.0|\n",
      "| 1996|   6|         952.0|\n",
      "| 1996|   7|         978.0|\n",
      "| 1996|   8|         974.0|\n",
      "| 1996|   9|         943.0|\n",
      "| 1996|  10|         959.0|\n",
      "| 1996|  11|         943.0|\n",
      "| 1996|  12|         976.0|\n",
      "| 1997|   1|         982.0|\n",
      "| 1997|   2|         890.0|\n",
      "| 1997|   3|         985.0|\n",
      "| 1997|   4|         951.0|\n",
      "| 1997|   5|        1003.0|\n",
      "| 1997|   6|         963.0|\n",
      "| 1997|   7|         993.0|\n",
      "| 1997|   8|         989.0|\n",
      "+-----+----+--------------+\n",
      "only showing top 20 rows\n",
      "\n"
     ]
    }
   ],
   "source": [
    "meteo.where('id < 8000')\\\n",
    "     .groupBy('annee','mois')\\\n",
    "     .agg(round(sum('pression') / 1000).alias('precipitations'))\\\n",
    "     .orderBy('annee','mois')\\\n",
    "     .show()"
   ]
  },
  {
   "cell_type": "code",
   "execution_count": 20,
   "metadata": {
    "ExecuteTime": {
     "end_time": "2021-12-07T09:44:54.502915Z",
     "start_time": "2021-12-07T09:44:53.633169Z"
    }
   },
   "outputs": [
    {
     "name": "stdout",
     "output_type": "stream",
     "text": [
      "+-----+----+--------------+\n",
      "|annee|mois|precipitations|\n",
      "+-----+----+--------------+\n",
      "| null|null|      331077.0|\n",
      "| 1996|null|       11477.0|\n",
      "| 1996|   1|         963.0|\n",
      "| 1996|   2|         908.0|\n",
      "| 1996|   3|         966.0|\n",
      "| 1996|   4|         941.0|\n",
      "| 1996|   5|         974.0|\n",
      "| 1996|   6|         952.0|\n",
      "| 1996|   7|         978.0|\n",
      "| 1996|   8|         974.0|\n",
      "| 1996|   9|         943.0|\n",
      "| 1996|  10|         959.0|\n",
      "| 1996|  11|         943.0|\n",
      "| 1996|  12|         976.0|\n",
      "| 1997|null|       11668.0|\n",
      "| 1997|   1|         982.0|\n",
      "| 1997|   2|         890.0|\n",
      "| 1997|   3|         985.0|\n",
      "| 1997|   4|         951.0|\n",
      "| 1997|   5|        1003.0|\n",
      "+-----+----+--------------+\n",
      "only showing top 20 rows\n",
      "\n"
     ]
    }
   ],
   "source": [
    "meteo.where('id < 8000')\\\n",
    "     .groupBy('annee','mois')\\\n",
    "     .agg(round(sum('pression') / 1000).alias('precipitations'))\\\n",
    "     .rollup('annee','mois')\\\n",
    "     .agg( round(sum('precipitations')).alias('precipitations'))\\\n",
    "     .orderBy('annee','mois')\\\n",
    "     .toPandas().head(10) #.show()"
   ]
  },
  {
   "cell_type": "code",
   "execution_count": 21,
   "metadata": {
    "ExecuteTime": {
     "end_time": "2021-12-07T09:44:55.406500Z",
     "start_time": "2021-12-07T09:44:54.504911Z"
    }
   },
   "outputs": [
    {
     "name": "stdout",
     "output_type": "stream",
     "text": [
      "+-----+----+--------------+\n",
      "|annee|mois|precipitations|\n",
      "+-----+----+--------------+\n",
      "| null|null|      331077.0|\n",
      "| 1996|null|       11477.0|\n",
      "| 1996|   1|         963.0|\n",
      "| 1996|   2|         908.0|\n",
      "| 1996|   3|         966.0|\n",
      "| 1996|   4|         941.0|\n",
      "| 1996|   5|         974.0|\n",
      "| 1996|   6|         952.0|\n",
      "| 1996|   7|         978.0|\n",
      "| 1996|   8|         974.0|\n",
      "| 1996|   9|         943.0|\n",
      "| 1996|  10|         959.0|\n",
      "| 1996|  11|         943.0|\n",
      "| 1996|  12|         976.0|\n",
      "| 1997|null|       11668.0|\n",
      "| 1997|   1|         982.0|\n",
      "| 1997|   2|         890.0|\n",
      "| 1997|   3|         985.0|\n",
      "| 1997|   4|         951.0|\n",
      "| 1997|   5|        1003.0|\n",
      "+-----+----+--------------+\n",
      "only showing top 20 rows\n",
      "\n"
     ]
    }
   ],
   "source": [
    "meteo.where('id < 8000')\\\n",
    "     .groupBy('annee','mois')\\\n",
    "     .agg(round(sum('pression') / 1000).alias('precipitations'))\\\n",
    "     .rollup('annee','mois')\\\n",
    "     .agg(round(sum('precipitations')).alias('precipitations'))\\\n",
    "     .orderBy('annee','mois')\\\n",
    "     .toPandas().head(20) #.show(20)"
   ]
  },
  {
   "cell_type": "code",
   "execution_count": 22,
   "metadata": {
    "ExecuteTime": {
     "end_time": "2021-12-07T09:44:56.202544Z",
     "start_time": "2021-12-07T09:44:55.408495Z"
    }
   },
   "outputs": [
    {
     "name": "stdout",
     "output_type": "stream",
     "text": [
      "+-----+----+--------------+\n",
      "|annee|mois|precipitations|\n",
      "+-----+----+--------------+\n",
      "| 1996|   1|        3260.0|\n",
      "| 1996|   2|        3056.0|\n",
      "| 1996|   3|        1482.0|\n",
      "| 1996|   4|        1682.0|\n",
      "| 1996|   5|        3025.0|\n",
      "| 1996|   6|        1444.0|\n",
      "| 1996|   7|        2184.0|\n",
      "| 1996|   8|        2608.0|\n",
      "| 1996|   9|        2454.0|\n",
      "| 1996|  10|        2580.0|\n",
      "| 1996|  11|        6165.0|\n",
      "| 1996|  12|        3121.0|\n",
      "| 1996|null|       33061.0|\n",
      "| 1997|   1|        1988.0|\n",
      "| 1997|   2|        2242.0|\n",
      "| 1997|   3|         421.0|\n",
      "+-----+----+--------------+\n",
      "only showing top 16 rows\n",
      "\n"
     ]
    }
   ],
   "source": [
    "meteo.where('id < 8000')\\\n",
    "     .rollup('annee','mois')\\\n",
    "     .agg(\n",
    "            round(sum('precipitations')).alias('precipitations'))\\\n",
    "     .orderBy(col('annee').asc_nulls_last(),\n",
    "              col('mois').asc_nulls_last())\\\n",
    "     .toPandas().head(16) # .show(16)"
   ]
  },
  {
   "cell_type": "code",
   "execution_count": 23,
   "metadata": {
    "ExecuteTime": {
     "end_time": "2021-12-07T09:44:57.220174Z",
     "start_time": "2021-12-07T09:44:56.204538Z"
    }
   },
   "outputs": [
    {
     "name": "stdout",
     "output_type": "stream",
     "text": [
      "+-----+----+-----------+--------+----------+--------+--------------+\n",
      "|annee|mois|temperature|humidite|visibilite|pression|precipitations|\n",
      "+-----+----+-----------+--------+----------+--------+--------------+\n",
      "| 1996|   1|       6.34|    0.86|     12.82|    98.8|          0.33|\n",
      "| 1996|   2|       3.97|    0.79|     14.79|    99.2|          0.33|\n",
      "| 1996|   3|       7.03|    0.73|      13.5|   99.31|          0.15|\n",
      "| 1996|   4|       10.9|     0.7|     15.82|   99.41|          0.18|\n",
      "| 1996|   5|      13.16|    0.76|      18.9|    99.2|          0.31|\n",
      "| 1996|   6|      18.38|    0.69|     19.03|   99.87|          0.16|\n",
      "| 1996|   7|      19.48|    0.69|     20.93|   99.68|          0.25|\n",
      "| 1996|   8|      18.89|    0.73|      20.1|   99.47|           0.3|\n",
      "| 1996|   9|      14.74|    0.73|     19.17|   99.37|           0.3|\n",
      "| 1996|  10|      12.56|    0.81|     17.03|   99.67|           0.3|\n",
      "| 1996|  11|       7.91|    0.84|     15.66|   99.24|           0.7|\n",
      "| 1996|  12|       4.57|    0.85|     11.97|   98.99|          0.35|\n",
      "| 1996|null|      11.52|    0.77|     16.64|   99.35|           0.3|\n",
      "| 1997|   1|       3.26|    0.86|      9.56|   99.74|          0.23|\n",
      "| 1997|   2|       7.88|    0.79|     15.39|  100.19|          0.28|\n",
      "| 1997|   3|       10.2|    0.73|     16.62|  100.28|          0.04|\n",
      "+-----+----+-----------+--------+----------+--------+--------------+\n",
      "only showing top 16 rows\n",
      "\n"
     ]
    }
   ],
   "source": [
    "meteo.where('id < 8000')\\\n",
    "     .rollup('annee','mois')\\\n",
    "     .agg(\n",
    "            round(avg('temperature'),2).alias('temperature'),\n",
    "            round(avg('humidite'),2).alias('humidite'),\n",
    "            round(avg('visibilite'),2).alias('visibilite'),\n",
    "            round(avg('pression'),2).alias('pression'),\n",
    "            round(avg('precipitations'),2).alias('precipitations'))\\\n",
    "     .orderBy(col('annee').asc_nulls_last(),\n",
    "              col('mois').asc_nulls_last())\\\n",
    "     .toPandas().head(16) #.show(16)"
   ]
  },
  {
   "cell_type": "markdown",
   "metadata": {
    "ExecuteTime": {
     "end_time": "2021-12-07T09:38:07.118806Z",
     "start_time": "2021-12-07T09:38:07.100856Z"
    }
   },
   "source": [
    "## cube\n",
    "<img src=\"https://raw.githubusercontent.com/rbizoi/AnalyserLesDonneesAvecSpark/main/DataFrameSpark/images/M06-06.png\" width=\"400\">"
   ]
  },
  {
   "cell_type": "code",
   "execution_count": 24,
   "metadata": {
    "ExecuteTime": {
     "end_time": "2021-12-07T09:44:58.002216Z",
     "start_time": "2021-12-07T09:44:57.221171Z"
    }
   },
   "outputs": [
    {
     "name": "stdout",
     "output_type": "stream",
     "text": [
      "+-----+----+--------------+\n",
      "|annee|mois|precipitations|\n",
      "+-----+----+--------------+\n",
      "| null|null|      331077.0|\n",
      "| null|   1|       28327.0|\n",
      "| null|   2|       25789.0|\n",
      "| null|   3|       28192.0|\n",
      "| null|   4|       27229.0|\n",
      "| null|   5|       28115.0|\n",
      "| null|   6|       27264.0|\n",
      "| null|   7|       28130.0|\n",
      "| null|   8|       28156.0|\n",
      "| null|   9|       27226.0|\n",
      "| null|  10|       28123.0|\n",
      "| null|  11|       27273.0|\n",
      "| null|  12|       27253.0|\n",
      "| 1996|null|       11477.0|\n",
      "| 1996|   1|         963.0|\n",
      "| 1996|   2|         908.0|\n",
      "| 1996|   3|         966.0|\n",
      "| 1996|   4|         941.0|\n",
      "| 1996|   5|         974.0|\n",
      "| 1996|   6|         952.0|\n",
      "| 1996|   7|         978.0|\n",
      "| 1996|   8|         974.0|\n",
      "| 1996|   9|         943.0|\n",
      "| 1996|  10|         959.0|\n",
      "+-----+----+--------------+\n",
      "only showing top 24 rows\n",
      "\n"
     ]
    }
   ],
   "source": [
    "meteo.where('id < 8000')\\\n",
    "     .groupBy('annee','mois')\\\n",
    "     .agg(round(sum('pression') / 1000).alias('precipitations'))\\\n",
    "     .cube('annee','mois')\\\n",
    "     .agg( round(sum('precipitations')).alias('precipitations'))\\\n",
    "     .orderBy(col('annee'),col('mois'))\\\n",
    "     .toPandas().head(24) #.show(24)"
   ]
  },
  {
   "cell_type": "code",
   "execution_count": 25,
   "metadata": {
    "ExecuteTime": {
     "end_time": "2021-12-07T09:44:59.539108Z",
     "start_time": "2021-12-07T09:44:58.004211Z"
    }
   },
   "outputs": [
    {
     "name": "stdout",
     "output_type": "stream",
     "text": [
      "+----+-----+------------------+------------------+---------+\n",
      "|  id|annee|     avg(humidite)|  avg(temperature)|count(id)|\n",
      "+----+-----+------------------+------------------+---------+\n",
      "|7627| 2022|0.7473913043478269|13.957147826086953|     2875|\n",
      "|7747| 2020| 0.671087105624142|16.450120564932835|     5850|\n",
      "|7481| 2022| 0.684143494679025|14.446206659800893|     2913|\n",
      "|7627| 2023|0.7715090771558247|13.975416036308623|     2644|\n",
      "|7558| 2019|0.7018670886075954|11.308966244725742|     2844|\n",
      "|7481| 2019|0.6953703703703706| 13.50380658436214|     2916|\n",
      "|7607| 2020|0.7780644056183653|14.408667351832822|     5850|\n",
      "|7255| 2022|0.7192455418381346|13.646433470507539|     2916|\n",
      "|7139| 2020|0.7633850931677043|12.455797101449276|     5798|\n",
      "|7335| 2022|0.7429304407713506|13.738326446280992|     2904|\n",
      "+----+-----+------------------+------------------+---------+\n",
      "only showing top 10 rows\n",
      "\n"
     ]
    }
   ],
   "source": [
    "meteo.where('id < 8000')\\\n",
    "     .groupBy('id','annee')\\\n",
    "     .agg(\n",
    "            {'id':'count',\n",
    "            'temperature':'avg',\n",
    "            'humidite':'avg'}\n",
    "     ).toPandas().head(10) #.show(10)"
   ]
  },
  {
   "cell_type": "code",
   "execution_count": 26,
   "metadata": {
    "ExecuteTime": {
     "end_time": "2021-12-07T09:45:01.049018Z",
     "start_time": "2021-12-07T09:44:59.540106Z"
    }
   },
   "outputs": [
    {
     "name": "stdout",
     "output_type": "stream",
     "text": [
      "+----+-----+------------------+------------------+---------+\n",
      "|  id|annee|          humidite|       temperature|nb_villes|\n",
      "+----+-----+------------------+------------------+---------+\n",
      "|7627| 2022|0.7473913043478269|13.957147826086953|     2875|\n",
      "|7747| 2020| 0.671087105624142|16.450120564932835|     5850|\n",
      "|7481| 2022| 0.684143494679025|14.446206659800893|     2913|\n",
      "|7627| 2023|0.7715090771558247|13.975416036308623|     2644|\n",
      "|7558| 2019|0.7018670886075954|11.308966244725742|     2844|\n",
      "|7481| 2019|0.6953703703703706| 13.50380658436214|     2916|\n",
      "|7607| 2020|0.7780644056183653|14.408667351832822|     5850|\n",
      "|7255| 2022|0.7192455418381346|13.646433470507539|     2916|\n",
      "|7139| 2020|0.7633850931677043|12.455797101449276|     5798|\n",
      "|7335| 2022|0.7429304407713506|13.738326446280992|     2904|\n",
      "+----+-----+------------------+------------------+---------+\n",
      "only showing top 10 rows\n",
      "\n"
     ]
    }
   ],
   "source": [
    "meteo.where('id < 8000')\\\n",
    "     .groupBy('id','annee')\\\n",
    "     .agg(\n",
    "            {'id':'count',\n",
    "            'temperature':'avg',\n",
    "            'humidite':'avg'}\n",
    "     ).toDF('id','annee','humidite','temperature','nb_villes').toPandas().head(10) #.show(10)"
   ]
  },
  {
   "cell_type": "code",
   "execution_count": 27,
   "metadata": {
    "ExecuteTime": {
     "end_time": "2021-12-07T09:45:02.315009Z",
     "start_time": "2021-12-07T09:45:01.051532Z"
    }
   },
   "outputs": [
    {
     "name": "stdout",
     "output_type": "stream",
     "text": [
      "+----+--------+--------+--------+-------+------+----------+\n",
      "|  id|skewness|kurtosis|variance|var_pop|stddev|stddev_pop|\n",
      "+----+--------+--------+--------+-------+------+----------+\n",
      "|7005|   0.101|   0.004|  40.411|  40.41| 6.357|     6.357|\n",
      "|7015|   0.149|  -0.155|  47.047| 47.047| 6.859|     6.859|\n",
      "|7020|  -0.124|  -0.399|   17.14| 17.139|  4.14|      4.14|\n",
      "|7027|   0.125|  -0.008|  36.452| 36.452| 6.038|     6.038|\n",
      "|7037|   0.187|  -0.065|  44.414| 44.414| 6.664|     6.664|\n",
      "|7072|   0.265|   -0.22|  56.351| 56.349| 7.507|     7.507|\n",
      "|7110|   0.068|   0.183|  24.959| 24.959| 4.996|     4.996|\n",
      "|7117|   0.073|     1.6|  18.734| 18.734| 4.328|     4.328|\n",
      "|7130|   0.168|   0.009|  42.106| 42.105| 6.489|     6.489|\n",
      "|7139|   0.207|   -0.08|   47.15|  47.15| 6.867|     6.867|\n",
      "|7149|    0.19|  -0.248|  53.089| 53.089| 7.286|     7.286|\n",
      "|7168|   0.207|  -0.185|  59.848| 59.847| 7.736|     7.736|\n",
      "|7181|   0.164|  -0.305|  61.405| 61.404| 7.836|     7.836|\n",
      "|7190|   0.128|  -0.451|  67.874| 67.873| 8.239|     8.239|\n",
      "|7207|   -0.08|   0.108|  22.598| 22.597| 4.754|     4.754|\n",
      "+----+--------+--------+--------+-------+------+----------+\n",
      "only showing top 15 rows\n",
      "\n"
     ]
    }
   ],
   "source": [
    "meteo.where('id < 8000')\\\n",
    "     .groupBy('id')\\\n",
    "     .agg(\n",
    "        round(skewness  ('temperature'),3).alias('skewness'  ),\n",
    "        round(kurtosis  ('temperature'),3).alias('kurtosis'  ),\n",
    "        round(variance  ('temperature'),3).alias('variance'  ),\n",
    "        round(var_pop   ('temperature'),3).alias('var_pop'   ),\n",
    "        round(stddev    ('temperature'),3).alias('stddev'    ),\n",
    "        round(stddev_pop('temperature'),3).alias('stddev_pop'))\\\n",
    "     .orderBy('id')\\\n",
    "     .toPandas().head(15) #.show(15)"
   ]
  },
  {
   "cell_type": "code",
   "execution_count": 28,
   "metadata": {
    "ExecuteTime": {
     "end_time": "2021-12-07T09:45:03.201663Z",
     "start_time": "2021-12-07T09:45:02.316006Z"
    }
   },
   "outputs": [
    {
     "name": "stdout",
     "output_type": "stream",
     "text": [
      "+----+-----+-----------+\n",
      "|  id|annee|temperature|\n",
      "+----+-----+-----------+\n",
      "|7005| 2015|      11.27|\n",
      "|7005| 2016|      10.92|\n",
      "|7005| 2017|      11.42|\n",
      "|7005| 2018|      11.56|\n",
      "|7005| 2019|      11.51|\n",
      "|7005| 2020|      12.13|\n",
      "|7005| 2022|      12.04|\n",
      "|7005| 2023|      12.49|\n",
      "|7015| 2015|      11.38|\n",
      "|7015| 2016|      11.16|\n",
      "+----+-----+-----------+\n",
      "only showing top 10 rows\n",
      "\n"
     ]
    }
   ],
   "source": [
    "meteo.where('id < 8000 and annee > 2014')\\\n",
    "     .groupBy('id','annee')\\\n",
    "     .agg( round(avg('temperature'),2).alias('temperature'))\\\n",
    "     .orderBy(\"id\",\"annee\")\\\n",
    "     .toPandas().head(10) #.show(10)"
   ]
  },
  {
   "cell_type": "markdown",
   "metadata": {
    "ExecuteTime": {
     "end_time": "2021-12-07T09:23:44.515494Z",
     "start_time": "2021-12-07T09:23:44.507511Z"
    }
   },
   "source": [
    "# pivot\n",
    "<img src=\"https://raw.githubusercontent.com/rbizoi/AnalyserLesDonneesAvecSpark/main/DataFrameSpark/images/M06-04.png\" width=\"400\"> "
   ]
  },
  {
   "cell_type": "code",
   "execution_count": 35,
   "metadata": {
    "ExecuteTime": {
     "end_time": "2021-12-07T09:45:04.559108Z",
     "start_time": "2021-12-07T09:45:03.203659Z"
    }
   },
   "outputs": [
    {
     "data": {
      "text/html": [
       "<div>\n",
       "<style scoped>\n",
       "    .dataframe tbody tr th:only-of-type {\n",
       "        vertical-align: middle;\n",
       "    }\n",
       "\n",
       "    .dataframe tbody tr th {\n",
       "        vertical-align: top;\n",
       "    }\n",
       "\n",
       "    .dataframe thead th {\n",
       "        text-align: right;\n",
       "    }\n",
       "</style>\n",
       "<table border=\"1\" class=\"dataframe\">\n",
       "  <thead>\n",
       "    <tr style=\"text-align: right;\">\n",
       "      <th></th>\n",
       "      <th>id</th>\n",
       "      <th>2015</th>\n",
       "      <th>2016</th>\n",
       "      <th>2017</th>\n",
       "      <th>2018</th>\n",
       "      <th>2019</th>\n",
       "      <th>2020</th>\n",
       "      <th>2022</th>\n",
       "      <th>2023</th>\n",
       "    </tr>\n",
       "  </thead>\n",
       "  <tbody>\n",
       "    <tr>\n",
       "      <th>0</th>\n",
       "      <td>7005</td>\n",
       "      <td>11.27</td>\n",
       "      <td>10.92</td>\n",
       "      <td>11.42</td>\n",
       "      <td>11.56</td>\n",
       "      <td>11.51</td>\n",
       "      <td>12.13</td>\n",
       "      <td>12.04</td>\n",
       "      <td>12.49</td>\n",
       "    </tr>\n",
       "    <tr>\n",
       "      <th>1</th>\n",
       "      <td>7015</td>\n",
       "      <td>11.38</td>\n",
       "      <td>11.16</td>\n",
       "      <td>11.61</td>\n",
       "      <td>11.95</td>\n",
       "      <td>11.79</td>\n",
       "      <td>12.45</td>\n",
       "      <td>12.45</td>\n",
       "      <td>12.91</td>\n",
       "    </tr>\n",
       "    <tr>\n",
       "      <th>2</th>\n",
       "      <td>7020</td>\n",
       "      <td>12.43</td>\n",
       "      <td>12.22</td>\n",
       "      <td>12.74</td>\n",
       "      <td>12.32</td>\n",
       "      <td>12.98</td>\n",
       "      <td>12.75</td>\n",
       "      <td>13.20</td>\n",
       "      <td>13.27</td>\n",
       "    </tr>\n",
       "    <tr>\n",
       "      <th>3</th>\n",
       "      <td>7027</td>\n",
       "      <td>11.57</td>\n",
       "      <td>11.15</td>\n",
       "      <td>11.68</td>\n",
       "      <td>11.64</td>\n",
       "      <td>11.58</td>\n",
       "      <td>12.19</td>\n",
       "      <td>12.35</td>\n",
       "      <td>12.82</td>\n",
       "    </tr>\n",
       "    <tr>\n",
       "      <th>4</th>\n",
       "      <td>7037</td>\n",
       "      <td>11.20</td>\n",
       "      <td>10.70</td>\n",
       "      <td>11.18</td>\n",
       "      <td>11.57</td>\n",
       "      <td>11.37</td>\n",
       "      <td>11.98</td>\n",
       "      <td>12.00</td>\n",
       "      <td>12.39</td>\n",
       "    </tr>\n",
       "    <tr>\n",
       "      <th>5</th>\n",
       "      <td>7072</td>\n",
       "      <td>11.36</td>\n",
       "      <td>10.67</td>\n",
       "      <td>11.06</td>\n",
       "      <td>11.87</td>\n",
       "      <td>11.42</td>\n",
       "      <td>12.16</td>\n",
       "      <td>12.17</td>\n",
       "      <td>12.72</td>\n",
       "    </tr>\n",
       "    <tr>\n",
       "      <th>6</th>\n",
       "      <td>7110</td>\n",
       "      <td>11.96</td>\n",
       "      <td>11.64</td>\n",
       "      <td>11.69</td>\n",
       "      <td>11.81</td>\n",
       "      <td>11.79</td>\n",
       "      <td>12.25</td>\n",
       "      <td>12.55</td>\n",
       "      <td>12.82</td>\n",
       "    </tr>\n",
       "    <tr>\n",
       "      <th>7</th>\n",
       "      <td>7117</td>\n",
       "      <td>12.44</td>\n",
       "      <td>12.14</td>\n",
       "      <td>12.41</td>\n",
       "      <td>12.25</td>\n",
       "      <td>12.34</td>\n",
       "      <td>12.72</td>\n",
       "      <td>12.76</td>\n",
       "      <td>13.28</td>\n",
       "    </tr>\n",
       "    <tr>\n",
       "      <th>8</th>\n",
       "      <td>7130</td>\n",
       "      <td>12.36</td>\n",
       "      <td>11.82</td>\n",
       "      <td>12.15</td>\n",
       "      <td>12.65</td>\n",
       "      <td>12.43</td>\n",
       "      <td>13.09</td>\n",
       "      <td>13.41</td>\n",
       "      <td>13.79</td>\n",
       "    </tr>\n",
       "    <tr>\n",
       "      <th>9</th>\n",
       "      <td>7139</td>\n",
       "      <td>11.49</td>\n",
       "      <td>10.94</td>\n",
       "      <td>11.47</td>\n",
       "      <td>11.91</td>\n",
       "      <td>11.71</td>\n",
       "      <td>12.46</td>\n",
       "      <td>12.50</td>\n",
       "      <td>12.84</td>\n",
       "    </tr>\n",
       "  </tbody>\n",
       "</table>\n",
       "</div>"
      ],
      "text/plain": [
       "     id   2015   2016   2017   2018   2019   2020   2022   2023\n",
       "0  7005  11.27  10.92  11.42  11.56  11.51  12.13  12.04  12.49\n",
       "1  7015  11.38  11.16  11.61  11.95  11.79  12.45  12.45  12.91\n",
       "2  7020  12.43  12.22  12.74  12.32  12.98  12.75  13.20  13.27\n",
       "3  7027  11.57  11.15  11.68  11.64  11.58  12.19  12.35  12.82\n",
       "4  7037  11.20  10.70  11.18  11.57  11.37  11.98  12.00  12.39\n",
       "5  7072  11.36  10.67  11.06  11.87  11.42  12.16  12.17  12.72\n",
       "6  7110  11.96  11.64  11.69  11.81  11.79  12.25  12.55  12.82\n",
       "7  7117  12.44  12.14  12.41  12.25  12.34  12.72  12.76  13.28\n",
       "8  7130  12.36  11.82  12.15  12.65  12.43  13.09  13.41  13.79\n",
       "9  7139  11.49  10.94  11.47  11.91  11.71  12.46  12.50  12.84"
      ]
     },
     "execution_count": 35,
     "metadata": {},
     "output_type": "execute_result"
    }
   ],
   "source": [
    "meteo.where('id < 8000 and annee > 2014')\\\n",
    "      .groupBy('id')\\\n",
    "      .pivot('annee')\\\n",
    "      .agg( round(avg('temperature'),2))\\\n",
    "      .sort('id')\\\n",
    "      .toPandas().head(10) #.show(10)"
   ]
  },
  {
   "cell_type": "code",
   "execution_count": 30,
   "metadata": {
    "ExecuteTime": {
     "end_time": "2021-12-07T09:45:05.160515Z",
     "start_time": "2021-12-07T09:45:04.561104Z"
    }
   },
   "outputs": [
    {
     "data": {
      "text/html": [
       "<div>\n",
       "<style scoped>\n",
       "    .dataframe tbody tr th:only-of-type {\n",
       "        vertical-align: middle;\n",
       "    }\n",
       "\n",
       "    .dataframe tbody tr th {\n",
       "        vertical-align: top;\n",
       "    }\n",
       "\n",
       "    .dataframe thead th {\n",
       "        text-align: right;\n",
       "    }\n",
       "</style>\n",
       "<table border=\"1\" class=\"dataframe\">\n",
       "  <thead>\n",
       "    <tr style=\"text-align: right;\">\n",
       "      <th></th>\n",
       "      <th>altitude</th>\n",
       "      <th>ville par altitude</th>\n",
       "    </tr>\n",
       "  </thead>\n",
       "  <tbody>\n",
       "    <tr>\n",
       "      <th>0</th>\n",
       "      <td>300</td>\n",
       "      <td>[NANCY-OCHEY, BALE-MULHOUSE, CLERMONT-FD, GOUR...</td>\n",
       "    </tr>\n",
       "    <tr>\n",
       "      <th>1</th>\n",
       "      <td>900</td>\n",
       "      <td>[EMBRUN]</td>\n",
       "    </tr>\n",
       "    <tr>\n",
       "      <th>2</th>\n",
       "      <td>800</td>\n",
       "      <td>[LE PUY-LOUDES]</td>\n",
       "    </tr>\n",
       "    <tr>\n",
       "      <th>3</th>\n",
       "      <td>100</td>\n",
       "      <td>[ABBEVILLE, CAEN-CARPIQUET, REIMS-PRUNAY, BRES...</td>\n",
       "    </tr>\n",
       "    <tr>\n",
       "      <th>4</th>\n",
       "      <td>400</td>\n",
       "      <td>[LIMOGES-BELLEGARDE, TARBES-OSSUN, ST GIRONS]</td>\n",
       "    </tr>\n",
       "  </tbody>\n",
       "</table>\n",
       "</div>"
      ],
      "text/plain": [
       "   altitude                                 ville par altitude\n",
       "0       300  [NANCY-OCHEY, BALE-MULHOUSE, CLERMONT-FD, GOUR...\n",
       "1       900                                           [EMBRUN]\n",
       "2       800                                    [LE PUY-LOUDES]\n",
       "3       100  [ABBEVILLE, CAEN-CARPIQUET, REIMS-PRUNAY, BRES...\n",
       "4       400      [LIMOGES-BELLEGARDE, TARBES-OSSUN, ST GIRONS]"
      ]
     },
     "execution_count": 30,
     "metadata": {},
     "output_type": "execute_result"
    }
   ],
   "source": [
    "villes.select('ville',\n",
    "               round('altitude',-2).alias('altitude'))\\\n",
    "      .groupBy('altitude')\\\n",
    "      .agg(collect_list('ville').alias('ville par altitude')).toPandas().head()\n",
    "# .show(truncate=False)"
   ]
  },
  {
   "cell_type": "code",
   "execution_count": 34,
   "metadata": {
    "ExecuteTime": {
     "end_time": "2021-12-07T09:45:05.752532Z",
     "start_time": "2021-12-07T09:45:05.162511Z"
    }
   },
   "outputs": [
    {
     "data": {
      "text/html": [
       "<div>\n",
       "<style scoped>\n",
       "    .dataframe tbody tr th:only-of-type {\n",
       "        vertical-align: middle;\n",
       "    }\n",
       "\n",
       "    .dataframe tbody tr th {\n",
       "        vertical-align: top;\n",
       "    }\n",
       "\n",
       "    .dataframe thead th {\n",
       "        text-align: right;\n",
       "    }\n",
       "</style>\n",
       "<table border=\"1\" class=\"dataframe\">\n",
       "  <thead>\n",
       "    <tr style=\"text-align: right;\">\n",
       "      <th></th>\n",
       "      <th>annee</th>\n",
       "      <th>mois</th>\n",
       "      <th>pression</th>\n",
       "    </tr>\n",
       "  </thead>\n",
       "  <tbody>\n",
       "    <tr>\n",
       "      <th>0</th>\n",
       "      <td>1996</td>\n",
       "      <td>1</td>\n",
       "      <td>963.0</td>\n",
       "    </tr>\n",
       "    <tr>\n",
       "      <th>1</th>\n",
       "      <td>1996</td>\n",
       "      <td>2</td>\n",
       "      <td>908.0</td>\n",
       "    </tr>\n",
       "    <tr>\n",
       "      <th>2</th>\n",
       "      <td>1996</td>\n",
       "      <td>3</td>\n",
       "      <td>966.0</td>\n",
       "    </tr>\n",
       "    <tr>\n",
       "      <th>3</th>\n",
       "      <td>1996</td>\n",
       "      <td>4</td>\n",
       "      <td>941.0</td>\n",
       "    </tr>\n",
       "    <tr>\n",
       "      <th>4</th>\n",
       "      <td>1996</td>\n",
       "      <td>5</td>\n",
       "      <td>974.0</td>\n",
       "    </tr>\n",
       "  </tbody>\n",
       "</table>\n",
       "</div>"
      ],
      "text/plain": [
       "   annee  mois  pression\n",
       "0   1996     1     963.0\n",
       "1   1996     2     908.0\n",
       "2   1996     3     966.0\n",
       "3   1996     4     941.0\n",
       "4   1996     5     974.0"
      ]
     },
     "execution_count": 34,
     "metadata": {},
     "output_type": "execute_result"
    }
   ],
   "source": [
    "meteo.where('id < 8000')\\\n",
    "     .groupBy('annee','mois')\\\n",
    "     .agg(round(sum('pression') / 1000).alias('pression'))\\\n",
    "     .orderBy('annee','mois')\\\n",
    "     .toPandas().head()"
   ]
  },
  {
   "cell_type": "code",
   "execution_count": null,
   "metadata": {},
   "outputs": [],
   "source": []
  },
  {
   "cell_type": "code",
   "execution_count": null,
   "metadata": {},
   "outputs": [],
   "source": []
  },
  {
   "cell_type": "code",
   "execution_count": null,
   "metadata": {},
   "outputs": [],
   "source": []
  },
  {
   "cell_type": "code",
   "execution_count": null,
   "metadata": {},
   "outputs": [],
   "source": []
  },
  {
   "cell_type": "code",
   "execution_count": null,
   "metadata": {},
   "outputs": [],
   "source": []
  },
  {
   "cell_type": "code",
   "execution_count": null,
   "metadata": {},
   "outputs": [],
   "source": []
  },
  {
   "cell_type": "code",
   "execution_count": null,
   "metadata": {},
   "outputs": [],
   "source": []
  },
  {
   "cell_type": "code",
   "execution_count": null,
   "metadata": {},
   "outputs": [],
   "source": []
  },
  {
   "cell_type": "code",
   "execution_count": null,
   "metadata": {},
   "outputs": [],
   "source": []
  },
  {
   "cell_type": "code",
   "execution_count": null,
   "metadata": {},
   "outputs": [],
   "source": []
  },
  {
   "cell_type": "code",
   "execution_count": null,
   "metadata": {},
   "outputs": [],
   "source": []
  },
  {
   "cell_type": "code",
   "execution_count": null,
   "metadata": {},
   "outputs": [],
   "source": []
  },
  {
   "cell_type": "code",
   "execution_count": null,
   "metadata": {},
   "outputs": [],
   "source": []
  },
  {
   "cell_type": "code",
   "execution_count": null,
   "metadata": {},
   "outputs": [],
   "source": []
  },
  {
   "cell_type": "code",
   "execution_count": null,
   "metadata": {},
   "outputs": [],
   "source": []
  },
  {
   "cell_type": "code",
   "execution_count": null,
   "metadata": {},
   "outputs": [],
   "source": []
  },
  {
   "cell_type": "code",
   "execution_count": null,
   "metadata": {},
   "outputs": [],
   "source": []
  },
  {
   "cell_type": "code",
   "execution_count": null,
   "metadata": {},
   "outputs": [],
   "source": []
  },
  {
   "cell_type": "code",
   "execution_count": null,
   "metadata": {},
   "outputs": [],
   "source": []
  },
  {
   "cell_type": "code",
   "execution_count": null,
   "metadata": {},
   "outputs": [],
   "source": []
  },
  {
   "cell_type": "code",
   "execution_count": null,
   "metadata": {},
   "outputs": [],
   "source": []
  },
  {
   "cell_type": "code",
   "execution_count": null,
   "metadata": {},
   "outputs": [],
   "source": []
  },
  {
   "cell_type": "code",
   "execution_count": null,
   "metadata": {},
   "outputs": [],
   "source": []
  },
  {
   "cell_type": "code",
   "execution_count": null,
   "metadata": {},
   "outputs": [],
   "source": []
  },
  {
   "cell_type": "code",
   "execution_count": null,
   "metadata": {},
   "outputs": [],
   "source": []
  },
  {
   "cell_type": "code",
   "execution_count": null,
   "metadata": {},
   "outputs": [],
   "source": []
  },
  {
   "cell_type": "code",
   "execution_count": null,
   "metadata": {},
   "outputs": [],
   "source": []
  },
  {
   "cell_type": "code",
   "execution_count": null,
   "metadata": {},
   "outputs": [],
   "source": []
  },
  {
   "cell_type": "code",
   "execution_count": null,
   "metadata": {},
   "outputs": [],
   "source": []
  },
  {
   "cell_type": "code",
   "execution_count": null,
   "metadata": {},
   "outputs": [],
   "source": []
  },
  {
   "cell_type": "code",
   "execution_count": null,
   "metadata": {},
   "outputs": [],
   "source": []
  },
  {
   "cell_type": "code",
   "execution_count": null,
   "metadata": {},
   "outputs": [],
   "source": []
  },
  {
   "cell_type": "code",
   "execution_count": null,
   "metadata": {},
   "outputs": [],
   "source": []
  },
  {
   "cell_type": "code",
   "execution_count": null,
   "metadata": {},
   "outputs": [],
   "source": []
  },
  {
   "cell_type": "code",
   "execution_count": null,
   "metadata": {},
   "outputs": [],
   "source": []
  },
  {
   "cell_type": "code",
   "execution_count": null,
   "metadata": {},
   "outputs": [],
   "source": []
  },
  {
   "cell_type": "code",
   "execution_count": null,
   "metadata": {},
   "outputs": [],
   "source": []
  },
  {
   "cell_type": "code",
   "execution_count": null,
   "metadata": {},
   "outputs": [],
   "source": []
  },
  {
   "cell_type": "code",
   "execution_count": null,
   "metadata": {},
   "outputs": [],
   "source": []
  },
  {
   "cell_type": "code",
   "execution_count": null,
   "metadata": {},
   "outputs": [],
   "source": []
  },
  {
   "cell_type": "code",
   "execution_count": null,
   "metadata": {},
   "outputs": [],
   "source": []
  },
  {
   "cell_type": "code",
   "execution_count": null,
   "metadata": {},
   "outputs": [],
   "source": []
  },
  {
   "cell_type": "code",
   "execution_count": null,
   "metadata": {},
   "outputs": [],
   "source": []
  },
  {
   "cell_type": "code",
   "execution_count": null,
   "metadata": {},
   "outputs": [],
   "source": []
  },
  {
   "cell_type": "code",
   "execution_count": null,
   "metadata": {},
   "outputs": [],
   "source": []
  },
  {
   "cell_type": "code",
   "execution_count": null,
   "metadata": {},
   "outputs": [],
   "source": []
  },
  {
   "cell_type": "code",
   "execution_count": null,
   "metadata": {},
   "outputs": [],
   "source": []
  },
  {
   "cell_type": "code",
   "execution_count": null,
   "metadata": {},
   "outputs": [],
   "source": []
  },
  {
   "cell_type": "code",
   "execution_count": null,
   "metadata": {},
   "outputs": [],
   "source": []
  },
  {
   "cell_type": "code",
   "execution_count": null,
   "metadata": {},
   "outputs": [],
   "source": []
  },
  {
   "cell_type": "code",
   "execution_count": null,
   "metadata": {},
   "outputs": [],
   "source": []
  },
  {
   "cell_type": "code",
   "execution_count": null,
   "metadata": {},
   "outputs": [],
   "source": []
  },
  {
   "cell_type": "code",
   "execution_count": null,
   "metadata": {},
   "outputs": [],
   "source": []
  },
  {
   "cell_type": "code",
   "execution_count": null,
   "metadata": {},
   "outputs": [],
   "source": []
  },
  {
   "cell_type": "code",
   "execution_count": null,
   "metadata": {},
   "outputs": [],
   "source": []
  },
  {
   "cell_type": "code",
   "execution_count": null,
   "metadata": {},
   "outputs": [],
   "source": []
  },
  {
   "cell_type": "code",
   "execution_count": null,
   "metadata": {},
   "outputs": [],
   "source": []
  },
  {
   "cell_type": "code",
   "execution_count": null,
   "metadata": {},
   "outputs": [],
   "source": []
  },
  {
   "cell_type": "code",
   "execution_count": null,
   "metadata": {},
   "outputs": [],
   "source": []
  },
  {
   "cell_type": "code",
   "execution_count": null,
   "metadata": {},
   "outputs": [],
   "source": []
  },
  {
   "cell_type": "code",
   "execution_count": null,
   "metadata": {},
   "outputs": [],
   "source": []
  },
  {
   "cell_type": "code",
   "execution_count": null,
   "metadata": {},
   "outputs": [],
   "source": []
  },
  {
   "cell_type": "code",
   "execution_count": null,
   "metadata": {},
   "outputs": [],
   "source": []
  },
  {
   "cell_type": "code",
   "execution_count": null,
   "metadata": {},
   "outputs": [],
   "source": []
  },
  {
   "cell_type": "code",
   "execution_count": null,
   "metadata": {},
   "outputs": [],
   "source": []
  },
  {
   "cell_type": "code",
   "execution_count": null,
   "metadata": {},
   "outputs": [],
   "source": []
  },
  {
   "cell_type": "code",
   "execution_count": null,
   "metadata": {},
   "outputs": [],
   "source": []
  },
  {
   "cell_type": "code",
   "execution_count": null,
   "metadata": {},
   "outputs": [],
   "source": []
  },
  {
   "cell_type": "code",
   "execution_count": null,
   "metadata": {},
   "outputs": [],
   "source": []
  },
  {
   "cell_type": "code",
   "execution_count": null,
   "metadata": {},
   "outputs": [],
   "source": []
  },
  {
   "cell_type": "code",
   "execution_count": null,
   "metadata": {},
   "outputs": [],
   "source": []
  },
  {
   "cell_type": "code",
   "execution_count": null,
   "metadata": {},
   "outputs": [],
   "source": []
  },
  {
   "cell_type": "code",
   "execution_count": null,
   "metadata": {},
   "outputs": [],
   "source": []
  },
  {
   "cell_type": "code",
   "execution_count": null,
   "metadata": {},
   "outputs": [],
   "source": []
  }
 ],
 "metadata": {
  "kernelspec": {
   "display_name": "Python 3 (ipykernel)",
   "language": "python",
   "name": "python3"
  },
  "language_info": {
   "codemirror_mode": {
    "name": "ipython",
    "version": 3
   },
   "file_extension": ".py",
   "mimetype": "text/x-python",
   "name": "python",
   "nbconvert_exporter": "python",
   "pygments_lexer": "ipython3",
   "version": "3.10.0"
  },
  "toc": {
   "base_numbering": 1,
   "nav_menu": {},
   "number_sections": true,
   "sideBar": true,
   "skip_h1_title": false,
   "title_cell": "Table of Contents",
   "title_sidebar": "Contents",
   "toc_cell": true,
   "toc_position": {},
   "toc_section_display": true,
   "toc_window_display": true
  }
 },
 "nbformat": 4,
 "nbformat_minor": 4
}

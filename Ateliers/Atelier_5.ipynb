{
 "cells": [
  {
   "cell_type": "markdown",
   "metadata": {},
   "source": [
    "# Exercice n° 1"
   ]
  },
  {
   "cell_type": "markdown",
   "metadata": {},
   "source": [
    "## 5.1.1\n",
    "Écrivez un petit script qui affiche une table des codes ASCII. Le programme doit afficher tous les caractères en regard des codes correspondants. À partir de cette table, établissez la relation numérique simple reliant chaque caractère majuscule au caractère minuscule correspondant."
   ]
  },
  {
   "cell_type": "markdown",
   "metadata": {},
   "source": [
    "## 5.1.2\n",
    "Écrivez un script qui recopie un fichier texte ou binaire en remplaçant tous ses espaces par le groupe de trois caractères -*-. Le fichier à copier sera fourni encodé selon la norme Latin-1, et le fichier destinataire devra être encodé en Utf-8. Le type du fichier source et les noms des 2 fichiers seront demandés en début de script."
   ]
  },
  {
   "cell_type": "markdown",
   "metadata": {},
   "source": [
    "## 5.1.3\n",
    "Écrivez une fonction « voyelle », qui renvoie vrai si le caractère fourni en argument est une voyelle. Écrivez une fonction « compteVoyelles », qui renvoie le nombre de voyelles contenues dans une phrase donnée."
   ]
  },
  {
   "cell_type": "markdown",
   "metadata": {},
   "source": [
    "## 5.1.4\n",
    "Explorez la gamme des caractères Unicode disponibles sur votre ordinateur, à l’aide de boucles de programmes similaires à celle que nous avons nous-mêmes utilisée pour afficher l’alphabet grec. Trouvez ainsi les codes correspondant à l’alphabet cyrillique, et écrivez un script qui affiche celui-ci en majuscules et en minuscules.\n",
    "\n",
    "c = 1040 # code du premier caractère (majuscule)"
   ]
  },
  {
   "cell_type": "markdown",
   "metadata": {},
   "source": [
    "# Exercice n° 2"
   ]
  },
  {
   "cell_type": "markdown",
   "metadata": {},
   "source": [
    "## 5.2.1 \n",
    "Écrivez un script qui génère la liste des carrés et des cubes des nombres de 20 à 40."
   ]
  },
  {
   "cell_type": "markdown",
   "metadata": {},
   "source": [
    "## 5.2.2 \n",
    "Soit la liste suivante : ['Jean-Michel', 'Marc', 'Vanessa', 'Anne', 'Maximilien', 'Alexandre-Benoît', 'Louise']. Écrivez un script qui affiche chacun de ces noms avec le nombre de caractères correspondant."
   ]
  },
  {
   "cell_type": "markdown",
   "metadata": {},
   "source": [
    "## 5.2.3\n",
    "Vous disposez d’une liste de nombres entiers quelconques, certains d’entre eux étant présents en plusieurs exemplaires. Écrivez un script qui recopie cette liste dans une autre, en omettant les doublons. La liste finale devra être triée."
   ]
  },
  {
   "cell_type": "markdown",
   "metadata": {},
   "source": [
    "## 5.2.4 \n",
    "Écrivez un script qui recherche le mot le plus long dans une phrase donnée (l’utilisateur du programme doit pouvoir entrer une phrase de son choix)."
   ]
  },
  {
   "cell_type": "markdown",
   "metadata": {},
   "source": [
    "## 5.2.5 \n",
    "Écrivez un script capable d’afficher la liste de tous les jours d’une année imaginaire, laquelle commencerait un jeudi. Votre script utilisera lui-même trois listes : une liste des noms de jours de la semaine, une liste des noms des mois, et une liste des nombres de jours que comportent chacun des mois (ne pas tenir compte des années bissextiles)."
   ]
  },
  {
   "cell_type": "markdown",
   "metadata": {},
   "source": [
    "## 5.2.6 \n",
    "Écrivez une fonction permettant de trier une liste. Cette fonction ne pourra pas utiliser la méthode intégrée « sort » de Python : vous devez donc définir vous-même l’algorithme de tri.\n",
    "\n",
    "Le principe du tri à bulles est de comparer deux valeurs adjacentes et d'inverser leur position si elles sont mal placées.\n",
    "- 6 0 3 5 1 4 2   // On compare 6 et 0 : on inverse\n",
    "- 0 6 3 5 1 4 2   // On compare 6 et 3 : on inverse\n",
    "- 0 3 6 5 1 4 2   // On compare 6 et 5 : on inverse\n",
    "- 0 3 5 6 1 4 2   // On compare 6 et 1 : on inverse\n",
    "- 0 3 5 1 6 4 2   // On compare 6 et 4 : on inverse\n",
    "- 0 3 5 1 4 6 2   // On compare 6 et 2 : on inverse\n",
    "- 0 3 5 1 4 2 6   // Nous avons terminé notre premier passage\n",
    "\n",
    "..."
   ]
  },
  {
   "cell_type": "markdown",
   "metadata": {},
   "source": [
    "## 5.2.7\n",
    "Soient les listes suivantes :\n",
    "- t1=[31,28,31,30,31,30,31,31,30,31,30,31]\n",
    "- t2=['Janvier','Février','Mars','Avril','Mai','Juin','Juillet','Août','Septembre','Octobre','Novembre','Décembre']\n",
    "\n",
    "Écrivez un petit programme qui insère dans la seconde liste tous les éléments de la première, de telle sorte que chaque nom de mois soit suivi du nombre de jours correspondant."
   ]
  },
  {
   "cell_type": "markdown",
   "metadata": {},
   "source": [
    "# Exercice n° 3"
   ]
  },
  {
   "cell_type": "markdown",
   "metadata": {},
   "source": [
    "## 5.3.1 \n",
    "Créez une liste A contenant quelques éléments. Effectuez une vraie copie de cette liste dans une nouvelle variable B. Options : \n",
    "- créez d’abord une liste B de même taille que A mais ne contenant que des zéros. Remplacez ensuite tous ces zéros par les éléments tirés de A.\n",
    "- créez d’abord une liste B vide. Remplissez-la ensuite à l’aide des éléments de A ajoutés l’un après l’autre.\n",
    "- créer la liste B en affectant une tranche incluant tous les éléments de la liste A (à l’aide de l’opérateur [ : ] )"
   ]
  },
  {
   "cell_type": "markdown",
   "metadata": {},
   "source": [
    "## 5.3.2\n",
    "Un nombre premier est un nombre qui n’est divisible que par un et par lui-même. Écrivez un programme qui établit la liste de tous les nombres premiers compris entre 1 et 1000, en utilisant la méthode du crible d’Eratosthène :\n",
    "- Créez une liste de 1000 éléments, chacun initialisé à la valeur 1.\n",
    "- Parcourez cette liste à partir de l’élément d’indice 2 : si l’élément analysé possède la valeur 1, mettez à zéro tous les autres éléments de la liste, dont les indices sont des multiples entiers de l’indice auquel vous êtes arrivé.\n",
    "\n",
    "Lorsque vous aurez parcouru ainsi toute la liste, les indices des éléments qui seront restés à 1 seront les nombres premiers recherchés."
   ]
  },
  {
   "cell_type": "markdown",
   "metadata": {},
   "source": [
    "## 5.3.3\n",
    "Écrivez une fonction « list_aleat » qui permette de créer une liste de nombres réels aléatoires, en utilisant la méthode « append » pour construire la liste petit à petit à partir d’une liste vide."
   ]
  },
  {
   "cell_type": "markdown",
   "metadata": {},
   "source": [
    "## 5.3.4 \n",
    "Écrivez une fonction « imprime_liste » qui permette d’afficher ligne par ligne tous les éléments contenus dans une liste de taille quelconque. Le nom de la liste sera fourni en argument. Utilisez cette fonction pour imprimer la liste de nombres aléatoires générés par la fonction « list_aleat »."
   ]
  },
  {
   "cell_type": "markdown",
   "metadata": {},
   "source": [
    "# Exercice n° 4"
   ]
  },
  {
   "cell_type": "markdown",
   "metadata": {},
   "source": [
    "## 5.4.1\n",
    "Écrivez un script qui crée un mini-système de base de données fonctionnant à l’aide d’un dictionnaire, dans lequel vous mémoriserez les noms d’une série de copains, leur âge et leur taille. Votre script devra comporter deux fonctions : la première pour le remplissage du dictionnaire, et la seconde pour sa consultation. Dans la fonction de remplissage, utilisez une boucle pour accepter les données entrées par l’utilisateur.\n",
    "\n",
    "Écrivez un script qui crée un mini-système de base de données fonctionnant à l’aide d’un dictionnaire, dans lequel vous mémoriserez les noms d’une série de copains, leur âge et leur taille. Votre script devra comporter deux fonctions : la première pour le remplissage du dictionnaire, et la seconde pour sa consultation. Dans la fonction de remplissage, utilisez une boucle pour accepter les données entrées par l’utilisateur.\n",
    "\n",
    "La fonction de consultation comportera elle aussi une boucle, dans laquelle l’utilisateur pourra fournir un nom quelconque pour obtenir en retour le couple (âge,taille) correspondant. Le résultat de la requête devra être une ligne de texte bien formatée, telle par exemple : Nom : Jean Dupont - âge : 15 ans - taille : 1.74 m.\n",
    "\n",
    "Il faut pouvoir enregistrer le dictionnaire résultant dans un fichier texte, et également de reconstituer le dictionnaire à partir du fichier correspondant. Chaque ligne de votre fichier texte correspondra à un élément du dictionnaire et elle sera formatée de manière à bien séparer la clé et la valeur."
   ]
  }
 ],
 "metadata": {
  "kernelspec": {
   "display_name": "Python 3",
   "language": "python",
   "name": "python3"
  },
  "language_info": {
   "codemirror_mode": {
    "name": "ipython",
    "version": 3
   },
   "file_extension": ".py",
   "mimetype": "text/x-python",
   "name": "python",
   "nbconvert_exporter": "python",
   "pygments_lexer": "ipython3",
   "version": "3.6.5"
  }
 },
 "nbformat": 4,
 "nbformat_minor": 2
}

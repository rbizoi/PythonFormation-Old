{
 "cells": [
  {
   "cell_type": "markdown",
   "metadata": {},
   "source": [
    "## 2.1.2\n",
    "Écrivez un programme qui affiche les 20 premiers termes de la table de multiplication par 7, en signalant au passage, à l’aide d’un astérisque, ceux qui sont des multiples de 3. Exemple : 7 14 21 x 28 35 42 x 49 ..."
   ]
  },
  {
   "cell_type": "code",
   "execution_count": 2,
   "metadata": {},
   "outputs": [
    {
     "name": "stdout",
     "output_type": "stream",
     "text": [
      "7 14 21 * 28 35 42 * 49 56 63 * 70 77 84 * 91 98 105 * 112 119 126 * 133 140 "
     ]
    }
   ],
   "source": [
    "i = 1 # compteur : prendra successivement les valeurs de 1 à 20\n",
    "while i < 21:\n",
    "    # calcul du terme à afficher :\n",
    "    t = i * 7\n",
    "    # affichage sans saut à la ligne (utilisation de la virgule) :\n",
    "    print(t, end =' ')\n",
    "    # ce terme est-il un multiple de 3 ? (utilisation de l'opérateur modulo) :\n",
    "    if t % 3 == 0:\n",
    "        print(\"*\", end =' ') # affichage d'une astérisque dans ce cas\n",
    "    i = i + 1 # incrémentation du compteur dans tous les cas"
   ]
  },
  {
   "cell_type": "code",
   "execution_count": 3,
   "metadata": {},
   "outputs": [
    {
     "name": "stdout",
     "output_type": "stream",
     "text": [
      "7 14 * 28 35 * 49 56 * 70 77 * 91 98 * 112 119 * 133 140 "
     ]
    }
   ],
   "source": [
    "for i in range(1,21):\n",
    "    t = i * 7 \n",
    "    if t % 3 == 0:\n",
    "        print(\"*\", end =' ')\n",
    "    else :\n",
    "        print(t, end =' ')\n",
    "    "
   ]
  },
  {
   "cell_type": "code",
   "execution_count": 4,
   "metadata": {},
   "outputs": [
    {
     "name": "stdout",
     "output_type": "stream",
     "text": [
      "7 14 *  21 28 35 *  42 49 56 *  63 70 77 *  84 91 98 *  105 112 119 *  126 133 140 "
     ]
    }
   ],
   "source": [
    "for i in range(7,7*21,7):\n",
    "    if i % 3 == 0:\n",
    "        print(\"* \",i, end =' ')\n",
    "    else :\n",
    "        print(i, end =' ')\n"
   ]
  }
 ],
 "metadata": {
  "kernelspec": {
   "display_name": "Python 3",
   "language": "python",
   "name": "python3"
  },
  "language_info": {
   "codemirror_mode": {
    "name": "ipython",
    "version": 3
   },
   "file_extension": ".py",
   "mimetype": "text/x-python",
   "name": "python",
   "nbconvert_exporter": "python",
   "pygments_lexer": "ipython3",
   "version": "3.6.5"
  }
 },
 "nbformat": 4,
 "nbformat_minor": 2
}

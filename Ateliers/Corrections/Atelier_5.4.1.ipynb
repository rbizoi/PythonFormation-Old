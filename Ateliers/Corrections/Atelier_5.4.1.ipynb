{
 "cells": [
  {
   "cell_type": "markdown",
   "metadata": {},
   "source": [
    "## 5.4.1\n",
    "Écrivez un script qui crée un mini-système de base de données fonctionnant à l’aide d’un dictionnaire, dans lequel vous mémoriserez les noms d’une série de copains, leur âge et leur taille. Votre script devra comporter deux fonctions : la première pour le remplissage du dictionnaire, et la seconde pour sa consultation. Dans la fonction de remplissage, utilisez une boucle pour accepter les données entrées par l’utilisateur.\n",
    "\n",
    "Écrivez un script qui crée un mini-système de base de données fonctionnant à l’aide d’un dictionnaire, dans lequel vous mémoriserez les noms d’une série de copains, leur âge et leur taille. Votre script devra comporter deux fonctions : la première pour le remplissage du dictionnaire, et la seconde pour sa consultation. Dans la fonction de remplissage, utilisez une boucle pour accepter les données entrées par l’utilisateur.\n",
    "\n",
    "La fonction de consultation comportera elle aussi une boucle, dans laquelle l’utilisateur pourra fournir un nom quelconque pour obtenir en retour le couple (âge,taille) correspondant. Le résultat de la requête devra être une ligne de texte bien formatée, telle par exemple : Nom : Jean Dupont - âge : 15 ans - taille : 1.74 m.\n",
    "\n",
    "Il faut pouvoir enregistrer le dictionnaire résultant dans un fichier texte, et également de reconstituer le dictionnaire à partir du fichier correspondant. Chaque ligne de votre fichier texte correspondra à un élément du dictionnaire et elle sera formatée de manière à bien séparer la clé et la valeur."
   ]
  },
  {
   "cell_type": "code",
   "execution_count": 2,
   "metadata": {},
   "outputs": [],
   "source": [
    "def affichage():\n",
    "    for nom in dico :\n",
    "            print(\"Nom : {0} - âge : {1} ans - taille : {2} m.\".\\\n",
    "            format(nom, dico[nom][0], dico[nom][1]))"
   ]
  },
  {
   "cell_type": "code",
   "execution_count": 3,
   "metadata": {},
   "outputs": [],
   "source": [
    "def consultation():\n",
    "    while 1:\n",
    "        nom = input(\"Entrez le nom (ou <enter> pour terminer) : \")\n",
    "        if nom == \"\":\n",
    "            break\n",
    "        if nom in dico:             # le nom est-il répertorié ?\n",
    "            item = dico[nom]        # consultation proprement dite\n",
    "            age, taille = item[0], item[1]\n",
    "            print(\"Nom : {0} - âge : {1} ans - taille : {2} m.\".\\\n",
    "            format(nom, age, taille))\n",
    "        else:\n",
    "            print(\"*** nom inconnu ! ***\")"
   ]
  },
  {
   "cell_type": "code",
   "execution_count": 4,
   "metadata": {},
   "outputs": [],
   "source": [
    "def remplissage():\n",
    "    while 1:\n",
    "        nom = input(\"Entrez le nom (ou <enter> pour terminer) : \")\n",
    "        if nom == \"\":\n",
    "            break\n",
    "        age = int(input(\"Entrez l'âge (nombre entier !) : \"))\n",
    "        taille = float(input(\"Entrez la taille (en mètres) : \"))\n",
    "        dico[nom] = (age, taille)"
   ]
  },
  {
   "cell_type": "code",
   "execution_count": 5,
   "metadata": {},
   "outputs": [],
   "source": [
    "def enregistrement():\n",
    "    fich = input(\"Entrez le nom du fichier de sauvegarde : \")\n",
    "    with open(fich, \"w\") as ofi:\n",
    "        # écriture d'une ligne-repère pour identifier le type de fichier :\n",
    "        ofi.write(\"Dictionnaire Atelier 5.4.1\\n\")\n",
    "        # parcours du dictionnaire entier, converti au préalable en une liste :\n",
    "        for cle, valeur in list(dico.items()):\n",
    "            # utilisation du formatage des chaînes pour créer l'enregistrement :\n",
    "            ofi.write(f\"\\'{cle}\\',{valeur}\\n\")"
   ]
  },
  {
   "cell_type": "code",
   "execution_count": 6,
   "metadata": {},
   "outputs": [],
   "source": [
    "def lectureFichier():\n",
    "    from os import path\n",
    "    fich = \"\"\n",
    "    while not path.isfile(fich) :\n",
    "        fich = input(\"Entrez le nom du fichier de sauvegarde : \")\n",
    "\n",
    "    with open(fich, \"r\") as ofi:\n",
    "        # Vérification : le fichier est-il bien de notre type spécifique ? :\n",
    "        repere = ofi.readline()\n",
    "        if repere != \"Dictionnaire Atelier 5.4.1\\n\":\n",
    "            print(\"*** type de fichier incorrect ***\")\n",
    "            return\n",
    "        # Lecture des lignes restantes du fichier :\n",
    "        while 1:\n",
    "            ligne = ofi.readline()\n",
    "            if ligne == '':  # détection de la fin de fichier\n",
    "                break\n",
    "            cle,valeur = eval(ligne)\n",
    "            age, taille = int(valeur[0]), float(valeur[1])\n",
    "            dico[cle] = (age, taille)  # reconstitution du dictionnaire"
   ]
  },
  {
   "cell_type": "code",
   "execution_count": 7,
   "metadata": {},
   "outputs": [],
   "source": [
    "def sortie():\n",
    "    print(\"*** Job terminé ***\")\n",
    "    return 1 # afin de provoquer la sortie de la boucle"
   ]
  },
  {
   "cell_type": "code",
   "execution_count": 8,
   "metadata": {},
   "outputs": [],
   "source": [
    "def autre():\n",
    "    print(\"Veuillez frapper R, A, C, S ou T, svp.\")"
   ]
  },
  {
   "cell_type": "code",
   "execution_count": 9,
   "metadata": {},
   "outputs": [],
   "source": [
    "dico ={}\n",
    "fonc ={\"R\":lectureFichier,\"A\":remplissage,\\\n",
    "       \"C\":consultation,\"L\":affichage,\\\n",
    "       \"S\":enregistrement,\"T\":sortie}"
   ]
  },
  {
   "cell_type": "code",
   "execution_count": null,
   "metadata": {
    "collapsed": false,
    "jupyter": {
     "outputs_hidden": false
    }
   },
   "outputs": [],
   "source": [
    "while 1:\n",
    "    choix = input(\"Choisissez :\\n\" +\\\n",
    "        \"(R)écupérer un dictionnaire préexistant sauvegardé dans un fichier\\n\" +\\\n",
    "        \"(A)jouter des données au dictionnaire courant\\n\" +\\\n",
    "        \"(C)onsulter le dictionnaire courant\\n\" +\\\n",
    "        \"(L)ister le dictionnaire courant\\n\" +\\\n",
    "        \"(S)auvegarder le dictionnaire courant dans un fichier\\n\" +\\\n",
    "        \"(T)erminer : \").upper()\n",
    "    # l'instruction ci-dessous appelle une fonction différente pour chaque\n",
    "    # choix, par l'intermédiaire du dictionnaire <fonc> :\n",
    "    if fonc.get(choix, autre)():\n",
    "        break\n",
    "    # note : toutes les fonctions appelées ici renvoient <None> par défaut\n",
    "    # sauf la fonction sortie() qui renvoie 1 => sortie de la boucle"
   ]
  },
  {
   "cell_type": "code",
   "execution_count": 11,
   "metadata": {},
   "outputs": [
    {
     "data": {
      "text/plain": [
       "{'bizoi': (58, 1.81)}"
      ]
     },
     "execution_count": 11,
     "metadata": {},
     "output_type": "execute_result"
    }
   ],
   "source": [
    "dico"
   ]
  },
  {
   "cell_type": "code",
   "execution_count": 10,
   "metadata": {},
   "outputs": [
    {
     "name": "stdin",
     "output_type": "stream",
     "text": [
      "Choisissez :\n",
      "(R)écupérer un dictionnaire préexistant sauvegardé dans un fichier\n",
      "(A)jouter des données au dictionnaire courant\n",
      "(C)onsulter le dictionnaire courant\n",
      "(L)ister le dictionnaire courant\n",
      "(S)auvegarder le dictionnaire courant dans un fichier\n",
      "(T)erminer :  r\n",
      "Entrez le nom du fichier de sauvegarde :  ./donnees/dico.txt\n",
      "Choisissez :\n",
      "(R)écupérer un dictionnaire préexistant sauvegardé dans un fichier\n",
      "(A)jouter des données au dictionnaire courant\n",
      "(C)onsulter le dictionnaire courant\n",
      "(L)ister le dictionnaire courant\n",
      "(S)auvegarder le dictionnaire courant dans un fichier\n",
      "(T)erminer :  l\n"
     ]
    },
    {
     "name": "stdout",
     "output_type": "stream",
     "text": [
      "Nom : Bizoi - âge : 58 ans - taille : 1.81 m.\n",
      "Nom : Duluc - âge : 55 ans - taille : 1.62 m.\n"
     ]
    },
    {
     "name": "stdin",
     "output_type": "stream",
     "text": [
      "Choisissez :\n",
      "(R)écupérer un dictionnaire préexistant sauvegardé dans un fichier\n",
      "(A)jouter des données au dictionnaire courant\n",
      "(C)onsulter le dictionnaire courant\n",
      "(L)ister le dictionnaire courant\n",
      "(S)auvegarder le dictionnaire courant dans un fichier\n",
      "(T)erminer :  t\n"
     ]
    },
    {
     "name": "stdout",
     "output_type": "stream",
     "text": [
      "*** Job terminé ***\n"
     ]
    }
   ],
   "source": [
    "while 1:\n",
    "    choix = input(\"Choisissez :\\n\" +\\\n",
    "        \"(R)écupérer un dictionnaire préexistant sauvegardé dans un fichier\\n\" +\\\n",
    "        \"(A)jouter des données au dictionnaire courant\\n\" +\\\n",
    "        \"(C)onsulter le dictionnaire courant\\n\" +\\\n",
    "        \"(L)ister le dictionnaire courant\\n\" +\\\n",
    "        \"(S)auvegarder le dictionnaire courant dans un fichier\\n\" +\\\n",
    "        \"(T)erminer : \").upper()\n",
    "    # l'instruction ci-dessous appelle une fonction différente pour chaque\n",
    "    # choix, par l'intermédiaire du dictionnaire <fonc> :\n",
    "    if fonc.get(choix, autre)():\n",
    "        break\n",
    "    # note : toutes les fonctions appelées ici renvoient <None> par défaut\n",
    "    # sauf la fonction sortie() qui renvoie 1 => sortie de la boucle"
   ]
  }
 ],
 "metadata": {
  "kernelspec": {
   "display_name": "Python 3 (ipykernel)",
   "language": "python",
   "name": "python3"
  },
  "language_info": {
   "codemirror_mode": {
    "name": "ipython",
    "version": 3
   },
   "file_extension": ".py",
   "mimetype": "text/x-python",
   "name": "python",
   "nbconvert_exporter": "python",
   "pygments_lexer": "ipython3",
   "version": "3.10.0"
  }
 },
 "nbformat": 4,
 "nbformat_minor": 4
}

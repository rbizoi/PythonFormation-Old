{
 "cells": [
  {
   "cell_type": "markdown",
   "metadata": {},
   "source": [
    "## 4.1.1\n",
    "Écrivez un script qui permette de créer et de relire aisément un fichier texte. Votre programme demandera d’abord à l’utilisateur d’entrer le nom du fichier. Ensuite il lui proposera le choix, soit d’enregistrer de nouvelles lignes de texte, soit d’afficher le contenu du fichier."
   ]
  },
  {
   "cell_type": "code",
   "execution_count": 1,
   "metadata": {},
   "outputs": [],
   "source": [
    "def sansDC(ch):\n",
    "    \"cette fonction renvoie la chaîne ch amputée de son dernier caractère\"\n",
    "    nouv = \"\"\n",
    "    i, j = 0, len(ch) -1\n",
    "    while i < j:\n",
    "        nouv = nouv + ch[i]\n",
    "        i = i + 1\n",
    "    return nouv\n",
    "\n",
    "def ecrireDansFichier():\n",
    "    with open(nomF, 'a') as of:\n",
    "        while 1:\n",
    "            ligne = input(\"entrez une ligne de texte (ou <Enter>) : \")\n",
    "            if ligne == '':\n",
    "                break\n",
    "            else:\n",
    "                of.write(ligne + '\\n')\n",
    "\n",
    "def lireDansFichier():\n",
    "    with open(nomF, 'r') as of:\n",
    "        while 1:\n",
    "            ligne = of.readline()\n",
    "            if ligne == \"\":\n",
    "                break\n",
    "            # afficher en omettant le dernier caractère (= fin de ligne) :\n",
    "            print(sansDC(ligne))"
   ]
  },
  {
   "cell_type": "code",
   "execution_count": null,
   "metadata": {},
   "outputs": [],
   "source": [
    "!mkdir donnees"
   ]
  },
  {
   "cell_type": "code",
   "execution_count": 3,
   "metadata": {},
   "outputs": [
    {
     "name": "stdin",
     "output_type": "stream",
     "text": [
      "Nom du fichier à traiter :  ./donnees/NouveauFichier.txt\n",
      "Entrez \"e\" pour écrire, \"c\" pour consulter les données :  e\n",
      "entrez une ligne de texte (ou <Enter>) :  01 La premiere ligne\n",
      "entrez une ligne de texte (ou <Enter>) :  02 La deuxième\n",
      "entrez une ligne de texte (ou <Enter>) :  03 La troisieme\n",
      "entrez une ligne de texte (ou <Enter>) :  \n"
     ]
    }
   ],
   "source": [
    "nomF = input('Nom du fichier à traiter : ')\n",
    "choix = input('Entrez \"e\" pour écrire, \"c\" pour consulter les données : ')\n",
    "\n",
    "if choix =='e':\n",
    "    ecrireDansFichier()\n",
    "else:\n",
    "    lireDansFichier()"
   ]
  },
  {
   "cell_type": "code",
   "execution_count": 4,
   "metadata": {},
   "outputs": [
    {
     "name": "stdin",
     "output_type": "stream",
     "text": [
      "Nom du fichier à traiter :  ./donnees/NouveauFichier.txt\n",
      "Entrez \"e\" pour écrire, \"c\" pour consulter les données :  c\n"
     ]
    },
    {
     "name": "stdout",
     "output_type": "stream",
     "text": [
      "01 La premiere ligne\n",
      "02 La deuxième\n",
      "03 La troisieme\n"
     ]
    }
   ],
   "source": [
    "nomF = input('Nom du fichier à traiter : ')\n",
    "choix = input('Entrez \"e\" pour écrire, \"c\" pour consulter les données : ')\n",
    "\n",
    "if choix =='e':\n",
    "    ecrireDansFichier()\n",
    "else:\n",
    "    lireDansFichier()"
   ]
  }
 ],
 "metadata": {
  "kernelspec": {
   "display_name": "Python 3 (ipykernel)",
   "language": "python",
   "name": "python3"
  },
  "language_info": {
   "codemirror_mode": {
    "name": "ipython",
    "version": 3
   },
   "file_extension": ".py",
   "mimetype": "text/x-python",
   "name": "python",
   "nbconvert_exporter": "python",
   "pygments_lexer": "ipython3",
   "version": "3.10.0"
  }
 },
 "nbformat": 4,
 "nbformat_minor": 4
}

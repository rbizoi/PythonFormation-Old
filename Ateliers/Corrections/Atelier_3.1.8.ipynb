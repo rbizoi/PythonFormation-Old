{
 "cells": [
  {
   "cell_type": "markdown",
   "metadata": {},
   "source": [
    "## 3.1.8\n",
    "Définissez une fonction volBoite(x1,x2,x3) qui renvoie le volume d’une boîte parallélépipédique dont on fournit les trois dimensions x1, x2, x3 en arguments. La fonction doit pouvoir être appelée avec trois, deux, un seul, ou même aucun argument.\n",
    "- Si un seul est utilisé, la boîte est considérée comme cubique (l’argument étant l’arête de ce cube). \n",
    "- Si deux sont utilisés, la boîte est considérée comme un prisme à base carrée (auquel cas le premier argument est le côté du carré, et le second la hauteur du prisme). \n",
    "- Si trois arguments sont utilisés, la boîte est considérée comme un parallélépipède."
   ]
  },
  {
   "cell_type": "code",
   "execution_count": 3,
   "metadata": {
    "collapsed": true
   },
   "outputs": [],
   "source": [
    "def volBoite(x1 =-1, x2 =-1, x3 =-1):\n",
    "    \"Volume d'une boîte parallélipipédique\"\n",
    "    if x1 == -1 :\n",
    "        return 0 # aucun argument n'a été fourni\n",
    "    elif x2 == -1 :\n",
    "        return x1**3 # un seul argument -> boîte cubique\n",
    "    elif x3 == -1 :\n",
    "        return x1*x1*x2 # deux arguments -> boîte prismatique\n",
    "    else :\n",
    "        return x1*x2*x3"
   ]
  },
  {
   "cell_type": "code",
   "execution_count": 4,
   "metadata": {
    "collapsed": false
   },
   "outputs": [
    {
     "name": "stdout",
     "output_type": "stream",
     "text": [
      "0\n",
      "140.608\n",
      "81.12\n",
      "115.44000000000001\n"
     ]
    }
   ],
   "source": [
    "# test :\n",
    "print(volBoite())\n",
    "print(volBoite(5.2))\n",
    "print(volBoite(5.2, 3))\n",
    "print(volBoite(5.2, 3, 7.4))"
   ]
  }
 ],
 "metadata": {
  "kernelspec": {
   "display_name": "Python 3",
   "language": "python",
   "name": "python3"
  },
  "language_info": {
   "codemirror_mode": {
    "name": "ipython",
    "version": 3
   },
   "file_extension": ".py",
   "mimetype": "text/x-python",
   "name": "python",
   "nbconvert_exporter": "python",
   "pygments_lexer": "ipython3",
   "version": "3.6.0"
  }
 },
 "nbformat": 4,
 "nbformat_minor": 2
}

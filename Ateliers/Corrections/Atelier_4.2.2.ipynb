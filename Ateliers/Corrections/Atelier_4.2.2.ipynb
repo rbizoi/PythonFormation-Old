{
 "cells": [
  {
   "cell_type": "markdown",
   "metadata": {},
   "source": [
    "## 4.2.2\n",
    "Écrivez un script qui compare les contenus de deux fichiers et signale la première différence rencontrée."
   ]
  },
  {
   "cell_type": "code",
   "execution_count": 2,
   "metadata": {},
   "outputs": [
    {
     "name": "stdout",
     "output_type": "stream",
     "text": [
      "Nom du premier fichier : H:\\ScriptsPython\\NouveauFichier.txt\n",
      "Nom du second fichier : H:\\ScriptsPython\\NouveauFichier1.txt\n",
      "Ces 2 fichiers diffèrent à partir du caractère n° 36\n"
     ]
    }
   ],
   "source": [
    "# Comparaison de deux fichiers, caractère par caractère :\n",
    "fich1 = input(\"Nom du premier fichier : \")\n",
    "fich2 = input(\"Nom du second fichier : \")\n",
    "fi1 = open(fich1, 'r')\n",
    "fi2 = open(fich2, 'r')\n",
    "c, f = 0, 0 # compteur de caractères et \"drapeau\"\n",
    "while 1:\n",
    "    c = c + 1\n",
    "    car1 = fi1.read(1) # lecture d'un caractère dans chacun\n",
    "    car2 = fi2.read(1) # des deux fichiers\n",
    "    if car1 ==\"\" or car2 ==\"\":\n",
    "        break\n",
    "    if car1 != car2 :\n",
    "        f = 1\n",
    "        break # différence trouvée\n",
    "    \n",
    "fi1.close()\n",
    "fi2.close()\n",
    "print(\"Ces 2 fichiers\", end=' ')\n",
    "if f ==1:\n",
    "    print(\"diffèrent à partir du caractère n°\", c)\n",
    "else:\n",
    "    print(\"sont identiques.\")"
   ]
  },
  {
   "cell_type": "code",
   "execution_count": 3,
   "metadata": {},
   "outputs": [
    {
     "name": "stdin",
     "output_type": "stream",
     "text": [
      "Nom du premier fichier :  F:\\PythonFormation\\Presentations\\donnees\\FichiertexteOutput.txt\n",
      "Nom du second fichier :  F:\\PythonFormation\\Presentations\\donnees\\FichiertexteOutput1.txt\n"
     ]
    },
    {
     "name": "stdout",
     "output_type": "stream",
     "text": [
      "Ces 2 fichiers diffèrent à partir du caractère n° 62\n"
     ]
    }
   ],
   "source": [
    "fich1 = input(\"Nom du premier fichier : \")\n",
    "fich2 = input(\"Nom du second fichier : \")\n",
    "c, f = 0, 0 # compteur de caractères et \"drapeau\"\n",
    "with open(fich1, 'r') as fichier1, open(fich2, 'r') as fichier2:\n",
    "    while 1:\n",
    "        c = c + 1\n",
    "        car1 = fichier1.read(1) # lecture d'un caractère dans chacun\n",
    "        car2 = fichier2.read(1) # des deux fichiers\n",
    "        if car1 ==\"\" or car2 ==\"\":\n",
    "            break\n",
    "        if car1 != car2 :\n",
    "            f = 1\n",
    "            break # différence trouvée\n",
    "            \n",
    "print(\"Ces 2 fichiers\", end=' ')\n",
    "if f ==1:\n",
    "    print(\"diffèrent à partir du caractère n°\", c)\n",
    "else:\n",
    "    print(\"sont identiques.\")\n",
    "    "
   ]
  }
 ],
 "metadata": {
  "kernelspec": {
   "display_name": "Python 3 (ipykernel)",
   "language": "python",
   "name": "python3"
  },
  "language_info": {
   "codemirror_mode": {
    "name": "ipython",
    "version": 3
   },
   "file_extension": ".py",
   "mimetype": "text/x-python",
   "name": "python",
   "nbconvert_exporter": "python",
   "pygments_lexer": "ipython3",
   "version": "3.10.0"
  }
 },
 "nbformat": 4,
 "nbformat_minor": 4
}

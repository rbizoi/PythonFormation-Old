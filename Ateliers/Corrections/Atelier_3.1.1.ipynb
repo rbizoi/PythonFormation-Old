{
 "cells": [
  {
   "cell_type": "markdown",
   "metadata": {},
   "source": [
    "## 3.1.1\n",
    "Définissez une fonction compteCar(ca,ch) qui renvoie le nombre de fois que l’on rencontre le caractère ca dans la chaîne de caractères ch."
   ]
  },
  {
   "cell_type": "code",
   "execution_count": 1,
   "metadata": {
    "scrolled": true
   },
   "outputs": [
    {
     "name": "stdout",
     "output_type": "stream",
     "text": [
      "R\n",
      "e\n",
      "n\n",
      "v\n",
      "o\n",
      "i\n",
      "e\n",
      " \n",
      "l\n",
      "e\n",
      " \n",
      "n\n",
      "o\n",
      "m\n",
      "b\n",
      "r\n",
      "e\n",
      " \n",
      "d\n",
      "e\n",
      " \n",
      "c\n",
      "a\n",
      "r\n",
      "a\n",
      "c\n",
      "t\n",
      "è\n",
      "r\n",
      "e\n",
      "s\n",
      " \n",
      "c\n",
      "a\n",
      " \n",
      "t\n",
      "r\n",
      "o\n",
      "u\n",
      "v\n",
      "é\n",
      "s\n",
      " \n",
      "d\n",
      "a\n",
      "n\n",
      "s\n",
      " \n",
      "l\n",
      "a\n",
      " \n",
      "c\n",
      "h\n",
      "a\n",
      "î\n",
      "n\n",
      "e\n",
      " \n",
      "c\n",
      "h\n"
     ]
    }
   ],
   "source": [
    "t = \"Renvoie le nombre de caractères ca trouvés dans la chaîne ch\"\n",
    "for i in t :\n",
    "    print(i)"
   ]
  },
  {
   "cell_type": "code",
   "execution_count": 1,
   "metadata": {},
   "outputs": [],
   "source": [
    "def compteCar(ca, ch):\n",
    "    \"Renvoie le nombre de caractères ca trouvés dans la chaîne ch\"\n",
    "    i, tot = 0, 0\n",
    "    while i < len(ch):\n",
    "        if ch[i] == ca:\n",
    "            tot = tot + 1\n",
    "        i = i + 1\n",
    "    return tot"
   ]
  },
  {
   "cell_type": "code",
   "execution_count": 2,
   "metadata": {},
   "outputs": [
    {
     "name": "stdout",
     "output_type": "stream",
     "text": [
      "7\n"
     ]
    }
   ],
   "source": [
    "# test :\n",
    "print(compteCar(\"e\",\"Cette chaîne est un exemple\"))"
   ]
  }
 ],
 "metadata": {
  "kernelspec": {
   "display_name": "Python 3 (ipykernel)",
   "language": "python",
   "name": "python3"
  },
  "language_info": {
   "codemirror_mode": {
    "name": "ipython",
    "version": 3
   },
   "file_extension": ".py",
   "mimetype": "text/x-python",
   "name": "python",
   "nbconvert_exporter": "python",
   "pygments_lexer": "ipython3",
   "version": "3.10.0"
  }
 },
 "nbformat": 4,
 "nbformat_minor": 4
}

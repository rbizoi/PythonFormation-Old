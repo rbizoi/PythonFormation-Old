{
 "cells": [
  {
   "cell_type": "markdown",
   "metadata": {},
   "source": [
    "## 4.2.5\n",
    "Écrivez un script qui recopie le fichier utilisé dans l’exercice précédent, en y ajoutant la date de naissance et le sexe des personnes (l’ordinateur devra afficher les lignes une par une et demander à l’utilisateur d’entrer pour chacune les données complémentaires)."
   ]
  },
  {
   "cell_type": "code",
   "execution_count": 4,
   "metadata": {
    "collapsed": false
   },
   "outputs": [],
   "source": [
    "# Ajouter des informations dans le fichier du club\n",
    "def traduire(ch):\n",
    "    \"convertir une ligne du fichier source en liste de données\"\n",
    "    dn = \"\" # chaîne temporaire pour extraire les données\n",
    "    tt = [] # la liste à produire\n",
    "    i = 0\n",
    "    while i < len(ch):\n",
    "        if ch[i] == \"#\":\n",
    "            tt.append(dn) # on ajoute la donnée à la liste, et\n",
    "            dn =\"\" # on réinitialise la chaine temporaire\n",
    "        else:\n",
    "            dn = dn + ch[i]\n",
    "        i = i + 1\n",
    "    return tt\n",
    "    \n",
    "def encodage(tt):\n",
    "    \"renvoyer la liste tt, complétée avec la date de naissance et le sexe\"\n",
    "    print (\"*** Veuillez entrer les données (ou <Enter> pour terminer) :\")\n",
    "    # Affichage des données déjà présentes dans la liste :\n",
    "    i = 0\n",
    "    while i < len(tt):\n",
    "        print(tt[i], end =' ')\n",
    "        i = i +1\n",
    "    print()\n",
    "    while 1:\n",
    "        daNai = input(\"Date de naissance : \")\n",
    "        sexe = input(\"Sexe (m ou f) : \")\n",
    "        print(daNai, sexe)\n",
    "        ver = input(\"Entrez <Enter> si c'est correct, sinon <n> \")\n",
    "        if ver == \"\":\n",
    "            break\n",
    "    tt.append(daNai)\n",
    "    tt.append(sexe)\n",
    "    return tt\n",
    "    \n",
    "def enregistrer(tt):\n",
    "    \"enregistrer les données de la liste tt en les séparant par des <#>\"\n",
    "    i = 0\n",
    "    while i < len(tt):\n",
    "        fd.write(tt[i] + \"#\")\n",
    "        i = i + 1\n",
    "    fd.write(\"\\n\") # caractère de fin de ligne"
   ]
  },
  {
   "cell_type": "code",
   "execution_count": 7,
   "metadata": {
    "collapsed": false
   },
   "outputs": [
    {
     "name": "stdout",
     "output_type": "stream",
     "text": [
      "Nom du fichier source : H:\\ScriptsPython\\FichierClub.txt\n",
      "Nom du fichier destinataire : H:\\ScriptsPython\\FichierClub1.txt\n",
      "*** Veuillez entrer les données (ou <Enter> pour terminer) :\n",
      "bizoi razvan 27 aa aa 67200 strasbourg 0388271334 \n",
      "Date de naissance : 03/02/1965\n",
      "Sexe (m ou f) : m\n",
      "03/02/1965 m\n",
      "Entrez <Enter> si c'est correct, sinon <n> \n",
      "*** Veuillez entrer les données (ou <Enter> pour terminer) :\n",
      "bizoi isabelle aa 67200 stras 0388271334 \n",
      "Date de naissance : 14/10/1965\n",
      "Sexe (m ou f) : f\n",
      "14/10/1965 f\n",
      "Entrez <Enter> si c'est correct, sinon <n> \n"
     ]
    }
   ],
   "source": [
    "fSource = input('Nom du fichier source : ')\n",
    "fDest = input('Nom du fichier destinataire : ')\n",
    "fs = open(fSource, 'r')\n",
    "fd = open(fDest, 'w')\n",
    "while 1:\n",
    "    ligne = fs.readline() # lire une ligne du fichier source\n",
    "    if ligne ==\"\" or ligne ==\"\\n\":\n",
    "        break\n",
    "    liste = traduire(ligne) # la convertir en une liste\n",
    "    liste = encodage(liste) # y ajouter les données supplémentaires\n",
    "    enregistrer(liste) # sauvegarder dans fichier dest.\n",
    "    \n",
    "fd.close()\n",
    "fs.close()"
   ]
  }
 ],
 "metadata": {
  "kernelspec": {
   "display_name": "Python 3",
   "language": "python",
   "name": "python3"
  },
  "language_info": {
   "codemirror_mode": {
    "name": "ipython",
    "version": 3
   },
   "file_extension": ".py",
   "mimetype": "text/x-python",
   "name": "python",
   "nbconvert_exporter": "python",
   "pygments_lexer": "ipython3",
   "version": "3.6.0"
  }
 },
 "nbformat": 4,
 "nbformat_minor": 2
}

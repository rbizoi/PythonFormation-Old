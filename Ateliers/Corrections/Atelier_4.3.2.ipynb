{
 "cells": [
  {
   "cell_type": "markdown",
   "metadata": {},
   "source": [
    "## 4.3.2\n",
    "Écrivez un script qui recopie en Utf-8 un fichier texte encodé à l’origine en Latin-1, en veillant en outre à ce que chaque mot commence par une majuscule. Le programme demandera les noms des fichiers à l’utilisateur. Les opérations de lecture et d’écriture des fichiers auront lieu en mode texte ordinaire."
   ]
  },
  {
   "cell_type": "code",
   "execution_count": 4,
   "metadata": {
    "collapsed": false
   },
   "outputs": [
    {
     "name": "stdout",
     "output_type": "stream",
     "text": [
      "Nom du fichier à traiter (Latin-1) : H:\\ScriptsPython\\fichierLatin.txt\n"
     ]
    }
   ],
   "source": [
    "import random\n",
    "fiSource = input(\"Nom du fichier à traiter (Latin-1) : \")\n",
    "fs = open(fiSource, 'w', encoding =\"Latin1\")\n",
    "\n",
    "for i in range(0,25) :\n",
    "    ch = \"Une ligne de code sans grand itères \"+str(random.random()*1000)+'\\n'\n",
    "    fs.write(ch)\n",
    "    \n",
    "fs.close()    "
   ]
  },
  {
   "cell_type": "code",
   "execution_count": 5,
   "metadata": {
    "collapsed": false
   },
   "outputs": [
    {
     "name": "stdout",
     "output_type": "stream",
     "text": [
      "Nom du fichier à traiter (Latin-1) : H:\\ScriptsPython\\fichierLatin.txt\n",
      "Nom du fichier destinataire (Utf-8) : H:\\ScriptsPython\\fichierUtf8.txt\n"
     ]
    }
   ],
   "source": [
    "# Conversion en majuscule du premier caractère de chaque mot dans un texte.\n",
    "fiSource = input(\"Nom du fichier à traiter (Latin-1) : \")\n",
    "fiDest = input(\"Nom du fichier destinataire (Utf-8) : \")\n",
    "fs = open(fiSource, 'r', encoding =\"Latin1\")\n",
    "fd = open(fiDest, 'w', encoding =\"Utf8\")\n",
    "\n",
    "while 1:\n",
    "    ch = fs.readline() # lecture d'une ligne\n",
    "    if ch == \"\":\n",
    "        break # fin du fichier\n",
    "    ch = ch.title() # conversion des initiales en maj.\n",
    "    fd.write(ch) # transcription\n",
    "    \n",
    "fd.close()\n",
    "fs.close()"
   ]
  },
  {
   "cell_type": "markdown",
   "metadata": {},
   "source": [
    "# une autre version"
   ]
  },
  {
   "cell_type": "code",
   "execution_count": 6,
   "metadata": {
    "collapsed": false
   },
   "outputs": [
    {
     "name": "stdout",
     "output_type": "stream",
     "text": [
      "Nom du fichier à traiter (Latin-1) : H:\\ScriptsPython\\fichierLatin.txt\n",
      "Nom du fichier destinataire (Utf-8) : H:\\ScriptsPython\\fichierUtf81.txt\n"
     ]
    }
   ],
   "source": [
    "# Conversion Latin-1 => Utf8 (variante utilisant une variable <bytes>\n",
    "fiSource = input(\"Nom du fichier à traiter (Latin-1) : \")\n",
    "fiDest = input(\"Nom du fichier destinataire (Utf-8) : \")\n",
    "fs = open(fiSource, 'rb') # mode de lecture <binaire>\n",
    "fd = open(fiDest, 'wb')   # mode d'écriture <binaire>\n",
    "\n",
    "while 1:\n",
    "    so = fs.readline() # la ligne lue est une séquence d'octets\n",
    "    # Remarque : la variable so étant du type <bytes>, on doit la comparer\n",
    "    # avec une chaîne littérale (vide) du même type dans les tests :\n",
    "    if so == b\"\":\n",
    "        break # fin du fichier\n",
    "    ch = so.decode(\"Latin-1\")   # conversion en chaîne de caractères\n",
    "    so = ch.encode(\"Utf-8\")     # Ré-encodage en une séquence d'octets\n",
    "    fd.write(so) # transcription\n",
    "    \n",
    "fd.close()\n",
    "fs.close()"
   ]
  },
  {
   "cell_type": "code",
   "execution_count": null,
   "metadata": {
    "collapsed": true
   },
   "outputs": [],
   "source": []
  }
 ],
 "metadata": {
  "kernelspec": {
   "display_name": "Python 3",
   "language": "python",
   "name": "python3"
  },
  "language_info": {
   "codemirror_mode": {
    "name": "ipython",
    "version": 3
   },
   "file_extension": ".py",
   "mimetype": "text/x-python",
   "name": "python",
   "nbconvert_exporter": "python",
   "pygments_lexer": "ipython3",
   "version": "3.6.0"
  }
 },
 "nbformat": 4,
 "nbformat_minor": 2
}

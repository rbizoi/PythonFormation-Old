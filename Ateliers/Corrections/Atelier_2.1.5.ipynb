{
 "cells": [
  {
   "cell_type": "markdown",
   "metadata": {},
   "source": [
    "## 2.1.5\n",
    "Écrivez un programme qui calcule les intérêts accumulés chaque année pendant 20 ans, par capitalisation d’une somme de 100 euros placée en banque au taux fixe de 4,3 %"
   ]
  },
  {
   "cell_type": "code",
   "execution_count": 1,
   "metadata": {},
   "outputs": [
    {
     "name": "stdout",
     "output_type": "stream",
     "text": [
      "1 4.3\n",
      "2 8.7849\n",
      "3 13.4626507\n",
      "4 18.3415446801\n",
      "5 23.4302311013443\n",
      "6 28.737731038702105\n",
      "7 34.273453473366295\n",
      "8 40.047211972721044\n",
      "9 46.06924208754805\n",
      "10 52.350219497312615\n",
      "11 58.90127893569706\n",
      "12 65.73403392993202\n",
      "13 72.8605973889191\n",
      "14 80.29360307664263\n",
      "15 88.04622800893826\n",
      "16 96.1322158133226\n",
      "17 104.56590109329548\n",
      "18 113.3622348403072\n",
      "19 122.53681093844041\n",
      "20 132.10589380879335\n"
     ]
    }
   ],
   "source": [
    "n,g,t = 0,100.,0\n",
    "while n < 20 :\n",
    "    n,i = n+1,g*0.043\n",
    "    g += i\n",
    "    t += i\n",
    "    print(n, t)"
   ]
  }
 ],
 "metadata": {
  "kernelspec": {
   "display_name": "Python 3",
   "language": "python",
   "name": "python3"
  },
  "language_info": {
   "codemirror_mode": {
    "name": "ipython",
    "version": 3
   },
   "file_extension": ".py",
   "mimetype": "text/x-python",
   "name": "python",
   "nbconvert_exporter": "python",
   "pygments_lexer": "ipython3",
   "version": "3.6.5"
  }
 },
 "nbformat": 4,
 "nbformat_minor": 2
}

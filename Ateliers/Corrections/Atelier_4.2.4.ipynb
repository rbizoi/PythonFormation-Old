{
 "cells": [
  {
   "cell_type": "markdown",
   "metadata": {},
   "source": [
    "## 4.2.4\n",
    "Écrivez un script qui permette d’encoder un fichier texte dont les lignes contiendront chacune les noms, prénom, adresse, code postal et no de téléphone de différentes personnes (considérez par exemple qu’il s’agit des membres d’un club)."
   ]
  },
  {
   "cell_type": "code",
   "execution_count": 2,
   "metadata": {
    "collapsed": true
   },
   "outputs": [],
   "source": [
    "# Enregistrer les coordonnées des membres d'un club\n",
    "def encodage():\n",
    "    \"renvoie la liste des valeurs entrées, ou une liste vide\"\n",
    "    print(\"*** Veuillez entrer les données (ou <Enter> pour terminer) :\")\n",
    "    while 1:\n",
    "        nom = input(\"Nom : \")\n",
    "        if nom == \"\":\n",
    "            return []\n",
    "        prenom = input(\"Prénom : \")\n",
    "        rueNum = input(\"Adresse (N° et rue) : \")\n",
    "        cPost = input(\"Code postal : \")\n",
    "        local = input(\"Localité : \")\n",
    "        tel = input(\"N° de téléphone : \")\n",
    "        print(nom, prenom, rueNum, cPost, local, tel)\n",
    "        ver = input(\"Entrez <Enter> si c'est correct, sinon <n> \")\n",
    "        if ver == \"\":\n",
    "            break\n",
    "    return [nom, prenom, rueNum, cPost, local, tel]\n",
    "\n",
    "def enregistrer(liste):\n",
    "    \"enregistre les données de la liste en les séparant par des <#>\"\n",
    "    i = 0\n",
    "    while i < len(liste):\n",
    "        of.write(liste[i] + \"#\")\n",
    "        i = i + 1\n",
    "    of.write(\"\\n\") # caractère de fin de ligne"
   ]
  },
  {
   "cell_type": "code",
   "execution_count": 3,
   "metadata": {
    "collapsed": false
   },
   "outputs": [
    {
     "name": "stdout",
     "output_type": "stream",
     "text": [
      "Nom du fichier destinataire : H:\\ScriptsPython\\FichierClub.txt\n",
      "*** Veuillez entrer les données (ou <Enter> pour terminer) :\n",
      "Nom : bizoi\n",
      "Prénom : razvan\n",
      "Adresse (N° et rue) : 27 aa aa\n",
      "Code postal : 67200\n",
      "Localité : strasbourg\n",
      "N° de téléphone : 0388271334\n",
      "bizoi razvan 27 aa aa 67200 strasbourg 0388271334\n",
      "Entrez <Enter> si c'est correct, sinon <n> \n",
      "*** Veuillez entrer les données (ou <Enter> pour terminer) :\n",
      "Nom : bizoi\n",
      "Prénom : isabelle\n",
      "Adresse (N° et rue) : aa\n",
      "Code postal : 67200\n",
      "Localité : stras\n",
      "N° de téléphone : 0388271334\n",
      "bizoi isabelle aa 67200 stras 0388271334\n",
      "Entrez <Enter> si c'est correct, sinon <n> \n",
      "*** Veuillez entrer les données (ou <Enter> pour terminer) :\n",
      "Nom : \n"
     ]
    }
   ],
   "source": [
    "nomF = input('Nom du fichier destinataire : ')\n",
    "of = open(nomF, 'a')\n",
    "while 1:\n",
    "    tt = encodage()\n",
    "    if tt == []:\n",
    "        break\n",
    "    enregistrer(tt)\n",
    "    \n",
    "of.close()"
   ]
  }
 ],
 "metadata": {
  "kernelspec": {
   "display_name": "Python 3",
   "language": "python",
   "name": "python3"
  },
  "language_info": {
   "codemirror_mode": {
    "name": "ipython",
    "version": 3
   },
   "file_extension": ".py",
   "mimetype": "text/x-python",
   "name": "python",
   "nbconvert_exporter": "python",
   "pygments_lexer": "ipython3",
   "version": "3.6.0"
  }
 },
 "nbformat": 4,
 "nbformat_minor": 2
}

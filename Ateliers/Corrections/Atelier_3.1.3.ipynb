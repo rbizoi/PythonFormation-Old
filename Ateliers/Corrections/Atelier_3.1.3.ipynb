{
 "cells": [
  {
   "cell_type": "markdown",
   "metadata": {},
   "source": [
    "## 3.1.3\n",
    "Définissez une fonction nomMois(n) qui renvoie le nom du énième mois de l’année."
   ]
  },
  {
   "cell_type": "code",
   "execution_count": 1,
   "metadata": {
    "collapsed": true,
    "jupyter": {
     "outputs_hidden": true
    }
   },
   "outputs": [],
   "source": [
    "def nomMois(n):\n",
    "    \"renvoie le nom du n-ième mois de l'année\"\n",
    "    mois = ['Janvier,', 'Février', 'Mars', 'Avril', 'Mai', \n",
    "            'Juin', 'Juillet', 'Août', 'Septembre', \n",
    "            'Octobre', 'Novembre', 'Décembre']\n",
    "    return mois[n -1] # les indices sont numérotés à partir de zéro"
   ]
  },
  {
   "cell_type": "code",
   "execution_count": 2,
   "metadata": {},
   "outputs": [
    {
     "name": "stdout",
     "output_type": "stream",
     "text": [
      "Avril\n"
     ]
    }
   ],
   "source": [
    "# test :\n",
    "print(nomMois(4))"
   ]
  },
  {
   "cell_type": "code",
   "execution_count": 3,
   "metadata": {},
   "outputs": [],
   "source": [
    "d = { i+1:x\n",
    "    for i,x in enumerate (['Janvier,', 'Février', 'Mars', 'Avril', 'Mai', \n",
    "            'Juin', 'Juillet', 'Août', 'Septembre', \n",
    "            'Octobre', 'Novembre', 'Décembre'])}"
   ]
  },
  {
   "cell_type": "code",
   "execution_count": 4,
   "metadata": {},
   "outputs": [
    {
     "data": {
      "text/plain": [
       "'Avril'"
      ]
     },
     "execution_count": 4,
     "metadata": {},
     "output_type": "execute_result"
    }
   ],
   "source": [
    "d[4]"
   ]
  }
 ],
 "metadata": {
  "kernelspec": {
   "display_name": "Python 3 (ipykernel)",
   "language": "python",
   "name": "python3"
  },
  "language_info": {
   "codemirror_mode": {
    "name": "ipython",
    "version": 3
   },
   "file_extension": ".py",
   "mimetype": "text/x-python",
   "name": "python",
   "nbconvert_exporter": "python",
   "pygments_lexer": "ipython3",
   "version": "3.10.0"
  }
 },
 "nbformat": 4,
 "nbformat_minor": 4
}

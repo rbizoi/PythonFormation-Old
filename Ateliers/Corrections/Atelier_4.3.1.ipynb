{
 "cells": [
  {
   "cell_type": "markdown",
   "metadata": {},
   "source": [
    "4.3.1 Vous disposez d’un fichier contenant des valeurs numériques. Considérez que ces valeurs sont les diamètres d’une série de sphères. Écrivez un script qui utilise les données de ce fichier pour en créer un autre, organisé en lignes de texte qui exprimeront « en clair » les autres caractéristiques de ces sphères (surface de section, surface extérieure et volume), dans des phrases telles que : \n",
    "\n",
    "Diam. 46.20 cm Section 1676.39 cm² Surf. 6705.54 cm² Vol. 51632.67 cm³\n",
    "\n",
    "- π x r ^ 2\n",
    "- 4 x π x r ^ 2\n",
    "- 4/3 x π x r ^ 3"
   ]
  },
  {
   "cell_type": "code",
   "execution_count": 4,
   "metadata": {
    "collapsed": false
   },
   "outputs": [
    {
     "name": "stdout",
     "output_type": "stream",
     "text": [
      "Nom du fichier à traiter : H:\\ScriptsPython\\fichierR.txt\n"
     ]
    }
   ],
   "source": [
    "from random import random\n",
    "fiSource = input(\"Nom du fichier à traiter : \")\n",
    "fs = open(fiSource, 'w')\n",
    "\n",
    "for i in range(0,25) :\n",
    "    ch = \"{:5.2f}\\n\".format(random()*100)\n",
    "    fs.write(ch)\n",
    "    \n",
    "fs.close()    "
   ]
  },
  {
   "cell_type": "code",
   "execution_count": 5,
   "metadata": {
    "collapsed": false
   },
   "outputs": [
    {
     "name": "stdout",
     "output_type": "stream",
     "text": [
      "Nom du fichier à traiter : H:\\ScriptsPython\\fichierR.txt\n",
      "Nom du fichier destinataire : H:\\ScriptsPython\\fichierFormatSphere.txt\n"
     ]
    }
   ],
   "source": [
    "# Le fichier de départ est un fichier <texte> dont chaque ligne contient\n",
    "# un nombre réel (encodé sous la forme d'une chaîne de caractères)\n",
    "from math import pi\n",
    "\n",
    "def caractSphere(d):\n",
    "    \"renvoie les caractéristiques d'une sphère de diamètre d\"\n",
    "    d = float(d) # conversion de l'argument (=chaîne) en réel\n",
    "    r = d/2 # rayon\n",
    "    ss = pi*r**2 # surface de section\n",
    "    se = 4*pi*r**2 # surface extérieure\n",
    "    v = 4/3*pi*r**3 # volume\n",
    "    # La balise {:8.2f} utilisé ci-dessous formate le nombre\n",
    "    # affiché de manière à occuper 8 caractères au total, en arrondissant\n",
    "    # de manière à conserver deux chiffres après la virgule :\n",
    "    ch = \"Diam. {:6.2f} cm Section = {:8.2f} cm² \".format(d, ss)\n",
    "    ch = ch +\"Surf. = {:8.2f} cm². Vol. = {:9.2f} cm³\".format(se, v)\n",
    "    return ch\n",
    "    \n",
    "fiSource = input(\"Nom du fichier à traiter : \")\n",
    "fiDest = input(\"Nom du fichier destinataire : \")\n",
    "fs = open(fiSource, 'r')\n",
    "fd = open(fiDest, 'w')\n",
    "\n",
    "while 1:\n",
    "    diam = fs.readline()\n",
    "    if diam == \"\" or diam == \"\\n\":\n",
    "        break\n",
    "    fd.write(caractSphere(diam) + \"\\n\") # enregistrement\n",
    "    \n",
    "fd.close()\n",
    "fs.close()"
   ]
  }
 ],
 "metadata": {
  "kernelspec": {
   "display_name": "Python 3",
   "language": "python",
   "name": "python3"
  },
  "language_info": {
   "codemirror_mode": {
    "name": "ipython",
    "version": 3
   },
   "file_extension": ".py",
   "mimetype": "text/x-python",
   "name": "python",
   "nbconvert_exporter": "python",
   "pygments_lexer": "ipython3",
   "version": "3.6.0"
  }
 },
 "nbformat": 4,
 "nbformat_minor": 2
}

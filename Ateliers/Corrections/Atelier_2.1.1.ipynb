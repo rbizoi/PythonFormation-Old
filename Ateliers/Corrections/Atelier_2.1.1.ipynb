{
 "cells": [
  {
   "cell_type": "markdown",
   "metadata": {},
   "source": [
    "## 2.1.1\n",
    "Écrivez un programme qui convertit un nombre entier de secondes fourni au départ en un nombre d’années, de mois, de jours, de minutes et de secondes (utilisez la division entière // et l’opérateur modulo % )."
   ]
  },
  {
   "cell_type": "markdown",
   "metadata": {},
   "source": [
    "- Le nombre de secondes est fourni au départ : (un grand nombre s'impose !) ex. 12345678912"
   ]
  },
  {
   "cell_type": "code",
   "execution_count": 2,
   "metadata": {},
   "outputs": [
    {
     "name": "stdout",
     "output_type": "stream",
     "text": [
      "Le nombre de secondes :123445678912\n",
      "nsd =  123445678912\n"
     ]
    }
   ],
   "source": [
    "nsd = input('Le nombre de secondes :')\n",
    "\n",
    "if nsd.isdigit() : \n",
    "    nsd = int(nsd)\n",
    "    print('nsd = ',nsd)\n",
    "else:\n",
    "    print('nsd n\\'est pas un entier ',nsd) "
   ]
  },
  {
   "cell_type": "markdown",
   "metadata": {},
   "source": [
    "- Nombre de secondes dans une journée"
   ]
  },
  {
   "cell_type": "code",
   "execution_count": 12,
   "metadata": {},
   "outputs": [],
   "source": [
    "nspj = 60*60*24"
   ]
  },
  {
   "cell_type": "markdown",
   "metadata": {},
   "source": [
    "- Nombre de secondes dans un an (soit 365 jours on ne tiendra pas compte des années bissextiles)"
   ]
  },
  {
   "cell_type": "code",
   "execution_count": 13,
   "metadata": {},
   "outputs": [],
   "source": [
    "nspa = nspj * 365"
   ]
  },
  {
   "cell_type": "markdown",
   "metadata": {},
   "source": [
    "- Nombre de secondes dans un mois (en admettant pour chaque mois une durée identique de 30 jours)"
   ]
  },
  {
   "cell_type": "code",
   "execution_count": 14,
   "metadata": {},
   "outputs": [],
   "source": [
    "nspm = nspj * 30"
   ]
  },
  {
   "cell_type": "markdown",
   "metadata": {},
   "source": [
    "- Nombre d'années contenues dans la durée fournie"
   ]
  },
  {
   "cell_type": "code",
   "execution_count": 15,
   "metadata": {},
   "outputs": [],
   "source": [
    "na = nsd // nspa # division <entière>\n",
    "nsr = nsd % nspa # n. de sec. restantes"
   ]
  },
  {
   "cell_type": "markdown",
   "metadata": {},
   "source": [
    "- Nombre de mois restants"
   ]
  },
  {
   "cell_type": "code",
   "execution_count": 16,
   "metadata": {},
   "outputs": [],
   "source": [
    "nmo = nsr // nspm # division <entière>\n",
    "nsr = nsr % nspm # n. de sec. restantes"
   ]
  },
  {
   "cell_type": "markdown",
   "metadata": {},
   "source": [
    "- Nombre de jours restants"
   ]
  },
  {
   "cell_type": "code",
   "execution_count": 17,
   "metadata": {},
   "outputs": [],
   "source": [
    "nj = nsr // nspj # division <entière>\n",
    "nsr = nsr % nspj # n. de sec. restantes"
   ]
  },
  {
   "cell_type": "markdown",
   "metadata": {},
   "source": [
    "- Nombre d'heures restantes"
   ]
  },
  {
   "cell_type": "code",
   "execution_count": 18,
   "metadata": {},
   "outputs": [],
   "source": [
    "nh = nsr // 3600 # division <entière>\n",
    "nsr = nsr % 3600 # n. de sec. restantes"
   ]
  },
  {
   "cell_type": "markdown",
   "metadata": {},
   "source": [
    "- Nombre de minutes restantes"
   ]
  },
  {
   "cell_type": "code",
   "execution_count": 19,
   "metadata": {},
   "outputs": [],
   "source": [
    "nmi = nsr // 60 # division <entière>\n",
    "nsr = nsr % 60 # n. de sec. restantes"
   ]
  },
  {
   "cell_type": "markdown",
   "metadata": {},
   "source": [
    "- Le résultat final"
   ]
  },
  {
   "cell_type": "code",
   "execution_count": 20,
   "metadata": {},
   "outputs": [
    {
     "name": "stdout",
     "output_type": "stream",
     "text": [
      "Nombre de secondes à convertir : 123445678912\n",
      "Cette durée correspond à 3914 années de 365 jours, plus\n",
      "5 mois de 30 jours, 9 jours, 10 heures, 21 minutes et 52 secondes.\n"
     ]
    }
   ],
   "source": [
    "print(\"Nombre de secondes à convertir :\", nsd)\n",
    "print(\"Cette durée correspond à\", na, \"années de 365 jours, plus\")\n",
    "print(nmo, \"mois de 30 jours,\", end=' ')\n",
    "print(nj, \"jours,\", end=' ')\n",
    "print(nh, \"heures,\", end=' ')\n",
    "print(nmi, \"minutes et\", end=' ')\n",
    "print(nsr, \"secondes.\")"
   ]
  }
 ],
 "metadata": {
  "kernelspec": {
   "display_name": "Python 3",
   "language": "python",
   "name": "python3"
  },
  "language_info": {
   "codemirror_mode": {
    "name": "ipython",
    "version": 3
   },
   "file_extension": ".py",
   "mimetype": "text/x-python",
   "name": "python",
   "nbconvert_exporter": "python",
   "pygments_lexer": "ipython3",
   "version": "3.6.5"
  }
 },
 "nbformat": 4,
 "nbformat_minor": 2
}

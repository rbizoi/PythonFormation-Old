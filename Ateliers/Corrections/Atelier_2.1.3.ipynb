{
 "cells": [
  {
   "cell_type": "markdown",
   "metadata": {},
   "source": [
    "## 2.1.3\n",
    "Écrivez un programme qui calcule les 50 premiers termes de la table de multiplication par 13, mais n’affiche que ceux qui sont des multiples de 7."
   ]
  },
  {
   "cell_type": "code",
   "execution_count": 1,
   "metadata": {},
   "outputs": [
    {
     "name": "stdout",
     "output_type": "stream",
     "text": [
      "91 182 273 364 455 546 637 "
     ]
    }
   ],
   "source": [
    "i = 1 # compteur : prendra successivement les valeurs de 1 à 50\n",
    "while i < 51:\n",
    "    # calcul du terme à afficher :\n",
    "    t = i * 13\n",
    "    # ce terme est-il un multiple de 7 ? (utilisation de l'opérateur modulo) :\n",
    "    if t % 7 == 0:\n",
    "        print(t, end =' ') \n",
    "    i = i + 1 # incrémentation du compteur dans tous les cas"
   ]
  }
 ],
 "metadata": {
  "kernelspec": {
   "display_name": "Python 3",
   "language": "python",
   "name": "python3"
  },
  "language_info": {
   "codemirror_mode": {
    "name": "ipython",
    "version": 3
   },
   "file_extension": ".py",
   "mimetype": "text/x-python",
   "name": "python",
   "nbconvert_exporter": "python",
   "pygments_lexer": "ipython3",
   "version": "3.6.5"
  }
 },
 "nbformat": 4,
 "nbformat_minor": 2
}

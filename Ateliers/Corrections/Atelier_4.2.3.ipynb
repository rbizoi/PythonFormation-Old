{
 "cells": [
  {
   "cell_type": "markdown",
   "metadata": {},
   "source": [
    "## 4.2.3\n",
    "À partir de deux fichiers préexistants A et B, construisez un fichier C qui contienne alternativement un élément de A, un élément de B, un élément de A... et ainsi de suite jusqu’à atteindre la fin de l’un des deux fichiers originaux. Complétez ensuite C avec les éléments restant sur l’autre."
   ]
  },
  {
   "cell_type": "code",
   "execution_count": 1,
   "metadata": {},
   "outputs": [
    {
     "name": "stdout",
     "output_type": "stream",
     "text": [
      "Nom du premier fichier : H:\\ScriptsPython\\NouveauFichier.txt\n",
      "Nom du second fichier : H:\\ScriptsPython\\NouveauFichier1.txt\n",
      "Nom du fichier destinataire : H:\\ScriptsPython\\NouveauFichier2.txt\n"
     ]
    }
   ],
   "source": [
    "# Combinaison de deux fichiers texte pour en faire un nouveau\n",
    "fichA = input(\"Nom du premier fichier : \")\n",
    "fichB = input(\"Nom du second fichier : \")\n",
    "fichC = input(\"Nom du fichier destinataire : \")\n",
    "fiA = open(fichA, 'r')\n",
    "fiB = open(fichB, 'r')\n",
    "fiC = open(fichC, 'w')\n",
    "\n",
    "while 1:\n",
    "    ligneA = fiA.readline()\n",
    "    ligneB = fiB.readline()\n",
    "    if ligneA ==\"\" and ligneB ==\"\":\n",
    "        break # On est arrivé à la fin des 2 fichiers\n",
    "    if ligneA != \"\":\n",
    "        fiC.write(ligneA)\n",
    "    if ligneB != \"\":\n",
    "        fiC.write(ligneB)\n",
    "    \n",
    "fiA.close()\n",
    "fiB.close()\n",
    "fiC.close()"
   ]
  }
 ],
 "metadata": {
  "kernelspec": {
   "display_name": "Python 3",
   "language": "python",
   "name": "python3"
  },
  "language_info": {
   "codemirror_mode": {
    "name": "ipython",
    "version": 3
   },
   "file_extension": ".py",
   "mimetype": "text/x-python",
   "name": "python",
   "nbconvert_exporter": "python",
   "pygments_lexer": "ipython3",
   "version": "3.6.5"
  }
 },
 "nbformat": 4,
 "nbformat_minor": 2
}

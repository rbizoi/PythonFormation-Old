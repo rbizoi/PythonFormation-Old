{
 "cells": [
  {
   "cell_type": "markdown",
   "metadata": {},
   "source": [
    "## 3.1.6\n",
    "Définissez une fonction changeCar(ch,ca1,ca2,debut,fin) qui remplace tous les caractères ca1 par des caractères ca2 dans la chaîne de caractères ch, à partir de l’indice debut et jusqu’à l’indice fin, ces deux derniers arguments pouvant être omis et dans ce cas la chaîne est traitée d’une extrémité à l’autre. "
   ]
  },
  {
   "cell_type": "code",
   "execution_count": 1,
   "metadata": {
    "collapsed": true
   },
   "outputs": [],
   "source": [
    "def changeCar(ch, ca1, ca2, debut =0, fin =-1):\n",
    "    \"Remplace tous les caractères ca1 par des ca2 dans la chaîne ch\"\n",
    "    if fin == -1:\n",
    "        fin = len(ch)\n",
    "    nch, i = \"\", 0        # nch : nouvelle chaîne à construire\n",
    "    while i < len(ch) :\n",
    "        if i >= debut and i <= fin and ch[i] == ca1:\n",
    "            nch = nch + ca2\n",
    "        else :\n",
    "            nch = nch + ch[i]\n",
    "        i = i + 1\n",
    "    return nch"
   ]
  },
  {
   "cell_type": "code",
   "execution_count": 2,
   "metadata": {
    "collapsed": false
   },
   "outputs": [
    {
     "name": "stdout",
     "output_type": "stream",
     "text": [
      "Ceci*est*une*toute*petite*phrase\n",
      "Ceci est*une*toute petite phrase\n",
      "Ceci est une*toute*petite*phrase\n",
      "Ceci*est*une*toute petite phrase\n"
     ]
    }
   ],
   "source": [
    "# test :\n",
    "print((changeCar(\"Ceci est une toute petite phrase\", \" \", \"*\")))\n",
    "print((changeCar(\"Ceci est une toute petite phrase\", \" \", \"*\", 8, 12)))\n",
    "print((changeCar(\"Ceci est une toute petite phrase\", \" \", \"*\", 12)))\n",
    "print((changeCar(\"Ceci est une toute petite phrase\", \" \", \"*\", fin =12)))"
   ]
  }
 ],
 "metadata": {
  "kernelspec": {
   "display_name": "Python 3",
   "language": "python",
   "name": "python3"
  },
  "language_info": {
   "codemirror_mode": {
    "name": "ipython",
    "version": 3
   },
   "file_extension": ".py",
   "mimetype": "text/x-python",
   "name": "python",
   "nbconvert_exporter": "python",
   "pygments_lexer": "ipython3",
   "version": "3.6.0"
  }
 },
 "nbformat": 4,
 "nbformat_minor": 2
}

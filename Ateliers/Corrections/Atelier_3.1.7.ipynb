{
 "cells": [
  {
   "cell_type": "markdown",
   "metadata": {},
   "source": [
    "## 3.1.7\n",
    "Définissez une fonction eleMax(liste,debut,fin) qui renvoie l’élément ayant la plus grande valeur dans la liste transmise. Les deux arguments debut et fin indiqueront les indices entre lesquels doit s’exercer la recherche, et chacun d’eux pourra être omis comme dans l’exercice précédent."
   ]
  },
  {
   "cell_type": "code",
   "execution_count": 3,
   "metadata": {},
   "outputs": [],
   "source": [
    "def eleMax(lst, debut =0, fin =-1):\n",
    "    \"renvoie le plus grand élément de la liste lst\"\n",
    "    if fin == -1:\n",
    "        fin = len(lst)\n",
    "    max, i = 0, 0\n",
    "    while i < len(lst):\n",
    "        if i >= debut and \\\n",
    "           i <= fin and \\\n",
    "           lst[i] > max:\n",
    "            max = lst[i]\n",
    "        i = i + 1\n",
    "    return max"
   ]
  },
  {
   "cell_type": "code",
   "execution_count": 4,
   "metadata": {},
   "outputs": [
    {
     "name": "stdout",
     "output_type": "stream",
     "text": [
      "9\n",
      "7\n",
      "8\n",
      "6\n"
     ]
    }
   ],
   "source": [
    "# test :\n",
    "serie = [9, 3, 6, 1, 7, 5, 4, 8, 2]\n",
    "print(eleMax(serie))\n",
    "print(eleMax(serie, 2, 5))\n",
    "print(eleMax(serie, 2))\n",
    "print(eleMax(serie, fin =3, debut =1))"
   ]
  }
 ],
 "metadata": {
  "kernelspec": {
   "display_name": "Python 3",
   "language": "python",
   "name": "python3"
  },
  "language_info": {
   "codemirror_mode": {
    "name": "ipython",
    "version": 3
   },
   "file_extension": ".py",
   "mimetype": "text/x-python",
   "name": "python",
   "nbconvert_exporter": "python",
   "pygments_lexer": "ipython3",
   "version": "3.6.5"
  }
 },
 "nbformat": 4,
 "nbformat_minor": 2
}

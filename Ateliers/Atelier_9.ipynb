{
 "cells": [
  {
   "cell_type": "markdown",
   "metadata": {},
   "source": [
    "# Exercice n° 1"
   ]
  },
  {
   "cell_type": "markdown",
   "metadata": {},
   "source": [
    "## 9.1.1\n",
    "Définissez une classe CompteBancaire(), qui permette d’instancier des objets tels que compte1, compte2, etc. Le constructeur de cette classe initialisera deux attributs d’instance nom et solde, avec les valeurs par défaut ’Dupont’ et 1000.\n",
    "\n",
    "Trois autres méthodes seront définies :\n",
    "- depot(somme) permettra d’ajouter une certaine somme au solde ;\n",
    "- retrait(somme) permettra de retirer une certaine somme du solde ;\n",
    "- affiche() permettra d’afficher le nom du titulaire et le solde de son compte.\n"
   ]
  },
  {
   "cell_type": "markdown",
   "metadata": {},
   "source": [
    "## 9.1.2\n",
    "Définissez une classe Voiture() qui permette d’instancier des objets reproduisant le comportement de voitures automobiles. Le constructeur de cette classe initialisera les attributs d’instance suivants, avec les valeurs par défaut indiquées :\n",
    "marque = 'Ford', couleur = 'rouge', pilote = 'personne', vitesse = 0.\n",
    "\n",
    "Lorsque l’on instanciera un nouvel objet Voiture(), on pourra choisir sa marque et sa couleur, mais pas sa vitesse, ni le nom de son conducteur. Les méthodes suivantes seront définies :\n",
    "- choix_conducteur(nom) permettra de désigner (ou changer) le nom du conducteur.\n",
    "- accelerer(taux,duree) permettra de faire varier la vitesse de la voiture. La variation de vitesse obtenue sera égale au produit : taux x duree. Des taux négatifs seront acceptés (ce qui permettra de décélérer). La variation de vitesse ne sera pas autorisée si le conducteur est ’personne’.\n",
    "- affiche_tout() permettra de faire apparaître les propriétés présentes de la voiture, c’est-à dire sa marque, sa couleur, le nom de son conducteur, sa vitesse.\n"
   ]
  },
  {
   "cell_type": "markdown",
   "metadata": {},
   "source": [
    "# Exercice n° 2"
   ]
  },
  {
   "cell_type": "markdown",
   "metadata": {},
   "source": [
    "## 9.2.1\n",
    "Définissez une classe Cercle(). Les objets construits à partir de cette classe seront des cercles de tailles variées. En plus de la méthode constructeur (qui utilisera donc un paramètre rayon), vous définirez une méthode surface(), qui devra renvoyer la surface du cercle.\n",
    "Définissez ensuite une classe Cylindre() dérivée de la précédente. Le constructeur de cette nouvelle classe comportera les deux paramètres rayon et hauteur. Vous y ajouterez une méthode volume() qui devra renvoyer le volume du cylindre (rappel : volume d’un cylindre = surface de section X hauteur)."
   ]
  },
  {
   "cell_type": "markdown",
   "metadata": {},
   "source": [
    "## 9.2.2 \n",
    "Complétez l’exercice précédent en lui ajoutant encore une classe Cone(), qui devra dériver cette fois de la classe Cylindre(), et dont le constructeur comportera lui aussi les deux paramètres rayon et hauteur. Cette nouvelle classe possédera sa propre méthode volume(), laquelle devra renvoyer le volume du cône (rappel : volume d’un cône = volume du cylindre correspondant divisé par 3)."
   ]
  },
  {
   "cell_type": "markdown",
   "metadata": {},
   "source": [
    "## 9.2.3 \n",
    "Définissez une classe JeuDeCartes() permettant d’instancier des objets dont le comportement soit similaire à celui d’un vrai jeu de cartes. La classe devra comporter au moins les quatre méthodes suivantes :\n",
    "- méthode constructeur : création et remplissage d’une liste de 52 éléments, qui sont eux-mêmes des « tuples » de 2 entiers. Cette liste de « tuples » contiendra les caractéristiques de chacune des 52 cartes. Pour chacune d’elles, il faut en effet mémoriser séparément un entier indiquant la valeur (2, 3, 4, 5, 6, 7, 8, 9, 10, 11, 12, 13, 14, les 4 dernières valeurs étant celles des valet, dame, roi et as), et un autre entier indiquant la couleur de la carte (c’est-à-dire 3,2,1,0 pour Cœur, Carreau, Trèfle et Pique).\n",
    "- méthode nom_carte() : cette méthode doit renvoyer, sous la forme d’une chaîne, l’identité d’une carte quelconque dont on lui a fourni le « tuples » descripteur en argument. Par exemple, l’instruction : print(jeu.nom_carte((14, 3))) doit provoquer l’affichage de : As de pique\n",
    "- méthode battre() : comme chacun sait, battre les cartes consiste à les mélanger. Cette méthode sert donc à mélanger les éléments de la liste contenant les cartes, quel qu’en soit le nombre.\n",
    "- méthode tirer() : lorsque cette méthode est invoquée, une carte est retirée du jeu. Le « tuples » contenant sa valeur et sa couleur est renvoyé au programme appelant. On retire toujours la première carte de la liste. Si cette méthode est invoquée alors qu’il ne reste plus aucune carte dans la liste, il faut alors renvoyer l’objet spécial None au programme appelant.\n"
   ]
  },
  {
   "cell_type": "markdown",
   "metadata": {},
   "source": [
    "## 9.2.4\n",
    "Complément de l’exercice précédent : définir deux joueurs A et B. Instancier deux jeux de cartes (un pour chaque joueur) et les mélanger. Ensuite, à l’aide d’une boucle, tirer 52 fois une carte de chacun des deux jeux et comparer leurs valeurs. Si c’est la première des deux qui a la valeur la plus élevée, on ajoute un point au joueur A. Si la situation contraire se présente, on ajoute un point au joueur B. Si les deux valeurs sont égales, on passe au tirage suivant. Au terme de la boucle, comparer les comptes de A et B pour déterminer le gagnant."
   ]
  },
  {
   "cell_type": "markdown",
   "metadata": {},
   "source": [
    "## 9.2.5\n",
    "Écrivez un nouveau script qui récupère le code de CompteBancaire() en l’important comme un module. Définissez-y une nouvelle classe CompteEpargne(), dérivant de la classe CompteBancaire() importée, qui permette de créer des comptes d’épargne rapportant un certain intérêt au cours du temps. Pour simplifier, nous admettrons que ces intérêts sont calculés tous les mois.\n",
    "\n",
    "Le constructeur de votre nouvelle classe devra initialiser un taux d’intérêt mensuel par défaut égal à 0,3 %. Une méthode changeTaux(valeur) devra permettre de modifier ce taux à volonté.\n",
    "\n",
    "Une méthode capitalisation(nombreMois) devra :\n",
    "- afficher le nombre de mois et le taux d’intérêt pris en compte ;\n",
    "- calculer le solde atteint en capitalisant les intérêts composés, pour le taux et le nombre de mois qui auront été choisis."
   ]
  }
 ],
 "metadata": {
  "kernelspec": {
   "display_name": "Python 3",
   "language": "python",
   "name": "python3"
  },
  "language_info": {
   "codemirror_mode": {
    "name": "ipython",
    "version": 3
   },
   "file_extension": ".py",
   "mimetype": "text/x-python",
   "name": "python",
   "nbconvert_exporter": "python",
   "pygments_lexer": "ipython3",
   "version": "3.6.5"
  }
 },
 "nbformat": 4,
 "nbformat_minor": 2
}

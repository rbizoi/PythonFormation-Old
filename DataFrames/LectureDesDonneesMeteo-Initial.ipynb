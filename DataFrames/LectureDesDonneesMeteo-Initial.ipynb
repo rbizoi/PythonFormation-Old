{
 "cells": [
  {
   "cell_type": "markdown",
   "metadata": {
    "toc": true
   },
   "source": [
    "<h1>Table of Contents<span class=\"tocSkip\"></span></h1>\n",
    "<div class=\"toc\"><ul class=\"toc-item\"><li><span><a href=\"#Les-imports-et-configuration-du-document\" data-toc-modified-id=\"Les-imports-et-configuration-du-document-1\"><span class=\"toc-item-num\">1&nbsp;&nbsp;</span>Les imports et configuration du document</a></span><ul class=\"toc-item\"><li><span><a href=\"#La-lecture-des-fichiers-d'un-répértoire\" data-toc-modified-id=\"La-lecture-des-fichiers-d'un-répértoire-1.1\"><span class=\"toc-item-num\">1.1&nbsp;&nbsp;</span>La lecture des fichiers d'un répértoire</a></span></li></ul></li><li><span><a href=\"#La-temperature-mensuelle\" data-toc-modified-id=\"La-temperature-mensuelle-2\"><span class=\"toc-item-num\">2&nbsp;&nbsp;</span>La temperature mensuelle</a></span></li><li><span><a href=\"#La-météo-mensuelle\" data-toc-modified-id=\"La-météo-mensuelle-3\"><span class=\"toc-item-num\">3&nbsp;&nbsp;</span>La météo mensuelle</a></span></li><li><span><a href=\"#La-météo-----hebdomadaire\" data-toc-modified-id=\"La-météo-----hebdomadaire-4\"><span class=\"toc-item-num\">4&nbsp;&nbsp;</span>La météo     hebdomadaire</a></span></li><li><span><a href=\"#La-météo-----journalière\" data-toc-modified-id=\"La-météo-----journalière-5\"><span class=\"toc-item-num\">5&nbsp;&nbsp;</span>La météo     journalière</a></span></li></ul></div>"
   ]
  },
  {
   "cell_type": "markdown",
   "metadata": {},
   "source": [
    "# Les imports et configuration du document"
   ]
  },
  {
   "cell_type": "code",
   "execution_count": 1,
   "metadata": {
    "ExecuteTime": {
     "end_time": "2021-12-12T09:07:05.707331Z",
     "start_time": "2021-12-12T09:07:04.648661Z"
    }
   },
   "outputs": [],
   "source": [
    "import pandas as pd \n",
    "import seaborn as sns\n",
    "import warnings \n",
    "import os\n",
    "import time\n",
    "from datetime import datetime\n",
    "from matplotlib import pyplot as plt\n",
    "\n",
    "warnings.filterwarnings(action=\"ignore\")\n",
    "\n",
    "%matplotlib inline\n",
    "if int(str(sns.__version__).split('.')[1]) > 8 : \n",
    "    plt.style.use('seaborn-v0_8-darkgrid')\n",
    "else:\n",
    "    plt.style.use('seaborn-darkgrid')\n",
    "    \n",
    "sns.set(font_scale=3)\n",
    "\n",
    "# os.chdir(\"donnees\")"
   ]
  },
  {
   "cell_type": "code",
   "execution_count": 2,
   "metadata": {},
   "outputs": [],
   "source": [
    "\n",
    "def tempsExecution(func):\n",
    "    def chronometrerExécution(*_args, **_kwargs): \n",
    "        t0 = time.perf_counter()\n",
    "        result = func(*_args, **_kwargs) \n",
    "        elapsed = time.perf_counter() - t0\n",
    "        name = func.__name__\n",
    "        args = ', '.join(repr(arg) for arg in _args) \\\n",
    "               if len(_args) == 1 \\\n",
    "               else ', '.join(arg+'='+repr(_kwargs[arg]) for arg in _kwargs)\n",
    "        print(f'exécution {elapsed:0.8f}s\\nfonction {name}({args})')\n",
    "        return result\n",
    "    return chronometrerExécution"
   ]
  },
  {
   "cell_type": "code",
   "execution_count": 3,
   "metadata": {
    "ExecuteTime": {
     "end_time": "2021-12-09T12:35:46.937921Z",
     "start_time": "2021-12-09T12:34:34.639809Z"
    }
   },
   "outputs": [],
   "source": [
    "@tempsExecution\n",
    "def lectureFichiersMeteo(repertoire='../donnees/meteo_test'):\n",
    "    meteo = pd.DataFrame()\n",
    "\n",
    "    for dirname, _, filenames in os.walk(repertoire):\n",
    "        for filename in filenames:\n",
    "            # if filename.rfind('synop') >= 0 :\n",
    "            meteo = pd.concat([meteo,\n",
    "                               pd.read_csv(os.path.join(dirname, filename),\n",
    "                                           sep=';',\n",
    "                                           usecols=['numer_sta','date','dd','ff','t','u','vv',\n",
    "                                                    'pres','rr1','rr3','rr6','rr12','rr24'],\n",
    "                                           na_values='mq',\n",
    "                                           dtype={'numer_sta':str,'date':str},\n",
    "                                          ).rename( columns={'numer_sta':'Station',\n",
    "                                                              'date':'DateHeure',\n",
    "                                                              'dd':'DirectionVent',\n",
    "                                                              'ff':'VitesseVent',\n",
    "                                                              't':'Temperature',\n",
    "                                                              'u':'Humidite',\n",
    "                                                              'vv':'Visibilite',\n",
    "                                                              'pres':'Pression',\n",
    "                                                              'rr1' :'Precipitation01',\n",
    "                                                              'rr3' :'Precipitation03',\n",
    "                                                              'rr6' :'Precipitation06',\n",
    "                                                              'rr12':'Precipitation12',\n",
    "                                                              'rr24':'Precipitation24'})],axis=0)\n",
    "    meteo.reset_index().drop(columns='index',inplace=True)\n",
    "    meteo[\"DateHeure\"] = pd.to_datetime(meteo[\"DateHeure\"], format='%Y%m%d%H%M%S')\n",
    "    meteo.Temperature  = meteo.Temperature - 273.15\n",
    "    meteo.Pression     = meteo.Pression / 100\n",
    "    meteo.Visibilite   = meteo.Visibilite / 1000\n",
    "    meteo['Mois']      = meteo.DateHeure.dt.month\n",
    "    meteo['Annee']     = meteo.DateHeure.dt.year\n",
    "    meteo['AnneeMois'] = meteo.DateHeure.dt.year*100 + meteo.DateHeure.dt.month\n",
    "    meteo['Semaine']   = meteo.DateHeure.dt.isocalendar().week\n",
    "    meteo['MoisJour']  = meteo.DateHeure.dt.month*100 + meteo.DateHeure.dt.day\n",
    "    meteo['JourA']     = meteo.DateHeure.dt.dayofyear\n",
    "    return meteo"
   ]
  },
  {
   "cell_type": "raw",
   "metadata": {},
   "source": [
    "_ = lectureFichiersMeteo(repertoire='../donnees/meteo')"
   ]
  },
  {
   "cell_type": "code",
   "execution_count": 5,
   "metadata": {},
   "outputs": [],
   "source": [
    "@tempsExecution\n",
    "def lectureFichiersMeteo(repertoire='../donnees/meteo_test'):\n",
    "    listeFichiers = []\n",
    "    for dirname, dirnames, filenames in os.walk(repertoire):\n",
    "        for filename in filenames:\n",
    "            listeFichiers.append(os.path.join(dirname, filename))\n",
    "        \n",
    "    meteo = pd.concat([ pd.read_csv(fichier,\n",
    "                           sep=';',\n",
    "                           usecols=['numer_sta','date','dd','ff','t','u','vv',\n",
    "                                    'pres','rr1','rr3','rr6','rr12','rr24'],\n",
    "                           na_values='mq',\n",
    "                           dtype={'numer_sta':str,'date':str},\n",
    "                          ).rename( columns={'numer_sta':'Station',\n",
    "                                              'date':'DateHeure',\n",
    "                                              'dd':'DirectionVent',\n",
    "                                              'ff':'VitesseVent',\n",
    "                                              't':'Temperature',\n",
    "                                              'u':'Humidite',\n",
    "                                              'vv':'Visibilite',\n",
    "                                              'pres':'Pression',\n",
    "                                              'rr1' :'Precipitation01',\n",
    "                                              'rr3' :'Precipitation03',\n",
    "                                              'rr6' :'Precipitation06',\n",
    "                                              'rr12':'Precipitation12',\n",
    "                                              'rr24':'Precipitation24'}) \n",
    "                         for fichier in listeFichiers])\n",
    "    meteo.reset_index().drop(columns='index',inplace=True)\n",
    "    meteo[\"DateHeure\"] = pd.to_datetime(meteo[\"DateHeure\"], format='%Y%m%d%H%M%S')\n",
    "    meteo.Temperature  = meteo.Temperature - 273.15\n",
    "    meteo.Pression     = meteo.Pression / 100\n",
    "    meteo.Visibilite   = meteo.Visibilite / 1000\n",
    "    meteo['Mois']      = meteo.DateHeure.dt.month\n",
    "    meteo['Annee']     = meteo.DateHeure.dt.year\n",
    "    meteo['AnneeMois'] = meteo.DateHeure.dt.year*100 + meteo.DateHeure.dt.month\n",
    "    meteo['Semaine']   = meteo.DateHeure.dt.isocalendar().week\n",
    "    meteo['MoisJour']  = meteo.DateHeure.dt.month*100 + meteo.DateHeure.dt.day\n",
    "    meteo['JourA']     = meteo.DateHeure.dt.dayofyear\n",
    "    return meteo\n",
    "    "
   ]
  },
  {
   "cell_type": "code",
   "execution_count": 6,
   "metadata": {},
   "outputs": [
    {
     "name": "stdout",
     "output_type": "stream",
     "text": [
      "exécution 21.74414310s\n",
      "fonction lectureFichiersMeteo(repertoire='../donnees/meteo')\n"
     ]
    }
   ],
   "source": [
    "meteo = lectureFichiersMeteo(repertoire='../donnees/meteo')"
   ]
  },
  {
   "cell_type": "code",
   "execution_count": null,
   "metadata": {},
   "outputs": [],
   "source": []
  },
  {
   "cell_type": "code",
   "execution_count": null,
   "metadata": {},
   "outputs": [],
   "source": []
  }
 ],
 "metadata": {
  "kernelspec": {
   "display_name": "Python 3 (ipykernel)",
   "language": "python",
   "name": "python3"
  },
  "language_info": {
   "codemirror_mode": {
    "name": "ipython",
    "version": 3
   },
   "file_extension": ".py",
   "mimetype": "text/x-python",
   "name": "python",
   "nbconvert_exporter": "python",
   "pygments_lexer": "ipython3",
   "version": "3.10.0"
  },
  "toc": {
   "base_numbering": 1,
   "nav_menu": {},
   "number_sections": true,
   "sideBar": true,
   "skip_h1_title": false,
   "title_cell": "Table of Contents",
   "title_sidebar": "Contents",
   "toc_cell": true,
   "toc_position": {},
   "toc_section_display": true,
   "toc_window_display": false
  }
 },
 "nbformat": 4,
 "nbformat_minor": 4
}

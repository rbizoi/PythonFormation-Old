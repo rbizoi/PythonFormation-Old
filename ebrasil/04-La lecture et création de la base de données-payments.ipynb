{
 "cells": [
  {
   "cell_type": "markdown",
   "metadata": {
    "ExecuteTime": {
     "end_time": "2020-10-24T12:16:35.438079Z",
     "start_time": "2020-10-24T12:16:35.433094Z"
    }
   },
   "source": [
    "<img src=\"https://raw.githubusercontent.com/rbizoi/PythonFormation/main/images/e-brasil.png\" width=\"850\">"
   ]
  },
  {
   "cell_type": "markdown",
   "metadata": {},
   "source": [
    "# Les imports et initialisations des variables"
   ]
  },
  {
   "cell_type": "code",
   "execution_count": 1,
   "metadata": {
    "ExecuteTime": {
     "end_time": "2020-10-24T18:39:25.948711Z",
     "start_time": "2020-10-24T18:39:24.506560Z"
    }
   },
   "outputs": [],
   "source": [
    "from datetime import datetime\n",
    "import pandas as pd, numpy as np, os, warnings, seaborn as sns, pickle, re, unicodedata\n",
    "from datetime import datetime as dt\n",
    "import matplotlib.pyplot as plt\n",
    "import matplotlib.font_manager as fm\n",
    "\n",
    "font1 = fm.FontProperties(size=20)\n",
    "font2 = fm.FontProperties(size=24)\n",
    "\n",
    "%matplotlib inline\n",
    "\n",
    "if int(str(sns.__version__).split('.')[1]) > 8 : \n",
    "    plt.style.use('seaborn-v0_8-darkgrid')\n",
    "else:\n",
    "    plt.style.use('seaborn-darkgrid')\n",
    "    \n",
    "sns.set(font_scale=2)\n",
    "warnings.filterwarnings(action=\"ignore\")"
   ]
  },
  {
   "cell_type": "markdown",
   "metadata": {},
   "source": [
    "## Liste fichiers de données "
   ]
  },
  {
   "cell_type": "code",
   "execution_count": 2,
   "metadata": {},
   "outputs": [
    {
     "name": "stdout",
     "output_type": "stream",
     "text": [
      " Le volume dans le lecteur F s'appelle Data\n",
      " Le num‚ro de s‚rie du volume est D4F7-8E12\n",
      "\n",
      " R‚pertoire de F:\\PythonFormation\\donnees\\ebrasil\n",
      "\n",
      "14/02/2024  09:47    <DIR>          .\n",
      "14/02/2024  09:47    <DIR>          ..\n",
      "06/10/2019  20:27         9ÿ033ÿ957 olist_customers_dataset.csv\n",
      "06/10/2019  20:27        61ÿ273ÿ883 olist_geolocation_dataset.csv\n",
      "06/10/2019  20:27        17ÿ654ÿ914 olist_orders_dataset.csv\n",
      "06/10/2019  20:27        15ÿ438ÿ671 olist_order_items_dataset.csv\n",
      "06/10/2019  20:27         5ÿ777ÿ138 olist_order_payments_dataset.csv\n",
      "06/10/2019  20:27        14ÿ409ÿ007 olist_order_reviews_dataset.csv\n",
      "06/10/2019  20:27         2ÿ379ÿ446 olist_products_dataset.csv\n",
      "28/09/2020  07:52           177ÿ799 olist_sellers_dataset.csv\n",
      "17/01/2024  08:49             2ÿ542 product_category_name_translation.csv\n",
      "               9 fichier(s)      126ÿ147ÿ357 octets\n",
      "               2 R‚p(s)  86ÿ205ÿ247ÿ488 octets libres\n"
     ]
    }
   ],
   "source": [
    "!dir ..\\donnees\\ebrasil"
   ]
  },
  {
   "cell_type": "markdown",
   "metadata": {},
   "source": [
    "## Changement de répertoire"
   ]
  },
  {
   "cell_type": "code",
   "execution_count": 3,
   "metadata": {},
   "outputs": [],
   "source": [
    "os.chdir(r\"../donnees\")"
   ]
  },
  {
   "cell_type": "markdown",
   "metadata": {},
   "source": [
    "# DataFrame $payments$"
   ]
  },
  {
   "cell_type": "code",
   "execution_count": 4,
   "metadata": {
    "ExecuteTime": {
     "end_time": "2020-10-24T18:39:30.280754Z",
     "start_time": "2020-10-24T18:39:30.277762Z"
    }
   },
   "outputs": [
    {
     "data": {
      "text/html": [
       "<div>\n",
       "<style scoped>\n",
       "    .dataframe tbody tr th:only-of-type {\n",
       "        vertical-align: middle;\n",
       "    }\n",
       "\n",
       "    .dataframe tbody tr th {\n",
       "        vertical-align: top;\n",
       "    }\n",
       "\n",
       "    .dataframe thead th {\n",
       "        text-align: right;\n",
       "    }\n",
       "</style>\n",
       "<table border=\"1\" class=\"dataframe\">\n",
       "  <thead>\n",
       "    <tr style=\"text-align: right;\">\n",
       "      <th></th>\n",
       "      <th>order_id</th>\n",
       "      <th>sequential</th>\n",
       "      <th>type</th>\n",
       "      <th>installments</th>\n",
       "      <th>value</th>\n",
       "    </tr>\n",
       "  </thead>\n",
       "  <tbody>\n",
       "    <tr>\n",
       "      <th>85283</th>\n",
       "      <td>00010242fe8c5a6d1ba2dd792cb16214</td>\n",
       "      <td>1</td>\n",
       "      <td>credit_card</td>\n",
       "      <td>2</td>\n",
       "      <td>72.19</td>\n",
       "    </tr>\n",
       "    <tr>\n",
       "      <th>2499</th>\n",
       "      <td>00018f77f2f0320c557190d7a144bdd3</td>\n",
       "      <td>1</td>\n",
       "      <td>credit_card</td>\n",
       "      <td>3</td>\n",
       "      <td>259.83</td>\n",
       "    </tr>\n",
       "    <tr>\n",
       "      <th>12393</th>\n",
       "      <td>000229ec398224ef6ca0657da4fc703e</td>\n",
       "      <td>1</td>\n",
       "      <td>credit_card</td>\n",
       "      <td>5</td>\n",
       "      <td>216.87</td>\n",
       "    </tr>\n",
       "    <tr>\n",
       "      <th>32971</th>\n",
       "      <td>00024acbcdf0a6daa1e931b038114c75</td>\n",
       "      <td>1</td>\n",
       "      <td>credit_card</td>\n",
       "      <td>2</td>\n",
       "      <td>25.78</td>\n",
       "    </tr>\n",
       "    <tr>\n",
       "      <th>98711</th>\n",
       "      <td>00042b26cf59d7ce69dfabb4e55b4fd9</td>\n",
       "      <td>1</td>\n",
       "      <td>credit_card</td>\n",
       "      <td>3</td>\n",
       "      <td>218.04</td>\n",
       "    </tr>\n",
       "    <tr>\n",
       "      <th>50570</th>\n",
       "      <td>00048cc3ae777c65dbb7d2a0634bc1ea</td>\n",
       "      <td>1</td>\n",
       "      <td>boleto</td>\n",
       "      <td>1</td>\n",
       "      <td>34.59</td>\n",
       "    </tr>\n",
       "    <tr>\n",
       "      <th>35027</th>\n",
       "      <td>00054e8431b9d7675808bcb819fb4a32</td>\n",
       "      <td>1</td>\n",
       "      <td>credit_card</td>\n",
       "      <td>1</td>\n",
       "      <td>31.75</td>\n",
       "    </tr>\n",
       "    <tr>\n",
       "      <th>22082</th>\n",
       "      <td>000576fe39319847cbb9d288c5617fa6</td>\n",
       "      <td>1</td>\n",
       "      <td>credit_card</td>\n",
       "      <td>10</td>\n",
       "      <td>880.75</td>\n",
       "    </tr>\n",
       "    <tr>\n",
       "      <th>100792</th>\n",
       "      <td>0005a1a1728c9d785b8e2b08b904576c</td>\n",
       "      <td>1</td>\n",
       "      <td>credit_card</td>\n",
       "      <td>3</td>\n",
       "      <td>157.60</td>\n",
       "    </tr>\n",
       "    <tr>\n",
       "      <th>63353</th>\n",
       "      <td>0005f50442cb953dcd1d21e1fb923495</td>\n",
       "      <td>1</td>\n",
       "      <td>credit_card</td>\n",
       "      <td>1</td>\n",
       "      <td>65.39</td>\n",
       "    </tr>\n",
       "  </tbody>\n",
       "</table>\n",
       "</div>"
      ],
      "text/plain": [
       "                                order_id  sequential         type  \\\n",
       "85283   00010242fe8c5a6d1ba2dd792cb16214           1  credit_card   \n",
       "2499    00018f77f2f0320c557190d7a144bdd3           1  credit_card   \n",
       "12393   000229ec398224ef6ca0657da4fc703e           1  credit_card   \n",
       "32971   00024acbcdf0a6daa1e931b038114c75           1  credit_card   \n",
       "98711   00042b26cf59d7ce69dfabb4e55b4fd9           1  credit_card   \n",
       "50570   00048cc3ae777c65dbb7d2a0634bc1ea           1       boleto   \n",
       "35027   00054e8431b9d7675808bcb819fb4a32           1  credit_card   \n",
       "22082   000576fe39319847cbb9d288c5617fa6           1  credit_card   \n",
       "100792  0005a1a1728c9d785b8e2b08b904576c           1  credit_card   \n",
       "63353   0005f50442cb953dcd1d21e1fb923495           1  credit_card   \n",
       "\n",
       "        installments   value  \n",
       "85283              2   72.19  \n",
       "2499               3  259.83  \n",
       "12393              5  216.87  \n",
       "32971              2   25.78  \n",
       "98711              3  218.04  \n",
       "50570              1   34.59  \n",
       "35027              1   31.75  \n",
       "22082             10  880.75  \n",
       "100792             3  157.60  \n",
       "63353              1   65.39  "
      ]
     },
     "execution_count": 4,
     "metadata": {},
     "output_type": "execute_result"
    }
   ],
   "source": [
    "donnees = pd.read_csv(os.path.join('ebrasil', 'olist_order_payments_dataset.csv'))\n",
    "donnees.rename(columns={col:col.replace('payment_','') for col in donnees.columns[1:]},inplace=True)\n",
    "donnees.sort_values(['order_id','sequential']).head(10)"
   ]
  },
  {
   "cell_type": "code",
   "execution_count": 5,
   "metadata": {},
   "outputs": [
    {
     "name": "stdout",
     "output_type": "stream",
     "text": [
      "<class 'pandas.core.frame.DataFrame'>\n",
      "RangeIndex: 103886 entries, 0 to 103885\n",
      "Data columns (total 5 columns):\n",
      " #   Column        Non-Null Count   Dtype  \n",
      "---  ------        --------------   -----  \n",
      " 0   order_id      103886 non-null  object \n",
      " 1   sequential    103886 non-null  int64  \n",
      " 2   type          103886 non-null  object \n",
      " 3   installments  103886 non-null  int64  \n",
      " 4   value         103886 non-null  float64\n",
      "dtypes: float64(1), int64(2), object(2)\n",
      "memory usage: 4.0+ MB\n"
     ]
    }
   ],
   "source": [
    "donnees.info()"
   ]
  },
  {
   "cell_type": "code",
   "execution_count": 6,
   "metadata": {},
   "outputs": [
    {
     "data": {
      "text/plain": [
       "Index(['order_id', 'sequential', 'type', 'installments', 'value'], dtype='object')"
      ]
     },
     "execution_count": 6,
     "metadata": {},
     "output_type": "execute_result"
    }
   ],
   "source": [
    "donnees.columns"
   ]
  },
  {
   "cell_type": "code",
   "execution_count": 7,
   "metadata": {},
   "outputs": [],
   "source": [
    "payments = donnees.pivot_table( index='order_id',columns='type',\n",
    "                     values=['installments','value'],\n",
    "                     fill_value=0, dropna=False)\n",
    "payments.columns = [col[0].replace('installments','int')+'_'+col[1] for col in payments.columns]\n",
    "payments[['int_boleto',\n",
    "          'int_credit_card',\n",
    "          'int_debit_card',\n",
    "          'int_not_defined',\n",
    "          'int_voucher']]  = payments[['int_boleto',\n",
    "                                       'int_credit_card',\n",
    "                                       'int_debit_card',\n",
    "                                       'int_not_defined',\n",
    "                                       'int_voucher']].astype('int8')"
   ]
  },
  {
   "cell_type": "code",
   "execution_count": 8,
   "metadata": {},
   "outputs": [
    {
     "data": {
      "text/html": [
       "<div>\n",
       "<style scoped>\n",
       "    .dataframe tbody tr th:only-of-type {\n",
       "        vertical-align: middle;\n",
       "    }\n",
       "\n",
       "    .dataframe tbody tr th {\n",
       "        vertical-align: top;\n",
       "    }\n",
       "\n",
       "    .dataframe thead th {\n",
       "        text-align: right;\n",
       "    }\n",
       "</style>\n",
       "<table border=\"1\" class=\"dataframe\">\n",
       "  <thead>\n",
       "    <tr style=\"text-align: right;\">\n",
       "      <th></th>\n",
       "      <th>int_boleto</th>\n",
       "      <th>int_credit_card</th>\n",
       "      <th>int_debit_card</th>\n",
       "      <th>int_not_defined</th>\n",
       "      <th>int_voucher</th>\n",
       "      <th>value_boleto</th>\n",
       "      <th>value_credit_card</th>\n",
       "      <th>value_debit_card</th>\n",
       "      <th>value_not_defined</th>\n",
       "      <th>value_voucher</th>\n",
       "    </tr>\n",
       "    <tr>\n",
       "      <th>order_id</th>\n",
       "      <th></th>\n",
       "      <th></th>\n",
       "      <th></th>\n",
       "      <th></th>\n",
       "      <th></th>\n",
       "      <th></th>\n",
       "      <th></th>\n",
       "      <th></th>\n",
       "      <th></th>\n",
       "      <th></th>\n",
       "    </tr>\n",
       "  </thead>\n",
       "  <tbody>\n",
       "    <tr>\n",
       "      <th>00010242fe8c5a6d1ba2dd792cb16214</th>\n",
       "      <td>0</td>\n",
       "      <td>2</td>\n",
       "      <td>0</td>\n",
       "      <td>0</td>\n",
       "      <td>0</td>\n",
       "      <td>0.0</td>\n",
       "      <td>72.19</td>\n",
       "      <td>0.0</td>\n",
       "      <td>0.0</td>\n",
       "      <td>0.0</td>\n",
       "    </tr>\n",
       "    <tr>\n",
       "      <th>00018f77f2f0320c557190d7a144bdd3</th>\n",
       "      <td>0</td>\n",
       "      <td>3</td>\n",
       "      <td>0</td>\n",
       "      <td>0</td>\n",
       "      <td>0</td>\n",
       "      <td>0.0</td>\n",
       "      <td>259.83</td>\n",
       "      <td>0.0</td>\n",
       "      <td>0.0</td>\n",
       "      <td>0.0</td>\n",
       "    </tr>\n",
       "    <tr>\n",
       "      <th>000229ec398224ef6ca0657da4fc703e</th>\n",
       "      <td>0</td>\n",
       "      <td>5</td>\n",
       "      <td>0</td>\n",
       "      <td>0</td>\n",
       "      <td>0</td>\n",
       "      <td>0.0</td>\n",
       "      <td>216.87</td>\n",
       "      <td>0.0</td>\n",
       "      <td>0.0</td>\n",
       "      <td>0.0</td>\n",
       "    </tr>\n",
       "    <tr>\n",
       "      <th>00024acbcdf0a6daa1e931b038114c75</th>\n",
       "      <td>0</td>\n",
       "      <td>2</td>\n",
       "      <td>0</td>\n",
       "      <td>0</td>\n",
       "      <td>0</td>\n",
       "      <td>0.0</td>\n",
       "      <td>25.78</td>\n",
       "      <td>0.0</td>\n",
       "      <td>0.0</td>\n",
       "      <td>0.0</td>\n",
       "    </tr>\n",
       "    <tr>\n",
       "      <th>00042b26cf59d7ce69dfabb4e55b4fd9</th>\n",
       "      <td>0</td>\n",
       "      <td>3</td>\n",
       "      <td>0</td>\n",
       "      <td>0</td>\n",
       "      <td>0</td>\n",
       "      <td>0.0</td>\n",
       "      <td>218.04</td>\n",
       "      <td>0.0</td>\n",
       "      <td>0.0</td>\n",
       "      <td>0.0</td>\n",
       "    </tr>\n",
       "  </tbody>\n",
       "</table>\n",
       "</div>"
      ],
      "text/plain": [
       "                                  int_boleto  int_credit_card  int_debit_card  \\\n",
       "order_id                                                                        \n",
       "00010242fe8c5a6d1ba2dd792cb16214           0                2               0   \n",
       "00018f77f2f0320c557190d7a144bdd3           0                3               0   \n",
       "000229ec398224ef6ca0657da4fc703e           0                5               0   \n",
       "00024acbcdf0a6daa1e931b038114c75           0                2               0   \n",
       "00042b26cf59d7ce69dfabb4e55b4fd9           0                3               0   \n",
       "\n",
       "                                  int_not_defined  int_voucher  value_boleto  \\\n",
       "order_id                                                                       \n",
       "00010242fe8c5a6d1ba2dd792cb16214                0            0           0.0   \n",
       "00018f77f2f0320c557190d7a144bdd3                0            0           0.0   \n",
       "000229ec398224ef6ca0657da4fc703e                0            0           0.0   \n",
       "00024acbcdf0a6daa1e931b038114c75                0            0           0.0   \n",
       "00042b26cf59d7ce69dfabb4e55b4fd9                0            0           0.0   \n",
       "\n",
       "                                  value_credit_card  value_debit_card  \\\n",
       "order_id                                                                \n",
       "00010242fe8c5a6d1ba2dd792cb16214              72.19               0.0   \n",
       "00018f77f2f0320c557190d7a144bdd3             259.83               0.0   \n",
       "000229ec398224ef6ca0657da4fc703e             216.87               0.0   \n",
       "00024acbcdf0a6daa1e931b038114c75              25.78               0.0   \n",
       "00042b26cf59d7ce69dfabb4e55b4fd9             218.04               0.0   \n",
       "\n",
       "                                  value_not_defined  value_voucher  \n",
       "order_id                                                            \n",
       "00010242fe8c5a6d1ba2dd792cb16214                0.0            0.0  \n",
       "00018f77f2f0320c557190d7a144bdd3                0.0            0.0  \n",
       "000229ec398224ef6ca0657da4fc703e                0.0            0.0  \n",
       "00024acbcdf0a6daa1e931b038114c75                0.0            0.0  \n",
       "00042b26cf59d7ce69dfabb4e55b4fd9                0.0            0.0  "
      ]
     },
     "execution_count": 8,
     "metadata": {},
     "output_type": "execute_result"
    }
   ],
   "source": [
    "payments.head()"
   ]
  },
  {
   "cell_type": "code",
   "execution_count": 9,
   "metadata": {},
   "outputs": [
    {
     "name": "stdout",
     "output_type": "stream",
     "text": [
      "<class 'pandas.core.frame.DataFrame'>\n",
      "Index: 99440 entries, 00010242fe8c5a6d1ba2dd792cb16214 to fffe41c64501cc87c801fd61db3f6244\n",
      "Data columns (total 10 columns):\n",
      " #   Column             Non-Null Count  Dtype  \n",
      "---  ------             --------------  -----  \n",
      " 0   int_boleto         99440 non-null  int8   \n",
      " 1   int_credit_card    99440 non-null  int8   \n",
      " 2   int_debit_card     99440 non-null  int8   \n",
      " 3   int_not_defined    99440 non-null  int8   \n",
      " 4   int_voucher        99440 non-null  int8   \n",
      " 5   value_boleto       99440 non-null  float64\n",
      " 6   value_credit_card  99440 non-null  float64\n",
      " 7   value_debit_card   99440 non-null  float64\n",
      " 8   value_not_defined  99440 non-null  float64\n",
      " 9   value_voucher      99440 non-null  float64\n",
      "dtypes: float64(5), int8(5)\n",
      "memory usage: 5.0+ MB\n"
     ]
    }
   ],
   "source": [
    "payments.info()"
   ]
  },
  {
   "cell_type": "markdown",
   "metadata": {},
   "source": [
    "## Sauvegarde en parquet"
   ]
  },
  {
   "cell_type": "code",
   "execution_count": 10,
   "metadata": {},
   "outputs": [],
   "source": [
    "payments.to_parquet('./ecommerce/payments.parquet',compression='gzip', engine='pyarrow')"
   ]
  },
  {
   "cell_type": "code",
   "execution_count": 11,
   "metadata": {},
   "outputs": [
    {
     "name": "stdout",
     "output_type": "stream",
     "text": [
      "<class 'pandas.core.frame.DataFrame'>\n",
      "Index: 99440 entries, 00010242fe8c5a6d1ba2dd792cb16214 to fffe41c64501cc87c801fd61db3f6244\n",
      "Data columns (total 10 columns):\n",
      " #   Column             Non-Null Count  Dtype  \n",
      "---  ------             --------------  -----  \n",
      " 0   int_boleto         99440 non-null  int8   \n",
      " 1   int_credit_card    99440 non-null  int8   \n",
      " 2   int_debit_card     99440 non-null  int8   \n",
      " 3   int_not_defined    99440 non-null  int8   \n",
      " 4   int_voucher        99440 non-null  int8   \n",
      " 5   value_boleto       99440 non-null  float64\n",
      " 6   value_credit_card  99440 non-null  float64\n",
      " 7   value_debit_card   99440 non-null  float64\n",
      " 8   value_not_defined  99440 non-null  float64\n",
      " 9   value_voucher      99440 non-null  float64\n",
      "dtypes: float64(5), int8(5)\n",
      "memory usage: 5.0+ MB\n"
     ]
    }
   ],
   "source": [
    "pd.read_parquet('./ecommerce/payments.parquet').info()"
   ]
  },
  {
   "cell_type": "code",
   "execution_count": 12,
   "metadata": {},
   "outputs": [
    {
     "name": "stdout",
     "output_type": "stream",
     "text": [
      " Le volume dans le lecteur F s'appelle Data\n",
      " Le num‚ro de s‚rie du volume est D4F7-8E12\n",
      "\n",
      " R‚pertoire de F:\\PythonFormation\\donnees\\ecommerce\n",
      "\n",
      "14/02/2024  15:37    <DIR>          .\n",
      "14/02/2024  15:37    <DIR>          ..\n",
      "14/02/2024  15:45         4ÿ525ÿ883 customers.parquet\n",
      "14/02/2024  15:37         1ÿ122ÿ602 geolocation.parquet\n",
      "14/02/2024  15:46         4ÿ425ÿ246 items.parquet\n",
      "14/02/2024  15:46         4ÿ527ÿ569 items_products.parquet\n",
      "14/02/2024  15:45        27ÿ443ÿ040 orders.csv\n",
      "14/02/2024  15:45         9ÿ269ÿ678 orders.parquet\n",
      "14/02/2024  14:59         9ÿ725ÿ278 orders_payments.parquet\n",
      "14/02/2024  15:00        11ÿ010ÿ093 orders_payments_reviews_p.parquet\n",
      "14/02/2024  15:46         2ÿ375ÿ117 payments.parquet\n",
      "14/02/2024  15:46           963ÿ000 products.parquet\n",
      "14/02/2024  14:59         7ÿ858ÿ269 reviews.parquet\n",
      "14/02/2024  14:59         3ÿ201ÿ554 reviews_p.parquet\n",
      "14/02/2024  15:06            91ÿ808 sellers.parquet\n",
      "              13 fichier(s)       86ÿ539ÿ137 octets\n",
      "               2 R‚p(s)  86ÿ205ÿ362ÿ176 octets libres\n"
     ]
    }
   ],
   "source": [
    "!dir ecommerce"
   ]
  },
  {
   "cell_type": "code",
   "execution_count": 13,
   "metadata": {},
   "outputs": [],
   "source": [
    "orders = pd.read_parquet('./ecommerce/orders.parquet')"
   ]
  },
  {
   "cell_type": "code",
   "execution_count": 14,
   "metadata": {},
   "outputs": [],
   "source": [
    "donnees = orders.merge(payments,how='left',on='order_id')"
   ]
  },
  {
   "cell_type": "code",
   "execution_count": 15,
   "metadata": {},
   "outputs": [
    {
     "data": {
      "text/html": [
       "<div>\n",
       "<style scoped>\n",
       "    .dataframe tbody tr th:only-of-type {\n",
       "        vertical-align: middle;\n",
       "    }\n",
       "\n",
       "    .dataframe tbody tr th {\n",
       "        vertical-align: top;\n",
       "    }\n",
       "\n",
       "    .dataframe thead th {\n",
       "        text-align: right;\n",
       "    }\n",
       "</style>\n",
       "<table border=\"1\" class=\"dataframe\">\n",
       "  <thead>\n",
       "    <tr style=\"text-align: right;\">\n",
       "      <th></th>\n",
       "      <th>order_id</th>\n",
       "      <th>customer_id</th>\n",
       "      <th>purchase_timestamp</th>\n",
       "      <th>approved_at</th>\n",
       "      <th>delivered_carrier</th>\n",
       "      <th>delivered_customer</th>\n",
       "      <th>estimated_delivery</th>\n",
       "      <th>status</th>\n",
       "      <th>annee</th>\n",
       "      <th>mois</th>\n",
       "      <th>...</th>\n",
       "      <th>int_boleto</th>\n",
       "      <th>int_credit_card</th>\n",
       "      <th>int_debit_card</th>\n",
       "      <th>int_not_defined</th>\n",
       "      <th>int_voucher</th>\n",
       "      <th>value_boleto</th>\n",
       "      <th>value_credit_card</th>\n",
       "      <th>value_debit_card</th>\n",
       "      <th>value_not_defined</th>\n",
       "      <th>value_voucher</th>\n",
       "    </tr>\n",
       "  </thead>\n",
       "  <tbody>\n",
       "    <tr>\n",
       "      <th>0</th>\n",
       "      <td>e481f51cbdc54678b7cc49136f2d6af7</td>\n",
       "      <td>9ef432eb6251297304e76186b10a928d</td>\n",
       "      <td>2017-10-02 10:56:33</td>\n",
       "      <td>2017-10-02 11:07:15</td>\n",
       "      <td>2017-10-04 19:55:00</td>\n",
       "      <td>2017-10-10 21:25:13</td>\n",
       "      <td>2017-10-18</td>\n",
       "      <td>delivered</td>\n",
       "      <td>2017</td>\n",
       "      <td>10</td>\n",
       "      <td>...</td>\n",
       "      <td>0.0</td>\n",
       "      <td>1.0</td>\n",
       "      <td>0.0</td>\n",
       "      <td>0.0</td>\n",
       "      <td>1.0</td>\n",
       "      <td>0.00</td>\n",
       "      <td>18.12</td>\n",
       "      <td>0.0</td>\n",
       "      <td>0.0</td>\n",
       "      <td>10.295</td>\n",
       "    </tr>\n",
       "    <tr>\n",
       "      <th>1</th>\n",
       "      <td>53cdb2fc8bc7dce0b6741e2150273451</td>\n",
       "      <td>b0830fb4747a6c6d20dea0b8c802d7ef</td>\n",
       "      <td>2018-07-24 20:41:37</td>\n",
       "      <td>2018-07-26 03:24:27</td>\n",
       "      <td>2018-07-26 14:31:00</td>\n",
       "      <td>2018-08-07 15:27:45</td>\n",
       "      <td>2018-08-13</td>\n",
       "      <td>delivered</td>\n",
       "      <td>2018</td>\n",
       "      <td>7</td>\n",
       "      <td>...</td>\n",
       "      <td>1.0</td>\n",
       "      <td>0.0</td>\n",
       "      <td>0.0</td>\n",
       "      <td>0.0</td>\n",
       "      <td>0.0</td>\n",
       "      <td>141.46</td>\n",
       "      <td>0.00</td>\n",
       "      <td>0.0</td>\n",
       "      <td>0.0</td>\n",
       "      <td>0.000</td>\n",
       "    </tr>\n",
       "    <tr>\n",
       "      <th>2</th>\n",
       "      <td>47770eb9100c2d0c44946d9cf07ec65d</td>\n",
       "      <td>41ce2a54c0b03bf3443c3d931a367089</td>\n",
       "      <td>2018-08-08 08:38:49</td>\n",
       "      <td>2018-08-08 08:55:23</td>\n",
       "      <td>2018-08-08 13:50:00</td>\n",
       "      <td>2018-08-17 18:06:29</td>\n",
       "      <td>2018-09-04</td>\n",
       "      <td>delivered</td>\n",
       "      <td>2018</td>\n",
       "      <td>8</td>\n",
       "      <td>...</td>\n",
       "      <td>0.0</td>\n",
       "      <td>3.0</td>\n",
       "      <td>0.0</td>\n",
       "      <td>0.0</td>\n",
       "      <td>0.0</td>\n",
       "      <td>0.00</td>\n",
       "      <td>179.12</td>\n",
       "      <td>0.0</td>\n",
       "      <td>0.0</td>\n",
       "      <td>0.000</td>\n",
       "    </tr>\n",
       "    <tr>\n",
       "      <th>3</th>\n",
       "      <td>949d5b44dbf5de918fe9c16f97b45f8a</td>\n",
       "      <td>f88197465ea7920adcdbec7375364d82</td>\n",
       "      <td>2017-11-18 19:28:06</td>\n",
       "      <td>2017-11-18 19:45:59</td>\n",
       "      <td>2017-11-22 13:39:59</td>\n",
       "      <td>2017-12-02 00:28:42</td>\n",
       "      <td>2017-12-15</td>\n",
       "      <td>delivered</td>\n",
       "      <td>2017</td>\n",
       "      <td>11</td>\n",
       "      <td>...</td>\n",
       "      <td>0.0</td>\n",
       "      <td>1.0</td>\n",
       "      <td>0.0</td>\n",
       "      <td>0.0</td>\n",
       "      <td>0.0</td>\n",
       "      <td>0.00</td>\n",
       "      <td>72.20</td>\n",
       "      <td>0.0</td>\n",
       "      <td>0.0</td>\n",
       "      <td>0.000</td>\n",
       "    </tr>\n",
       "    <tr>\n",
       "      <th>4</th>\n",
       "      <td>ad21c59c0840e6cb83a9ceb5573f8159</td>\n",
       "      <td>8ab97904e6daea8866dbdbc4fb7aad2c</td>\n",
       "      <td>2018-02-13 21:18:39</td>\n",
       "      <td>2018-02-13 22:20:29</td>\n",
       "      <td>2018-02-14 19:46:34</td>\n",
       "      <td>2018-02-16 18:17:02</td>\n",
       "      <td>2018-02-26</td>\n",
       "      <td>delivered</td>\n",
       "      <td>2018</td>\n",
       "      <td>2</td>\n",
       "      <td>...</td>\n",
       "      <td>0.0</td>\n",
       "      <td>1.0</td>\n",
       "      <td>0.0</td>\n",
       "      <td>0.0</td>\n",
       "      <td>0.0</td>\n",
       "      <td>0.00</td>\n",
       "      <td>28.62</td>\n",
       "      <td>0.0</td>\n",
       "      <td>0.0</td>\n",
       "      <td>0.000</td>\n",
       "    </tr>\n",
       "  </tbody>\n",
       "</table>\n",
       "<p>5 rows × 33 columns</p>\n",
       "</div>"
      ],
      "text/plain": [
       "                           order_id                       customer_id  \\\n",
       "0  e481f51cbdc54678b7cc49136f2d6af7  9ef432eb6251297304e76186b10a928d   \n",
       "1  53cdb2fc8bc7dce0b6741e2150273451  b0830fb4747a6c6d20dea0b8c802d7ef   \n",
       "2  47770eb9100c2d0c44946d9cf07ec65d  41ce2a54c0b03bf3443c3d931a367089   \n",
       "3  949d5b44dbf5de918fe9c16f97b45f8a  f88197465ea7920adcdbec7375364d82   \n",
       "4  ad21c59c0840e6cb83a9ceb5573f8159  8ab97904e6daea8866dbdbc4fb7aad2c   \n",
       "\n",
       "   purchase_timestamp         approved_at   delivered_carrier  \\\n",
       "0 2017-10-02 10:56:33 2017-10-02 11:07:15 2017-10-04 19:55:00   \n",
       "1 2018-07-24 20:41:37 2018-07-26 03:24:27 2018-07-26 14:31:00   \n",
       "2 2018-08-08 08:38:49 2018-08-08 08:55:23 2018-08-08 13:50:00   \n",
       "3 2017-11-18 19:28:06 2017-11-18 19:45:59 2017-11-22 13:39:59   \n",
       "4 2018-02-13 21:18:39 2018-02-13 22:20:29 2018-02-14 19:46:34   \n",
       "\n",
       "   delivered_customer estimated_delivery     status  annee  mois  ...  \\\n",
       "0 2017-10-10 21:25:13         2017-10-18  delivered   2017    10  ...   \n",
       "1 2018-08-07 15:27:45         2018-08-13  delivered   2018     7  ...   \n",
       "2 2018-08-17 18:06:29         2018-09-04  delivered   2018     8  ...   \n",
       "3 2017-12-02 00:28:42         2017-12-15  delivered   2017    11  ...   \n",
       "4 2018-02-16 18:17:02         2018-02-26  delivered   2018     2  ...   \n",
       "\n",
       "   int_boleto  int_credit_card  int_debit_card  int_not_defined  int_voucher  \\\n",
       "0         0.0              1.0             0.0              0.0          1.0   \n",
       "1         1.0              0.0             0.0              0.0          0.0   \n",
       "2         0.0              3.0             0.0              0.0          0.0   \n",
       "3         0.0              1.0             0.0              0.0          0.0   \n",
       "4         0.0              1.0             0.0              0.0          0.0   \n",
       "\n",
       "   value_boleto  value_credit_card  value_debit_card  value_not_defined  \\\n",
       "0          0.00              18.12               0.0                0.0   \n",
       "1        141.46               0.00               0.0                0.0   \n",
       "2          0.00             179.12               0.0                0.0   \n",
       "3          0.00              72.20               0.0                0.0   \n",
       "4          0.00              28.62               0.0                0.0   \n",
       "\n",
       "   value_voucher  \n",
       "0         10.295  \n",
       "1          0.000  \n",
       "2          0.000  \n",
       "3          0.000  \n",
       "4          0.000  \n",
       "\n",
       "[5 rows x 33 columns]"
      ]
     },
     "execution_count": 15,
     "metadata": {},
     "output_type": "execute_result"
    }
   ],
   "source": [
    "donnees.head()"
   ]
  },
  {
   "cell_type": "code",
   "execution_count": 16,
   "metadata": {},
   "outputs": [],
   "source": [
    "donnees.to_parquet('./ecommerce/orders_payments.parquet',compression='gzip', engine='pyarrow')"
   ]
  },
  {
   "cell_type": "code",
   "execution_count": 17,
   "metadata": {},
   "outputs": [
    {
     "data": {
      "text/plain": [
       "(99441, 33)"
      ]
     },
     "execution_count": 17,
     "metadata": {},
     "output_type": "execute_result"
    }
   ],
   "source": [
    "donnees.shape"
   ]
  },
  {
   "cell_type": "code",
   "execution_count": null,
   "metadata": {},
   "outputs": [],
   "source": []
  }
 ],
 "metadata": {
  "kernelspec": {
   "display_name": "Python 3 (ipykernel)",
   "language": "python",
   "name": "python3"
  },
  "language_info": {
   "codemirror_mode": {
    "name": "ipython",
    "version": 3
   },
   "file_extension": ".py",
   "mimetype": "text/x-python",
   "name": "python",
   "nbconvert_exporter": "python",
   "pygments_lexer": "ipython3",
   "version": "3.10.13"
  },
  "toc": {
   "base_numbering": 1,
   "nav_menu": {
    "height": "192.133px",
    "width": "731.133px"
   },
   "number_sections": true,
   "sideBar": true,
   "skip_h1_title": false,
   "title_cell": "Table of Contents",
   "title_sidebar": "Contents",
   "toc_cell": true,
   "toc_position": {
    "height": "calc(100% - 180px)",
    "left": "10px",
    "top": "150px",
    "width": "165px"
   },
   "toc_section_display": true,
   "toc_window_display": true
  }
 },
 "nbformat": 4,
 "nbformat_minor": 4
}

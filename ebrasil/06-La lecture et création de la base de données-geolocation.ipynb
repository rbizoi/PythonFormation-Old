{
 "cells": [
  {
   "cell_type": "markdown",
   "metadata": {
    "ExecuteTime": {
     "end_time": "2020-10-24T12:16:35.438079Z",
     "start_time": "2020-10-24T12:16:35.433094Z"
    }
   },
   "source": [
    "<img src=\"https://raw.githubusercontent.com/rbizoi/PythonFormation/main/images/e-brasil.png\" width=\"850\">"
   ]
  },
  {
   "cell_type": "markdown",
   "metadata": {},
   "source": [
    "# Les imports et initialisations des variables"
   ]
  },
  {
   "cell_type": "code",
   "execution_count": 1,
   "metadata": {
    "ExecuteTime": {
     "end_time": "2020-10-24T18:39:25.948711Z",
     "start_time": "2020-10-24T18:39:24.506560Z"
    }
   },
   "outputs": [],
   "source": [
    "from datetime import datetime\n",
    "import pandas as pd, numpy as np, os, warnings, seaborn as sns, pickle, re, unicodedata\n",
    "from datetime import datetime as dt\n",
    "import matplotlib.pyplot as plt\n",
    "import matplotlib.font_manager as fm\n",
    "\n",
    "font1 = fm.FontProperties(size=20)\n",
    "font2 = fm.FontProperties(size=24)\n",
    "\n",
    "%matplotlib inline\n",
    "\n",
    "if int(str(sns.__version__).split('.')[1]) > 8 : \n",
    "    plt.style.use('seaborn-v0_8-darkgrid')\n",
    "else:\n",
    "    plt.style.use('seaborn-darkgrid')\n",
    "    \n",
    "sns.set(font_scale=2)\n",
    "warnings.filterwarnings(action=\"ignore\")"
   ]
  },
  {
   "cell_type": "markdown",
   "metadata": {},
   "source": [
    "## Liste fichiers de données "
   ]
  },
  {
   "cell_type": "code",
   "execution_count": 2,
   "metadata": {},
   "outputs": [
    {
     "name": "stdout",
     "output_type": "stream",
     "text": [
      " Le volume dans le lecteur F s'appelle Data\n",
      " Le num‚ro de s‚rie du volume est D4F7-8E12\n",
      "\n",
      " R‚pertoire de F:\\PythonFormation\\donnees\\ebrasil\n",
      "\n",
      "14/02/2024  09:47    <DIR>          .\n",
      "14/02/2024  09:47    <DIR>          ..\n",
      "06/10/2019  20:27         9ÿ033ÿ957 olist_customers_dataset.csv\n",
      "06/10/2019  20:27        61ÿ273ÿ883 olist_geolocation_dataset.csv\n",
      "06/10/2019  20:27        17ÿ654ÿ914 olist_orders_dataset.csv\n",
      "06/10/2019  20:27        15ÿ438ÿ671 olist_order_items_dataset.csv\n",
      "06/10/2019  20:27         5ÿ777ÿ138 olist_order_payments_dataset.csv\n",
      "06/10/2019  20:27        14ÿ409ÿ007 olist_order_reviews_dataset.csv\n",
      "06/10/2019  20:27         2ÿ379ÿ446 olist_products_dataset.csv\n",
      "28/09/2020  07:52           177ÿ799 olist_sellers_dataset.csv\n",
      "17/01/2024  08:49             2ÿ542 product_category_name_translation.csv\n",
      "               9 fichier(s)      126ÿ147ÿ357 octets\n",
      "               2 R‚p(s)  86ÿ159ÿ405ÿ056 octets libres\n"
     ]
    }
   ],
   "source": [
    "!dir ..\\donnees\\ebrasil"
   ]
  },
  {
   "cell_type": "markdown",
   "metadata": {},
   "source": [
    "## Changement de répertoire"
   ]
  },
  {
   "cell_type": "code",
   "execution_count": 3,
   "metadata": {},
   "outputs": [],
   "source": [
    "os.chdir(r\"../donnees\")"
   ]
  },
  {
   "cell_type": "markdown",
   "metadata": {},
   "source": [
    "## Fonctions utilitaires "
   ]
  },
  {
   "cell_type": "code",
   "execution_count": 4,
   "metadata": {
    "ExecuteTime": {
     "end_time": "2020-10-24T18:39:25.953636Z",
     "start_time": "2020-10-24T18:39:25.949645Z"
    }
   },
   "outputs": [],
   "source": [
    "def nettoyer(valeur):\n",
    "    nk = unicodedata.normalize('NFKD', valeur.lower())\n",
    "    valeur = str(nk.encode('ASCII', 'ignore').decode('ASCII'))\n",
    "    return re.compile('[^\\w ]').sub('', valeur).strip().replace('  ',' ')"
   ]
  },
  {
   "cell_type": "markdown",
   "metadata": {},
   "source": [
    "# DataFrame $items$"
   ]
  },
  {
   "cell_type": "code",
   "execution_count": 5,
   "metadata": {
    "ExecuteTime": {
     "end_time": "2020-10-24T18:39:30.280754Z",
     "start_time": "2020-10-24T18:39:30.277762Z"
    }
   },
   "outputs": [],
   "source": [
    "donnees = pd.read_csv(os.path.join('ebrasil', 'olist_geolocation_dataset.csv'))\n",
    "donnees.rename(columns={col:col.replace('geolocation_','').replace('_prefix','') for col in donnees.columns},inplace=True)\n",
    "dictEtats = {'AC':'Acre',              \n",
    "             'AL':'Alagoas',\n",
    "             'AP':'Amapá',\n",
    "             'AM':'Amazonas',\n",
    "             'BA':'Bahia',\n",
    "             'CE':'Ceará',\n",
    "             'ES':'Espírito Santo',\n",
    "             'GO':'Goiás',\n",
    "             'MA':'Maranhão',\n",
    "             'MT':'Mato Grosso',\n",
    "             'MS':'Mato Grosso do Sul', \n",
    "             'MG':'Minas Gerais',\n",
    "             'PA':'Pará',\n",
    "             'PB':'Paraïba',\n",
    "             'PR':'Paraná',\n",
    "             'PE':'Pernambouc',\n",
    "             'PI':'Piauí',\n",
    "             'RJ':'Rio de Janeiro',\n",
    "             'RN':'Rio Grande do Norte',  \n",
    "             'RS':'Rio Grande do Sul',\n",
    "             'RO':'Rondônia',\n",
    "             'RR':'Roraima',\n",
    "             'SC':'Santa Catarina',\n",
    "             'SP':'São Paulo',\n",
    "             'SE':'Sergipe',\n",
    "             'TO':'Tocantins',\n",
    "             'DF':'District fédéral'} \n",
    "donnees['state'] = donnees['state'].apply(lambda x : dictEtats[x])\n",
    "donnees['zip_code'] = donnees['zip_code'].astype('int32')"
   ]
  },
  {
   "cell_type": "code",
   "execution_count": 6,
   "metadata": {},
   "outputs": [
    {
     "data": {
      "text/plain": [
       "Index(['zip_code', 'lat', 'lng', 'city', 'state'], dtype='object')"
      ]
     },
     "execution_count": 6,
     "metadata": {},
     "output_type": "execute_result"
    }
   ],
   "source": [
    "donnees.columns"
   ]
  },
  {
   "cell_type": "code",
   "execution_count": 7,
   "metadata": {
    "ExecuteTime": {
     "end_time": "2020-10-24T18:39:30.710634Z",
     "start_time": "2020-10-24T18:39:30.698667Z"
    }
   },
   "outputs": [
    {
     "data": {
      "text/html": [
       "<div>\n",
       "<style scoped>\n",
       "    .dataframe tbody tr th:only-of-type {\n",
       "        vertical-align: middle;\n",
       "    }\n",
       "\n",
       "    .dataframe tbody tr th {\n",
       "        vertical-align: top;\n",
       "    }\n",
       "\n",
       "    .dataframe thead th {\n",
       "        text-align: right;\n",
       "    }\n",
       "</style>\n",
       "<table border=\"1\" class=\"dataframe\">\n",
       "  <thead>\n",
       "    <tr style=\"text-align: right;\">\n",
       "      <th></th>\n",
       "      <th>zip_code</th>\n",
       "      <th>lat</th>\n",
       "      <th>lng</th>\n",
       "      <th>city</th>\n",
       "      <th>state</th>\n",
       "    </tr>\n",
       "  </thead>\n",
       "  <tbody>\n",
       "    <tr>\n",
       "      <th>0</th>\n",
       "      <td>1037</td>\n",
       "      <td>-23.545621</td>\n",
       "      <td>-46.639292</td>\n",
       "      <td>sao paulo</td>\n",
       "      <td>São Paulo</td>\n",
       "    </tr>\n",
       "    <tr>\n",
       "      <th>1</th>\n",
       "      <td>1046</td>\n",
       "      <td>-23.546081</td>\n",
       "      <td>-46.644820</td>\n",
       "      <td>sao paulo</td>\n",
       "      <td>São Paulo</td>\n",
       "    </tr>\n",
       "    <tr>\n",
       "      <th>2</th>\n",
       "      <td>1046</td>\n",
       "      <td>-23.546129</td>\n",
       "      <td>-46.642951</td>\n",
       "      <td>sao paulo</td>\n",
       "      <td>São Paulo</td>\n",
       "    </tr>\n",
       "    <tr>\n",
       "      <th>3</th>\n",
       "      <td>1041</td>\n",
       "      <td>-23.544392</td>\n",
       "      <td>-46.639499</td>\n",
       "      <td>sao paulo</td>\n",
       "      <td>São Paulo</td>\n",
       "    </tr>\n",
       "    <tr>\n",
       "      <th>4</th>\n",
       "      <td>1035</td>\n",
       "      <td>-23.541578</td>\n",
       "      <td>-46.641607</td>\n",
       "      <td>sao paulo</td>\n",
       "      <td>São Paulo</td>\n",
       "    </tr>\n",
       "  </tbody>\n",
       "</table>\n",
       "</div>"
      ],
      "text/plain": [
       "   zip_code        lat        lng       city      state\n",
       "0      1037 -23.545621 -46.639292  sao paulo  São Paulo\n",
       "1      1046 -23.546081 -46.644820  sao paulo  São Paulo\n",
       "2      1046 -23.546129 -46.642951  sao paulo  São Paulo\n",
       "3      1041 -23.544392 -46.639499  sao paulo  São Paulo\n",
       "4      1035 -23.541578 -46.641607  sao paulo  São Paulo"
      ]
     },
     "execution_count": 7,
     "metadata": {},
     "output_type": "execute_result"
    }
   ],
   "source": [
    "donnees.head()"
   ]
  },
  {
   "cell_type": "code",
   "execution_count": 8,
   "metadata": {
    "ExecuteTime": {
     "end_time": "2020-10-24T18:39:31.137574Z",
     "start_time": "2020-10-24T18:39:31.131590Z"
    }
   },
   "outputs": [
    {
     "data": {
      "text/plain": [
       "zip_code      int32\n",
       "lat         float64\n",
       "lng         float64\n",
       "city         object\n",
       "state        object\n",
       "dtype: object"
      ]
     },
     "execution_count": 8,
     "metadata": {},
     "output_type": "execute_result"
    }
   ],
   "source": [
    "donnees.dtypes"
   ]
  },
  {
   "cell_type": "code",
   "execution_count": 9,
   "metadata": {},
   "outputs": [
    {
     "data": {
      "text/plain": [
       "14994"
      ]
     },
     "execution_count": 9,
     "metadata": {},
     "output_type": "execute_result"
    }
   ],
   "source": [
    "pd.read_parquet('./ecommerce/customers.parquet').zip_code.nunique()"
   ]
  },
  {
   "cell_type": "code",
   "execution_count": 10,
   "metadata": {},
   "outputs": [
    {
     "data": {
      "text/plain": [
       "2246"
      ]
     },
     "execution_count": 10,
     "metadata": {},
     "output_type": "execute_result"
    }
   ],
   "source": [
    "pd.read_parquet('./ecommerce/sellers.parquet').zip_code.nunique()"
   ]
  },
  {
   "cell_type": "code",
   "execution_count": 11,
   "metadata": {},
   "outputs": [
    {
     "data": {
      "text/plain": [
       "(1000163, 5)"
      ]
     },
     "execution_count": 11,
     "metadata": {},
     "output_type": "execute_result"
    }
   ],
   "source": [
    "donnees.shape"
   ]
  },
  {
   "cell_type": "code",
   "execution_count": 13,
   "metadata": {},
   "outputs": [
    {
     "data": {
      "text/plain": [
       "19015"
      ]
     },
     "execution_count": 13,
     "metadata": {},
     "output_type": "execute_result"
    }
   ],
   "source": [
    "donnees.zip_code.nunique()"
   ]
  },
  {
   "cell_type": "code",
   "execution_count": 12,
   "metadata": {},
   "outputs": [
    {
     "data": {
      "text/plain": [
       "(27912, 3)"
      ]
     },
     "execution_count": 12,
     "metadata": {},
     "output_type": "execute_result"
    }
   ],
   "source": [
    "donnees[['zip_code','city','state']].drop_duplicates().shape"
   ]
  },
  {
   "cell_type": "code",
   "execution_count": 14,
   "metadata": {
    "ExecuteTime": {
     "end_time": "2020-10-24T12:10:51.454651Z",
     "start_time": "2020-10-24T12:10:49.897814Z"
    }
   },
   "outputs": [],
   "source": [
    "donnees.city = donnees.city.apply(nettoyer)"
   ]
  },
  {
   "cell_type": "code",
   "execution_count": 15,
   "metadata": {},
   "outputs": [
    {
     "data": {
      "text/plain": [
       "(19581, 3)"
      ]
     },
     "execution_count": 15,
     "metadata": {},
     "output_type": "execute_result"
    }
   ],
   "source": [
    "donnees[['zip_code','city','state']].drop_duplicates().shape"
   ]
  },
  {
   "cell_type": "code",
   "execution_count": 11,
   "metadata": {
    "ExecuteTime": {
     "end_time": "2020-10-24T12:10:52.576089Z",
     "start_time": "2020-10-24T12:10:52.560133Z"
    }
   },
   "outputs": [
    {
     "data": {
      "text/plain": [
       "19015"
      ]
     },
     "execution_count": 11,
     "metadata": {},
     "output_type": "execute_result"
    }
   ],
   "source": [
    "donnees.zip_code.nunique()"
   ]
  },
  {
   "cell_type": "code",
   "execution_count": 34,
   "metadata": {
    "ExecuteTime": {
     "end_time": "2020-10-24T12:10:56.766635Z",
     "start_time": "2020-10-24T12:10:56.601076Z"
    }
   },
   "outputs": [
    {
     "data": {
      "text/plain": [
       "(27912, 3)"
      ]
     },
     "execution_count": 34,
     "metadata": {},
     "output_type": "execute_result"
    }
   ],
   "source": [
    "donnees[['zip_code','city','state']].drop_duplicates().shape"
   ]
  },
  {
   "cell_type": "code",
   "execution_count": 16,
   "metadata": {},
   "outputs": [],
   "source": [
    "geo01 = donnees.groupby(['zip_code']).agg({'lat':['min','max','mean'],\n",
    "                                           'lng':['min','max','mean']}).reset_index()\n",
    "geo01.columns = [geo01.columns[0][0]]+[ col[0]+'_'+col[1] for col in geo01.columns[1:] ]"
   ]
  },
  {
   "cell_type": "code",
   "execution_count": 17,
   "metadata": {},
   "outputs": [
    {
     "data": {
      "text/html": [
       "<div>\n",
       "<style scoped>\n",
       "    .dataframe tbody tr th:only-of-type {\n",
       "        vertical-align: middle;\n",
       "    }\n",
       "\n",
       "    .dataframe tbody tr th {\n",
       "        vertical-align: top;\n",
       "    }\n",
       "\n",
       "    .dataframe thead th {\n",
       "        text-align: right;\n",
       "    }\n",
       "</style>\n",
       "<table border=\"1\" class=\"dataframe\">\n",
       "  <thead>\n",
       "    <tr style=\"text-align: right;\">\n",
       "      <th></th>\n",
       "      <th>zip_code</th>\n",
       "      <th>lat_min</th>\n",
       "      <th>lat_max</th>\n",
       "      <th>lat_mean</th>\n",
       "      <th>lng_min</th>\n",
       "      <th>lng_max</th>\n",
       "      <th>lng_mean</th>\n",
       "    </tr>\n",
       "  </thead>\n",
       "  <tbody>\n",
       "    <tr>\n",
       "      <th>0</th>\n",
       "      <td>1001</td>\n",
       "      <td>-23.551427</td>\n",
       "      <td>-23.549292</td>\n",
       "      <td>-23.550190</td>\n",
       "      <td>-46.634410</td>\n",
       "      <td>-46.633559</td>\n",
       "      <td>-46.634024</td>\n",
       "    </tr>\n",
       "    <tr>\n",
       "      <th>1</th>\n",
       "      <td>1002</td>\n",
       "      <td>-23.548878</td>\n",
       "      <td>-23.544641</td>\n",
       "      <td>-23.548146</td>\n",
       "      <td>-46.636361</td>\n",
       "      <td>-46.633180</td>\n",
       "      <td>-46.634979</td>\n",
       "    </tr>\n",
       "    <tr>\n",
       "      <th>2</th>\n",
       "      <td>1003</td>\n",
       "      <td>-23.549083</td>\n",
       "      <td>-23.548901</td>\n",
       "      <td>-23.548994</td>\n",
       "      <td>-46.637157</td>\n",
       "      <td>-46.634862</td>\n",
       "      <td>-46.635731</td>\n",
       "    </tr>\n",
       "    <tr>\n",
       "      <th>3</th>\n",
       "      <td>1004</td>\n",
       "      <td>-23.550765</td>\n",
       "      <td>-23.549181</td>\n",
       "      <td>-23.549799</td>\n",
       "      <td>-46.635371</td>\n",
       "      <td>-46.634057</td>\n",
       "      <td>-46.634757</td>\n",
       "    </tr>\n",
       "    <tr>\n",
       "      <th>4</th>\n",
       "      <td>1005</td>\n",
       "      <td>-23.549980</td>\n",
       "      <td>-23.548758</td>\n",
       "      <td>-23.549456</td>\n",
       "      <td>-46.638411</td>\n",
       "      <td>-46.634768</td>\n",
       "      <td>-46.636733</td>\n",
       "    </tr>\n",
       "  </tbody>\n",
       "</table>\n",
       "</div>"
      ],
      "text/plain": [
       "   zip_code    lat_min    lat_max   lat_mean    lng_min    lng_max   lng_mean\n",
       "0      1001 -23.551427 -23.549292 -23.550190 -46.634410 -46.633559 -46.634024\n",
       "1      1002 -23.548878 -23.544641 -23.548146 -46.636361 -46.633180 -46.634979\n",
       "2      1003 -23.549083 -23.548901 -23.548994 -46.637157 -46.634862 -46.635731\n",
       "3      1004 -23.550765 -23.549181 -23.549799 -46.635371 -46.634057 -46.634757\n",
       "4      1005 -23.549980 -23.548758 -23.549456 -46.638411 -46.634768 -46.636733"
      ]
     },
     "execution_count": 17,
     "metadata": {},
     "output_type": "execute_result"
    }
   ],
   "source": [
    "geo01.head()"
   ]
  },
  {
   "cell_type": "code",
   "execution_count": 18,
   "metadata": {},
   "outputs": [
    {
     "data": {
      "text/plain": [
       "19015"
      ]
     },
     "execution_count": 18,
     "metadata": {},
     "output_type": "execute_result"
    }
   ],
   "source": [
    "geo01.zip_code.nunique()"
   ]
  },
  {
   "cell_type": "code",
   "execution_count": 20,
   "metadata": {},
   "outputs": [
    {
     "data": {
      "text/html": [
       "<div>\n",
       "<style scoped>\n",
       "    .dataframe tbody tr th:only-of-type {\n",
       "        vertical-align: middle;\n",
       "    }\n",
       "\n",
       "    .dataframe tbody tr th {\n",
       "        vertical-align: top;\n",
       "    }\n",
       "\n",
       "    .dataframe thead th {\n",
       "        text-align: right;\n",
       "    }\n",
       "</style>\n",
       "<table border=\"1\" class=\"dataframe\">\n",
       "  <thead>\n",
       "    <tr style=\"text-align: right;\">\n",
       "      <th></th>\n",
       "      <th>zip_code</th>\n",
       "      <th>lat</th>\n",
       "      <th>lng</th>\n",
       "      <th>city</th>\n",
       "      <th>state</th>\n",
       "      <th>rn</th>\n",
       "    </tr>\n",
       "  </thead>\n",
       "  <tbody>\n",
       "    <tr>\n",
       "      <th>326</th>\n",
       "      <td>1001</td>\n",
       "      <td>-23.551427</td>\n",
       "      <td>-46.634074</td>\n",
       "      <td>sao paulo</td>\n",
       "      <td>São Paulo</td>\n",
       "      <td>1</td>\n",
       "    </tr>\n",
       "    <tr>\n",
       "      <th>519</th>\n",
       "      <td>1001</td>\n",
       "      <td>-23.551337</td>\n",
       "      <td>-46.634027</td>\n",
       "      <td>sao paulo</td>\n",
       "      <td>São Paulo</td>\n",
       "      <td>2</td>\n",
       "    </tr>\n",
       "    <tr>\n",
       "      <th>583</th>\n",
       "      <td>1001</td>\n",
       "      <td>-23.551337</td>\n",
       "      <td>-46.634027</td>\n",
       "      <td>sao paulo</td>\n",
       "      <td>São Paulo</td>\n",
       "      <td>3</td>\n",
       "    </tr>\n",
       "    <tr>\n",
       "      <th>818</th>\n",
       "      <td>1001</td>\n",
       "      <td>-23.551337</td>\n",
       "      <td>-46.634027</td>\n",
       "      <td>sao paulo</td>\n",
       "      <td>São Paulo</td>\n",
       "      <td>4</td>\n",
       "    </tr>\n",
       "    <tr>\n",
       "      <th>235</th>\n",
       "      <td>1001</td>\n",
       "      <td>-23.550642</td>\n",
       "      <td>-46.634410</td>\n",
       "      <td>sao paulo</td>\n",
       "      <td>São Paulo</td>\n",
       "      <td>5</td>\n",
       "    </tr>\n",
       "    <tr>\n",
       "      <th>...</th>\n",
       "      <td>...</td>\n",
       "      <td>...</td>\n",
       "      <td>...</td>\n",
       "      <td>...</td>\n",
       "      <td>...</td>\n",
       "      <td>...</td>\n",
       "    </tr>\n",
       "    <tr>\n",
       "      <th>999972</th>\n",
       "      <td>99980</td>\n",
       "      <td>-28.386612</td>\n",
       "      <td>-51.846889</td>\n",
       "      <td>david canabarro</td>\n",
       "      <td>Rio Grande do Sul</td>\n",
       "      <td>24</td>\n",
       "    </tr>\n",
       "    <tr>\n",
       "      <th>999897</th>\n",
       "      <td>99980</td>\n",
       "      <td>-28.386408</td>\n",
       "      <td>-51.844876</td>\n",
       "      <td>david canabarro</td>\n",
       "      <td>Rio Grande do Sul</td>\n",
       "      <td>25</td>\n",
       "    </tr>\n",
       "    <tr>\n",
       "      <th>999764</th>\n",
       "      <td>99980</td>\n",
       "      <td>-28.386239</td>\n",
       "      <td>-51.847741</td>\n",
       "      <td>david canabarro</td>\n",
       "      <td>Rio Grande do Sul</td>\n",
       "      <td>26</td>\n",
       "    </tr>\n",
       "    <tr>\n",
       "      <th>999758</th>\n",
       "      <td>99990</td>\n",
       "      <td>-28.329718</td>\n",
       "      <td>-51.769615</td>\n",
       "      <td>muliterno</td>\n",
       "      <td>Rio Grande do Sul</td>\n",
       "      <td>1</td>\n",
       "    </tr>\n",
       "    <tr>\n",
       "      <th>999864</th>\n",
       "      <td>99990</td>\n",
       "      <td>-28.329472</td>\n",
       "      <td>-51.769109</td>\n",
       "      <td>muliterno</td>\n",
       "      <td>Rio Grande do Sul</td>\n",
       "      <td>2</td>\n",
       "    </tr>\n",
       "  </tbody>\n",
       "</table>\n",
       "<p>1000163 rows × 6 columns</p>\n",
       "</div>"
      ],
      "text/plain": [
       "        zip_code        lat        lng             city              state  rn\n",
       "326         1001 -23.551427 -46.634074        sao paulo          São Paulo   1\n",
       "519         1001 -23.551337 -46.634027        sao paulo          São Paulo   2\n",
       "583         1001 -23.551337 -46.634027        sao paulo          São Paulo   3\n",
       "818         1001 -23.551337 -46.634027        sao paulo          São Paulo   4\n",
       "235         1001 -23.550642 -46.634410        sao paulo          São Paulo   5\n",
       "...          ...        ...        ...              ...                ...  ..\n",
       "999972     99980 -28.386612 -51.846889  david canabarro  Rio Grande do Sul  24\n",
       "999897     99980 -28.386408 -51.844876  david canabarro  Rio Grande do Sul  25\n",
       "999764     99980 -28.386239 -51.847741  david canabarro  Rio Grande do Sul  26\n",
       "999758     99990 -28.329718 -51.769615        muliterno  Rio Grande do Sul   1\n",
       "999864     99990 -28.329472 -51.769109        muliterno  Rio Grande do Sul   2\n",
       "\n",
       "[1000163 rows x 6 columns]"
      ]
     },
     "execution_count": 20,
     "metadata": {},
     "output_type": "execute_result"
    }
   ],
   "source": [
    "donnees.assign( rn = donnees.sort_values(['city','lat','lng']\n",
    "                                                ).groupby(['zip_code']).cumcount()+1\n",
    "                      ).sort_values(['zip_code','rn'])"
   ]
  },
  {
   "cell_type": "code",
   "execution_count": 21,
   "metadata": {},
   "outputs": [],
   "source": [
    "geo02 = donnees.assign( rn = donnees.sort_values(['city','lat','lng']\n",
    "                                                ).groupby(['zip_code']).cumcount()+1\n",
    "                      ).query('rn < 2').sort_values(['zip_code','rn']).drop(columns=['rn','lat','lng'])"
   ]
  },
  {
   "cell_type": "code",
   "execution_count": 22,
   "metadata": {},
   "outputs": [
    {
     "data": {
      "text/html": [
       "<div>\n",
       "<style scoped>\n",
       "    .dataframe tbody tr th:only-of-type {\n",
       "        vertical-align: middle;\n",
       "    }\n",
       "\n",
       "    .dataframe tbody tr th {\n",
       "        vertical-align: top;\n",
       "    }\n",
       "\n",
       "    .dataframe thead th {\n",
       "        text-align: right;\n",
       "    }\n",
       "</style>\n",
       "<table border=\"1\" class=\"dataframe\">\n",
       "  <thead>\n",
       "    <tr style=\"text-align: right;\">\n",
       "      <th></th>\n",
       "      <th>zip_code</th>\n",
       "      <th>city</th>\n",
       "      <th>state</th>\n",
       "    </tr>\n",
       "  </thead>\n",
       "  <tbody>\n",
       "    <tr>\n",
       "      <th>326</th>\n",
       "      <td>1001</td>\n",
       "      <td>sao paulo</td>\n",
       "      <td>São Paulo</td>\n",
       "    </tr>\n",
       "    <tr>\n",
       "      <th>720</th>\n",
       "      <td>1002</td>\n",
       "      <td>sao paulo</td>\n",
       "      <td>São Paulo</td>\n",
       "    </tr>\n",
       "    <tr>\n",
       "      <th>478</th>\n",
       "      <td>1003</td>\n",
       "      <td>sao paulo</td>\n",
       "      <td>São Paulo</td>\n",
       "    </tr>\n",
       "    <tr>\n",
       "      <th>443</th>\n",
       "      <td>1004</td>\n",
       "      <td>sao paulo</td>\n",
       "      <td>São Paulo</td>\n",
       "    </tr>\n",
       "    <tr>\n",
       "      <th>584</th>\n",
       "      <td>1005</td>\n",
       "      <td>sao paulo</td>\n",
       "      <td>São Paulo</td>\n",
       "    </tr>\n",
       "  </tbody>\n",
       "</table>\n",
       "</div>"
      ],
      "text/plain": [
       "     zip_code       city      state\n",
       "326      1001  sao paulo  São Paulo\n",
       "720      1002  sao paulo  São Paulo\n",
       "478      1003  sao paulo  São Paulo\n",
       "443      1004  sao paulo  São Paulo\n",
       "584      1005  sao paulo  São Paulo"
      ]
     },
     "execution_count": 22,
     "metadata": {},
     "output_type": "execute_result"
    }
   ],
   "source": [
    "geo02.head()"
   ]
  },
  {
   "cell_type": "code",
   "execution_count": 23,
   "metadata": {},
   "outputs": [
    {
     "data": {
      "text/plain": [
       "19015"
      ]
     },
     "execution_count": 23,
     "metadata": {},
     "output_type": "execute_result"
    }
   ],
   "source": [
    "geo02.zip_code.nunique()"
   ]
  },
  {
   "cell_type": "code",
   "execution_count": 24,
   "metadata": {},
   "outputs": [],
   "source": [
    "donnees = geo02.merge(geo01,on='zip_code')"
   ]
  },
  {
   "cell_type": "code",
   "execution_count": 25,
   "metadata": {},
   "outputs": [],
   "source": [
    "donnees.columns = ['zip_code', 'city', 'state', 'lat_min', 'lat_max', 'lat', 'lng_min', 'lng_max', 'lng']"
   ]
  },
  {
   "cell_type": "code",
   "execution_count": 26,
   "metadata": {},
   "outputs": [
    {
     "data": {
      "text/html": [
       "<div>\n",
       "<style scoped>\n",
       "    .dataframe tbody tr th:only-of-type {\n",
       "        vertical-align: middle;\n",
       "    }\n",
       "\n",
       "    .dataframe tbody tr th {\n",
       "        vertical-align: top;\n",
       "    }\n",
       "\n",
       "    .dataframe thead th {\n",
       "        text-align: right;\n",
       "    }\n",
       "</style>\n",
       "<table border=\"1\" class=\"dataframe\">\n",
       "  <thead>\n",
       "    <tr style=\"text-align: right;\">\n",
       "      <th></th>\n",
       "      <th>zip_code</th>\n",
       "      <th>city</th>\n",
       "      <th>state</th>\n",
       "      <th>lat_min</th>\n",
       "      <th>lat_max</th>\n",
       "      <th>lat</th>\n",
       "      <th>lng_min</th>\n",
       "      <th>lng_max</th>\n",
       "      <th>lng</th>\n",
       "    </tr>\n",
       "  </thead>\n",
       "  <tbody>\n",
       "    <tr>\n",
       "      <th>0</th>\n",
       "      <td>1001</td>\n",
       "      <td>sao paulo</td>\n",
       "      <td>São Paulo</td>\n",
       "      <td>-23.551427</td>\n",
       "      <td>-23.549292</td>\n",
       "      <td>-23.550190</td>\n",
       "      <td>-46.634410</td>\n",
       "      <td>-46.633559</td>\n",
       "      <td>-46.634024</td>\n",
       "    </tr>\n",
       "    <tr>\n",
       "      <th>1</th>\n",
       "      <td>1002</td>\n",
       "      <td>sao paulo</td>\n",
       "      <td>São Paulo</td>\n",
       "      <td>-23.548878</td>\n",
       "      <td>-23.544641</td>\n",
       "      <td>-23.548146</td>\n",
       "      <td>-46.636361</td>\n",
       "      <td>-46.633180</td>\n",
       "      <td>-46.634979</td>\n",
       "    </tr>\n",
       "    <tr>\n",
       "      <th>2</th>\n",
       "      <td>1003</td>\n",
       "      <td>sao paulo</td>\n",
       "      <td>São Paulo</td>\n",
       "      <td>-23.549083</td>\n",
       "      <td>-23.548901</td>\n",
       "      <td>-23.548994</td>\n",
       "      <td>-46.637157</td>\n",
       "      <td>-46.634862</td>\n",
       "      <td>-46.635731</td>\n",
       "    </tr>\n",
       "    <tr>\n",
       "      <th>3</th>\n",
       "      <td>1004</td>\n",
       "      <td>sao paulo</td>\n",
       "      <td>São Paulo</td>\n",
       "      <td>-23.550765</td>\n",
       "      <td>-23.549181</td>\n",
       "      <td>-23.549799</td>\n",
       "      <td>-46.635371</td>\n",
       "      <td>-46.634057</td>\n",
       "      <td>-46.634757</td>\n",
       "    </tr>\n",
       "    <tr>\n",
       "      <th>4</th>\n",
       "      <td>1005</td>\n",
       "      <td>sao paulo</td>\n",
       "      <td>São Paulo</td>\n",
       "      <td>-23.549980</td>\n",
       "      <td>-23.548758</td>\n",
       "      <td>-23.549456</td>\n",
       "      <td>-46.638411</td>\n",
       "      <td>-46.634768</td>\n",
       "      <td>-46.636733</td>\n",
       "    </tr>\n",
       "  </tbody>\n",
       "</table>\n",
       "</div>"
      ],
      "text/plain": [
       "   zip_code       city      state    lat_min    lat_max        lat    lng_min  \\\n",
       "0      1001  sao paulo  São Paulo -23.551427 -23.549292 -23.550190 -46.634410   \n",
       "1      1002  sao paulo  São Paulo -23.548878 -23.544641 -23.548146 -46.636361   \n",
       "2      1003  sao paulo  São Paulo -23.549083 -23.548901 -23.548994 -46.637157   \n",
       "3      1004  sao paulo  São Paulo -23.550765 -23.549181 -23.549799 -46.635371   \n",
       "4      1005  sao paulo  São Paulo -23.549980 -23.548758 -23.549456 -46.638411   \n",
       "\n",
       "     lng_max        lng  \n",
       "0 -46.633559 -46.634024  \n",
       "1 -46.633180 -46.634979  \n",
       "2 -46.634862 -46.635731  \n",
       "3 -46.634057 -46.634757  \n",
       "4 -46.634768 -46.636733  "
      ]
     },
     "execution_count": 26,
     "metadata": {},
     "output_type": "execute_result"
    }
   ],
   "source": [
    "donnees.head()"
   ]
  },
  {
   "cell_type": "markdown",
   "metadata": {},
   "source": [
    "## Sauvegarde en parquet"
   ]
  },
  {
   "cell_type": "code",
   "execution_count": 22,
   "metadata": {},
   "outputs": [],
   "source": [
    "donnees.to_parquet('./ecommerce/geolocation.parquet',compression='gzip', engine='pyarrow')"
   ]
  },
  {
   "cell_type": "code",
   "execution_count": 23,
   "metadata": {},
   "outputs": [
    {
     "name": "stdout",
     "output_type": "stream",
     "text": [
      "<class 'pandas.core.frame.DataFrame'>\n",
      "RangeIndex: 19015 entries, 0 to 19014\n",
      "Data columns (total 9 columns):\n",
      " #   Column    Non-Null Count  Dtype  \n",
      "---  ------    --------------  -----  \n",
      " 0   zip_code  19015 non-null  int32  \n",
      " 1   city      19015 non-null  object \n",
      " 2   state     19015 non-null  object \n",
      " 3   lat_min   19015 non-null  float64\n",
      " 4   lat_max   19015 non-null  float64\n",
      " 5   lat       19015 non-null  float64\n",
      " 6   lng_min   19015 non-null  float64\n",
      " 7   lng_max   19015 non-null  float64\n",
      " 8   lng       19015 non-null  float64\n",
      "dtypes: float64(6), int32(1), object(2)\n",
      "memory usage: 1.2+ MB\n"
     ]
    }
   ],
   "source": [
    "pd.read_parquet('./ecommerce/geolocation.parquet').info()"
   ]
  },
  {
   "cell_type": "code",
   "execution_count": 24,
   "metadata": {},
   "outputs": [
    {
     "name": "stdout",
     "output_type": "stream",
     "text": [
      " Le volume dans le lecteur F s'appelle Data\n",
      " Le num‚ro de s‚rie du volume est D4F7-8E12\n",
      "\n",
      " R‚pertoire de F:\\PythonFormation\\donnees\\ecommerce\n",
      "\n",
      "14/02/2024  15:37    <DIR>          .\n",
      "14/02/2024  15:37    <DIR>          ..\n",
      "14/02/2024  15:45         4ÿ525ÿ883 customers.parquet\n",
      "14/02/2024  15:48         1ÿ122ÿ602 geolocation.parquet\n",
      "14/02/2024  15:46         4ÿ425ÿ246 items.parquet\n",
      "14/02/2024  15:46         4ÿ527ÿ569 items_products.parquet\n",
      "14/02/2024  15:45        27ÿ443ÿ040 orders.csv\n",
      "14/02/2024  15:45         9ÿ269ÿ678 orders.parquet\n",
      "14/02/2024  15:46         9ÿ725ÿ278 orders_payments.parquet\n",
      "14/02/2024  15:47        11ÿ010ÿ093 orders_payments_reviews_p.parquet\n",
      "14/02/2024  15:46         2ÿ375ÿ117 payments.parquet\n",
      "14/02/2024  15:46           963ÿ000 products.parquet\n",
      "14/02/2024  15:47         7ÿ858ÿ269 reviews.parquet\n",
      "14/02/2024  15:47         3ÿ201ÿ554 reviews_p.parquet\n",
      "14/02/2024  15:06            91ÿ808 sellers.parquet\n",
      "              13 fichier(s)       86ÿ539ÿ137 octets\n",
      "               2 R‚p(s)  86ÿ205ÿ259ÿ776 octets libres\n"
     ]
    }
   ],
   "source": [
    "!dir ecommerce"
   ]
  }
 ],
 "metadata": {
  "kernelspec": {
   "display_name": "Python 3 (ipykernel)",
   "language": "python",
   "name": "python3"
  },
  "language_info": {
   "codemirror_mode": {
    "name": "ipython",
    "version": 3
   },
   "file_extension": ".py",
   "mimetype": "text/x-python",
   "name": "python",
   "nbconvert_exporter": "python",
   "pygments_lexer": "ipython3",
   "version": "3.10.13"
  },
  "toc": {
   "base_numbering": 1,
   "nav_menu": {
    "height": "192.133px",
    "width": "731.133px"
   },
   "number_sections": true,
   "sideBar": true,
   "skip_h1_title": false,
   "title_cell": "Table of Contents",
   "title_sidebar": "Contents",
   "toc_cell": true,
   "toc_position": {
    "height": "calc(100% - 180px)",
    "left": "10px",
    "top": "150px",
    "width": "165px"
   },
   "toc_section_display": true,
   "toc_window_display": true
  }
 },
 "nbformat": 4,
 "nbformat_minor": 4
}
